{
 "cells": [
  {
   "cell_type": "code",
   "execution_count": null,
   "metadata": {},
   "outputs": [],
   "source": [
    "%load_ext autoreload\n",
    "%autoreload 2\n",
    "#%pip install torchvision\n",
    "import random\n",
    "from pathlib import Path\n",
    "from matplotlib import pyplot as plt\n",
    "from tqdm.notebook import tqdm\n",
    "\n",
    "from data_loader_h5 import H5Dataset\n",
    "from data_loader_jsonl import JSONLDataset\n",
    "from data_augmentations import augment_image_rgb, RandomizeBackgrounds\n",
    "import torchvision.transforms\n",
    "from utils_vis import render_example\n",
    "\n",
    "\n",
    "dataset_location = Path(\"/tmp/clevr-act-7-depth\")\n",
    "real_image_size = 720, 1280\n",
    "resize_cropper = torchvision.transforms.RandomResizedCrop(size=real_image_size, scale=(0.9, 1.0),)\n",
    "jsonl_file_path = Path(\"/data/lmbraid19/argusm/datasets/clevr-real-1of5c-v1/_annotations.train.jsonl\")\n",
    "bg_img_dataset = JSONLDataset(jsonl_file_path=jsonl_file_path, augment_rgb=resize_cropper)\n",
    "train_dataset = bg_img_dataset\n",
    "randomize_background = RandomizeBackgrounds(p=0.2, background_images = bg_img_dataset)\n",
    "\n",
    "#randomize_background = RandomizeBackgrounds(p=0.2, background_images_path = \"/data/lmbraid19/argusm/datasets/indoorCVPR/Images\")\n",
    "train_dataset = H5Dataset(dataset_location, augment_rgbds=randomize_background, augment_rgb=augment_image_rgb)\n",
    "print(\"load done.\")\n",
    "\n",
    "num_samples = 4*3\n",
    "html_imgs = \"\"\n",
    "for i in tqdm(range(num_samples)):\n",
    "    image_r, label_real = train_dataset[i]\n",
    "    html_imgs += render_example(image_r, label=label_real[\"suffix\"], prediction=None, text=label_real[\"prefix\"], camera=label_real[\"camera\"])\n",
    "\n",
    "plot_images = True\n",
    "if plot_images:\n",
    "    from IPython.display import display, HTML\n",
    "    display(HTML(html_imgs))"
   ]
  },
  {
   "cell_type": "code",
   "execution_count": null,
   "metadata": {},
   "outputs": [],
   "source": []
  }
 ],
 "metadata": {
  "kernelspec": {
   "display_name": "Python 3 (ipykernel)",
   "language": "python",
   "name": "python3"
  },
  "language_info": {
   "codemirror_mode": {
    "name": "ipython",
    "version": 3
   },
   "file_extension": ".py",
   "mimetype": "text/x-python",
   "name": "python",
   "nbconvert_exporter": "python",
   "pygments_lexer": "ipython3",
   "version": "3.12.7"
  }
 },
 "nbformat": 4,
 "nbformat_minor": 4
}
