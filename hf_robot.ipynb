{
 "cells": [
  {
   "cell_type": "code",
   "execution_count": 1,
   "metadata": {},
   "outputs": [
    {
     "name": "stdout",
     "output_type": "stream",
     "text": [
      "dataset_location /data/lmbraid19/argusm/datasets/clevr-real-block-simple-v3\n",
      "moadel_path is /home/houman/cVLA_test/models/clevr-act-7-depth_text_aug/checkpoint-4687\n",
      "/home/houman/cVLA_test/models/clevr-act-7-depth_text_aug/checkpoint-4687\n"
     ]
    }
   ],
   "source": [
    "%load_ext autoreload\n",
    "%autoreload 2\n",
    "import os\n",
    "from pathlib import Path\n",
    "\n",
    "os.environ[\"CUDA_VISIBLE_DEVICES\"]=\"0\"\n",
    "os.environ[\"TOKENIZERS_PARALLELISM\"] = \"false\"\n",
    "return_depth = False\n",
    "\n",
    "#dataset_location = \"/tmp/clevr-act-6-var-cam2\"\n",
    "dataset_location = \"/data/lmbraid19/argusm/datasets/clevr-real-block-simple-v3\"\n",
    "#dataset_location = \"/data/lmbraid19/argusm/datasets/clevr-real-block-v3\"\n",
    "#dataset_location = \"/data/lmbraid19/argusm/datasets/clevr-real-1of5c-v1\"\n",
    "dataset_location = Path(dataset_location)\n",
    "\n",
    "model_location = Path(\"/home/houman/cVLA_test/models\")\n",
    "#model_path = model_location / \"clevr-act-7-depth_l40\" / \"checkpoint-4687\"\n",
    "#model_path = model_location / \"clevr-act-6-var-cam2_hf_af_lr3e5\" / \"checkpoint-4687\"\n",
    "#model_path = model_location / \"clevr-act-7-depth_rbg20\" / \"checkpoint-4687\"\n",
    "model_path = model_location / \"clevr-act-7-depth_text_aug\" / \"checkpoint-4687\"\n",
    "#model_path = model_location / \"clevr-act-7-depth_rbg60\" / \"checkpoint-4687\"\n",
    "\n",
    "\n",
    "#model_path = model_location / \"clevr-act-7-depth_depth_l40\" / \"checkpoint-4687\"\n",
    "if \"depth_depth_l40\" in str(model_path):\n",
    "    return_depth = True\n",
    "\n",
    "print(\"dataset_location\", dataset_location)\n",
    "if model_path.is_dir():\n",
    "    print(\"moadel_path is\", model_path)\n",
    "print(model_path)"
   ]
  },
  {
   "cell_type": "code",
   "execution_count": 9,
   "metadata": {},
   "outputs": [],
   "source": [
    "# #%pip install ipywidgets\n",
    "# from huggingface_hub import notebook_login\n",
    "# notebook_login() "
   ]
  },
  {
   "cell_type": "code",
   "execution_count": 2,
   "metadata": {},
   "outputs": [
    {
     "name": "stderr",
     "output_type": "stream",
     "text": [
      "/home/houman/miniconda3/envs/cVLA/lib/python3.10/site-packages/sapien/_vulkan_tricks.py:37: UserWarning: Failed to find Vulkan ICD file. This is probably due to an incorrect or partial installation of the NVIDIA driver. SAPIEN will attempt to provide an ICD file anyway but it may not work.\n",
      "  warn(\n"
     ]
    }
   ],
   "source": [
    "from tqdm.notebook import tqdm\n",
    "from math import ceil\n",
    "from data_loader_images import ImageFolderDataset\n",
    "from utils_vis import render_example\n",
    "from utils_trajectory import DummyCamera\n",
    "\n",
    "\n",
    "test_dataset = ImageFolderDataset(\"/home/houman/cVLA_test/saved_images\")\n",
    "\n",
    "image_width, image_height = test_dataset[0][0].size\n",
    "camera_extrinsic = [[[1, 0, 0.0, 0.0], [0, 1, 0, 0], [0, 0, 1, 0]]]\n",
    "camera_intrinsic = [[[260.78692626953125, 0.0, 322.3820495605469],[ 0.0, 260.78692626953125, 180.76370239257812],[0.0, 0.0, 1.0]]]\n",
    "camera = DummyCamera(camera_intrinsic, camera_extrinsic, width=image_width, height=image_height)\n",
    "\n",
    "\n",
    "test_dataset.labels = [dict(prefix=\"\", suffix=\"\")]*len(test_dataset)\n"
   ]
  },
  {
   "cell_type": "code",
   "execution_count": 3,
   "metadata": {},
   "outputs": [
    {
     "name": "stdout",
     "output_type": "stream",
     "text": [
      "48\n"
     ]
    },
    {
     "data": {
      "application/vnd.jupyter.widget-view+json": {
       "model_id": "988f921c2f0541a8aaf2c4cfbad0ca1b",
       "version_major": 2,
       "version_minor": 0
      },
      "text/plain": [
       "  0%|          | 0/3 [00:00<?, ?it/s]"
      ]
     },
     "metadata": {},
     "output_type": "display_data"
    },
    {
     "data": {
      "text/html": [],
      "text/plain": [
       "<IPython.core.display.HTML object>"
      ]
     },
     "metadata": {},
     "output_type": "display_data"
    }
   ],
   "source": [
    "from IPython.display import display, HTML\n",
    "from tqdm.notebook import tqdm\n",
    "from utils_vis import render_example\n",
    "\n",
    "def get_image(images):\n",
    "    if isinstance(images, (list, tuple)):\n",
    "        return images[-1]\n",
    "    else:\n",
    "        return images\n",
    "    \n",
    "def get_depth(images):\n",
    "    if isinstance(images, (list, tuple)):\n",
    "        return images[0]\n",
    "    else:\n",
    "        return None\n",
    "    \n",
    "print(len(test_dataset))\n",
    "num_samples = min(3*1, len(test_dataset))\n",
    "html_imgs = \"\"\n",
    "for i in tqdm(range(num_samples)):\n",
    "    images, sample = test_dataset[i]\n",
    "    image = get_depth(images) if return_depth else get_image(images)\n",
    "    html_img = render_example(image, text=sample[\"prefix\"], label=sample[\"suffix\"], camera=camera)\n",
    "    \n",
    "display(HTML(html_imgs))\n"
   ]
  },
  {
   "cell_type": "code",
   "execution_count": 4,
   "metadata": {},
   "outputs": [
    {
     "name": "stdout",
     "output_type": "stream",
     "text": [
      "Using device: cuda\n",
      "loaded processor.\n"
     ]
    },
    {
     "data": {
      "application/vnd.jupyter.widget-view+json": {
       "model_id": "06d8afa344c34bbba0fa285e2d969029",
       "version_major": 2,
       "version_minor": 0
      },
      "text/plain": [
       "Loading checkpoint shards:   0%|          | 0/2 [00:00<?, ?it/s]"
      ]
     },
     "metadata": {},
     "output_type": "display_data"
    },
    {
     "name": "stderr",
     "output_type": "stream",
     "text": [
      "Some parameters are on the meta device because they were offloaded to the cpu.\n"
     ]
    }
   ],
   "source": [
    "\n",
    "import torch\n",
    "from transformers import PaliGemmaProcessor, PaliGemmaForConditionalGeneration\n",
    "\n",
    "DEVICE = torch.device('cuda' if torch.cuda.is_available() else 'cpu')\n",
    "TORCH_DTYPE = torch.bfloat16\n",
    "print('Using device:', DEVICE)\n",
    "\n",
    "\n",
    "MODEL_ID =\"google/paligemma2-3b-pt-224\"\n",
    "processor = PaliGemmaProcessor.from_pretrained(MODEL_ID)\n",
    "print(\"loaded processor.\")\n",
    "model = PaliGemmaForConditionalGeneration.from_pretrained(model_path, torch_dtype=TORCH_DTYPE, device_map=\"auto\")\n",
    "\n",
    "def collate_fn(batch):\n",
    "    images, labels = zip(*batch)\n",
    "    prefixes = [\"<image>\" + label[\"prefix\"] for label in labels]\n",
    "    inputs = processor(\n",
    "        text=prefixes,\n",
    "        images=images,\n",
    "        return_tensors=\"pt\",\n",
    "        padding=\"longest\"\n",
    "    )\n",
    "    return inputs"
   ]
  },
  {
   "cell_type": "code",
   "execution_count": null,
   "metadata": {},
   "outputs": [
    {
     "name": "stdout",
     "output_type": "stream",
     "text": [
      "<loc0494><loc0559><loc0059><seg057><seg033><seg016><loc0090><loc0539><loc0076><seg057><seg033><seg016>\n",
      "<utils_trajectory.DummyCamera object at 0x7f6bf8be9960>\n",
      "tensor([[[ 0.0618, -0.0157,  0.5900],\n",
      "         [ 0.0432, -0.4345,  0.7600]]])\n"
     ]
    }
   ],
   "source": []
  },
  {
   "cell_type": "markdown",
   "metadata": {},
   "source": [
    "# Own Data Experiments"
   ]
  },
  {
   "cell_type": "code",
   "execution_count": 8,
   "metadata": {},
   "outputs": [
    {
     "data": {
      "application/vnd.jupyter.widget-view+json": {
       "model_id": "9b4db874e2174a8f9504f27911ab3b30",
       "version_major": 2,
       "version_minor": 0
      },
      "text/plain": [
       "  0%|          | 0/3 [00:00<?, ?it/s]"
      ]
     },
     "metadata": {},
     "output_type": "display_data"
    },
    {
     "data": {
      "text/html": [
       "\n",
       "<div style=\"display: inline-flex; align-items: center; justify-content: center;\">\n",
       "    <img style=\"width:224px; height:224px;\" src=\"data:image/jpeg;base64,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\" />\n",
       "    <p style=\"width:256px; margin:10px; font-size:small;\">text: put the yellow cup inside the blue bowl &lt;loc0137&gt;&lt;loc0794&gt;&lt;loc0057&gt;&lt;seg058&gt;&lt;seg034&gt;&lt;seg017&gt;</br></br>label: </p>\n",
       "</div>\n",
       "\n",
       "<div style=\"display: inline-flex; align-items: center; justify-content: center;\">\n",
       "    <img style=\"width:224px; height:224px;\" src=\"data:image/jpeg;base64,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\" />\n",
       "    <p style=\"width:256px; margin:10px; font-size:small;\">text: put the yellow cup inside the blue bowl &lt;loc0137&gt;&lt;loc0794&gt;&lt;loc0057&gt;&lt;seg058&gt;&lt;seg034&gt;&lt;seg017&gt;</br></br>label: </br></br>pred: &lt;loc0491&gt;&lt;loc0578&gt;&lt;loc0058&gt;&lt;seg057&gt;&lt;seg036&gt;&lt;seg016&gt;&lt;loc0082&gt;&lt;loc0574&gt;&lt;loc0073&gt;&lt;seg057&gt;&lt;seg036&gt;&lt;seg016&gt;</p>\n",
       "</div>\n",
       "\n",
       "<div style=\"display: inline-flex; align-items: center; justify-content: center;\">\n",
       "    <img style=\"width:224px; height:224px;\" src=\"data:image/jpeg;base64,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\" />\n",
       "    <p style=\"width:256px; margin:10px; font-size:small;\">text: put the yellow cup inside the blue bowl &lt;loc0137&gt;&lt;loc0794&gt;&lt;loc0057&gt;&lt;seg058&gt;&lt;seg034&gt;&lt;seg017&gt;</br></br>label: </br></br>pred: &lt;loc0491&gt;&lt;loc0578&gt;&lt;loc0058&gt;&lt;seg057&gt;&lt;seg036&gt;&lt;seg016&gt;&lt;loc0082&gt;&lt;loc0577&gt;&lt;loc0073&gt;&lt;seg057&gt;&lt;seg036&gt;&lt;seg016&gt;</p>\n",
       "</div>\n"
      ],
      "text/plain": [
       "<IPython.core.display.HTML object>"
      ]
     },
     "metadata": {},
     "output_type": "display_data"
    }
   ],
   "source": [
    "def collate_fn(batch):\n",
    "    images, labels = zip(*batch)\n",
    "    prefixes = [\"<image>\" + label[\"prefix\"] for label in labels]\n",
    "    inputs = processor(\n",
    "        text=prefixes,\n",
    "        images=images,\n",
    "        return_tensors=\"pt\",\n",
    "        padding=\"longest\"\n",
    "    ).to(DEVICE)\n",
    "    return inputs\n",
    "\n",
    "from tqdm.notebook import tqdm\n",
    "from math import ceil\n",
    "from data_loader_images import ImageFolderDataset\n",
    "from utils_vis import render_example\n",
    "from utils_trajectory import DummyCamera\n",
    "\n",
    "robot_state = \"<loc0137><loc0794><loc0057><seg058><seg034><seg017>\"\n",
    "x = \"yellow cup\"\n",
    "y = \"blue bowl\"\n",
    "action_text = \"put the {} inside the {}\".format(x, y)\n",
    "prefix = action_text + \" \" + robot_state\n",
    "test_dataset.labels = [dict(prefix=prefix, suffix=\"\")]*len(test_dataset)\n",
    "\n",
    "eval_batch_size = 1\n",
    "test_samples = 3#len(test_dataset2)\n",
    "pred_list = []\n",
    "html_imgs = \"\"\n",
    "for start_idx in tqdm(range(0, test_samples, eval_batch_size), total=ceil(test_samples / eval_batch_size)):\n",
    "    batch = [test_dataset[i] for i in range(start_idx, min(start_idx + eval_batch_size, test_samples))]\n",
    "    #for e in batch:\n",
    "    #    augment_sample(e)\n",
    "    inputs = collate_fn(batch)\n",
    "    prefix_length = inputs[\"input_ids\"].shape[-1]    \n",
    "\n",
    "    with torch.inference_mode():\n",
    "        generation = model.generate(**inputs, max_new_tokens=12, do_sample=False, use_cache=False)\n",
    "        decoded = [processor.decode(x, skip_special_tokens=True) for x in generation[:, prefix_length:]]\n",
    "    pred_list.extend(decoded)\n",
    "    \n",
    "    for batch_entry, decoded_str in zip(batch, decoded):\n",
    "        if return_depth:\n",
    "            (depth, image), sample = batch_entry\n",
    "        else:\n",
    "            image, sample = batch_entry\n",
    "        html_img = render_example(image, text=sample[\"prefix\"], label=sample[\"suffix\"], prediction=decoded_str, camera=camera)\n",
    "        html_imgs += html_img\n",
    "\n",
    "plot_images = True\n",
    "if plot_images:\n",
    "    from IPython.display import display, HTML\n",
    "    display(HTML(html_imgs))"
   ]
  },
  {
   "cell_type": "code",
   "execution_count": 6,
   "metadata": {},
   "outputs": [
    {
     "name": "stdout",
     "output_type": "stream",
     "text": [
      "<loc0491><loc0578><loc0058><seg057><seg036><seg016><loc0082><loc0577><loc0073><seg057><seg036><seg016>\n",
      "<utils_trajectory.DummyCamera object at 0x7f3bfcf69360>\n",
      "tensor([[[ 0.0872, -0.0177,  0.5800],\n",
      "         [ 0.1080, -0.4252,  0.7300]]])\n",
      "640 360\n",
      "(1, 2, 3)\n",
      "tensor([[[ 0.0553, -0.0183,  0.4425],\n",
      "         [ 0.0648, -0.2597,  0.5180]]])\n"
     ]
    }
   ],
   "source": [
    "test_dataset = ImageFolderDataset(\"/home/houman/cVLA_test/saved_images\")\n",
    "\n",
    "image_width, image_height = test_dataset[0][0].size\n",
    "camera_extrinsic = [[[1, 0, 0.0, 0.0], [0, 1, 0, 0], [0, 0, 1, 0]]]\n",
    "camera_intrinsic = [[[260.78692626953125, 0.0, 322.3820495605469],[ 0.0, 260.78692626953125, 180.76370239257812],[0.0, 0.0, 1.0]]]\n",
    "camera = DummyCamera(camera_intrinsic, camera_extrinsic, width=image_width, height=image_height)\n",
    "\n",
    "\n",
    "from mani_skill.examples.utils_traj_tokens import getActionEncDecFunction, unproject_points, decode_caption_xyzrotvec2\n",
    "\n",
    "print(decoded_str)\n",
    "print(camera)\n",
    "token_str = decoded_str\n",
    "default_action_encoder = \"xyzrotvec-cam-proj2\"\n",
    "enc_func, dec_func = getActionEncDecFunction(default_action_encoder)\n",
    "curve_3d_est, orns_3d_est = dec_func(token_str, camera, robot_pose=None)\n",
    "print(curve_3d_est)\n",
    "\n",
    "\n",
    "print(image_width, image_height)\n",
    "import numpy as np\n",
    "point_new = np.array((((355, 170, 0.4424514),(355, 50, .518)),))\n",
    "print(point_new.shape)\n",
    "point_new_t = torch.tensor(point_new, dtype=torch.float)\n",
    "print(unproject_points(camera, point_new_t)) # see utils_trajectory.py if this is wrong. I hope not.\n",
    "\n",
    "\n",
    "                 \n",
    "\n"
   ]
  },
  {
   "cell_type": "code",
   "execution_count": 43,
   "metadata": {},
   "outputs": [
    {
     "name": "stdout",
     "output_type": "stream",
     "text": [
      "tensor([[348.4653, 173.8416,   0.5900],\n",
      "        [361.6031,  28.8563,   0.7600]])\n"
     ]
    }
   ],
   "source": [
    "from mani_skill.examples.utils_traj_tokens import  decode_caption_xyzrotvec2\n",
    "cam_pos, world_pos = decode_caption_xyzrotvec2(decoded_str, camera)\n",
    "print(cam_pos)"
   ]
  },
  {
   "cell_type": "code",
   "execution_count": 15,
   "metadata": {},
   "outputs": [],
   "source": [
    "# from matplotlib import pyplot as plt\n",
    "# import re\n",
    "# import numpy as np\n",
    "# results = []\n",
    "# suffix_nums = []\n",
    "# predi_nums = []\n",
    "# for i in range(test_samples):\n",
    "#     suffix = test_dataset[i][1][\"suffix\"]\n",
    "#     prefix = test_dataset[i][1][\"prefix\"]\n",
    "#     decoded = decode_dataset[i]\n",
    "#     suffix_p = [int(x) for x in re.findall(r\"<(?:loc|seg)(\\d+)>\", suffix)]\n",
    "#     try:#%pip install ipywidgets\n",
    "# from huggingface_hub import notebook_login\n",
    "# notebook_login() \n",
    "#         decode_p = [int(x) for x in re.findall(r\"<(?:loc|seg)(\\d+)>\", decoded)]\n",
    "#     except ValueError:\n",
    "#         continue\n",
    "#     if len(decode_p) != 12:\n",
    "#         continue\n",
    "#     pred_diff = np.array(suffix_p) - np.array(decode_p)\n",
    "#     results.append(pred_diff)\n",
    "#     suffix_nums.append(suffix_p)\n",
    "#     predi_nums.append(decode_p)\n",
    "\n",
    "# results = np.array(results)\n",
    "# #suffix_nums = np.array(suffix_nums) / 1024 * 448\n",
    "# #predi_nums = np.array(predi_nums) / 1024 * 448\n",
    "\n",
    "# print(results)\n",
    "# print(np.abs(results).mean(axis=0).round())\n",
    "\n",
    "# plot_histogram = True\n",
    "# if plot_histogram:\n",
    "#     fig, axes = plt.subplots(4, 3, figsize=(10, 12))  # 3 rows x 4 columns of histograms\n",
    "#     axes = axes.flatten()  # Flatten the 2D array of axes for easy iteration\n",
    "#     for i in range(12):\n",
    "#         axes[i].hist(results[:, i], bins=20, alpha=0.7, color='blue', edgecolor='black')\n",
    "#         axes[i].set_title(f'Histogram for Column {i + 1}')\n",
    "#         axes[i].set_xlabel('Value')\n",
    "#         axes[i].set_ylabel('Frequency')\n",
    "\n",
    "#     plt.tight_layout()  # Adjust layout for better spacing\n",
    "#     plt.show()"
   ]
  },
  {
   "cell_type": "code",
   "execution_count": null,
   "metadata": {},
   "outputs": [],
   "source": []
  }
 ],
 "metadata": {
  "kernelspec": {
   "display_name": "cVLA",
   "language": "python",
   "name": "python3"
  },
  "language_info": {
   "codemirror_mode": {
    "name": "ipython",
    "version": 3
   },
   "file_extension": ".py",
   "mimetype": "text/x-python",
   "name": "python",
   "nbconvert_exporter": "python",
   "pygments_lexer": "ipython3",
   "version": "3.10.16"
  }
 },
 "nbformat": 4,
 "nbformat_minor": 4
}
