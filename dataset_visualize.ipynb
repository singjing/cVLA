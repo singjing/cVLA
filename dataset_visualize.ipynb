{
 "cells": [
  {
   "cell_type": "markdown",
   "metadata": {
    "vscode": {
     "languageId": "plaintext"
    }
   },
   "source": [
    "# Visualize Data"
   ]
  },
  {
   "cell_type": "code",
   "execution_count": null,
   "metadata": {},
   "outputs": [],
   "source": [
    "%load_ext autoreload\n",
    "%autoreload 2\n",
    "from data_loader_h5 import H5Dataset\n",
    "from data_loader_jsonl import JSONLDataset\n",
    "\n",
    "dataset_location = \"/tmp/clevr-act-7-depth\"\n",
    "train_dataset = H5Dataset(dataset_location)\n",
    "\n",
    "#train_dataset_jsonl = JSONLDataset(dataset_location)\n",
    "print(len(train_dataset))"
   ]
  },
  {
   "cell_type": "code",
   "execution_count": null,
   "metadata": {},
   "outputs": [],
   "source": [
    "from IPython.display import display, HTML\n",
    "from tqdm.notebook import tqdm\n",
    "from utils_vis import render_example\n",
    "\n",
    "print(len(train_dataset))\n",
    "num_samples = 2\n",
    "html_imgs = \"\"\n",
    "for i in tqdm(range(num_samples)):\n",
    "    image, sample = train_dataset[i]\n",
    "    html_imgs += render_example(image, label=sample[\"suffix\"], text=sample[\"prefix\"], camera=sample[\"camera\"])    \n",
    "display(HTML(html_imgs))"
   ]
  },
  {
   "cell_type": "markdown",
   "metadata": {},
   "source": [
    "# ManiSkill H5 Datasets"
   ]
  },
  {
   "cell_type": "code",
   "execution_count": null,
   "metadata": {},
   "outputs": [],
   "source": [
    "import glob\n",
    "from pathlib import Path\n",
    "import h5py\n",
    "\n",
    "def print_h5_structure(name, obj):\n",
    "    \"\"\"\n",
    "    Prints the path, type, and shape of each member in an h5 file.\n",
    "    \"\"\"\n",
    "    # Check if the object is a dataset\n",
    "    if isinstance(obj, h5py.Dataset):\n",
    "        print(f\"Dataset: {name} | Shape: {obj.shape} | Type: {obj.dtype}\")\n",
    "    # If it's a group, just print its name\n",
    "    elif isinstance(obj, h5py.Group):\n",
    "        print(f\"Group: {name}\")\n",
    "\n",
    "traj_path = Path(\"/data/lmbraid19/argusm/datasets/clevr-act-9-ms-small/20250205_182607.h5\")\n",
    "idx = 0\n",
    "\n",
    "with h5py.File(traj_path, \"r\") as h5_file:\n",
    "    print(h5_file['traj_0/obs/sensor_param/render_camera'].keys())\n",
    "    print_h5_structure(f\"traj_{idx}\", h5_file)"
   ]
  },
  {
   "cell_type": "code",
   "execution_count": null,
   "metadata": {},
   "outputs": [],
   "source": [
    "def h5_tree(val, pre=''):\n",
    "    items = len(val)\n",
    "    for key, val in val.items():\n",
    "        items -= 1\n",
    "        if items == 0:\n",
    "            # the last item\n",
    "            if type(val) == h5py._hl.group.Group:\n",
    "                print(pre + '└── ' + key)\n",
    "                h5_tree(val, pre+'    ')\n",
    "            else:\n",
    "                try:\n",
    "                    print(pre + '└── ' + key + ' (%d)' % len(val))\n",
    "                except TypeError:\n",
    "                    print(pre + '└── ' + key + ' (scalar)')\n",
    "        else:\n",
    "            if type(val) == h5py._hl.group.Group:\n",
    "                print(pre + '├── ' + key)\n",
    "                h5_tree(val, pre+'│   ')\n",
    "            else:\n",
    "                try:\n",
    "                    print(pre + '├── ' + key + ' (%d)' % len(val))\n",
    "                except TypeError:\n",
    "                    print(pre + '├── ' + key + ' (scalar)')\n",
    "\n",
    "h5_tree(train_dataset.h5_file)"
   ]
  },
  {
   "cell_type": "code",
   "execution_count": null,
   "metadata": {},
   "outputs": [],
   "source": []
  }
 ],
 "metadata": {
  "kernelspec": {
   "display_name": "Python 3 (ipykernel)",
   "language": "python",
   "name": "python3"
  },
  "language_info": {
   "codemirror_mode": {
    "name": "ipython",
    "version": 3
   },
   "file_extension": ".py",
   "mimetype": "text/x-python",
   "name": "python",
   "nbconvert_exporter": "python",
   "pygments_lexer": "ipython3",
   "version": "3.12.7"
  }
 },
 "nbformat": 4,
 "nbformat_minor": 2
}
