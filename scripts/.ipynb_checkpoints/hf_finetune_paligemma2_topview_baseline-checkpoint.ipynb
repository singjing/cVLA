{
 "cells": [
  {
   "cell_type": "markdown",
   "metadata": {
    "id": "4LqvmtZPzyY1"
   },
   "source": [
    "[![Roboflow Notebooks](https://media.roboflow.com/notebooks/template/bannertest2-2.png?ik-sdk-version=javascript-1.4.3&updatedAt=1672932710194)](https://github.com/roboflow/notebooks)\n",
    "\n",
    "# Fine-tune PaliGemma2 on Object Detection Dataset\n",
    "\n",
    "---\n",
    "\n",
    "[![GitHub](https://badges.aleen42.com/src/github.svg)](https://github.com/google-research/big_vision/blob/main/big_vision/configs/proj/paligemma/README.md)\n",
    "[![arXiv](https://img.shields.io/badge/arXiv-2412.03555-b31b1b.svg)](https://arxiv.org/abs/2412.03555)\n",
    "\n",
    "PaliGemma 2 is built by combining the SigLIP-So400m vision encoder with the more recent and capable language models from the Gemma 2 family.\n",
    "\n",
    "![PaliGemma2 Figure.1](https://storage.googleapis.com/com-roboflow-marketing/notebooks/examples/paligemma2-1.png)\n",
    "\n",
    "The authors use a 3-stage training approach similar to the original PaliGemma. In stage 1, they combine the pretrained vision and language model components and train them jointly on a multimodal task mixture. In stage 2, they train the models at higher resolutions of 448px^2 and 896px^2. In stage 3, they fine-tune the models on the target transfer tasks.\n",
    "\n",
    "PaliGemma 2 models outperform the original PaliGemma at the same resolution and model size. Increasing the model size and resolution generally improves performance across a wide range of tasks, but the benefits differ depending on the task. Some tasks benefit more from increased resolution, while others benefit more from a larger language model.\n",
    "\n",
    "![PaliGemma2 Figure.2](https://storage.googleapis.com/com-roboflow-marketing/notebooks/examples/paligemma2-2.png)\n",
    "\n",
    "Notebook requires A100 with 40GB of VRAM to train."
   ]
  },
  {
   "cell_type": "markdown",
   "metadata": {
    "id": "lBp3Czz3GBmc"
   },
   "source": [
    "## Setup"
   ]
  },
  {
   "cell_type": "markdown",
   "metadata": {
    "id": "ADTkh-2y_9Yv"
   },
   "source": [
    "### Configure your API keys\n",
    "\n",
    "To fine-tune PaliGemma2, you need to provide your HuggingFace Token and Roboflow API key. Follow these steps:\n",
    "\n",
    "- Open your [`HuggingFace Settings`](https://huggingface.co/settings) page. Click `Access Tokens` then `New Token` to generate new token.\n",
    "- Go to your [`Roboflow Settings`](https://app.roboflow.com/settings/api) page. Click `Copy`. This will place your private key in the clipboard.\n",
    "- In Colab, go to the left pane and click on `Secrets` (🔑).\n",
    "    - Store HuggingFace Access Token under the name `HF_TOKEN`.\n",
    "    - Store Roboflow API Key under the name `ROBOFLOW_API_KEY`."
   ]
  },
  {
   "cell_type": "markdown",
   "metadata": {
    "id": "4wyojKiG_hX9"
   },
   "source": [
    "### Select the runtime\n",
    "\n",
    "Let's make sure that we have access to GPU. We can use `nvidia-smi` command to do that. In case of any problems navigate to `Edit` -> `Notebook settings` -> `Hardware accelerator`, set it to `T4 GPU`, and then click `Save`."
   ]
  },
  {
   "cell_type": "code",
   "execution_count": 2,
   "metadata": {
    "colab": {
     "base_uri": "https://localhost:8080/"
    },
    "id": "O_8BLW6R_x-z",
    "outputId": "678f6080-89ea-41f7-eecb-a592d1a03d82"
   },
   "outputs": [
    {
     "name": "stdout",
     "output_type": "stream",
     "text": [
      "Wed Oct 22 06:33:33 2025       \n",
      "+-----------------------------------------------------------------------------------------+\n",
      "| NVIDIA-SMI 570.133.20             Driver Version: 570.133.20     CUDA Version: 12.8     |\n",
      "|-----------------------------------------+------------------------+----------------------+\n",
      "| GPU  Name                 Persistence-M | Bus-Id          Disp.A | Volatile Uncorr. ECC |\n",
      "| Fan  Temp   Perf          Pwr:Usage/Cap |           Memory-Usage | GPU-Util  Compute M. |\n",
      "|                                         |                        |               MIG M. |\n",
      "|=========================================+========================+======================|\n",
      "|   0  NVIDIA GeForce RTX 2080 Ti     On  |   00000000:C3:00.0 Off |                  N/A |\n",
      "|  0%   27C    P8             20W /  250W |       1MiB /  11264MiB |      0%      Default |\n",
      "|                                         |                        |                  N/A |\n",
      "+-----------------------------------------+------------------------+----------------------+\n",
      "                                                                                         \n",
      "+-----------------------------------------------------------------------------------------+\n",
      "| Processes:                                                                              |\n",
      "|  GPU   GI   CI              PID   Type   Process name                        GPU Memory |\n",
      "|        ID   ID                                                               Usage      |\n",
      "|=========================================================================================|\n",
      "|  No running processes found                                                             |\n",
      "+-----------------------------------------------------------------------------------------+\n"
     ]
    }
   ],
   "source": [
    "!nvidia-smi\n",
    "import os\n",
    "os.environ[\"CUDA_VISIBLE_DEVICES\"]=\"0\"   #,1\""
   ]
  },
  {
   "cell_type": "code",
   "execution_count": 3,
   "metadata": {},
   "outputs": [],
   "source": [
    "os.environ[\"TOKENIZERS_PARALLELISM\"] = \"false\""
   ]
  },
  {
   "cell_type": "markdown",
   "metadata": {
    "id": "FMlw3ru1YvLg"
   },
   "source": [
    "### Download dataset from Roboflow Universe\n",
    "\n",
    "To fine-tune PaliGemma2, prepare your dataset in JSONL format. You can use Roboflow to easily convert any dataset into this format."
   ]
  },
  {
   "cell_type": "code",
   "execution_count": 4,
   "metadata": {
    "colab": {
     "base_uri": "https://localhost:8080/"
    },
    "id": "Wtvz4QZ9YuG8",
    "outputId": "8edb179f-f6a1-421d-f50a-2ee61724415a"
   },
   "outputs": [
    {
     "name": "stdout",
     "output_type": "stream",
     "text": [
      "sending incremental file list\n",
      "indoorCVPR_09.tar\n",
      "  2,592,010,240 100%  243.35MB/s    0:00:10 (xfr#1, to-chk=0/1)\n",
      "sending incremental file list\n",
      "training2/\n",
      "training2/20251003_042340.h5\n",
      "117,797,583,271 100%  126.87MB/s    0:14:45 (xfr#1, to-chk=3/5)\n",
      "training2/20251003_042340.json\n",
      "          3,854 100%    7.48kB/s    0:00:00 (xfr#2, to-chk=2/5)\n",
      "training2/args.txt\n",
      "            505 100%    0.98kB/s    0:00:00 (xfr#3, to-chk=1/5)\n",
      "training2/run.log\n",
      "      1,106,496 100%    1.62MB/s    0:00:00 (xfr#4, to-chk=0/5)\n",
      "/tmp/indoorCVPR: directory\n",
      "/tmp/training2: directory\n"
     ]
    }
   ],
   "source": [
    "#!pip install -q peft bitsandbytes transformers==4.47.0 tf-keras\n",
    "!rsync -a --progress /data/lmbraid19/argusm/datasets/indoorCVPR_09.tar /tmp/ && mkdir -p /tmp/indoorCVPR && tar -xf /tmp/indoorCVPR_09.tar -C /tmp/indoorCVPR\n",
    "!rsync -a --progress /work/dlclarge2/zhangj-zhangj-CFM/data/training2 /tmp/\n",
    "!file /tmp/indoorCVPR\n",
    "!file /tmp/training2"
   ]
  },
  {
   "cell_type": "markdown",
   "metadata": {
    "id": "Cm7ElnTKvBVa"
   },
   "source": [
    "**NOTE:** Let's read the first few lines of the annotation file and examine the dataset format."
   ]
  },
  {
   "cell_type": "code",
   "execution_count": 5,
   "metadata": {
    "colab": {
     "base_uri": "https://localhost:8080/"
    },
    "id": "WLhSenP5AtQe",
    "outputId": "f6a6b7f0-6360-4eaf-8abf-bd40462af58a"
   },
   "outputs": [
    {
     "name": "stdout",
     "output_type": "stream",
     "text": [
      "dataset_location: /tmp/training2 samples: 88244\n"
     ]
    }
   ],
   "source": [
    "%load_ext autoreload\n",
    "%autoreload 2\n",
    "from pathlib import Path\n",
    "from cvla.data_loader_h5 import H5Dataset\n",
    "from cvla.data_loader_jsonl import JSONLDataset\n",
    "from cvla.data_augmentations import augment_image_rgb, RandomizeBackgrounds\n",
    "from cvla.data_augmentations import complexify_text, DepthAugmentation\n",
    "from cvla.data_loader_images import ImageFolderDataset\n",
    "from torchvision import transforms\n",
    "\n",
    "\n",
    "model_location = Path(\"/data/lmbraid19/argusm/models\")\n",
    "dataset_location = Path(\"/tmp/training2\")\n",
    "\n",
    "bg_image_dataset = ImageFolderDataset(\"/tmp/indoorCVPR/Images\", transform=transforms.RandomResizedCrop((448,448)))\n",
    "randomize_background = RandomizeBackgrounds(p=0.2, background_images=bg_image_dataset)\n",
    "augment_depth = DepthAugmentation(depth_range=(25, 100), max_delta_depth=35)\n",
    "train_dataset = H5Dataset(dataset_location, augment_rgb=augment_image_rgb, augment_text=complexify_text,\n",
    "                          augment_depth=augment_depth, return_depth=False,action_encoder=\"xyzrotvec-cam-512xy\")\n",
    "#augment_rgbds=randomize_background,\n",
    "\n",
    "print(\"dataset_location:\", dataset_location,\"samples:\", len(train_dataset))"
   ]
  },
  {
   "cell_type": "markdown",
   "metadata": {
    "id": "McU9159EvkeA"
   },
   "source": [
    "### Set up and test data loaders"
   ]
  },
  {
   "cell_type": "code",
   "execution_count": 7,
   "metadata": {
    "colab": {
     "base_uri": "https://localhost:8080/",
     "height": 961
    },
    "id": "19pQQjIixL-T",
    "outputId": "c59a8054-4f92-4cb0-b1cb-6a7b89e6e4b6"
   },
   "outputs": [
    {
     "data": {
      "text/html": [
       "\n",
       "<div style=\"display: inline-flex; align-items: center; justify-content: center;\">\n",
       "    <img style=\"width:224px; height:224px;\" src=\"data:image/jpeg;base64,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\" />\n",
       "    <p style=\"width:256px; margin:10px; font-size:small;\">text: put the white ribbed shell in the graffiti volkswagen van &lt;loc0258&gt;&lt;loc0511&gt;&lt;loc0044&gt;&lt;seg039&gt;&lt;seg068&gt;&lt;seg070&gt;</br></br>label: &lt;loc0328&gt;&lt;loc0254&gt;&lt;loc0058&gt;&lt;seg038&gt;&lt;seg064&gt;&lt;seg064&gt;&lt;loc0248&gt;&lt;loc0360&gt;&lt;loc0065&gt;&lt;seg038&gt;&lt;seg064&gt;&lt;seg064&gt;</p>\n",
       "</div>\n",
       "\n",
       "<div style=\"display: inline-flex; align-items: center; justify-content: center;\">\n",
       "    <img style=\"width:224px; height:224px;\" src=\"data:image/jpeg;base64,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\" />\n",
       "    <p style=\"width:256px; margin:10px; font-size:small;\">text: put the vibrant hexagonal dreidel in the red can &lt;loc0308&gt;&lt;loc0355&gt;&lt;loc0053&gt;&lt;seg045&gt;&lt;seg079&gt;&lt;seg089&gt;</br></br>label: &lt;loc0332&gt;&lt;loc0278&gt;&lt;loc0058&gt;&lt;seg045&gt;&lt;seg080&gt;&lt;seg090&gt;&lt;loc0236&gt;&lt;loc0396&gt;&lt;loc0065&gt;&lt;seg045&gt;&lt;seg080&gt;&lt;seg090&gt;</p>\n",
       "</div>\n",
       "\n",
       "<div style=\"display: inline-flex; align-items: center; justify-content: center;\">\n",
       "    <img style=\"width:224px; height:224px;\" src=\"data:image/jpeg;base64,/9j/4AAQSkZJRgABAQEAZABkAAD/2wBDAAgGBgcGBQgHBwcJCQgKDBQNDAsLDBkSEw8UHRofHh0aHBwgJC4nICIsIxwcKDcpLDAxNDQ0Hyc5PTgyPC4zNDL/2wBDAQkJCQwLDBgNDRgyIRwhMjIyMjIyMjIyMjIyMjIyMjIyMjIyMjIyMjIyMjIyMjIyMjIyMjIyMjIyMjIyMjIyMjL/wAARCAFeAW8DASIAAhEBAxEB/8QAHwAAAQUBAQEBAQEAAAAAAAAAAAECAwQFBgcICQoL/8QAtRAAAgEDAwIEAwUFBAQAAAF9AQIDAAQRBRIhMUEGE1FhByJxFDKBkaEII0KxwRVS0fAkM2JyggkKFhcYGRolJicoKSo0NTY3ODk6Q0RFRkdISUpTVFVWV1hZWmNkZWZnaGlqc3R1dnd4eXqDhIWGh4iJipKTlJWWl5iZmqKjpKWmp6ipqrKztLW2t7i5usLDxMXGx8jJytLT1NXW19jZ2uHi4+Tl5ufo6erx8vP09fb3+Pn6/8QAHwEAAwEBAQEBAQEBAQAAAAAAAAECAwQFBgcICQoL/8QAtREAAgECBAQDBAcFBAQAAQJ3AAECAxEEBSExBhJBUQdhcRMiMoEIFEKRobHBCSMzUvAVYnLRChYkNOEl8RcYGRomJygpKjU2Nzg5OkNERUZHSElKU1RVVldYWVpjZGVmZ2hpanN0dXZ3eHl6goOEhYaHiImKkpOUlZaXmJmaoqOkpaanqKmqsrO0tba3uLm6wsPExcbHyMnK0tPU1dbX2Nna4uPk5ebn6Onq8vP09fb3+Pn6/9oADAMBAAIRAxEAPwD3+iiuL17XtSstauLe3udkSbdq7FOMqD3HvQB2lFec/wDCUaz/AM/n/kJP8KP+Eo1n/n8/8hJ/hQB6NRXnP/CUaz/z+f8AkJP8KP8AhKNZ/wCfz/yEn+FAHo1Fec/8JRrP/P5/5CT/AApf+Eo1jP8Ax+f+Qk/woA9ForhH8Q6qsYP2rt/zzX/Cqb+KNZB4vP8AyEn+FAHo9Febf8JTrX/P5/5CT/Cj/hKda/5/f/ISf4UAek0V5t/wlOs/8/v/AJCT/CnL4o1k/wDL5/5CT/CgD0eivOf+Eo1n/n8/8hJ/hR/wlGs/8/n/AJCT/CgD0aivOf8AhKNZ/wCfz/yEn+FH/CUaz/z+f+Qk/wAKAPRqK85/4SjWf+fz/wAhJ/hR/wAJRrP/AD+f+Qk/woA9Gorzj/hJ9Z/5/f8AyEn+FJ/wlGtf8/n/AJCT/CgD0iivNv8AhKda/wCfz/yEn+FKPFOtE/8AH5/5CT/CgD0iiuAi8Raw3W7z/wBsk/wrRt9V1RhuluuPTy1/woA66iuWfWr0dJ//ABxf8KhOuah/z8f+OL/hQB19Fcadd1Ef8vP/AI4v+FRN4g1MdLn/AMhr/hQB29FcG3iPVR/y9f8AkNf8KhfxNq46Xf8A5DT/AAoA9Corzn/hKNZ/5/P/ACEn+FL/AMJRrH/P5/5CT/CgD0WivO/+Eo1fH/H5z/1zT/Cm/wDCUaz/AM/n/kJP8KAPRqK85/4SjWf+fz/yEn+FH/CUaz/z+f8AkJP8KAPRqK85/wCEo1n/AJ/P/ISf4Uf8JRrP/P5/5CT/AAoA9Gorzn/hKNZ/5/P/ACEn+FH/AAlGs/8AP5/5CT/CgD0aiuT8Mazf6jqUkN1P5kYhLAbFHOVHYe5rrKACiiigArznxR/yMV1/wD/0Ba9GrznxR/yMV1/wD/0BaAMiiiigAooooAKB1opVGWAoAuu2Ix9KpOyluRVuYYUD2qi3WgBdqnoaTYe1Npckd6ADafSnKCBTdxAxmnAkjmgBaKKKACiiigAooooAKKKKAEIFVpb63tm+dxmqeramLZfKjPzn9K5mSV5WLOxJNAHe23iTTYRk8tVg+LbBjjJArzctimF6APWLfULa9H7iUE+malzXlenahLZ3sboxAzgivT4JPNhWT+8M0CHsagc1Mxqu5oAic1Wc1O5qs5oATNLmm0UDHUUv8ApKACiiigAooooAKKKKAOj8F/8AIYm/692/9CWu6rhfBf8AyGJv+vdv/QlruqACiiigArznxR/yMV1/wD/0Ba9GrznxR/yMV1/wD/0BaAMiiiigAooooAKVfvj60lKDgg0AW5zx+FUG61blfcgNVD1oASiiigAp69KZTx0oAWiiigAqSKPzM+1R1YtjgmgCvI6oxXHSkDBulMuAwmaiLoaAJKiuJRDAznsKlqpe/MY4+xbmgClb6TDcN9ovpQpc5Ck9q2otDsBGNsYI9a5iWdb68nQlv3YwuO1dB4auZJrJkkOTGcZoALnw7ZSg7U2nHauF1C3NpeSQ/wB016k1ec+JuNZkoAyUbbKp9CDXrGmSeZp0LeqivJR94fWvVdGP/Eqg/wB0UAXGNV3NTOagcigRA5qux5qaRhUDHJoGANLTaXNADs8YpabTqACiiigAooooAKKKKAOj8F/8hib/AK92/wDQlruq4XwX/wAhib/r3b/0Ja7qgAooooAK858Uf8jFdf8AAP8A0Ba9GrznxR/yMV1/wD/0BaAMiiiigAooooAKKKKAFJOMVEakpCM0AMopxQgZ7U2gAp46Uynr0oAWiiigAqxbHGar1NbjOaAIbhv3xpiGluFxKabGME0ASVTuf+PqL6GrlUdQbyjFN2VufpQBgGNoY7qVJBuJOR3rf8II4sZHb+I8VSn0N57szQOPJl5PPSt+F7TSrJYzIoCjnmgC+xxzXmviKVZdXlKnIHFbeq+KwVaK2HXjdXIyO0jl2OWJyaACMbpVHqRXqmnAR6fEoPAUV5hZxmW7jQDq1eoWSbbZF9BQBI7Gq7k1bZOKhdKBFJ80yp3SoSpzQMSilwaAKADvT6aBzTqACiiigAooooAKKKKAOj8F/wDIYm/692/9CWu6rhfBf/IYm/692/8AQlruqACiiigArznxR/yMV1/wD/0Ba9GrznxR/wAjFdf8A/8AQFoAyKKKKADrVhLOaQZCHFS6fAJZdzfdWtd5kjOB0oAyl0uUnnApx0tx/EKvm+QDhaga6LUAU202QHgg0h06UDNW/tB9aX7QfWgBiWJ+y/N1rMni8tq1xcn1rOvWBbI70AU6kTkYqOnIcNQA6ipmQMu5ahoAKsW3U1XqxbrkE0AVbonzjTIjk4qS54mNRxkFqAJagvIPtFq8fcjip6KAOGfUb6zZoBKwCnFU5ruec/vJGP410+t6N9pBmhHz9x61zBs7hX2mJs/SgCCnJG0jbUUk+1atpoNxMQZBtWuistJt7MZCgt6mgDP0PSGhcTTD5uwrtbZPkArnr2+js49xYZHauk0mZbmwjnHAYUATmLioWiq08yjuKqvcoP4hQIheGoGhqaS5UDJPFVXvY/7woAXyqPLqP7Wn96j7Wn94UDFdNtMp5lEi8GmUAFFFFABRRRQAUUUUAdH4L/5DE3/Xu3/oS13VcL4L/wCQxN/17t/6Etd1QAUUUUAFec+KP+Riuv8AgH/oC16NXnPij/kYrr/gH/oC0AZFFFFAGjaOI7f61HNce9QxP+7IqCRsmgCbz6Tz6rUUAWhPR59VaM0AWxNUUz7qiB5FK/3qAG0UUUATxS4GDTW6nFRU8dKAFqxbqSp5qvVm3ztOKAKdyMTHmmRjDU+4H745PNNQYbrQBLRRRQAUwxRk5KjNPooATaKayZUgHFPqxBZTXB+VTj1oAw5dFjuJd8js3tXSWUHk2aRoSFAxirTaaLK2aZkMjjoorOjvdRlJVLEqB0zQBOItrNyTn1qu1orE4BzWrpVtcSIz3qBT2FWLmaxs1LSMoxQIwfIaRdm04FVpLEqeUq+/iK0kcx2+3NVZLuSVsk0DKpt1U4K0eQnpUzPu69abQII1C8Cn01etOoGFFFFABRRRQAUUUUAdH4L/AOQxN/17t/6Etd1XC+C/+QxN/wBe7f8AoS13VABRRRQAV5z4o/5GK6/4B/6AtejV5h4tuvL8T3iY6bP/AEBaAKNFU/tvtSG944FOwF5Tg0x+tU/tjelIbxj2osBboqOKUSD3qSkAUYop64PBoAaOtIetR3EvkPjHWoftftTsBaoqr9r46UxrpuwosBdAzUlZ32p6Ptb0WA0as24yprF+1uK1NNkMsTFjzRYCC5X98ajj4arN2o82qsh2oSDyKQFmiswXMnc0n2mQd6dgNSgcnFZf2mT1p8VzIJVyeM0WA62ysIFjV5Tlj2rUSSGNcKABWGlx+7X5u1Bn/wBqkI3TcRnqQaY1zEmTxWIZz61HJMSh5oANZ15oLeRo+AorzW/1i7vpCXlbHpmup1rLabLXDBSegNAy1p8rrfREMeWrvR0FcNpVs81/HgHAOSa7rGBigAopKWgRDcXUdqgeQ4BOKnjkWWMOpyD0qlqGn/2hEE3EY9KZHDLp9uE3lgOmaBmlRWb9rkpftb5p2A0aKofbWx0pPtrelFgNCis/7a3pS/bW9KLAdl4L/wCQxN/17t/6Etd1XnfgO4MuuTqR/wAuzH/x5a9EpAFFFFABXk/jL/kbL3/gH/oC16xXk3jPP/CWXv8A2z/9AWmgMOg0Z45pOKoQc0Ac0tH0oAVHKMCDWjGwkTcKzOhq3ZShZQh6GkwLVKDg06RNpplSMLiHz4sr94VmtG8bfMpFasblG9quYguItrgZ9aaYjnD7Uhq3e2f2dsqcqaq0wD60etJ1NFMAFa+lAeU3PesjtmtfSlJhb60mAt4P33Wqsg/dmrN2CJarODsNSMo0UGjtViA0D1opUXc6r6nFAGpp0V5eYEYO0d6200ScrlpMGrunRJaWiIowcZNXPN96lgZkeiEA75KbNo6oufNx9a1Gm2qST0rn9Q1F5XKqeKQDJdOt2UxySAqeoqquhaTECAAajLsepNJuNAx5sLS2JNuADTMEmlVsHNPExU5AFADNp9KegAPzCkMrMcmmsxY80CJ1lVOgFQ3WJ4j0yKaATQcjIoGZJGDijtTpPvn600VYhKWjvR0oAKKBRQB1nw9/5D0//Xq3/oSV6VXmvw9/5D8//Xq3/oSV6VUsYUUUUgCvJvGef+Esvf8Atn/6Ates15N4zz/wld7/ANs//QFpoDDz2pOKDx0o7VQgIOKKASOaAaADNOVtrqfek4NGM0AbxAeFW9RVYjBqxandZrUMgw1QMZShivQ0lFACXDl4SDzisvrWlL/q2+lZxqkISjvxRgijBFMArX0oExNisjpWxpLYhb60mAXefNqsy5U81bu2Hm81WYrtNSMzj3o7UrY3HFJzViAdanswDeRg9M1BzmrWnLvvYwexoA7BXwoFL5hqLNJmoAbe3BSA89awicnNX9RfotZ4GaBi4op/l+pFG1QBzQIZRUnyAHijeB0WgBmCe1LtPpS7zikLE96AHLGdwycU2UDecdKTJpG6GgZlyf6xvrTehp0n+sP1puasQdDQaO9HegAPaijFFAHWfD3/AJD0/wD16t/6ElelV5r8Pf8AkPz/APXq3/oSV6VUsYUUUUgCvJ/GRx4rvQRx+7/9AWvWK8m8Zn/iq70f9c//AEBaaAxCu4ZFNIIHNGTTgxPBGaoQ3tR2p2wMMg00qR1oAO1HajFHGaANvTiWs+expJRzSaRzA4PTNSXAG7jpUsCvRSjrzTzs4IFIZC4yhHtWYRya12bCtgVktjcfrTQhtLRtNJg+lUAuRWvpQBhb61j1saUQsLZpMAu0Pm4zVcxkirN2373iq241Iyi4wxFNzT2PzGm59qsQlXNN/wCP1KqZFWtPIW8Qk96QHU5ozTc0hbipAzb1t030quKfOd0rGmCgYuaKKKACiiigAoo60pVgM44oASkcgKSahkuAhI71WluS67QMU7AQtgsaTNJRVCFzRmkpaAEopdtLgetAHV/D3/kPz/8AXq3/AKElelV5t8Psf2/Pj/n1b/0JK9JqWMKKKKQBXk3jM/8AFWXv/bP/ANAWvWa8m8Zg/wDCV3v/AGz/APQFpoDCzzmjNG2jHvVCEyRTg/Y80nFHFADtoboabtIPSjdir+mRrPPmQjYvJzQBqabavHY5I681HOuDW488C24CYxjise5YMTioAp0UuKMUDExms64iaNySODWnSTQtcRiNBlj0poDHyaXca1ovD1y/3sCrcfhr++9O4jnsg1saSv7lvrWrHoFqnXmraafBFHsQYpNjMG8UCSqvFbs+kmaQHdxTo9FjH3jmkByMvEhpldfPoFvICV4NZdxoE6E+WdwqriMXBp8TGOVX9DmpZbG5hzvjNVyCOoxTA6aC7SWMNntT3mUIea5mOZ4+FPFTi9b+KpsBcY5YmiltQLlc5xVmS3VIic80gKpYCmGZR3qteNggA1V3H1ppDLrXajpULXbHpUGaR2VELNwBTsI6vw5p7alBI78bTwat6rpRtLcuWG0VT8P+KNMs7FYPM2v1JNGv6zFeQqsEm5T1xSGczM26ViKZzSkgdqTcaoQuKML603NFADvl7UZPam0UALzSUZpc0AdZ8Pf+Q/P/ANerf+hJXpVea/D0/wDE/n/69W/9CSvSqljCiiikAV5N4zP/ABVl7/2z/wDQFr1mvNPFOlXF14nu5EX5G2YP/AFFNAcnRW7H4bnb75xVyLw1GPvvTuI5anBGbopNdnHoNohyRmrKWFrHjEQ49qLgcOLSd1O2Nqwd2o/azAodctivXliiUcIAPpVS/wBPTCywwqWByeKTYzn7ZZobZEmbLgc04nNTT7vMO4YPpUW2kIZijFPxRigBuKmtiVuEPvTNtOX5XU+hoGdICeKCBjrUUEnnRgjgCptgHU0AJkAcc0DPYU4FR0FG6gBMN3oxxyaRj70m72oAfwBSZpOTRtNADWRHGGUGqU+lWs3VAD7VoBcUuBQBzc/hvOTE351mT6Ndw5OzI9q7csBSEgjHWncDhrUyW8211IBrSZiyYzW/LawynLRg/hWHqd1ZaZCZrqQRx7to4ySfQAUpSSV2TJqKuzFukIkyTwahwo71l6zrMV3NGmnM8oz1CkDPpzU32HWpI183bapj+Ebm/wAKzVaL+HX0/wA9jL28X8Gvp/nsSvqNlHdraNcRLcN0jLDcfwpb0k2rj2rj5fDv2nxjJGbqUeWiTsx5YnIGM10ptL+MYivFlX+7Mn9RXo46jTw8afs25OUU35N9PM7MLSjWT55qD876/NJ/iYeCM4JFdHpZI05c5yTVFluIzmfTg4/vQtn9OtSHWbW3iwY5kYf8s2TBrzvbQXxO3rodayvFTdqUef8AwtP8np8zVyaM+1QW1wl3brNHna3r1FTVsmmro4akJU5OE1ZrRi8UY96SimQLg0lZGqQajJdxNauwjA/hbGDnqasf8TeP+O1lHuCDWHtnzNcr0MPbvmceV6F+iqH2vUE+/p4ceqSj+VH9qbf9bZXae4TIp+2h10+TH7eHW69UzvPh7/yH5/8Ar1b/ANCSvSq8C0b4kaV4V10PcW9zMkkRjfy1AMYLA5wevTpXvUM0dxBHNEweORQ6MOhBGQa6alCpCEaso2jLZ9zSE4yV4sfRRRWJYVzmqZ/tGX8P5Cujrm9VP/Exl/D+QoAp/U0vApuaM88UALn0FHNHNJQAHpyaa1z5a4JH407Ge1RyQJL94UAZOomN5gyEHPXFQBOK2fsFv1IpDaRdhQBileaTbWz9ijPanizjH8IoAxljY9AatW9izMC4wK1FgQdFFSbAKAI0QRqAo4p3WncYNcte67PFdSIh+VTik5JbjSudPil2e9YWh6y17O8MpG7qK39wFCdwasN2c04LTfMFIXzTESfKPc0xnPYYpnPpShCepoAA3qc0jFjwOKcFApckdqAGbD3NOC+9LjPWlyB0oAAOMAVh654di1q28mcuoDb1ZDyDW55lJvzSlFSVmTKKmuWWxyEPgxEa2jVisMByNxyWOc8113kQ+WEKA4GORS8t0pQh70JJKyHFKKsjhY9Ot7j4nanEVAVdOjIA9d1a0/ho8mJvwqtYY/4Wrq/tp8I/WuuL+lehj370P8EfyRMepw8+jXcHVCR7VmXditxH5VxESuc+mDXpBG7qKgk0+CYfOg/KuB2aszWE5U5KcHZrqjz6GGO3iWKJdqL0FPrrbnw9A/MZ2msmfQbiMkp8wpqyVkKUpSk5Sd2zIoqeS0ni+9Gw/CoxGx7YqiRlKAT0FP2Iv3jn2qC6v4bOIvIwUdh3P0pNqKuxSkoq72JigRS0jBVHJJNY9xqMt67W+mqQo+/Oe30qMR3essHnLQ2nUIOr1rQwxwRiOJAqDoBXPedbbSP4v/I5rzr7aR/F/wCSMXwF4b0vxX4/a01SKSa2hs2n2biN7B1A3Ec4+Y19JqqooVVCqBgADAArxf4URo3xH8QSoiqqWiRjA91J/Wvaa9TGc8I0qDd1CEfxSb/M7qsqUqjlRjyx6LslogooorhICua1XH9pTZ9v5CulrmtVz/aU2Pb+QoAp/QUv1NNwfWlxQAZAoz6Cjb7U4ADqaAGEsTRg0/Kik8wdhQAgU0oSk3E+1A9zQA44FG7jpTSQKbuoAfk0bh3NM3N6Vj6hrKWNz5TDmk3YLGtPKEhdh2Fef3Lb55Gz1Y1t3HiSKSB0A5IxXPNIpJOaym77GkVYl0eYxa3Hg4ycV6Ftz1Nea2jCK/jmJ4Vs16Hp91FfW4lTpVU3pYmRY2gU4D0FO47CgKT7VoSGOOTRkAcUEAdTmmlwKAHj3pCwzUW4mjBNADmfsKQ5NKFp4HHSgCMJTgoApWIVSWIA9TUaSpIMowYexoAkGB0o3c00nNKqmgDzHRvFMFz8XdQhFtIFuFNmjE8hoskkj0O0/pXp3A6VUTStNgv5NQSyt0vJBh51jAc/U9asmQdAM13Y/E0sROEqUeVKKW99VoTBNbj8nFJupoDN7U8Rgda4ShuSaXZ60pwvSmlieBQA14omGHUGqc+lW84ICbfpV5gkcbSzOqIoyzMcAD1JrkL3xFfa9cvpvhpSsQ4mv2GAo/2f8evp61E6ih6mVSrGnvu+nUz9ee2065WysybvUHOFgjGdp9/8KpR+F75JBdamvmTHkR9VSuy0Pw9aaHGTCDLdP/rLh/vN/gK1ygb7/NZqnKb5qn3dP+CZxoyqPmq/JdF/mzz9kZeCpFNru5rC3mBBjFY2r+G3l025GnuEujEwiJ6BscV1QSlJRbtc6DN+DX7zxHrlx/z0eUD6BkxXs9eN/Bfw7ruialqD6tEYYniIjRnDHduGTwT6CvZK7s2UVjJqElJaWa22RNP4dQooorziwrm9V/5CUvPp/IV0lc1qqg6lMSfT+QoAqZUUm/PQUnyijeO1ACksfakwB1NN3HNOCk9aADI7CindO9NLCgAzSYJo3HsKBuNAC7QOSaNwHQUbOeaft9BQAwlj2rgdel87U5NwwV4r0LYx68V574jwmryionsVHcyhs3EYofaFpgYbqR2BrMsXzI8d67rwnLG2mYHUHmvPzXa+DhmzkA9aqO5MtjqWlAHGKj81j2p4h74p4jUda1IIRuaniP1p5I7UhcDqaAE2gUZ9qTzM9BSfMaAH5AHNNMnpRs9TWF4p1Y6TppaM4kbhaAMTxl4iaL/Qrd8N/ERWp4RkVNKTzpf3jnIBPNeYTXL3M7TStuYnJJrp/CcE9/qMb728uL34pXHY9O3qBTCzN0FKq8U7IxTERiMk8mpAir2rnbzxjptlro0ubzA+QrS4GxCemTn3HNbizCRQ0ZDKehByDUxnGTaT2IjUhNtRexKT+FVrq7S2haV2wqjJNT+XkbnbArkvGepW4t7ezhlDNLKAwB7VRZq6bq7andlI4m8n++ehq9qmr2Gh2huLuUKP4VHLOfQDvXP33iO30eCHTtOg+06gyhUgjGdpx/Fj+X8qTS/Css90NU8QyC6vTykHVIvbHQ/Tp9etYyqtvlp6v8Ec86zb5KWr/Bf12Kgg1fxrIs15vsdGBykCnDS+5/x6enrXXWdjbWFslvbRLFEg4VR/nJqyBkdMCl4FVCko6vV9yqdFQ956t9RuDigAd6CSacqZHNaGwfQU4J3NOACj3pjP60AaejAC7fH/ADzP8xW5XP6G+6+cdvLP8xXQUAFFFFABXMasjHU5iOny/wAhXT1zOrOf7TmUe38hQBSEeOpoO0UYJ6ml2ZoATeOwoyxp4QfWncD0oAjCE9aXZilMgHTmk3O3QYoAcF9qDtHVsUwgnq2Kado96AJPNQdBmlMr44AFQ5PYUu1j1oAVpfU5NcXr2kXd1qTSwoSprtViFSeWAKTVxp2PNV8O6gVJ8s5qNtB1BXCmFufavT/kXsKaXB/hFTyIfMeWto1+GI8hvyrt/Cti9lpx8wYdjnBrXZlJ+6PypBntTUbCbuTPJiojIT0FLsz1NKF9BVCGAM3U0vl9zUgAHU0bqAGhacKTOe9G5QCfSgA/QV5t481KK4u47aN9wj649av+J/F5jZ7SzbDDgsDXASytNI0khLMepNAEYAY4Hc1674S0xNP0hGxl5BkmvI1UeYuD3r1mHXLTT9DgZpFJCAYBpDOiyfpRn0Fc1pfiSTUrxY0t28s/xV02QPamIyrnwvo9/qH267s1knIwSScNxjkZwapy+DtMiYvp895p8h5zbTkDP0Oa3mcngU0Kc81m6VN6tGToU3q4o4LWG8QW15FpUOrm784fL5kYRh9SOtcDquoaknidNLNuqzRyLFhCWYse4P412XiLUJP+EwVbSVVuABCrE8ITxk1X0qxs7bx9NHvLeRp4HmHq0hfJb+dd2Vqj7Srzx54qD3b0eiXzOqplzo0I1Jya59l3XV90u3fU7vw94btNFgDRr5l04/eTvyzeoHoK3DhfrVHTJnmibcSQOAavbSTXJGCguVGEYRprlitBjMScDinKhNP2qKC/pTKDAXrSEk9OlNbjkmoi7McDpQA95AOB1pgBfrT1i5yakwBwKANDQ0C3b/8AXM/zFb1YWin/AE1xn/lmf5it2gAooooAK5zVAP7SlP0/kK6OuZ1Yf8TKbn0/kKAK5ZR3ppcdhUZZF75pvmZ6CgCQsx9qMDuaj+dqkEfGWoAQuo6Cml3Y8cCpMKKVcDoKAIwjHrThGB1qTr7U0gdzQAmQOgzS8n2oyAOBUbMxoAk3gdKaZD61Hgk1IqDPNADclugoCMepqUjHAoCHqTigCMKFNOCs3tTuM8Cl3UAJgD3pc5HXFNJyaMgCgAwKCKTf6CgKWOWNADSa53xVrh0208qIjzZBj6Val8S2VvqxsX4bpmuC8V3n2zWZCDlF4FJsDAkYySNI5yxOTUb4wSKWRhu4pjKwxz+FAzS0TQ7rWZG8nhV7mujTwXfmRUll/dj3rpfCNmllosbKuHkGSa3gpY80CKenWMWn2qQxIMgctiru0n71OC46U4YzTARUJ6U7AUe9OJ444FMwWOBQB55ceGJZPEr3s0bNH5m/APU1FpEH2v4g64UhI8qO3THplc16WIQOW5NeVeG/EN9H8WdYsTYYjvZ2WXIO6NYlIRvTBGP++hj39PLMM5UsS6a15Lv/AMCi3+CZriMXVq8kakm1HReSPUoYViQAAD6VKXA603O7pUZwpyTXmGQ8nd14FRswHC0m5pDx0p6x880ARhWY89KnVQoobCiomlNAEjOAOKi3EnNM3ZNJ5mOKANfQs/bnJ/55n+YroK5zQCTfv/1yP8xXR0AFFFFABXM6rGW1OY54+X+Qrpq5vVZNuoyjHp/IUAUfKUds0oQd6AxanBT3oAOAOBTSSaccCkLAUAKEGMk0ZAqNpR2qLczdKAJXkGOtMWQnoKFi9alACjAoAYASeakAGOabyegqQR45agBuM9KVU5yTTsgcDignA4oAazY6Cm7iaCfxNIUJ5JxQApYfWgc9aNoUcUuKAEPtSbSetPwAMmml6AFAxSFwKaSTRtA5bgUAeW+NLd4dc85QVD8g1z00zEZYksa6bxhqKXureUmCkXGa5WcgtxSGRA45NLFKPtKFvuhhmpbHT7nUJxFBGWyeSO1dUPh/ciSPDjBHze1Ai2vim6LQwWEWUUAYArv7EtLaRySrtcjJFZej+H7TS4lwgaTHLEVsjPQUwBjzQBnpTtnc0o/IUAJjA5Oaeox7CmhlHTk0hJPWgB7SY4HNR+WpYuQAx4JxyaRnCfWmgtJ9KAFaTAwtNVSx+aniPFLkLQA7AUU1pMdKiklycUmRigBWJamkUu8dBTSaAEIpu3JpwUnpU0cfrQBo6Cu28c/9Mz/MV0NYejDF2/8A1zP8xW5QAUUUUAFc5qig6lKfp/IV0dcvq8m3U5gOvy/+gigCIbRSFgBVcMzdaeEY0ANdueKbhmqYRCn4AoAhWL1qQIAKftJpQtAEZyegpRH604sq+9MyzdTgUAP3BRxTGkLe1IWAHFN2k0ALuA96PmbrwKUKBS49aAEB2/WjlqTIFBb1NADjgd6Tdioy2elKF7saAAuT0pQvdjRnH3RSH3NAC7sdBWB4l1gafYsqMPNfgDNX9S1SHTrZnkcAgcD1rynVNTlvbt55WJBPyikBWuJGZ2djl25NUhln29STxUxl3ZY9TXQeFfD76leLcSL+5Q55HWkhnZeDtGXTtMWaRR5svPI6V0wGegohiCxqoGAowBUo9BVCGhPWnAelBwvU03cW9hQA4sFHqaTqOaTKjrSGQdBQAhYLUe9mPFOK7jUqoFFAESRZOWqbhRRlV5qCSXJ4oAe71EW3U3lutHA6UAOGB1prUoUk05kwKAIwQtIfmNGOalSM9aACNTVhRimqAtIzkUAaej/8frj/AKZn+YrcrA0Q5vXz/wA8z/MVv0AFFFFABXMasmdUmP8Au/8AoIrp65vVD/xMpR9P5CgCmoAHSlzThHnrShAKAAUoIzSEj61GT60ASM4qJmJ74FNLY6VGcmgB/mAdBRuZjSxp7VJgCgBqr607BoLYppJoAceKYxA6mmnNKseeWNADdxJ4FKIyeWNSFlQYAqJnJoAd8qjik60wAsasIgA5oAjwayNY1610qFi7gyY4UGovE3iOHSbcxxsDO3QeleXXNxPqM7O5Z2Y9KTYFnUtbm1W4aRycdh6VlyfN15NaVn4c1G6ceXCwU9zXb6P4EhiCyXh3N1xSsM5Hw74audUuFeRCsAPJNesadYQ2NssMKAKBU8FtDaxCOJAqjsKk3YHAqhDjhRTcnHy0gBbk9KGcDgUAAwOvWkY0wtSKCxoAQ5Y1IqU8Jgc0FgKADAWmNJTHfNR5zQA9nJpm3vSkgU3JNAACc08KBzmkUU05zQBIHx0ppYseaAualSGgBqLmpshRQcKMUzqaAFJyaRiqjJpGYIPeoDuc0Aa2gtu1CT/rkf5iuirn9BTbduf+mZ/mK6CgAooooAK5/UlH9oSsfb+QroK5vVf+QlLk8cfyFAFcv2XmmHJ+8aaZAvAHNMJZutADmcDgU0bm60oWpAooAj20qqM805+Kjz60ATbgBgUwtUZY9BSrGxOTQA/PpSgetHCd6jZ8mgB5ZR0phc0A0hXNACZz0pyxlutOSPHWnlgvSgAChaCeDTd2aUKW4oA8n1DTb3W/E88aZKhsZPQCu50fwtaadCu5A8vcmtiDT4baR3RAGc5Jq2AAKAI44UjHCgD2p5b0pCc0oXPWgBOTRwvWkZwOBTOWoAczk8CmhcmnBcUowDQAvlcUowlDSYWq5kJNAE0kuelRjmm9qUGgANN+lPI4pBQA3bjrS4pSCTQykUAGeKQClC5qZUAFAEaqc1NvCjFNJ9KaFzzQAp+Y1G7hOnWkkfHAqJFLtk0AOALnJqVVwKkEYUZprc8CgDS0R83rj/pmf5it6sHRIyt25P8AzzP8xW9QAUUUUAFZd3o/2q6ebz9u7Hy7M44x61qUUAYv/CPj/n5/8h//AF6UaCB1uM/8A/8Ar1s0UAY50L/p5/8AHP8A69OGiY/5eP8Axz/69a1FAGO2h7v+XnH/AAD/AOvTP+Ee9br/AMh//XrbooAxhoIH/Lz/AOQ//r07+wzjAuf/ABz/AOvWvRQBinw/nrdf+Q//AK9NPh7P/L1/5D/+vW5RQBijw/j/AJef/If/ANenDQgP+Xj/AMc/+vWxRQBkHQ8/8vP/AI5/9emHQM/8vX/kP/69bVFAGKPD+D/x8/8AkP8A+vUg0TA4uP8Axz/69a1FAGQdDJ/5ef8Axz/69IdDJ/5ef/HP/r1sUUAZC6GB/wAvGf8AgH/16G0QsOLnH/AP/r1r0UAYo8P4OTdZ/wC2f/16f/YeB/x8f+Of/XrXooAyP7D/AOnj/wAc/wDr0h0L/p4/8c/+vWxRQBinw+T/AMvX/kP/AOvTf+Ed/wCnr/yH/wDXrcooAxP+Ef8A+nr/AMh//Xpf+Ef/AOnr/wAh/wD162qKAMb+wP8Ap5/8h/8A16P7B4/4+f8Axz/69bNFAGMNBx/y8/8AkP8A+vQdAz/y8/8AkP8A+vWzRQBjroW3/l4/8c/+vTjomf8Al4/8c/8Ar1rUUAY/9h/9PP8A45/9el/sPjH2n/xz/wCvWvRQBiHw9k/8fX/kP/69OTQQn/Lxn/gH/wBetmigDJbRM/8ALzj/AIB/9ekXQ9v/AC8Z/wCAf/XrXooAqWlj9lkL+ZuyMY24q3RRQAUUUUAf/9k=\" />\n",
       "    <p style=\"width:256px; margin:10px; font-size:small;\">text: put the stylish purple eyeglasses in the rustic wooden bracket &lt;loc0271&gt;&lt;loc0361&gt;&lt;loc0049&gt;&lt;seg039&gt;&lt;seg076&gt;&lt;seg078&gt;</br></br>label: &lt;loc0364&gt;&lt;loc0399&gt;&lt;loc0059&gt;&lt;seg048&gt;&lt;seg092&gt;&lt;seg099&gt;&lt;loc0280&gt;&lt;loc0511&gt;&lt;loc0052&gt;&lt;seg048&gt;&lt;seg092&gt;&lt;seg099&gt;</p>\n",
       "</div>\n",
       "\n",
       "<div style=\"display: inline-flex; align-items: center; justify-content: center;\">\n",
       "    <img style=\"width:224px; height:224px;\" src=\"data:image/jpeg;base64,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\" />\n",
       "    <p style=\"width:256px; margin:10px; font-size:small;\">text: put the peeled orange in the spherical plastic toy &lt;loc0280&gt;&lt;loc0148&gt;&lt;loc0039&gt;&lt;seg040&gt;&lt;seg074&gt;&lt;seg079&gt;</br></br>label: &lt;loc0327&gt;&lt;loc0149&gt;&lt;loc0062&gt;&lt;seg048&gt;&lt;seg089&gt;&lt;seg099&gt;&lt;loc0262&gt;&lt;loc0192&gt;&lt;loc0065&gt;&lt;seg048&gt;&lt;seg089&gt;&lt;seg099&gt;</p>\n",
       "</div>\n",
       "\n",
       "<div style=\"display: inline-flex; align-items: center; justify-content: center;\">\n",
       "    <img style=\"width:224px; height:224px;\" src=\"data:image/jpeg;base64,/9j/4AAQSkZJRgABAQEAZABkAAD/2wBDAAgGBgcGBQgHBwcJCQgKDBQNDAsLDBkSEw8UHRofHh0aHBwgJC4nICIsIxwcKDcpLDAxNDQ0Hyc5PTgyPC4zNDL/2wBDAQkJCQwLDBgNDRgyIRwhMjIyMjIyMjIyMjIyMjIyMjIyMjIyMjIyMjIyMjIyMjIyMjIyMjIyMjIyMjIyMjIyMjL/wAARCAFsAWwDASIAAhEBAxEB/8QAHwAAAQUBAQEBAQEAAAAAAAAAAAECAwQFBgcICQoL/8QAtRAAAgEDAwIEAwUFBAQAAAF9AQIDAAQRBRIhMUEGE1FhByJxFDKBkaEII0KxwRVS0fAkM2JyggkKFhcYGRolJicoKSo0NTY3ODk6Q0RFRkdISUpTVFVWV1hZWmNkZWZnaGlqc3R1dnd4eXqDhIWGh4iJipKTlJWWl5iZmqKjpKWmp6ipqrKztLW2t7i5usLDxMXGx8jJytLT1NXW19jZ2uHi4+Tl5ufo6erx8vP09fb3+Pn6/8QAHwEAAwEBAQEBAQEBAQAAAAAAAAECAwQFBgcICQoL/8QAtREAAgECBAQDBAcFBAQAAQJ3AAECAxEEBSExBhJBUQdhcRMiMoEIFEKRobHBCSMzUvAVYnLRChYkNOEl8RcYGRomJygpKjU2Nzg5OkNERUZHSElKU1RVVldYWVpjZGVmZ2hpanN0dXZ3eHl6goOEhYaHiImKkpOUlZaXmJmaoqOkpaanqKmqsrO0tba3uLm6wsPExcbHyMnK0tPU1dbX2Nna4uPk5ebn6Onq8vP09fb3+Pn6/9oADAMBAAIRAxEAPwD3+iivK/GGq6nb+Kr2C21C7ijXy9scczKoyingA0ID1SivF47/AF1hmTV76NfVrl/8auLrN/CAF1O+kbuWuGI/nTA9coryiPXtSDfNfXJ/7bN/jUcms6mZCV1G7APbz2/xpAet0V5D/bOqf9BK8/7/ALf40f2zqn/QSvP+/wC3+NAHr1FeQ/2zqn/QSvP+/wC3+NH9s6p/0Erz/v8At/jQB69RXkP9s6p/0Erz/v8At/jR/bOqf9BK8/7/ALf40AevUV5B/bOqf9BK8/7/ALf41Bda1qwhJXVL0Eelw/8AjQB7NRXhX9vazjP9r3//AIEv/jTl17Wep1a+x/18v/jVWFc9zorxK38RaqCVk1S9I7E3D/41d/trVD/zE7z/AL/t/jU2GewUV5ANZ1TP/ISvP+/7f40HWNVH/MSvP+/7f40Aev0V5B/bOqf9BK8/7/t/jR/bOqf9BK8/7/t/jQB6/RXkH9s6p/0Erz/v+3+NH9s6p/0Erz/v+3+NAHr9FeQf2zqn/QSvP+/7f40065qS9dUu/wDwIb/GgD2GivEJ/EGrmTjVL5QPS4f/ABqH+39Z/wCgvf8A/gS/+NOwrnutFeF/2/rIP/IXvj/28v8A40DXtaxn+1r/AB/18v8A40WC57pRXhX9v6z/ANBa/wD/AAJf/GnHXtZ2gjVr4/8Aby/+NFgue50V4V/b+s/9Be//APAl/wDGlPiDWcAHVr7jv9pf/GiwXPdKK8L/ALf1gqf+Jvf57f6S/wDjSf2/rH/QX1D/AMCX/wAaLBc91orwr+3tZwD/AGtf/wDgS/8AjR/b+s9P7Wv/APwJf/GiwXPdaK8J/wCEg1n/AKC1/wD+BL/40p1/WSeNWv8A/wACX/xosFz3WivCv7f1oD/kLX/1+0v/AI0f2/rI/wCYvfHI/wCfl/8AGiwXPdaK8KGv6znnVr//AMCX/wAaP7f1nPOrX+P+vl/8aLBc91ork/h7eXN7oNxJdXM1w4umUPK5YgbU4ye3JrrKQwrwz4j+KTpnjHULS3t1M6+Xukb3jU/1r3Ovmj4rf8lK1f8A7Y/+iUoA56713Ubx90tw3XOAa6PwtrMlyxs7htzAZVj1ri8GtPw/L5Ot25xnLYoA9LoozxjtRnmgAooooAKKKKAEooooEFQ3AJhbHWpq5fxFrFzYX0cUTAIUyRjrQBepeorl/wDhIbn/AGPyp6eI5gCGRTVXCx0tWre5CkI33e1ci/iKUj5UUGpYPERJRZEHJwSKLoDt6njw61m2NylxFlWDY7g1ejba3tUjHvASflrMnlnjldewNdFbgNiotU0U3aedb/6wDlfWmhHO/apfX9KVbqU9W/SmTwywHZMpUjsRUecdKYErzynq2PpURYk5JNAwTyaUIXJ29B3NMQg5NAI5B/MUE9sYxSUAKRijop96QYB5FPfHAAwKAGjvwTQpwaFYqcimk5oAdnGQRk+tLuLYU4xShN8eQckdqjoGKRzwc0maKXIPX86ADj6UoUk8DNJjB56e1BIz8ucUALgY5PPpSDJFGc9aeuSMLge9AEfb2peM89KDlSRSZ46UCF+nSjJOBmk49aMEUAerfDUY8O3H/X23/oCV2NcZ8NP+Rcuf+vtv/QErs6llBXhHxN8Nvf8AjG9u7d18x/L3Kxx0jUf0r3evNPFBgj8UXjunmMdnB6D5FpAeOzeF9TidVWES5Gf3ZzU+l+HtTi1a3eW2ZFRskt2r02HVRbgCO3jGOny1Mdb3nLwoT/u0AZOwk4UEn2FNKsrYZSD7itlNbVGyIUB/3ahutSiuuZIFJ9QMUCMyipZDG4BjQqahoGLQaSigQUUVLbrGXzICQOwoAirH1rQU1dVZXEcqdGI4NdaklkjBvs2cepqZ7uzeMp9kUA88UAeY/wDCEXH/AD+R/kafH4HkJ/eXqAey16MHsO9v+tPDad3g/WgDzlvAx42X6Z91NOh8CN5qmXUI9nfCmvRTHpkuAEZPoaq3mnrEvmQNvT07igZxz+HrrSJxcaddrNGOWi9q27edbiBZV79vQ1PVGwRo2uEJyBKSPagDXtJ9pCtWzDcDA5rm6mS4dO9AG3eRW97EUlQE9m7iuRvrY2kpjc5/ukDqK2VvT3qjqsySohIyQaaEZSoSM44pCcn0HpRvb1pcKVyWOfpVCG0UUZoAVRlgKezKCSCCT2xSR8bm9BUYODmgYUU9+QCXB9qZQAqsVOQaVxj5h0NNp6EHKHoelADKcVC4OQfpSbTu296c2VXadv4UAIW54GB6UmAen5UmaSgBaAzAYB4pdwPDfnS+Wx6cigQ0Ek46/WnMmD6Ug+Q4ZQfrSE5NADsKF6HPrTKUEilyD1H5UAep/DQ58OXH/X23/oCV2dcb8NOPDlx/19t/6AldlUsoK8t8Xf8AI0Xn/AP/AEBa9Sry3xf/AMjRef8AAP8A0BaQGJRmilFACZozTqMUAOjlKNkcGpGud+N0acegqHFGBQBYFzEP+XdDSm6iP/LtHVbFJigRM0yHpEoppnO3aFUD2FR4FGKBjvNal84+lMxRigCTzj6UnnH0pmKMUATK4b61ZgnI+RjkVQHBzUqv0NAgnULKcdDWXZyFr28jI4Vxg/hWlezJDD5rnp+tUdPjcW5lkBDyuWIPb0oGWqKKKACqt6cIvGeatVUvvuL9aaBlJmz2A+lJSUVQgopxfIxtX8qb1OKAJmKi3AC4LH1qGpZ+HC/3RiowQDyM0AJRTmYHooFNoAcNmOQc036UUqlf4gTQA9v3ibh94daip6uFfIHHcGiRNrcfdPIoEIoU/eJH0pGxng5FJTx5eOS2aAGUqsV6Uh68UUASBVc8HB9DSOgX+LJpg69cVNlCuGbP4UAQ0U5kwMjkU2gD1X4Z/wDIt3H/AF9t/wCgJXZ1xnwz/wCRbuP+vtv/AEBK7Ope5QV5b4v/AORovP8AgH/oC16lXlvi458U3o9Nn/oC0gMTrU6LEV+clSPQZqEdafQAsioCNjEj3FOWJSeZVFMooAkaFFUkTKT6VGqFu4H1NFFAEv2Zv76f99VG0ZV9uQT7GkooAetvI3Rf1pHgkRdzDj602igACO3RSad9nl/55t+VIGI6Eil8x/77fnQAwqytggg+lG0+hp25s5yc+tO818Ebjg0AQ05aQigdaBE2FdQGUHHqKa4j2AAkEfzoU8Uj8rQA1o1VARIGJ7DtTKdiigY5o1CBhICT1A7VS1AIEXGTzVvFVr6Mm33YPBpoRnlkx9zn60yiiqAKngWNpBkNxzUFTRfLBI/r8ooAjdtzlvU02ikzQA8BD95iPwppx2OaSigQU5VB6sBTaKYDmUDowNSR/vEMZ69VqGgHBBHUUAKFOccA+9OaMqOo/OnygSIJV+jCoaQBQBmiimA8xMBnFMozRSAVWKnipfL8wZVSD+lQ0u5vU0Aeq/DVSvh25BGD9rb/ANASuyrjfhoSfDlxk5/0tv8A0BK7Kpe5QV5P4sf/AIrLUEP/AEzx/wB+1r1ivHfGzBPGV8wJDfu//Ra0ICqKcOlQQzLImR19Km3UgHUU3dRuoAdRSbhRuFAC0Um4UbhQAtFJkUZFAC0UUUAFFFFABTe9OpCKAHA0ZyKZup6AnmgBKMU/FJigQ3GTVtIopYWifowquBTskUDMG4iNvO0Z7Him+a+MZ/Sn36TG7dkUkHuazZGuVb7rflWX1iKdjdYaTVy4STViQ+VBGmBk8msnzbleSjD6inPfSyNlsZAx0prEQE8PMvGQt2X8qZVP7S/tS/anA5Ap/WICeHmXlcDqgNIzA9FAql9rPoKetwSego9vAXsJ9iwPen7o8fcOfrVYT+1Hnj0p+3p9w9hU7E5xngUDb/Fn8Kh87/ZNJ9oH900/bQ7i9jPsXY3jRsc7W4OajljMbkduxquJh3BFSm8iaDa5O5ehxT9pDuL2U+w9VQ9Wx+FIwUdGz+FQC4jPel8+P+8KfPF9Rckl0JAMmn+WMZ3rTKKogUjB65oClvSkooA9W+GqlfDlwDj/AI+26f7iV2VcZ8M/+RbuP+vtv/QErs6l7lBXjfjn/kcr/wD7Z/8Aota9krx3xwq/8Jhfszf88+B1/wBWtCEznFLA/LnPtUuXHLyEe2eaYZMDCDaP1qNmA5J/OqEWDcuF2qTj1NaMR3xK3qKwXmGPlIzVvTr4q4ilYHJ+WsnUjexr7KVuY1cHBIBwKypL9xKdjjbnvXU27RyxfKoHqK5HXdOazujImfKc5GO1Z1ua2hdDlbsyb+0ZD2WlGosD8wU1hb8D7xpVctwCaw559zq9nDsdAt+WIwg/Onfb1D7SOfasm2DJuds4A4zWXqGoN/aEFlEx3OwZ2HYVSnPuYVIxTskdUNQUuV2NkVILyMjvVG1K7Wcjk+tVrqQB8IePakqtS17ihGDfK0bMdykj7Vzmp+a5uC5MU6uxO0HmugguEuIQ6ggH1relNyWu5NamoP3dhXlCY3NjNJ58f98Vl6ndnzREhHHWqH2luhNROs1KyRcKClFNs6SKRZZQi5I7kdBVwpgVU0zWLY2KWhRFfPLYwSa0nTgY6VrCV1cxqR5XYr4oxUu2obmUWtrLOwJWNCxA74qm7K7JjFykox3Zha1a6tNfQvYu4iAH3X2hWz1PrU/9pX1rxe6c5A6yW53j8u1Q2Wu32p70s7CPcn3meXgZ6dqsPZatNzcagkI7rbp/U81yRak3Ok27/d+J1VckqYepL29VU32b5vwin+hYvdU0OTRDcnU4lljIyjnYw9sHr+FZscsdxGskEweNhkMDkGs7xzo2nReG4riO6uZr5ZkDNM+7IORj+VLosMGm6VDbibecbixGOTzXVicJTjgoYiUv3kpNcttLLrf5r7/IMPUcajoqXMl1tb8Ls0ZA2ME7hVdoEPOMVP58R/jWjzozxuU15SbR2lXyFo8mPvVz5D3H50hVT2H50czCxXFtD2pwt4/UVYCLjtTSi+hpczCxELSI96U2UZ/ip/lA9yKQwt2Y0rvuGggs16A0GyWjZKP4qTdOOmTTu+49B32JfWmtp4Pc0nmTjk0wz3GeBT97uGhJ/Z4H8RFIdO/6afpSCefuKDcyr/Dmj3g0HC2aJPvbhTaT7W5HKURzRtwUOfrXdhqzfuyODE0UvfiLRS5XPQgU4eVjndXacZ6l8M/+RbuP+vtv/QErs6434aY/4Ry4xnH2tuv+4ldlUPcoK8a8dEDxjf5/6Z/+i1r2WvFvHqM3jPUOeP3fH/bNaznU5FcunT53Y5mW7VOF5NU5JGkOWJq95XqoqN/JTgjJrllWcjsjRjDYpAD3oHByCQR71PhWPHFBTHQipuWben6wYbOWVlZjCuSo/irltX8V3mojIUxxA8AVsWO0GWN2AWRCK5KYzRO8IiOVOM4zW/PPlXKr9zzcT7WEl7ONzQ0+WS5gLSHJzitS2s2k+YHao71lafZzPGWmDJnpt4rSuI47K33td3KKByN/Fc8nLm2/E09tXjFXh+JpsqrGsY6VzVvaO+tXV3KCFVtqZHWrEVw1xCrW11O8r/dUj9T7Vl6GmojVrlLyZyI+JAz7vm7YrswuGdehWquSj7NLR7u7tp/XVFNVocrqQaUtttfPvbz69DqhJ5cQGe1UJGZnLc1blUMMA1RV97vGG+ZeCK4k7m1GO7HwSLLcxwKpZmPY9K6hitra8cBRXntnLJa67Gd2cSY616BfgtYyYx0zzXZGKjG6MJTc5WZgStGzlycsTng1HuQngGo8N/dp2WA461yHcPDFTkE5+lXodWu4VAEuQOzCswtL6ZpQ57g01dbA0nub0fiKXcA8SkexqRvEBIwbXIPXmub3HPSn7yP4jV+0n3M/Yw7GtFrH2YsltZRwoTkhVxmop9Tu5xy+0egrPErdiTR5zepH4VPNK1jRxi3zS1Zm+IpJGsIwzEgzJ1q9bF2tkIUkYxWdrjtJBaoTnNyg/nVyzuljgVGcDBOATXXib/VaC/x/nE4bpY23Rx/VFoOB1U07ev8AdNNLB+c5pBx71w2O8lDK3TNPCn/aqMOuPuijf6Ej8amw7jzjpvINSRyEHAcn8ar53N8wJFPVkjbcqYNJoLl0uwH8VR/aHDckimG4cjISkWfecMvNRYosrcE+tHnN6fnUSyIDzkUpkX1zSsMn3EjkCozIP7tQGZDxT02kU0gHebH3NODRkcVC8Ctzg/nTNqx9TinZAWdq00oo+7UYKHoxpGU9nNCVgJR6GlqtiQMCDmrCtuFelQq86s9zza9Lkd1serfDP/kW7j/r7b/0BK7OuM+Gf/It3H/X23/oCV2davcxCvGfHQJ8Z3+CP+Wf/ota9mrxrx04Xxjf/Lz+75/7ZrXNifgOnC/G/Q5pxIeMCoHgc9FNStIc55pBO3901xps7bIgaCRR9w1HtkzyjflV5ZO5Jp3mg9xT5w5UUMkHkH8qlWIsOFBq1vUehoMyegFHMLlKpQr1yKzp5V1E/Zwo2k5LN6fStkyoe6n2qhcRxWkbTW8GX9AamXM2rHVQlh6cJSqRvP7Pa/mi1aW8NpFiMc9z61iiVYfEt7kgLLEknPtxVeTWL6UFYbcr+Gay5ra+uNRt/NBDzKyqW4zjmvWy+HMqtL+aEv8AyW0//bTzq8ak5+1qyu7r/I6C71y3hXEX7x/bpVHSbi4uL95GBZG+8fSn2/h2RSHlcf7orbtLNII9kaYFeZKSgrRNeanBNR1MxrCD7b9oWRgQ27FbtxqguIPL6Z6moJ7NGUEDBqJLNR1NWqzatczjCL95IBs7PSkA/wAVNa2I+7ij7O+OgqdDYNvo1G0+opPLZOic/Woy0oP3KBDylAVTwRSAtx8ppZD8vyqc0ABUL0FUoppg7GZHKd8L0q2jkD5qY92qHDAf1qJp73sZSwlbETj7Fu66JXv6owfE0u6G3eGT92rEsBwQ3Y/zrG1R5NtrIXOWiBJB7/5Na2p6hCbre1wFQDBiRQxb6+lYFxOJSxJ+T+BfT0AHavoMI6uOwnspOMY0U5Xs7yv0v6/ocGLwlejXjOta/k03t1WtvvOn8LpcNavNLKWRjhQTmt/eo7iszQrf7LpUSt1f5jWgQpPavEnrJno01aCHhgfSnAjHSowAKXg1NixwYA1IJAOuKh25pdnrzSsBOJwOgoEqg52CowVA5SlBjP8ADSsihzTbj0ApRMo7UmyE/wAJFG2IdFP50tAEMoJ7/lTt8ZHUg05WiH8JqUPDj7lICAGPP32FOZI2Xls/Wpc2/dDSEW5/hai4yBUUdCBTsr/eFP2W5/vCk8q2z95vyouAnB6EUiZRshgR3pTHD2lP5UhijP8Ay1/SqjJxd0TKKkrM9e+GRB8N3BH/AD9t/wCgJXZ1xHwuQJ4ZuQG3f6Y3/oCV29ejGXMrnmTjyyaCvEPH94IvHGoRlc48v/0Wte314V8QsDx3qJwM/uv/AEUlZ11eJrh/iMTzkYZxj61IlxGBggGqRdm4wKIyUbIxXG4nbc0C2eRFxURCk8qRT0vPlwwpjyxt3IpWHcjdSOhNIpIHzLmlZc/deozFJ2cUwuS7k/55H8KDLGP4GpsaOPvNUwjVj/rP0oAhXYTkKB+FZut4il0646CO5UE+gPWtZ4/Lyc59DWXrlhNqdgsULqrK4fDcA8H/ABrvyqdOGMh7WXLF6N+TTT/M8+tF2aRrLIoYD1qcOoNYem2stlZQwSSb3QckdBz0Faqfd5Oa5a3LTqypwlzJNpPuu/zC2ibJpSpQ81SLNnAIqdz8vtVdsHvisE/eN6TsxQxAycUeeR2qLDZ4OaXafSrsjouP88ntSedzytIIGIyBTDEVbkkUWQ9Sbeh6Um4Z6io/o9SRxAn5mzSYDLm2a5gCxlQQc9etNNvFZ6ZKZVUuEJLAVdWNB04rkvFt9cW9ylvHKwidMkDvU06anUudFTH1YYX2F/dvc5KViZG5701+i/SkJyaeQMLn0r6PDaYas/KP/pS/yPAl8SO58L3aXmnCJjmSLg59K13gQ1xHhZZZNYVY22qASw9a79Y8dVBrwqy5Z6HpUJOUNSn9nGfvEUeQQOHq9sHZKYUbOAorLmNrFMxP2anJHJ3NWjC390U0owo5hWBQQORR8o7U5RIOh/OnbpR1VTSGR70PakIXsf1pWYnrEKjZQ3Gwj8aBkqxg96Xyz2qsYmH3XIoCyj/lpRYCwUPemlWHRqYN56uacF/6aCgVhQx7mnHPZqZtbsy0GOTsR+dAWHYkPQ0h84dh+VMxKvU4pd8gH3hQFj134Wbv+EYud3X7Y3/oCV3FcP8ACss3hi5LYz9sbp/uJXcV6FL4EebW+NhXhHxFU/8ACdakQDj91/6KSvd68l8aRI/iu9JUE/u//Ra1GIlyxuaYZXmzzrdj1pwb3NdCbWI/wCo2sIm6LXH7VHbyMw/MI70olJrWbSYj0zTDoy9mNP2kRcrMwtmlU/7RFaB0dh0eo20qUdGBp88QsyuJPRqXc396nHTp1pPsc4/hpXiGox8sOXIqQSjbt4NRtbzDqhpmxh1Q07olwT3RMjsOCFIp4bHIGKgCsf4TT8EdQaTdxeyiPZietRNGCe9PB4704Ed6WhSglsRiPHegp/tVNhDTWQdqdyrEfK/xGl8xz6GnBcds08Yx92gBgbjlBTd/P3cU8so/hrndW8RG3ne2hjAdf4jTjBydkROairs3Zb6C2UGaRUz6muU8VXEN/JALd1faDkg1i3VzLezb7iQtUBkPQcY9K6qdBRdzkqV+ZWInVk+VhginOVwOOaQuScnrTWbNenQxk6NGpRSTU7XutVbsczjdp9jY8PalDp927TZw4xkdq7q2vLe5TfDMHHsa8sHJ4rovCkvk3jg7mDDHHQV5dammuY66FVp8vQ7jeOxNL2zuqLcPUCk3gdxXGdtyUufWjPqahznowpee7CiwXJw4HQ0F6r9+SDSjBosMlMgpvmLQEz3pfKHtSsIBt6kZpd0fpUZU5wOlBizTsBKClKBE3UioNu3vSYPY0WC5Y8mM9DSGADoahUHPDGpQrn+KgBPJB6mkNsp6NUgjbvTWVl6YNK4z1n4Wx+X4YuRnP+mMf/HErt64j4XEnwzc5/5/G/8AQErt69Gl8CPMrfGwryjxkf8Aiq73/tn/AOgLXq9eSeNCw8WXuP8Apn/6LWscX8C9TbCO036GNkCkLLTBI3cUu/PVa86x33F3L608Ef3qi3D+6KBIoP3aAJx9aUIPaoRLGTzUg8s87zSAUxj0ppj9qczhehzTSzMOKA0E8qo2jH90flUc135I55NVxqRPUVauLQs+Xn+AflSGEd4xUIu2c4BqxGZCOTmi7QaDfs8X90Cg28ePu1L5ch5xTCHB6UuZjK7QJn7lMMMZ7Yq5tbHSmOjelUpMVio1uvY0wwMBwassjAdKaQwHWndhYzb6OWGzllU5KKSK8wnme5uJJnPzMcmvX2QupUkEEYIrnbvwNbTmSSCYxu3Kr2FdFCrGN+Y5q9KU7cp5+WI6Gmk1f1PSbnSptlyuAThWHQ1PomkprDyxmQxsi5BxxXa5pR5uhxKEnLl6mRmgDNbV34X1C2l2oglTOAymrtj4PuZGVrh0jTqQDzUurBK9ylSm3axzsFrLcvtijZz/ALIzXQaVo1/azCYN5R7gjORXYWNlaaegSCID1Pc1bwh6gVzTxF9EjqhhktWzJLsQARzU0cTsOQKuGFCfuinJGi9Kw5josVxatQ0DqOgP41d3Ad6YQG60uYdij5cg58vNCsehRhV3ZgcNSog7mne4WKmMjjIowcdCaukD0U1EyseiigCBSB1VqDJ7GlKzBgMcVMsMncii4FXG89DTlUjqrVeWFv8AZpSjjoKXMBQYkHhT+VAkPuKtnzf7tNzJ3jFFwIRIx70oZql3P/zyFG9h1g/Si6A9X+F5z4ZuP+vxv/QErta4r4YsG8NXJCbf9Mbj/gCV2tejS+BHmVvjYV4l4+vWh8baggPA8v8A9FrXtteEfEUA+OtSyP8Anl/6KSprq8S8P8RkLqvrUy6pGeprHwnpT1CDnFcbgjt5mbI1CM96cbtCKyVaOphLHipcEPmNBbmHvTxPCf4qymkTHFV5HYfdzS5A5jdPznh6bJceUuA3NYi3M6rgZpBJKTlsmnyBzFx5TI2Sc1GWAPNRCcj+Gjz1J5WnyiuWUlP8NWorqRetZ6ulSBgehNS4jua66iQORT1v4z1FYpz/AHjSpu/vVPIO5tm8jYcDBqJ5C/RxWUZXXtSi5I7U1Gw7lqRJSch6rSLcZ60v2nNIbinYVxm2cHJzT/NkAwSwpRc8dM0hlJ/hosFzL1jSE1eJA0xR0OQTU+i6HBpsG0SBnY5ZsdaurhjyKdtUdDVc0uXl6C5I83N1LgtY9ucg1G5jjHMYqt5xXgNR55Y4ODUpFXGSX0KdI8VB9s3nCD86sMqNyVFCxx44QU9BXEAmblQDTx5w6pSAlei0u96Q7jiW7rio2kI7Cglz3qJo2bqaeg7jjcEfw05bnPGRUBgPrTQoQ8iiyEWfO55qdJVPeqQdf7tTRzIOoosIsO64+8KpvNKp4ORVlp4CuCtMWWLoFFFgIklZu5Bqb7RIvHJpksiAZVcGqUl5IhxtzRy3A0Rcy9cU5bt+4rKjvJWOMYq6m51yaHGwFwXqgcrThqENVkthJ/FilfT9nOQaVkM9b+GsqzeHbhl6fa2H/jiV2VcT8LlC+GbkAY/0xv8A0BK7avRpfAjzK3xsK8M+IRX/AITnUQev7r/0Ule514R8RGx471Lj/nl/6KSprfCXh/iOc2pSFAelRFs9qATXKdZJ5Oe9HlY703eR3o3n1oEL5R9adg46U3zMUol96Ch4U+lL81M8z3pPMbsRQBJ83oKCUA5UVH5rUu8EcigAMsY/gpVnUdqa2z0pu1WFFgLP2mPFOSZG6YFU/KB6U4Qlehoshl3eCOtNytVdrDvRhvWpsFy0uwUuI8c1SIfsTSZcHnNHKFy8rQg1IJIcdaoKxp4PtRYLlppY+xqvJMo6Zo+XutNPlnqKLBcYJVz1qaNlNQEc/KOKepI/hpBcsHJ6Uwuy9qFlI7U4yqw5FIYLO2eRTzKKYCh4FIV96LAKZKTzDTDilGKB3H7jRnPUUD6UhBPSgaFAXuKcAnpUe16T5/SgdiUxoaaYlXkU0M3cU4P6ii4WG4BHWmtCDUw2YpDj1ouKxX+zkdMUu116GpTSbSe9O4WGCWRe5p4uZOhJpVXHWlwvpSCx658LWLeGLkn/AJ/G/wDQErt64j4W4/4Rm5x/z+N/6AldvXoUvgR5lb42FeH/ABAgZ/G+osB18v8A9FrXuFeO+OMf8Jhf5H/PP/0WtZ4l2ga4VXm/Q4hoWH8NMKMP4TWyUU9qb5KGuPnO7lMQxknoacF2itn7OnoKYbVD2FPnFymVjNJ5ea1fsIPYUhsaOdBymUYqb5RB61qmyPaomsX9afOHKUQuKUg9qsmzkHamNBIv8NPmQuUrlGpyrgc0pVx/Cablh1Bp3FYfux0pC7UwvQJKBAWek8xxUikGlIWi4DROe9L5oNJtUmgRDNADtwoDkdqcIqChFAAJR3FKZFPamE47UgYE9KAHc56UbyKCxpu40gH+YaTzPam7vanAg9qLDFVhnpT2ekVVobrRYBuSTUikCmquaa520rAWART1FZ4m5qZLjFJoaZbxRx6VCLgGlEy1Nirkp2+lNIFN81TRvHrRYLgVOeKcq+ooVh604ketA7iiJTQYR2NN3Ed6cHNILjfLIo8vFShs9qdxTQz1L4XDHhm5/wCvxv8A0BK7auL+GX/It3OP+fxv/QErtK9Gl8CPLrfxGFeN+OCf+Eyvx/1z/wDRa17JXjfjhseMr/8A7Z/+i1rLFfAvU0wvxv0MEGjK0wvmm5rgsegTZHrSjHrUG6nA0DJwfel3GoATUiAnmkA/eR2pPM9RSMcVHuNAWJtyntRsjbtUO6nB6LhYl+zRNTWsI29KPNAFOWTPei7E0V20xD2FRnSlPQVo7hjrR5uO9PmYuUym0kjoDUTaY/vW2JjTt+e1PnYuU502EiU0wSjtXRMqt2FIIEPUU/aBynO7ZV/hpPnzypromtY/SojaR0+cXKYewkcg0m3Ya3DbJ7U02Kt2FPnDlMbfSbl7itVtOHpUZ072o50Kxn5Q9qAEq6bAjtTTZMO1HMgsVgB2NKU3HrUxtWHQUnlOO1PmCxGEKdailHy1PIHx0qnKzgdDTTEV2BzS5OKYZGB5o8w1Yh+40u9hTfMHpRvX0o5QHiQ04SNTFKGnjb60mgHiRqeHemArTtrdQakdxwkanCVhUW5l60ol9RRYLk4uGFP+1ZGKriRT1FO+Q9qVh3PYPhW+/wAMXJ/6fW/9ASu5rhfhSAPC91j/AJ/X/wDQEruq9Cl8CPOq/Gwrxnx0M+Mr/wD7Z/8Aota9mrxzxxj/AITC/wD+2f8A6LWssT8C9TXC/G/Q5rbQQal25pdorgPQIOaUA1NsFJsoAYOKXzMU7ZTTGaLANMtIHpGQ03ac0WHcmDcUu4VCMigk0rBclJBpQQKgyaNxpWAs7/ek3H1qvvNLvosBYDkVMstUvMqRX4osBa8yniUVU30eZSsBcaYUwyA1X3g0bhTsFiUtzwalVsDrVbgc5pwlqWBZD08OKqeaKcJVoAtfKaNin0qsHU96cG96BEpjTuKaYYyKQN60F1ouFhv2WNqhfT0Y9qnDj1pC3PWnzMVim+kKewqBtG/2a1Q59aeshpqbFymA2ke1RNpTDpmul3A9aRgvoK0VRhynL/2dIDTWsZR2rp9qelBjjPaj2gcpyhtpV7GpY1dRgqa6M28ZpDZxnpil7QXKc6ck8igoa3XsFzkYpDYAjpTUxcpzzbgaTzCK2ZdO9qz5rUocYq1JCseu/CRt3hS6P/T8/wD6BHXe1wfwlXZ4Vuh/0/P/AOgJXeV30/hR59X42FeM+Omx4yv/APtn/wCi1r2avE/HpI8a6h/2z/8ARa1lifgXqa4X436GJvpwkqpvNAkIrhsdxc8ynBxVMTU4TCiwi5vFIWFVvNHrTWl96LBcsMwpmRVVpqQS0WHct9aXZmoEkzUwkpMdw2UeXSh6dvFAyPy6TyzUwYU4YoAr+XTtvFSnFIcYoAhIxTcnNSkU3AoAaCacCaULTttIBpfikDZpWWmgUhj80UCigBucd6cHI70YppFAiQSN60pc1GKM0rAODU4P71FmjcKLAWA/HWl8wiq2+l30WAtCalMtVM5NSKfeiwyUy0vnVGRTCDSAsebTlk96p804MRSAubvepFeqgJI60ZYGmFi45BFZd4B1FXFkyMGqlyhOcVSYmj074VnPhi5/6/W/9ASu4rh/hYmzwzdD/p9c/wDjiV3FerS+BHlVv4jCvGPHUe7xnqB/65/+i1r2evG/HLAeMb//ALZ/+i1rLFfAvU1wvxv0Ob8mgwjHSnebTt26uK53Fcwg9qYYat4pjCi4iqYyO9MKtVkimladwsVthpwj4qbFIwJHFFwGjgUu7FIEajYaQDvMpwk96iKGk2EUWGWQ49aeG96qgEU4EiiwXJy1LuqDdRuosBIXoDVFRnFIZZDCl3VXDinCQUATEg0lNDUZpFDs0U2lFIQ4YNLgU3NG6gBdtJtpd1LmgBhWkKmpaOKAICKQip8CkKigCJQTTwGFOAAp3FMBuWpcmncUvFKw7jM0u6ncUnFFgAPil300qO1M5FFgJN9Gc9ajpaYz1T4bY/4R24x/z9t/6AldjXG/DX/kXLj/AK+2/wDQErsq9Sj/AA0eTW/iMK8U8fE/8JpqH/bP/wBFrXtdeK+PBnxpqH/bP/0WtZ4n4F6l4b436HMbiD1p6uaPLyaUR1wncP8AMIpvm00g0wg0DJQ+aeCDUAqQUASYBpwjBpgNODYpDH+UKDHSeZil8ygLDGSoitTFs0w80wsQninBcinBcmpwo20xWKhU0w5FW2QVE0dFx2IQTS9af5dOCUhWIipNIqnNWQgprjb0pANwQKTJFHmUbxQFxQ5p3mU3INJxRYdx+/NGTTAKcBRYBwanbhUe05o2tSsMl3e9JuqM7hTSxosBLvpfMqvupRk0WAshs0pHvVY5Xmk840JCLFLk1W8409Zs07ASliKTzCKA4IpCRQFxRLzUoIYVVJFPR6QXJiBQAKZvpA/NA7nrHw3/AORduP8Ar7b/ANASuwrjfhoc+HLj/r7b/wBASuyr06P8NHl1v4jCvEfH7keNtQH/AFz/APRa17dXiPj4Z8baj/2z/wDRa1GI+EvDfGc2JCKcJqTaKQrXFY7h5mFHmKagIpMYosBcUqafgYqmrEd6lWQdzSaGibFIaAwPenAZpFEZyKbuNSlKYYzTATeaA9IUNJgimBJ5mKcJarnNMLYNAF0ODRkGqayVMr5pATbaAKQGlzSAeopGTNN3YpwlFAmRGKmGPFWt6mmHaaBFbGKTNTlQajMdMBAwp4IqPYRSYIoGTA81IDVcZFODkUDLBAxVeQU7zKaxzSAhPFOQ0FaAMUxExG5cVCbc54qZTgUb6AIPJYUbSKmMlIXFMRHkigsacSDScUAMJpVJFLikIosA7fRuqMrSEGlYD1/4YHPhq5/6/G/9ASu1rh/hZn/hGLnP/P43/oCV3FelS+BHmVvjYV4p49XPjXUD/wBc/wD0Wte114n49lC+NtQHp5f/AKLWoxHwmmG+NnOhadspFlWpVdTXEd5EY6aYqsjae9LtHrQBTMJI4pgt3B61oAAUpwO1K47Gfh1pwkYVYfaajCqTSGKshxzR54FO8sYqN4c0wF+0KetOEiNVY2p96FhZe9OwFh9uOKruKdhqQrmgCIVPH0pojqVUxSYEi9KQmjOBTGPFSMUtQPWox1qQYpksXNG+gimEUCH7xTgwNVyDRlhRYZZwKNtV95FKJTQBLto2UBqkDCkMj2UEVNkUxqAIyKAKRmxQGpiHY4qJg1TA5pcjvSEVTupu41c2qaaYgadwKwanA1KYRTTFRcBuaXNIVIpDTAdwaNtMzS5oA9c+Fwx4Zuf+vxv/AEBK7auI+F3/ACLNz/1+N/6AldvXo0vgR5lb42FYWo+DdA1W+kvb2w824kxvfzpFzgADgMB0Ardoq2k9yE2tjmR8PvC4/wCYX/5MS/8AxVKPAHhgf8wz/wAjy/8AxVdLRS5I9ivaT7s5weAvDQ/5hv8A5Hk/+KpR4F8Nj/mHf+R5P/iq6Kijkj2D2k+7Oe/4Qbw5/wBA7/yPJ/8AFUh8DeHD/wAw7/yPJ/8AFV0VFL2cOyD2k+7Oc/4QPw0f+Yb/AOR5P/iqP+ED8Nf9A3/yPJ/8VXR0Uezh2D2k+7Od/wCEF8N/9A3/AMjyf/FUf8IL4b/6B3/keT/4quioo9nDsHtJ92c9/wAIN4c/6B3/AJHk/wDiqQ+BPDZ/5hv/AJHk/wDiq6Kij2cewe0n3Zzn/CB+Gv8AoG/+R5P/AIqk/wCEC8M/9A3/AMjyf/FV0lFHs49g9pPuznP+ED8ND/mG/wDkeT/4ql/4QTw3/wBA3/yPJ/8AFV0VFHs4dg9pPuznP+ED8NH/AJhv/keT/wCKpP8AhAfDP/QM/wDI8n/xVdJRR7OHZB7SfdnN/wDCA+Gf+gZ/5Hk/+Ko/4QLwz/0Df/I8n/xVdJRR7OHZB7SfdnOf8IH4a/6Bv/keT/4qj/hA/DX/AEDf/I8n/wAVXR0Uezh2Qe0n3Zzf/CBeGf8AoG/+R5P/AIqj/hAvDP8A0DP/ACPJ/wDFV0lFHs4dg9pPuzm/+EB8M/8AQM/8jyf/ABVJ/wAIB4Y/6Bn/AJHk/wDiq6Wij2cOwe0n3Zzf/CBeGf8AoG/+R5P/AIql/wCED8Nf9A3/AMjyf/FV0dFHs4dkHtJ92c7/AMIL4b/6B3/keT/4qj/hBPDZ/wCYb/5Hk/8Aiq6Kij2cOyD2k+7Ob/4QLwyf+Yb/AOR5P/iqP+EB8M/9Az/yPJ/8VXSUUezh2Qe0n3Zzg8B+Gh003/yPJ/8AFUf8IH4a/wCgb/5Hk/8Aiq6Oij2cOyD2k+7Oc/4QTw1/0Df/ACPJ/wDFUv8Awgvhv/oHf+R5P/iq6Kij2cOyD2k+7Od/4QXw3/0Dv/I8n/xVH/CC+G/+gb/5Hk/+KroqKPZw7IPaT7s5w+A/DR/5hv8A5Hk/+KpP+EB8M/8AQM/8jyf/ABVdJRR7OHYPaT7s5r/hAPDH/QM/8jy//FUf8IB4Y/6Bn/keT/4quloo9nDsHtJ92UdL0ix0W1a20+DyYWcyFd7NliAM5JPYCr1FFUlbREtt6s//2Q==\" />\n",
       "    <p style=\"width:256px; margin:10px; font-size:small;\">text: put the cat on base in the detailed street sweeper &lt;loc0168&gt;&lt;loc0118&gt;&lt;loc0047&gt;&lt;seg048&gt;&lt;seg082&gt;&lt;seg095&gt;</br></br>label: &lt;loc0192&gt;&lt;loc0285&gt;&lt;loc0060&gt;&lt;seg054&gt;&lt;seg089&gt;&lt;seg107&gt;&lt;loc0141&gt;&lt;loc0279&gt;&lt;loc0056&gt;&lt;seg054&gt;&lt;seg089&gt;&lt;seg107&gt;</p>\n",
       "</div>\n",
       "\n",
       "<div style=\"display: inline-flex; align-items: center; justify-content: center;\">\n",
       "    <img style=\"width:224px; height:224px;\" src=\"data:image/jpeg;base64,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\" />\n",
       "    <p style=\"width:256px; margin:10px; font-size:small;\">text: put the spherical yellow emoticon in the textured green grenade &lt;loc0231&gt;&lt;loc0183&gt;&lt;loc0042&gt;&lt;seg063&gt;&lt;seg028&gt;&lt;seg011&gt;</br></br>label: &lt;loc0399&gt;&lt;loc0350&gt;&lt;loc0040&gt;&lt;seg056&gt;&lt;seg096&gt;&lt;seg109&gt;&lt;loc0211&gt;&lt;loc0343&gt;&lt;loc0062&gt;&lt;seg056&gt;&lt;seg096&gt;&lt;seg109&gt;</p>\n",
       "</div>\n"
      ],
      "text/plain": [
       "<IPython.core.display.HTML object>"
      ]
     },
     "metadata": {},
     "output_type": "display_data"
    }
   ],
   "source": [
    "from cvla.utils_vis import render_example\n",
    "import matplotlib.pyplot as plt\n",
    "from cvla.utils_traj_tokens import getActionEncInstance\n",
    "\n",
    "enc = getActionEncInstance(\"xyzrotvec-cam-512xy\")\n",
    "num_samples = 3*2\n",
    "html_imgs = \"\"\n",
    "for i in range(num_samples):\n",
    "    image, sample = train_dataset[i]\n",
    "    prefix = sample[\"prefix\"]\n",
    "    #html_imgs += render_example(image[0], label=sample[\"suffix\"], text=prefix, camera=sample[\"camera\"])\n",
    "    #html_imgs += render_example(image[1], label=sample[\"suffix\"], text=prefix, camera=sample[\"camera\"])\n",
    "    html_imgs += render_example(image, label=sample[\"suffix\"], enc=enc, text=prefix, camera=sample[\"camera\"])\n",
    "\n",
    "plot_images = True\n",
    "if plot_images:\n",
    "    from IPython.display import display, HTML\n",
    "    display(HTML(html_imgs))\n",
    "    "
   ]
  },
  {
   "cell_type": "markdown",
   "metadata": {
    "id": "_ZvYNxYbBtE3"
   },
   "source": [
    "### Load PaliGemma2 model\n",
    "\n",
    "**NOTE:** PaliGemma2 offers 9 pre-trained models with sizes of `3B`, `10B`, and `28B` parameters, and resolutions of `224`, `448`, and `896` pixels. In this tutorial, I'll be using the [`google/paligemma2-3b-pt-448`](https://huggingface.co/google/paligemma2-3b-pt-448) checkpoint. Resolution has a key impact on the mAP of the trained model, and it seems that `448` offers the most optimal balance between performance and compute resources required to train the model."
   ]
  },
  {
   "cell_type": "code",
   "execution_count": null,
   "metadata": {
    "colab": {
     "base_uri": "https://localhost:8080/",
     "height": 17,
     "referenced_widgets": [
      "a5cd856a1fbf413a9aa4edff7cf3e636",
      "23be9405ad7f4cd8817db36f2f3834dd",
      "2e2e11bda8024f97868d45598bff6dc8",
      "11a966b75e124f369844afda5db25ab6",
      "37650cf71172405392ab843fd82360c3",
      "4fc0f4ab93ff4fddb482a8d6820b1253",
      "cda1f28093f04b1ca2e3689d1e314e10",
      "972c99a291d24b9f96ea09df63d5cf4b",
      "83aa606372b848659e13d683fa2fe09e",
      "3c26b58a776346f2920f810d99b21545",
      "fc9c7ae18f7341598a741ee8811896ff",
      "632c3fbb8739429b875687049eb1cf61",
      "7aeec69c06b049738c1fae480103cb1d",
      "c4e5a6e67ec3443fb73bfa86a27df704",
      "9355cb34cea948909504c1144169b693",
      "7a294c9159804eb388a2d7fe67f2920e",
      "7877bed5b8144f78a5a3f8b33741a82b",
      "dcb6f37a97664ed8ad2a699956bd772b",
      "ee2fa3db801344ba8564f700ca5ee2c5",
      "d5b373e9c1fc4d078e5512764235c6ba"
     ]
    },
    "id": "VfCgxIp3EjmC",
    "outputId": "db59a5d0-440f-4ca3-c5a3-194b9e22f7bd"
   },
   "outputs": [],
   "source": [
    "# from huggingface_hub import notebook_login\n",
    "# notebook_login()"
   ]
  },
  {
   "cell_type": "code",
   "execution_count": null,
   "metadata": {
    "colab": {
     "base_uri": "https://localhost:8080/",
     "height": 145,
     "referenced_widgets": [
      "2f877f70e9b241f08717bba2b7616198",
      "9393bb98f83e4bf1bd8becdfdfb41f12",
      "41a50a96ca224e0aa12ef142d317e762",
      "cfcdcf908ff04fa19159c98b08c851ce",
      "9165a3ed1f2d4671b089dd00cae0fdbb",
      "6873590d9ac9436facef6cb182e1c077",
      "7ef24d8b5077400b9e005b373ab8d4f1",
      "df5fb754518547b480d95ce715bcdd8b",
      "c3eddb53526e4694bbf5ee3636e1b806",
      "eaf748f0d17148eba7e6351d107c1a50",
      "625fb0f94f5546e0a643192c2bd6c40f",
      "45db0bb8841f48e38c8eb8d28c1e72b8",
      "254a4ab182234215a7aeb6873f6c62af",
      "b7c2a5216879471c982406086571af7e",
      "9db3a6d6cd9548878d0998150f897ff1",
      "3226844ff08a46dcbc982432456d496b",
      "94f8f306b995471291fc610c4f170b26",
      "b91043be62ef4965852d9dcf5faf8edc",
      "141bc95f2dcc485cb9d23f0f01d28f24",
      "a770c3f09c204bf7b879a0d72256977d",
      "545d3d664c8e49cab3270012be39a604",
      "eeb274cb895f416bb85211d8ed07c005",
      "a3be6c18dd6440e48e80a9dc70bf9c9a",
      "f6619c93a7274805bb3005b0898d5f5f",
      "ef7ffed4ac344f7aaf1f39417284f4e3",
      "eab62ec555b146f4802630f6dd38afc6",
      "3dd89974f8b74268bf295119037ab0b8",
      "b18537a50e8f4e4d9829735ea2a98596",
      "d7f77f6a75f9441b8b1231b2eec3123a",
      "9f36c016c2a24d398e84c62964c47277",
      "dce11ec58ce84d9ea0ae3ac26519e796",
      "1a33f188e7ce499ebcb96e7e1617efe4",
      "be391a3e32d04aea837517041123cece",
      "4dd7115fec054f4790524d469bb263f7",
      "b6a7688a29f74e18b9c10ca185585457",
      "ed85f01229c146a48ae86370c36fb588",
      "2e5cf178fc03434faad8539094ddce4a",
      "ae8a2d84dd28458ba68bc94553337064",
      "20f03fcb438749f5a95cd3a72246fafd",
      "6f9622e6bdb1478e99ddddd1e2257f01",
      "f6e321f3c19f41688f3b2fd84243e851",
      "52d311c2b3af4979b433a392e77b5b21",
      "bddb4ea70dab445badbd5a4b2ef66ed4",
      "e9eb6315ff8a42f4911a3cee35e8320b"
     ]
    },
    "id": "ntXj4A3SyEAa",
    "outputId": "898b4343-0089-4ee6-8a54-d1f76d39b59f"
   },
   "outputs": [],
   "source": [
    "from transformers import PaliGemmaProcessor, PaliGemmaForConditionalGeneration\n",
    "import torch\n",
    "\n",
    "# setting device on GPU if available, else CPU\n",
    "print(\"cuda visible devices:\", os.environ[\"CUDA_VISIBLE_DEVICES\"])\n",
    "devices_good = sorted((int(x) for x in os.environ[\"CUDA_VISIBLE_DEVICES\"].split(\",\")))\n",
    "DEVICE = torch.device('cuda')\n",
    "print(DEVICE)\n",
    "print('Using device:', DEVICE)\n",
    "print(\"Good devices\", devices_good)\n",
    "\n",
    "TORCH_DTYPE = torch.bfloat16\n",
    "# use checkpoint\n",
    "#LOCAL_CHECKPOINT = \"/data/lmbraid19/argusm/models/_text_lr3e-05xyzrotvec-cam-512xy256d_2025-04-23_12-03-48/checkpoint-4687\"\n",
    "\n",
    "#fine-tune directly on paligemma2\n",
    "MODEL_NAME = \"google/paligemma2-3b-pt-224\"\n",
    "\n",
    "processor = PaliGemmaProcessor.from_pretrained(\"google/paligemma2-3b-pt-224\")\n",
    "model = PaliGemmaForConditionalGeneration.from_pretrained(\n",
    "    #LOCAL_CHECKPOINT,\n",
    "    MODEL_NAME,\n",
    "    torch_dtype=TORCH_DTYPE,\n",
    "    device_map=None,\n",
    "    attn_implementation='eager'\n",
    ")\n",
    "#.to(\"cuda\") \n"
   ]
  },
  {
   "cell_type": "code",
   "execution_count": null,
   "metadata": {},
   "outputs": [],
   "source": [
    "import random\n",
    "def augment_suffix(suffix):\n",
    "    parts = suffix.split(' ; ')\n",
    "    random.shuffle(parts)\n",
    "    return ' ; '.join(parts)\n",
    "\n",
    "def collate_fn(batch):\n",
    "    images, labels = zip(*batch)\n",
    "    prefixes = [\"<image>\" + label[\"prefix\"] for label in labels]\n",
    "    suffixes = [augment_suffix(label[\"suffix\"]) for label in labels]\n",
    "\n",
    "    inputs = processor(\n",
    "        text=prefixes,\n",
    "        images=images,\n",
    "        return_tensors=\"pt\",\n",
    "        suffix=suffixes,\n",
    "        padding=\"longest\"\n",
    "    ).to(TORCH_DTYPE).to(DEVICE)\n",
    "\n",
    "    return inputs"
   ]
  },
  {
   "cell_type": "code",
   "execution_count": null,
   "metadata": {},
   "outputs": [],
   "source": [
    "'''\n",
    "def collate_fn(batch):\n",
    "    images, labels = zip(*batch)\n",
    "    prefixes = [label[\"prefix\"] for label in labels]\n",
    "    suffixes = [augment_suffix(label[\"suffix\"]) for label in labels]\n",
    "    inputs = processor(\n",
    "        text=prefixes,\n",
    "        images=list(images),\n",
    "        return_tensors=\"pt\",\n",
    "        suffix=suffixes,\n",
    "        padding=\"longest\"\n",
    "    ).to(TORCH_DTYPE)#.to(DEVICE)\n",
    "    print(\"prefixes\", prefixes)\n",
    "    return inputs\n",
    "'''\n",
    "batch = [train_dataset[i] for i in range(3)]\n",
    "inputs = collate_fn(batch)\n",
    "for x in inputs:\n",
    "    print(x, inputs[x].shape)"
   ]
  },
  {
   "cell_type": "code",
   "execution_count": null,
   "metadata": {},
   "outputs": [],
   "source": [
    "inputs[\"input_ids\"]"
   ]
  },
  {
   "cell_type": "code",
   "execution_count": null,
   "metadata": {},
   "outputs": [],
   "source": [
    "'''\n",
    "def collate_fn(batch):\n",
    "    images, labels = zip(*batch)\n",
    "    prefixes = [\"<image><image>\" + label[\"prefix\"] for label in labels]\n",
    "    suffixes = [augment_suffix(label[\"suffix\"]) for label in labels]\n",
    "    images_flat = [img for img_list_x in images for img in img_list_x]\n",
    "    inputs = processor(\n",
    "        text=prefixes,\n",
    "        images=images_flat,\n",
    "        return_tensors=\"pt\",\n",
    "        suffix=suffixes,\n",
    "        padding=\"longest\"\n",
    "    ).to(TORCH_DTYPE)\n",
    "    return inputs\n",
    "\n",
    "batch = [train_dataset[i] for i in range(3)]\n",
    "inputs = collate_fn(batch)\n",
    "for x in inputs:\n",
    "    print(x, inputs[x].shape)\n",
    "'''"
   ]
  },
  {
   "cell_type": "code",
   "execution_count": null,
   "metadata": {},
   "outputs": [],
   "source": [
    "inputs[\"input_ids\"]"
   ]
  },
  {
   "cell_type": "code",
   "execution_count": null,
   "metadata": {},
   "outputs": [],
   "source": [
    "import numpy as np\n",
    "def compute_metrics(eval_pred):\n",
    "    predictions, label_tokens = eval_pred  # Extract predictions and labels\n",
    "    if isinstance(predictions, tuple):  # Some models return tuples\n",
    "        predictions = predictions[0]\n",
    "\n",
    "    # Convert to token indices if necessary (e.g., for text generation models)\n",
    "    pred_tokens = np.argmax(predictions, axis=-1)  # Assuming logits, take argmax\n",
    "\n",
    "    pred_texts = processor.tokenizer.batch_decode(pred_tokens[:,-SEQLEN-1:], skip_special_tokens=True)\n",
    "    label_text = processor.tokenizer.batch_decode(label_tokens[:,-SEQLEN-1:], skip_special_tokens=True)\n",
    "\n",
    "    print(pred_tokens[:,-SEQLEN-1:])\n",
    "    print(label_tokens[:,-SEQLEN-1:])\n",
    "    print(label_text)\n",
    "    print(pred_texts)\n",
    "    print()\n",
    "    return {\"accuracy\": 0}"
   ]
  },
  {
   "cell_type": "markdown",
   "metadata": {},
   "source": [
    "## Fine-tune with JAX settings"
   ]
  },
  {
   "cell_type": "code",
   "execution_count": null,
   "metadata": {},
   "outputs": [],
   "source": [
    "from transformers import Seq2SeqTrainingArguments\n",
    "from transformers import Seq2SeqTrainer\n",
    "\n",
    "for param in model.vision_tower.parameters():\n",
    "    param.requires_grad = False\n",
    "\n",
    "for param in model.multi_modal_projector.parameters():\n",
    "    param.requires_grad = False\n",
    "    \n",
    "for name, param in model.named_parameters():\n",
    "    if param.requires_grad == True:\n",
    "        if \"self_attn\" in name:\n",
    "            param.requires_grad = True\n",
    "        else:\n",
    "            param.requires_grad = False\n",
    "\n",
    "TRAIN_EXAMPLES = len(train_dataset)\n",
    "BATCH_SIZE = 32\n",
    "BATCH_SIZE_DEV = 2 # on l40 was 8\n",
    "GRAD_ACCUM = int(round(BATCH_SIZE / BATCH_SIZE_DEV))\n",
    "TRAIN_STEPS = (TRAIN_EXAMPLES // BATCH_SIZE)\n",
    "SEQLEN = 12\n",
    "SAVE_STEPS = int(TRAIN_STEPS / 15)\n",
    "SAVE_LIMIT = 5\n",
    "\n",
    "run_name = \"_topview_70000_baseline\"\n",
    "new_model_location = Path(\"/work/dlclarge2/zhangj-zhangj-CFM/models\")\n",
    "save_path = new_model_location / (str(Path(dataset_location).stem) + run_name)\n",
    "print(\"save_path\", save_path)\n",
    "print(\"TRAIN_STEPS\",TRAIN_STEPS)\n",
    "print(\"GRAD_ACCUM\", GRAD_ACCUM)\n",
    "\n",
    "args_jax = Seq2SeqTrainingArguments(\n",
    "    max_steps=TRAIN_STEPS,\n",
    "    remove_unused_columns=False,\n",
    "    per_device_train_batch_size=BATCH_SIZE_DEV,\n",
    "    gradient_accumulation_steps=GRAD_ACCUM,\n",
    "    learning_rate=3e-5,  # 1e-5, 2e-5,\n",
    "    lr_scheduler_type=\"cosine\",\n",
    "    warmup_ratio=.05,\n",
    "    generation_max_length=SEQLEN,\n",
    "    logging_steps=10,\n",
    "    optim=\"adafactor\",\n",
    "    save_strategy=\"steps\",\n",
    "    save_steps=SAVE_STEPS,\n",
    "    save_total_limit=SAVE_LIMIT,\n",
    "    output_dir=save_path,\n",
    "    bf16=True,\n",
    "    report_to=[\"tensorboard\"],\n",
    "    dataloader_pin_memory=False,\n",
    "    dataloader_num_workers=0,\n",
    "    #dataloader_prefetch_factor=2,\n",
    "    #eval_strategy=\"steps\",\n",
    "    #eval_steps=4,\n",
    "    #per_device_eval_batch_size=BATCH_SIZE_DEV,\n",
    "    #eval_accumulation_steps=GRAD_ACCUM\n",
    ")\n",
    "#gradient_checkpointing=True,\n",
    "#weight_decay=3e-7,\n",
    "\n",
    "trainer = Seq2SeqTrainer(\n",
    "    model=model,\n",
    "    train_dataset=train_dataset,\n",
    "    #eval_dataset=train_dataset_small,\n",
    "    data_collator=collate_fn,\n",
    "    args=args_jax,\n",
    "    #compute_metrics=compute_metrics\n",
    ")"
   ]
  },
  {
   "cell_type": "code",
   "execution_count": null,
   "metadata": {},
   "outputs": [],
   "source": [
    "#only when recover from last time training\n",
    "#last_checkpoint = \"/work/dlclarge2/zhangj-zhangj-CFM/models/training2_topview_70000_based/checkpoint-183\"\n",
    "#trainer.train(resume_from_checkpoint=last_checkpoint)\n"
   ]
  },
  {
   "cell_type": "code",
   "execution_count": null,
   "metadata": {},
   "outputs": [],
   "source": [
    "for key, value in inputs.items():\n",
    "    if torch.is_tensor(value):\n",
    "        inputs[key] = value.to(DEVICE)"
   ]
  },
  {
   "cell_type": "code",
   "execution_count": 11,
   "metadata": {},
   "outputs": [
    {
     "ename": "OutOfMemoryError",
     "evalue": "CUDA out of memory. Tried to allocate 564.00 MiB. GPU 0 has a total capacity of 10.57 GiB of which 495.12 MiB is free. Including non-PyTorch memory, this process has 10.08 GiB memory in use. Of the allocated memory 9.37 GiB is allocated by PyTorch, and 535.15 MiB is reserved by PyTorch but unallocated. If reserved but unallocated memory is large try setting PYTORCH_CUDA_ALLOC_CONF=expandable_segments:True to avoid fragmentation.  See documentation for Memory Management  (https://pytorch.org/docs/stable/notes/cuda.html#environment-variables)",
     "output_type": "error",
     "traceback": [
      "\u001b[31m---------------------------------------------------------------------------\u001b[39m",
      "\u001b[31mOutOfMemoryError\u001b[39m                          Traceback (most recent call last)",
      "\u001b[36mCell\u001b[39m\u001b[36m \u001b[39m\u001b[32mIn[11]\u001b[39m\u001b[32m, line 1\u001b[39m\n\u001b[32m----> \u001b[39m\u001b[32m1\u001b[39m \u001b[43mtrainer\u001b[49m\u001b[43m.\u001b[49m\u001b[43mtrain\u001b[49m\u001b[43m(\u001b[49m\u001b[43m)\u001b[49m\n",
      "\u001b[36mFile \u001b[39m\u001b[32m~/miniconda3/envs/mani_skill_clean/lib/python3.12/site-packages/transformers/trainer.py:2171\u001b[39m, in \u001b[36mTrainer.train\u001b[39m\u001b[34m(self, resume_from_checkpoint, trial, ignore_keys_for_eval, **kwargs)\u001b[39m\n\u001b[32m   2169\u001b[39m         hf_hub_utils.enable_progress_bars()\n\u001b[32m   2170\u001b[39m \u001b[38;5;28;01melse\u001b[39;00m:\n\u001b[32m-> \u001b[39m\u001b[32m2171\u001b[39m     \u001b[38;5;28;01mreturn\u001b[39;00m \u001b[43minner_training_loop\u001b[49m\u001b[43m(\u001b[49m\n\u001b[32m   2172\u001b[39m \u001b[43m        \u001b[49m\u001b[43margs\u001b[49m\u001b[43m=\u001b[49m\u001b[43margs\u001b[49m\u001b[43m,\u001b[49m\n\u001b[32m   2173\u001b[39m \u001b[43m        \u001b[49m\u001b[43mresume_from_checkpoint\u001b[49m\u001b[43m=\u001b[49m\u001b[43mresume_from_checkpoint\u001b[49m\u001b[43m,\u001b[49m\n\u001b[32m   2174\u001b[39m \u001b[43m        \u001b[49m\u001b[43mtrial\u001b[49m\u001b[43m=\u001b[49m\u001b[43mtrial\u001b[49m\u001b[43m,\u001b[49m\n\u001b[32m   2175\u001b[39m \u001b[43m        \u001b[49m\u001b[43mignore_keys_for_eval\u001b[49m\u001b[43m=\u001b[49m\u001b[43mignore_keys_for_eval\u001b[49m\u001b[43m,\u001b[49m\n\u001b[32m   2176\u001b[39m \u001b[43m    \u001b[49m\u001b[43m)\u001b[49m\n",
      "\u001b[36mFile \u001b[39m\u001b[32m~/miniconda3/envs/mani_skill_clean/lib/python3.12/site-packages/transformers/trainer.py:2531\u001b[39m, in \u001b[36mTrainer._inner_training_loop\u001b[39m\u001b[34m(self, batch_size, args, resume_from_checkpoint, trial, ignore_keys_for_eval)\u001b[39m\n\u001b[32m   2524\u001b[39m context = (\n\u001b[32m   2525\u001b[39m     functools.partial(\u001b[38;5;28mself\u001b[39m.accelerator.no_sync, model=model)\n\u001b[32m   2526\u001b[39m     \u001b[38;5;28;01mif\u001b[39;00m i != \u001b[38;5;28mlen\u001b[39m(batch_samples) - \u001b[32m1\u001b[39m\n\u001b[32m   2527\u001b[39m     \u001b[38;5;129;01mand\u001b[39;00m \u001b[38;5;28mself\u001b[39m.accelerator.distributed_type != DistributedType.DEEPSPEED\n\u001b[32m   2528\u001b[39m     \u001b[38;5;28;01melse\u001b[39;00m contextlib.nullcontext\n\u001b[32m   2529\u001b[39m )\n\u001b[32m   2530\u001b[39m \u001b[38;5;28;01mwith\u001b[39;00m context():\n\u001b[32m-> \u001b[39m\u001b[32m2531\u001b[39m     tr_loss_step = \u001b[38;5;28;43mself\u001b[39;49m\u001b[43m.\u001b[49m\u001b[43mtraining_step\u001b[49m\u001b[43m(\u001b[49m\u001b[43mmodel\u001b[49m\u001b[43m,\u001b[49m\u001b[43m \u001b[49m\u001b[43minputs\u001b[49m\u001b[43m,\u001b[49m\u001b[43m \u001b[49m\u001b[43mnum_items_in_batch\u001b[49m\u001b[43m)\u001b[49m\n\u001b[32m   2533\u001b[39m \u001b[38;5;28;01mif\u001b[39;00m (\n\u001b[32m   2534\u001b[39m     args.logging_nan_inf_filter\n\u001b[32m   2535\u001b[39m     \u001b[38;5;129;01mand\u001b[39;00m \u001b[38;5;129;01mnot\u001b[39;00m is_torch_xla_available()\n\u001b[32m   2536\u001b[39m     \u001b[38;5;129;01mand\u001b[39;00m (torch.isnan(tr_loss_step) \u001b[38;5;129;01mor\u001b[39;00m torch.isinf(tr_loss_step))\n\u001b[32m   2537\u001b[39m ):\n\u001b[32m   2538\u001b[39m     \u001b[38;5;66;03m# if loss is nan or inf simply add the average of previous logged losses\u001b[39;00m\n\u001b[32m   2539\u001b[39m     tr_loss = tr_loss + tr_loss / (\u001b[32m1\u001b[39m + \u001b[38;5;28mself\u001b[39m.state.global_step - \u001b[38;5;28mself\u001b[39m._globalstep_last_logged)\n",
      "\u001b[36mFile \u001b[39m\u001b[32m~/miniconda3/envs/mani_skill_clean/lib/python3.12/site-packages/transformers/trainer.py:3678\u001b[39m, in \u001b[36mTrainer.training_step\u001b[39m\u001b[34m(self, model, inputs, num_items_in_batch)\u001b[39m\n\u001b[32m   3676\u001b[39m         loss = \u001b[38;5;28mself\u001b[39m.compute_loss(model, inputs)\n\u001b[32m   3677\u001b[39m     \u001b[38;5;28;01melse\u001b[39;00m:\n\u001b[32m-> \u001b[39m\u001b[32m3678\u001b[39m         loss = \u001b[38;5;28;43mself\u001b[39;49m\u001b[43m.\u001b[49m\u001b[43mcompute_loss\u001b[49m\u001b[43m(\u001b[49m\u001b[43mmodel\u001b[49m\u001b[43m,\u001b[49m\u001b[43m \u001b[49m\u001b[43minputs\u001b[49m\u001b[43m,\u001b[49m\u001b[43m \u001b[49m\u001b[43mnum_items_in_batch\u001b[49m\u001b[43m=\u001b[49m\u001b[43mnum_items_in_batch\u001b[49m\u001b[43m)\u001b[49m\n\u001b[32m   3680\u001b[39m \u001b[38;5;28;01mdel\u001b[39;00m inputs\n\u001b[32m   3681\u001b[39m \u001b[38;5;28;01mif\u001b[39;00m (\n\u001b[32m   3682\u001b[39m     \u001b[38;5;28mself\u001b[39m.args.torch_empty_cache_steps \u001b[38;5;129;01mis\u001b[39;00m \u001b[38;5;129;01mnot\u001b[39;00m \u001b[38;5;28;01mNone\u001b[39;00m\n\u001b[32m   3683\u001b[39m     \u001b[38;5;129;01mand\u001b[39;00m \u001b[38;5;28mself\u001b[39m.state.global_step % \u001b[38;5;28mself\u001b[39m.args.torch_empty_cache_steps == \u001b[32m0\u001b[39m\n\u001b[32m   3684\u001b[39m ):\n",
      "\u001b[36mFile \u001b[39m\u001b[32m~/miniconda3/envs/mani_skill_clean/lib/python3.12/site-packages/transformers/trainer.py:3734\u001b[39m, in \u001b[36mTrainer.compute_loss\u001b[39m\u001b[34m(self, model, inputs, return_outputs, num_items_in_batch)\u001b[39m\n\u001b[32m   3732\u001b[39m         loss_kwargs[\u001b[33m\"\u001b[39m\u001b[33mnum_items_in_batch\u001b[39m\u001b[33m\"\u001b[39m] = num_items_in_batch\n\u001b[32m   3733\u001b[39m     inputs = {**inputs, **loss_kwargs}\n\u001b[32m-> \u001b[39m\u001b[32m3734\u001b[39m outputs = \u001b[43mmodel\u001b[49m\u001b[43m(\u001b[49m\u001b[43m*\u001b[49m\u001b[43m*\u001b[49m\u001b[43minputs\u001b[49m\u001b[43m)\u001b[49m\n\u001b[32m   3735\u001b[39m \u001b[38;5;66;03m# Save past state if it exists\u001b[39;00m\n\u001b[32m   3736\u001b[39m \u001b[38;5;66;03m# TODO: this needs to be fixed and made cleaner later.\u001b[39;00m\n\u001b[32m   3737\u001b[39m \u001b[38;5;28;01mif\u001b[39;00m \u001b[38;5;28mself\u001b[39m.args.past_index >= \u001b[32m0\u001b[39m:\n",
      "\u001b[36mFile \u001b[39m\u001b[32m~/miniconda3/envs/mani_skill_clean/lib/python3.12/site-packages/torch/nn/modules/module.py:1773\u001b[39m, in \u001b[36mModule._wrapped_call_impl\u001b[39m\u001b[34m(self, *args, **kwargs)\u001b[39m\n\u001b[32m   1771\u001b[39m     \u001b[38;5;28;01mreturn\u001b[39;00m \u001b[38;5;28mself\u001b[39m._compiled_call_impl(*args, **kwargs)  \u001b[38;5;66;03m# type: ignore[misc]\u001b[39;00m\n\u001b[32m   1772\u001b[39m \u001b[38;5;28;01melse\u001b[39;00m:\n\u001b[32m-> \u001b[39m\u001b[32m1773\u001b[39m     \u001b[38;5;28;01mreturn\u001b[39;00m \u001b[38;5;28;43mself\u001b[39;49m\u001b[43m.\u001b[49m\u001b[43m_call_impl\u001b[49m\u001b[43m(\u001b[49m\u001b[43m*\u001b[49m\u001b[43margs\u001b[49m\u001b[43m,\u001b[49m\u001b[43m \u001b[49m\u001b[43m*\u001b[49m\u001b[43m*\u001b[49m\u001b[43mkwargs\u001b[49m\u001b[43m)\u001b[49m\n",
      "\u001b[36mFile \u001b[39m\u001b[32m~/miniconda3/envs/mani_skill_clean/lib/python3.12/site-packages/torch/nn/modules/module.py:1784\u001b[39m, in \u001b[36mModule._call_impl\u001b[39m\u001b[34m(self, *args, **kwargs)\u001b[39m\n\u001b[32m   1779\u001b[39m \u001b[38;5;66;03m# If we don't have any hooks, we want to skip the rest of the logic in\u001b[39;00m\n\u001b[32m   1780\u001b[39m \u001b[38;5;66;03m# this function, and just call forward.\u001b[39;00m\n\u001b[32m   1781\u001b[39m \u001b[38;5;28;01mif\u001b[39;00m \u001b[38;5;129;01mnot\u001b[39;00m (\u001b[38;5;28mself\u001b[39m._backward_hooks \u001b[38;5;129;01mor\u001b[39;00m \u001b[38;5;28mself\u001b[39m._backward_pre_hooks \u001b[38;5;129;01mor\u001b[39;00m \u001b[38;5;28mself\u001b[39m._forward_hooks \u001b[38;5;129;01mor\u001b[39;00m \u001b[38;5;28mself\u001b[39m._forward_pre_hooks\n\u001b[32m   1782\u001b[39m         \u001b[38;5;129;01mor\u001b[39;00m _global_backward_pre_hooks \u001b[38;5;129;01mor\u001b[39;00m _global_backward_hooks\n\u001b[32m   1783\u001b[39m         \u001b[38;5;129;01mor\u001b[39;00m _global_forward_hooks \u001b[38;5;129;01mor\u001b[39;00m _global_forward_pre_hooks):\n\u001b[32m-> \u001b[39m\u001b[32m1784\u001b[39m     \u001b[38;5;28;01mreturn\u001b[39;00m \u001b[43mforward_call\u001b[49m\u001b[43m(\u001b[49m\u001b[43m*\u001b[49m\u001b[43margs\u001b[49m\u001b[43m,\u001b[49m\u001b[43m \u001b[49m\u001b[43m*\u001b[49m\u001b[43m*\u001b[49m\u001b[43mkwargs\u001b[49m\u001b[43m)\u001b[49m\n\u001b[32m   1786\u001b[39m result = \u001b[38;5;28;01mNone\u001b[39;00m\n\u001b[32m   1787\u001b[39m called_always_called_hooks = \u001b[38;5;28mset\u001b[39m()\n",
      "\u001b[36mFile \u001b[39m\u001b[32m~/miniconda3/envs/mani_skill_clean/lib/python3.12/site-packages/accelerate/utils/operations.py:819\u001b[39m, in \u001b[36mconvert_outputs_to_fp32.<locals>.forward\u001b[39m\u001b[34m(*args, **kwargs)\u001b[39m\n\u001b[32m    818\u001b[39m \u001b[38;5;28;01mdef\u001b[39;00m\u001b[38;5;250m \u001b[39m\u001b[34mforward\u001b[39m(*args, **kwargs):\n\u001b[32m--> \u001b[39m\u001b[32m819\u001b[39m     \u001b[38;5;28;01mreturn\u001b[39;00m \u001b[43mmodel_forward\u001b[49m\u001b[43m(\u001b[49m\u001b[43m*\u001b[49m\u001b[43margs\u001b[49m\u001b[43m,\u001b[49m\u001b[43m \u001b[49m\u001b[43m*\u001b[49m\u001b[43m*\u001b[49m\u001b[43mkwargs\u001b[49m\u001b[43m)\u001b[49m\n",
      "\u001b[36mFile \u001b[39m\u001b[32m~/miniconda3/envs/mani_skill_clean/lib/python3.12/site-packages/accelerate/utils/operations.py:807\u001b[39m, in \u001b[36mConvertOutputsToFp32.__call__\u001b[39m\u001b[34m(self, *args, **kwargs)\u001b[39m\n\u001b[32m    806\u001b[39m \u001b[38;5;28;01mdef\u001b[39;00m\u001b[38;5;250m \u001b[39m\u001b[34m__call__\u001b[39m(\u001b[38;5;28mself\u001b[39m, *args, **kwargs):\n\u001b[32m--> \u001b[39m\u001b[32m807\u001b[39m     \u001b[38;5;28;01mreturn\u001b[39;00m convert_to_fp32(\u001b[38;5;28;43mself\u001b[39;49m\u001b[43m.\u001b[49m\u001b[43mmodel_forward\u001b[49m\u001b[43m(\u001b[49m\u001b[43m*\u001b[49m\u001b[43margs\u001b[49m\u001b[43m,\u001b[49m\u001b[43m \u001b[49m\u001b[43m*\u001b[49m\u001b[43m*\u001b[49m\u001b[43mkwargs\u001b[49m\u001b[43m)\u001b[49m)\n",
      "\u001b[36mFile \u001b[39m\u001b[32m~/miniconda3/envs/mani_skill_clean/lib/python3.12/site-packages/torch/amp/autocast_mode.py:44\u001b[39m, in \u001b[36mautocast_decorator.<locals>.decorate_autocast\u001b[39m\u001b[34m(*args, **kwargs)\u001b[39m\n\u001b[32m     41\u001b[39m \u001b[38;5;129m@functools\u001b[39m.wraps(func)\n\u001b[32m     42\u001b[39m \u001b[38;5;28;01mdef\u001b[39;00m\u001b[38;5;250m \u001b[39m\u001b[34mdecorate_autocast\u001b[39m(*args, **kwargs):\n\u001b[32m     43\u001b[39m     \u001b[38;5;28;01mwith\u001b[39;00m autocast_instance:\n\u001b[32m---> \u001b[39m\u001b[32m44\u001b[39m         \u001b[38;5;28;01mreturn\u001b[39;00m \u001b[43mfunc\u001b[49m\u001b[43m(\u001b[49m\u001b[43m*\u001b[49m\u001b[43margs\u001b[49m\u001b[43m,\u001b[49m\u001b[43m \u001b[49m\u001b[43m*\u001b[49m\u001b[43m*\u001b[49m\u001b[43mkwargs\u001b[49m\u001b[43m)\u001b[49m\n",
      "\u001b[36mFile \u001b[39m\u001b[32m~/miniconda3/envs/mani_skill_clean/lib/python3.12/site-packages/transformers/models/paligemma/modeling_paligemma.py:554\u001b[39m, in \u001b[36mPaliGemmaForConditionalGeneration.forward\u001b[39m\u001b[34m(self, input_ids, pixel_values, attention_mask, position_ids, past_key_values, token_type_ids, cache_position, inputs_embeds, labels, use_cache, output_attentions, output_hidden_states, return_dict, num_logits_to_keep)\u001b[39m\n\u001b[32m    550\u001b[39m \u001b[38;5;28;01mif\u001b[39;00m attention_mask \u001b[38;5;129;01mis\u001b[39;00m \u001b[38;5;129;01mnot\u001b[39;00m \u001b[38;5;28;01mNone\u001b[39;00m:\n\u001b[32m    551\u001b[39m     \u001b[38;5;66;03m# we use the input attention mask to shift the logits and labels, because it is 2D.\u001b[39;00m\n\u001b[32m    552\u001b[39m     \u001b[38;5;66;03m# we also crop attn mask in case it is longer, which happens in PrefixTuning with peft\u001b[39;00m\n\u001b[32m    553\u001b[39m     shift_attention_mask = attention_mask[:, -shift_logits.shape[\u001b[32m1\u001b[39m] :].to(logits.device)\n\u001b[32m--> \u001b[39m\u001b[32m554\u001b[39m     shift_logits = \u001b[43mshift_logits\u001b[49m\u001b[43m[\u001b[49m\u001b[43mshift_attention_mask\u001b[49m\u001b[43m.\u001b[49m\u001b[43mto\u001b[49m\u001b[43m(\u001b[49m\u001b[43mlogits\u001b[49m\u001b[43m.\u001b[49m\u001b[43mdevice\u001b[49m\u001b[43m)\u001b[49m\u001b[43m \u001b[49m\u001b[43m!=\u001b[49m\u001b[43m \u001b[49m\u001b[32;43m0\u001b[39;49m\u001b[43m]\u001b[49m.contiguous()\n\u001b[32m    555\u001b[39m     shift_labels = shift_labels[shift_attention_mask.to(shift_labels.device) != \u001b[32m0\u001b[39m].contiguous()\n\u001b[32m    556\u001b[39m \u001b[38;5;28;01melse\u001b[39;00m:\n",
      "\u001b[31mOutOfMemoryError\u001b[39m: CUDA out of memory. Tried to allocate 564.00 MiB. GPU 0 has a total capacity of 10.57 GiB of which 495.12 MiB is free. Including non-PyTorch memory, this process has 10.08 GiB memory in use. Of the allocated memory 9.37 GiB is allocated by PyTorch, and 535.15 MiB is reserved by PyTorch but unallocated. If reserved but unallocated memory is large try setting PYTORCH_CUDA_ALLOC_CONF=expandable_segments:True to avoid fragmentation.  See documentation for Memory Management  (https://pytorch.org/docs/stable/notes/cuda.html#environment-variables)"
     ]
    }
   ],
   "source": [
    "trainer.train()"
   ]
  },
  {
   "cell_type": "code",
   "execution_count": null,
   "metadata": {},
   "outputs": [],
   "source": [
    "print(\"Model device:\", next(model.parameters()).device)\n",
    "for k, v in inputs.items():\n",
    "    if torch.is_tensor(v):\n",
    "        print(f\"  {k}: {v.device}\")\n"
   ]
  },
  {
   "cell_type": "code",
   "execution_count": null,
   "metadata": {},
   "outputs": [],
   "source": [
    "print(next(model.parameters()).device)\n",
    "print({k: v.device for k, v in inputs.items() if torch.is_tensor(v)})"
   ]
  },
  {
   "cell_type": "code",
   "execution_count": null,
   "metadata": {},
   "outputs": [],
   "source": []
  }
 ],
 "metadata": {
  "accelerator": "GPU",
  "colab": {
   "gpuType": "A100",
   "machine_shape": "hm",
   "provenance": []
  },
  "kernelspec": {
   "display_name": "Python 3 (ipykernel)",
   "language": "python",
   "name": "python3"
  },
  "language_info": {
   "codemirror_mode": {
    "name": "ipython",
    "version": 3
   },
   "file_extension": ".py",
   "mimetype": "text/x-python",
   "name": "python",
   "nbconvert_exporter": "python",
   "pygments_lexer": "ipython3",
   "version": "3.12.11"
  }
 },
 "nbformat": 4,
 "nbformat_minor": 4
}
