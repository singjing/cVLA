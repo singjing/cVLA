{
 "cells": [
  {
   "cell_type": "markdown",
   "metadata": {
    "id": "4LqvmtZPzyY1"
   },
   "source": [
    "[![Roboflow Notebooks](https://media.roboflow.com/notebooks/template/bannertest2-2.png?ik-sdk-version=javascript-1.4.3&updatedAt=1672932710194)](https://github.com/roboflow/notebooks)\n",
    "\n",
    "# Fine-tune PaliGemma2 on Object Detection Dataset\n",
    "\n",
    "---\n",
    "\n",
    "[![GitHub](https://badges.aleen42.com/src/github.svg)](https://github.com/google-research/big_vision/blob/main/big_vision/configs/proj/paligemma/README.md)\n",
    "[![arXiv](https://img.shields.io/badge/arXiv-2412.03555-b31b1b.svg)](https://arxiv.org/abs/2412.03555)\n",
    "\n",
    "PaliGemma 2 is built by combining the SigLIP-So400m vision encoder with the more recent and capable language models from the Gemma 2 family.\n",
    "\n",
    "![PaliGemma2 Figure.1](https://storage.googleapis.com/com-roboflow-marketing/notebooks/examples/paligemma2-1.png)\n",
    "\n",
    "The authors use a 3-stage training approach similar to the original PaliGemma. In stage 1, they combine the pretrained vision and language model components and train them jointly on a multimodal task mixture. In stage 2, they train the models at higher resolutions of 448px^2 and 896px^2. In stage 3, they fine-tune the models on the target transfer tasks.\n",
    "\n",
    "PaliGemma 2 models outperform the original PaliGemma at the same resolution and model size. Increasing the model size and resolution generally improves performance across a wide range of tasks, but the benefits differ depending on the task. Some tasks benefit more from increased resolution, while others benefit more from a larger language model.\n",
    "\n",
    "![PaliGemma2 Figure.2](https://storage.googleapis.com/com-roboflow-marketing/notebooks/examples/paligemma2-2.png)\n",
    "\n",
    "Notebook requires A100 with 40GB of VRAM to train."
   ]
  },
  {
   "cell_type": "markdown",
   "metadata": {
    "id": "lBp3Czz3GBmc"
   },
   "source": [
    "## Setup"
   ]
  },
  {
   "cell_type": "markdown",
   "metadata": {
    "id": "ADTkh-2y_9Yv"
   },
   "source": [
    "### Configure your API keys\n",
    "\n",
    "To fine-tune PaliGemma2, you need to provide your HuggingFace Token and Roboflow API key. Follow these steps:\n",
    "\n",
    "- Open your [`HuggingFace Settings`](https://huggingface.co/settings) page. Click `Access Tokens` then `New Token` to generate new token.\n",
    "- Go to your [`Roboflow Settings`](https://app.roboflow.com/settings/api) page. Click `Copy`. This will place your private key in the clipboard.\n",
    "- In Colab, go to the left pane and click on `Secrets` (🔑).\n",
    "    - Store HuggingFace Access Token under the name `HF_TOKEN`.\n",
    "    - Store Roboflow API Key under the name `ROBOFLOW_API_KEY`."
   ]
  },
  {
   "cell_type": "markdown",
   "metadata": {
    "id": "4wyojKiG_hX9"
   },
   "source": [
    "### Select the runtime\n",
    "\n",
    "Let's make sure that we have access to GPU. We can use `nvidia-smi` command to do that. In case of any problems navigate to `Edit` -> `Notebook settings` -> `Hardware accelerator`, set it to `T4 GPU`, and then click `Save`."
   ]
  },
  {
   "cell_type": "code",
   "execution_count": 1,
   "metadata": {
    "colab": {
     "base_uri": "https://localhost:8080/"
    },
    "id": "O_8BLW6R_x-z",
    "outputId": "678f6080-89ea-41f7-eecb-a592d1a03d82"
   },
   "outputs": [
    {
     "name": "stdout",
     "output_type": "stream",
     "text": [
      "Tue Oct 21 07:35:58 2025       \n",
      "+-----------------------------------------------------------------------------------------+\n",
      "| NVIDIA-SMI 570.133.20             Driver Version: 570.133.20     CUDA Version: 12.8     |\n",
      "|-----------------------------------------+------------------------+----------------------+\n",
      "| GPU  Name                 Persistence-M | Bus-Id          Disp.A | Volatile Uncorr. ECC |\n",
      "| Fan  Temp   Perf          Pwr:Usage/Cap |           Memory-Usage | GPU-Util  Compute M. |\n",
      "|                                         |                        |               MIG M. |\n",
      "|=========================================+========================+======================|\n",
      "|   0  NVIDIA GeForce RTX 2080 Ti     On  |   00000000:88:00.0 Off |                  N/A |\n",
      "|  0%   25C    P8             22W /  250W |       1MiB /  11264MiB |      0%      Default |\n",
      "|                                         |                        |                  N/A |\n",
      "+-----------------------------------------+------------------------+----------------------+\n",
      "                                                                                         \n",
      "+-----------------------------------------------------------------------------------------+\n",
      "| Processes:                                                                              |\n",
      "|  GPU   GI   CI              PID   Type   Process name                        GPU Memory |\n",
      "|        ID   ID                                                               Usage      |\n",
      "|=========================================================================================|\n",
      "|  No running processes found                                                             |\n",
      "+-----------------------------------------------------------------------------------------+\n"
     ]
    }
   ],
   "source": [
    "!nvidia-smi\n",
    "import os\n",
    "os.environ[\"CUDA_VISIBLE_DEVICES\"]=\"0\"   #,1\""
   ]
  },
  {
   "cell_type": "code",
   "execution_count": 2,
   "metadata": {},
   "outputs": [],
   "source": [
    "os.environ[\"TOKENIZERS_PARALLELISM\"] = \"false\""
   ]
  },
  {
   "cell_type": "markdown",
   "metadata": {
    "id": "FMlw3ru1YvLg"
   },
   "source": [
    "### Download dataset from Roboflow Universe\n",
    "\n",
    "To fine-tune PaliGemma2, prepare your dataset in JSONL format. You can use Roboflow to easily convert any dataset into this format."
   ]
  },
  {
   "cell_type": "code",
   "execution_count": 3,
   "metadata": {
    "colab": {
     "base_uri": "https://localhost:8080/"
    },
    "id": "Wtvz4QZ9YuG8",
    "outputId": "8edb179f-f6a1-421d-f50a-2ee61724415a"
   },
   "outputs": [
    {
     "name": "stdout",
     "output_type": "stream",
     "text": [
      "sending incremental file list\n",
      "sending incremental file list\n",
      "/tmp/indoorCVPR: directory\n",
      "/tmp/training2: directory\n"
     ]
    }
   ],
   "source": [
    "#!pip install -q peft bitsandbytes transformers==4.47.0 tf-keras\n",
    "!rsync -a --progress /data/lmbraid19/argusm/datasets/indoorCVPR_09.tar /tmp/ && mkdir -p /tmp/indoorCVPR && tar -xf /tmp/indoorCVPR_09.tar -C /tmp/indoorCVPR\n",
    "!rsync -a --progress /work/dlclarge2/zhangj-zhangj-CFM/data/training2 /tmp/\n",
    "!file /tmp/indoorCVPR\n",
    "!file /tmp/training2"
   ]
  },
  {
   "cell_type": "markdown",
   "metadata": {
    "id": "Cm7ElnTKvBVa"
   },
   "source": [
    "**NOTE:** Let's read the first few lines of the annotation file and examine the dataset format."
   ]
  },
  {
   "cell_type": "code",
   "execution_count": 4,
   "metadata": {
    "colab": {
     "base_uri": "https://localhost:8080/"
    },
    "id": "WLhSenP5AtQe",
    "outputId": "f6a6b7f0-6360-4eaf-8abf-bd40462af58a"
   },
   "outputs": [
    {
     "name": "stderr",
     "output_type": "stream",
     "text": [
      "/home/zhangj/miniconda3/envs/mani_skill_clean/lib/python3.12/site-packages/torch/cuda/__init__.py:63: FutureWarning: The pynvml package is deprecated. Please install nvidia-ml-py instead. If you did not install pynvml directly, please report this to the maintainers of the package that installed pynvml for you.\n",
      "  import pynvml  # type: ignore[import]\n",
      "/home/zhangj/miniconda3/envs/mani_skill_clean/lib/python3.12/site-packages/sapien/_vulkan_tricks.py:37: UserWarning: Failed to find system libvulkan. Fallback to SAPIEN builtin libvulkan.\n",
      "  warn(\"Failed to find system libvulkan. Fallback to SAPIEN builtin libvulkan.\")\n"
     ]
    },
    {
     "name": "stdout",
     "output_type": "stream",
     "text": [
      "dataset_location: /tmp/training2 samples: 88244\n"
     ]
    }
   ],
   "source": [
    "%load_ext autoreload\n",
    "%autoreload 2\n",
    "from pathlib import Path\n",
    "from cvla.data_loader_h5 import H5Dataset\n",
    "from cvla.data_loader_jsonl import JSONLDataset\n",
    "from cvla.data_augmentations import augment_image_rgb, RandomizeBackgrounds\n",
    "from cvla.data_augmentations import complexify_text, DepthAugmentation\n",
    "from cvla.data_loader_images import ImageFolderDataset\n",
    "from torchvision import transforms\n",
    "\n",
    "\n",
    "model_location = Path(\"/data/lmbraid19/argusm/models\")\n",
    "dataset_location = Path(\"/tmp/training2\")\n",
    "\n",
    "bg_image_dataset = ImageFolderDataset(\"/tmp/indoorCVPR/Images\", transform=transforms.RandomResizedCrop((448,448)))\n",
    "randomize_background = RandomizeBackgrounds(p=0.2, background_images=bg_image_dataset)\n",
    "augment_depth = DepthAugmentation(depth_range=(25, 100), max_delta_depth=35)\n",
    "train_dataset = H5Dataset(dataset_location, augment_rgb=augment_image_rgb, augment_text=complexify_text,\n",
    "                          augment_depth=augment_depth, return_depth=False,action_encoder=\"xyzrotvec-cam-512xy\")\n",
    "#augment_rgbds=randomize_background,\n",
    "\n",
    "print(\"dataset_location:\", dataset_location,\"samples:\", len(train_dataset))"
   ]
  },
  {
   "cell_type": "markdown",
   "metadata": {
    "id": "McU9159EvkeA"
   },
   "source": [
    "### Set up and test data loaders"
   ]
  },
  {
   "cell_type": "code",
   "execution_count": 5,
   "metadata": {
    "colab": {
     "base_uri": "https://localhost:8080/",
     "height": 961
    },
    "id": "19pQQjIixL-T",
    "outputId": "c59a8054-4f92-4cb0-b1cb-6a7b89e6e4b6"
   },
   "outputs": [
    {
     "name": "stdout",
     "output_type": "stream",
     "text": [
      "Warning: default action encoder is used\n",
      "Warning: default action encoder is used\n",
      "Warning: default action encoder is used\n",
      "Warning: default action encoder is used\n",
      "Warning: default action encoder is used\n",
      "Warning: default action encoder is used\n"
     ]
    },
    {
     "data": {
      "text/html": [
       "\n",
       "<div style=\"display: inline-flex; align-items: center; justify-content: center;\">\n",
       "    <img style=\"width:224px; height:224px;\" src=\"data:image/jpeg;base64,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\" />\n",
       "    <p style=\"width:256px; margin:10px; font-size:small;\">text: place the white ribbed shell inside the graffiti volkswagen van &lt;loc0516&gt;&lt;loc1023&gt;&lt;loc0044&gt;&lt;seg039&gt;&lt;seg068&gt;&lt;seg070&gt;</br></br>label: &lt;loc0656&gt;&lt;loc0509&gt;&lt;loc0058&gt;&lt;seg038&gt;&lt;seg064&gt;&lt;seg064&gt;&lt;loc0496&gt;&lt;loc0721&gt;&lt;loc0065&gt;&lt;seg038&gt;&lt;seg064&gt;&lt;seg064&gt;</p>\n",
       "</div>\n",
       "\n",
       "<div style=\"display: inline-flex; align-items: center; justify-content: center;\">\n",
       "    <img style=\"width:224px; height:224px;\" src=\"data:image/jpeg;base64,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\" />\n",
       "    <p style=\"width:256px; margin:10px; font-size:small;\">text: put the vibrant hexagonal dreidel inside the red can &lt;loc0617&gt;&lt;loc0711&gt;&lt;loc0053&gt;&lt;seg045&gt;&lt;seg079&gt;&lt;seg089&gt;</br></br>label: &lt;loc0665&gt;&lt;loc0557&gt;&lt;loc0058&gt;&lt;seg045&gt;&lt;seg080&gt;&lt;seg090&gt;&lt;loc0472&gt;&lt;loc0792&gt;&lt;loc0065&gt;&lt;seg045&gt;&lt;seg080&gt;&lt;seg090&gt;</p>\n",
       "</div>\n",
       "\n",
       "<div style=\"display: inline-flex; align-items: center; justify-content: center;\">\n",
       "    <img style=\"width:224px; height:224px;\" src=\"data:image/jpeg;base64,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\" />\n",
       "    <p style=\"width:256px; margin:10px; font-size:small;\">text: put the stylish purple eyeglasses into the rustic wooden bracket &lt;loc0543&gt;&lt;loc0723&gt;&lt;loc0049&gt;&lt;seg039&gt;&lt;seg076&gt;&lt;seg078&gt;</br></br>label: &lt;loc0729&gt;&lt;loc0799&gt;&lt;loc0059&gt;&lt;seg048&gt;&lt;seg092&gt;&lt;seg099&gt;&lt;loc0560&gt;&lt;loc1023&gt;&lt;loc0052&gt;&lt;seg048&gt;&lt;seg092&gt;&lt;seg099&gt;</p>\n",
       "</div>\n",
       "\n",
       "<div style=\"display: inline-flex; align-items: center; justify-content: center;\">\n",
       "    <img style=\"width:224px; height:224px;\" src=\"data:image/jpeg;base64,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\" />\n",
       "    <p style=\"width:256px; margin:10px; font-size:small;\">text: put the peeled orange inside the spherical plastic toy &lt;loc0561&gt;&lt;loc0297&gt;&lt;loc0039&gt;&lt;seg040&gt;&lt;seg074&gt;&lt;seg079&gt;</br></br>label: &lt;loc0655&gt;&lt;loc0299&gt;&lt;loc0062&gt;&lt;seg048&gt;&lt;seg089&gt;&lt;seg099&gt;&lt;loc0525&gt;&lt;loc0384&gt;&lt;loc0065&gt;&lt;seg048&gt;&lt;seg089&gt;&lt;seg099&gt;</p>\n",
       "</div>\n",
       "\n",
       "<div style=\"display: inline-flex; align-items: center; justify-content: center;\">\n",
       "    <img style=\"width:224px; height:224px;\" src=\"data:image/jpeg;base64,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\" />\n",
       "    <p style=\"width:256px; margin:10px; font-size:small;\">text: put the cat on base in the detailed street sweeper &lt;loc0337&gt;&lt;loc0236&gt;&lt;loc0047&gt;&lt;seg048&gt;&lt;seg082&gt;&lt;seg095&gt;</br></br>label: &lt;loc0384&gt;&lt;loc0570&gt;&lt;loc0060&gt;&lt;seg054&gt;&lt;seg089&gt;&lt;seg107&gt;&lt;loc0283&gt;&lt;loc0559&gt;&lt;loc0056&gt;&lt;seg054&gt;&lt;seg089&gt;&lt;seg107&gt;</p>\n",
       "</div>\n",
       "\n",
       "<div style=\"display: inline-flex; align-items: center; justify-content: center;\">\n",
       "    <img style=\"width:224px; height:224px;\" src=\"data:image/jpeg;base64,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\" />\n",
       "    <p style=\"width:256px; margin:10px; font-size:small;\">text: put the spherical yellow emoticon in the textured green grenade &lt;loc0462&gt;&lt;loc0366&gt;&lt;loc0042&gt;&lt;seg063&gt;&lt;seg028&gt;&lt;seg011&gt;</br></br>label: &lt;loc0798&gt;&lt;loc0701&gt;&lt;loc0040&gt;&lt;seg056&gt;&lt;seg096&gt;&lt;seg109&gt;&lt;loc0422&gt;&lt;loc0686&gt;&lt;loc0062&gt;&lt;seg056&gt;&lt;seg096&gt;&lt;seg109&gt;</p>\n",
       "</div>\n"
      ],
      "text/plain": [
       "<IPython.core.display.HTML object>"
      ]
     },
     "metadata": {},
     "output_type": "display_data"
    }
   ],
   "source": [
    "from cvla.utils_vis import render_example\n",
    "import matplotlib.pyplot as plt\n",
    "\n",
    "enc = getActionEncInstance(\"xyzrotvec-cam-512xy\")\n",
    "num_samples = 3*2\n",
    "html_imgs = \"\"\n",
    "for i in range(num_samples):\n",
    "    image, sample = train_dataset[i]\n",
    "    prefix = sample[\"prefix\"]\n",
    "    #html_imgs += render_example(image[0], label=sample[\"suffix\"], text=prefix, camera=sample[\"camera\"])\n",
    "    #html_imgs += render_example(image[1], label=sample[\"suffix\"], text=prefix, camera=sample[\"camera\"])\n",
    "    html_imgs += render_example(image, label=sample[\"suffix\"], enc=enc, text=prefix, camera=sample[\"camera\"])\n",
    "\n",
    "plot_images = True\n",
    "if plot_images:\n",
    "    from IPython.display import display, HTML\n",
    "    display(HTML(html_imgs))\n",
    "    "
   ]
  },
  {
   "cell_type": "markdown",
   "metadata": {
    "id": "_ZvYNxYbBtE3"
   },
   "source": [
    "### Load PaliGemma2 model\n",
    "\n",
    "**NOTE:** PaliGemma2 offers 9 pre-trained models with sizes of `3B`, `10B`, and `28B` parameters, and resolutions of `224`, `448`, and `896` pixels. In this tutorial, I'll be using the [`google/paligemma2-3b-pt-448`](https://huggingface.co/google/paligemma2-3b-pt-448) checkpoint. Resolution has a key impact on the mAP of the trained model, and it seems that `448` offers the most optimal balance between performance and compute resources required to train the model."
   ]
  },
  {
   "cell_type": "code",
   "execution_count": 6,
   "metadata": {
    "colab": {
     "base_uri": "https://localhost:8080/",
     "height": 17,
     "referenced_widgets": [
      "a5cd856a1fbf413a9aa4edff7cf3e636",
      "23be9405ad7f4cd8817db36f2f3834dd",
      "2e2e11bda8024f97868d45598bff6dc8",
      "11a966b75e124f369844afda5db25ab6",
      "37650cf71172405392ab843fd82360c3",
      "4fc0f4ab93ff4fddb482a8d6820b1253",
      "cda1f28093f04b1ca2e3689d1e314e10",
      "972c99a291d24b9f96ea09df63d5cf4b",
      "83aa606372b848659e13d683fa2fe09e",
      "3c26b58a776346f2920f810d99b21545",
      "fc9c7ae18f7341598a741ee8811896ff",
      "632c3fbb8739429b875687049eb1cf61",
      "7aeec69c06b049738c1fae480103cb1d",
      "c4e5a6e67ec3443fb73bfa86a27df704",
      "9355cb34cea948909504c1144169b693",
      "7a294c9159804eb388a2d7fe67f2920e",
      "7877bed5b8144f78a5a3f8b33741a82b",
      "dcb6f37a97664ed8ad2a699956bd772b",
      "ee2fa3db801344ba8564f700ca5ee2c5",
      "d5b373e9c1fc4d078e5512764235c6ba"
     ]
    },
    "id": "VfCgxIp3EjmC",
    "outputId": "db59a5d0-440f-4ca3-c5a3-194b9e22f7bd"
   },
   "outputs": [],
   "source": [
    "# from huggingface_hub import notebook_login\n",
    "# notebook_login()"
   ]
  },
  {
   "cell_type": "code",
   "execution_count": 6,
   "metadata": {
    "colab": {
     "base_uri": "https://localhost:8080/",
     "height": 145,
     "referenced_widgets": [
      "2f877f70e9b241f08717bba2b7616198",
      "9393bb98f83e4bf1bd8becdfdfb41f12",
      "41a50a96ca224e0aa12ef142d317e762",
      "cfcdcf908ff04fa19159c98b08c851ce",
      "9165a3ed1f2d4671b089dd00cae0fdbb",
      "6873590d9ac9436facef6cb182e1c077",
      "7ef24d8b5077400b9e005b373ab8d4f1",
      "df5fb754518547b480d95ce715bcdd8b",
      "c3eddb53526e4694bbf5ee3636e1b806",
      "eaf748f0d17148eba7e6351d107c1a50",
      "625fb0f94f5546e0a643192c2bd6c40f",
      "45db0bb8841f48e38c8eb8d28c1e72b8",
      "254a4ab182234215a7aeb6873f6c62af",
      "b7c2a5216879471c982406086571af7e",
      "9db3a6d6cd9548878d0998150f897ff1",
      "3226844ff08a46dcbc982432456d496b",
      "94f8f306b995471291fc610c4f170b26",
      "b91043be62ef4965852d9dcf5faf8edc",
      "141bc95f2dcc485cb9d23f0f01d28f24",
      "a770c3f09c204bf7b879a0d72256977d",
      "545d3d664c8e49cab3270012be39a604",
      "eeb274cb895f416bb85211d8ed07c005",
      "a3be6c18dd6440e48e80a9dc70bf9c9a",
      "f6619c93a7274805bb3005b0898d5f5f",
      "ef7ffed4ac344f7aaf1f39417284f4e3",
      "eab62ec555b146f4802630f6dd38afc6",
      "3dd89974f8b74268bf295119037ab0b8",
      "b18537a50e8f4e4d9829735ea2a98596",
      "d7f77f6a75f9441b8b1231b2eec3123a",
      "9f36c016c2a24d398e84c62964c47277",
      "dce11ec58ce84d9ea0ae3ac26519e796",
      "1a33f188e7ce499ebcb96e7e1617efe4",
      "be391a3e32d04aea837517041123cece",
      "4dd7115fec054f4790524d469bb263f7",
      "b6a7688a29f74e18b9c10ca185585457",
      "ed85f01229c146a48ae86370c36fb588",
      "2e5cf178fc03434faad8539094ddce4a",
      "ae8a2d84dd28458ba68bc94553337064",
      "20f03fcb438749f5a95cd3a72246fafd",
      "6f9622e6bdb1478e99ddddd1e2257f01",
      "f6e321f3c19f41688f3b2fd84243e851",
      "52d311c2b3af4979b433a392e77b5b21",
      "bddb4ea70dab445badbd5a4b2ef66ed4",
      "e9eb6315ff8a42f4911a3cee35e8320b"
     ]
    },
    "id": "ntXj4A3SyEAa",
    "outputId": "898b4343-0089-4ee6-8a54-d1f76d39b59f"
   },
   "outputs": [
    {
     "name": "stdout",
     "output_type": "stream",
     "text": [
      "cuda visible devices: 0\n",
      "cuda\n",
      "Using device: cuda\n",
      "Good devices [0]\n"
     ]
    },
    {
     "data": {
      "application/vnd.jupyter.widget-view+json": {
       "model_id": "68f36fc2667045208a1f1c5b08f920df",
       "version_major": 2,
       "version_minor": 0
      },
      "text/plain": [
       "Loading checkpoint shards:   0%|          | 0/2 [00:00<?, ?it/s]"
      ]
     },
     "metadata": {},
     "output_type": "display_data"
    }
   ],
   "source": [
    "from transformers import PaliGemmaProcessor, PaliGemmaForConditionalGeneration\n",
    "import torch\n",
    "\n",
    "# setting device on GPU if available, else CPU\n",
    "print(\"cuda visible devices:\", os.environ[\"CUDA_VISIBLE_DEVICES\"])\n",
    "devices_good = sorted((int(x) for x in os.environ[\"CUDA_VISIBLE_DEVICES\"].split(\",\")))\n",
    "DEVICE = torch.device('cuda')\n",
    "print(DEVICE)\n",
    "print('Using device:', DEVICE)\n",
    "print(\"Good devices\", devices_good)\n",
    "\n",
    "TORCH_DTYPE = torch.bfloat16\n",
    "# use checkpoint\n",
    "#LOCAL_CHECKPOINT = \"/data/lmbraid19/argusm/models/_text_lr3e-05xyzrotvec-cam-512xy256d_2025-04-23_12-03-48/checkpoint-4687\"\n",
    "\n",
    "#fine-tune directly on paligemma2\n",
    "MODEL_NAME = \"google/paligemma2-3b-pt-224\"\n",
    "\n",
    "processor = PaliGemmaProcessor.from_pretrained(\"google/paligemma2-3b-pt-224\")\n",
    "model = PaliGemmaForConditionalGeneration.from_pretrained(\n",
    "    #LOCAL_CHECKPOINT,\n",
    "    MODEL_NAME,\n",
    "    torch_dtype=TORCH_DTYPE,\n",
    "    device_map=\"auto\",\n",
    "    attn_implementation='eager'\n",
    ")\n",
    "#.to(\"cuda\") \n"
   ]
  },
  {
   "cell_type": "code",
   "execution_count": 7,
   "metadata": {},
   "outputs": [],
   "source": [
    "import random\n",
    "def augment_suffix(suffix):\n",
    "    parts = suffix.split(' ; ')\n",
    "    random.shuffle(parts)\n",
    "    return ' ; '.join(parts)\n",
    "\n",
    "def collate_fn(batch):\n",
    "    images, labels = zip(*batch)\n",
    "    prefixes = [\"<image>\" + label[\"prefix\"] for label in labels]\n",
    "    suffixes = [augment_suffix(label[\"suffix\"]) for label in labels]\n",
    "\n",
    "    inputs = processor(\n",
    "        text=prefixes,\n",
    "        images=images,\n",
    "        return_tensors=\"pt\",\n",
    "        suffix=suffixes,\n",
    "        padding=\"longest\"\n",
    "    ).to(TORCH_DTYPE).to(DEVICE)\n",
    "\n",
    "    return inputs"
   ]
  },
  {
   "cell_type": "code",
   "execution_count": 8,
   "metadata": {},
   "outputs": [
    {
     "name": "stdout",
     "output_type": "stream",
     "text": [
      "input_ids torch.Size([3, 292])\n",
      "token_type_ids torch.Size([3, 292])\n",
      "attention_mask torch.Size([3, 292])\n",
      "pixel_values torch.Size([3, 3, 224, 224])\n",
      "labels torch.Size([3, 292])\n"
     ]
    }
   ],
   "source": [
    "'''\n",
    "def collate_fn(batch):\n",
    "    images, labels = zip(*batch)\n",
    "    prefixes = [label[\"prefix\"] for label in labels]\n",
    "    suffixes = [augment_suffix(label[\"suffix\"]) for label in labels]\n",
    "    inputs = processor(\n",
    "        text=prefixes,\n",
    "        images=list(images),\n",
    "        return_tensors=\"pt\",\n",
    "        suffix=suffixes,\n",
    "        padding=\"longest\"\n",
    "    ).to(TORCH_DTYPE)#.to(DEVICE)\n",
    "    print(\"prefixes\", prefixes)\n",
    "    return inputs\n",
    "'''\n",
    "batch = [train_dataset[i] for i in range(3)]\n",
    "inputs = collate_fn(batch)\n",
    "for x in inputs:\n",
    "    print(x, inputs[x].shape)"
   ]
  },
  {
   "cell_type": "code",
   "execution_count": 14,
   "metadata": {},
   "outputs": [
    {
     "data": {
      "text/plain": [
       "tensor([[257152, 257152, 257152, 257152, 257152, 257152, 257152, 257152, 257152,\n",
       "         257152, 257152, 257152, 257152, 257152, 257152, 257152, 257152, 257152,\n",
       "         257152, 257152, 257152, 257152, 257152, 257152, 257152, 257152, 257152,\n",
       "         257152, 257152, 257152, 257152, 257152, 257152, 257152, 257152, 257152,\n",
       "         257152, 257152, 257152, 257152, 257152, 257152, 257152, 257152, 257152,\n",
       "         257152, 257152, 257152, 257152, 257152, 257152, 257152, 257152, 257152,\n",
       "         257152, 257152, 257152, 257152, 257152, 257152, 257152, 257152, 257152,\n",
       "         257152, 257152, 257152, 257152, 257152, 257152, 257152, 257152, 257152,\n",
       "         257152, 257152, 257152, 257152, 257152, 257152, 257152, 257152, 257152,\n",
       "         257152, 257152, 257152, 257152, 257152, 257152, 257152, 257152, 257152,\n",
       "         257152, 257152, 257152, 257152, 257152, 257152, 257152, 257152, 257152,\n",
       "         257152, 257152, 257152, 257152, 257152, 257152, 257152, 257152, 257152,\n",
       "         257152, 257152, 257152, 257152, 257152, 257152, 257152, 257152, 257152,\n",
       "         257152, 257152, 257152, 257152, 257152, 257152, 257152, 257152, 257152,\n",
       "         257152, 257152, 257152, 257152, 257152, 257152, 257152, 257152, 257152,\n",
       "         257152, 257152, 257152, 257152, 257152, 257152, 257152, 257152, 257152,\n",
       "         257152, 257152, 257152, 257152, 257152, 257152, 257152, 257152, 257152,\n",
       "         257152, 257152, 257152, 257152, 257152, 257152, 257152, 257152, 257152,\n",
       "         257152, 257152, 257152, 257152, 257152, 257152, 257152, 257152, 257152,\n",
       "         257152, 257152, 257152, 257152, 257152, 257152, 257152, 257152, 257152,\n",
       "         257152, 257152, 257152, 257152, 257152, 257152, 257152, 257152, 257152,\n",
       "         257152, 257152, 257152, 257152, 257152, 257152, 257152, 257152, 257152,\n",
       "         257152, 257152, 257152, 257152, 257152, 257152, 257152, 257152, 257152,\n",
       "         257152, 257152, 257152, 257152, 257152, 257152, 257152, 257152, 257152,\n",
       "         257152, 257152, 257152, 257152, 257152, 257152, 257152, 257152, 257152,\n",
       "         257152, 257152, 257152, 257152, 257152, 257152, 257152, 257152, 257152,\n",
       "         257152, 257152, 257152, 257152, 257152, 257152, 257152, 257152, 257152,\n",
       "         257152, 257152, 257152, 257152, 257152, 257152, 257152, 257152, 257152,\n",
       "         257152, 257152, 257152, 257152,      2,   1065,    573,   2674,  94764,\n",
       "          14768,    575,    573,  66635,  45839,   2237, 235248, 256516, 257023,\n",
       "         256044, 257063, 257092, 257094,    108, 256656, 256509, 256058, 257062,\n",
       "         257088, 257088, 256496, 256721, 256065, 257062, 257088, 257088,      1],\n",
       "        [257152, 257152, 257152, 257152, 257152, 257152, 257152, 257152, 257152,\n",
       "         257152, 257152, 257152, 257152, 257152, 257152, 257152, 257152, 257152,\n",
       "         257152, 257152, 257152, 257152, 257152, 257152, 257152, 257152, 257152,\n",
       "         257152, 257152, 257152, 257152, 257152, 257152, 257152, 257152, 257152,\n",
       "         257152, 257152, 257152, 257152, 257152, 257152, 257152, 257152, 257152,\n",
       "         257152, 257152, 257152, 257152, 257152, 257152, 257152, 257152, 257152,\n",
       "         257152, 257152, 257152, 257152, 257152, 257152, 257152, 257152, 257152,\n",
       "         257152, 257152, 257152, 257152, 257152, 257152, 257152, 257152, 257152,\n",
       "         257152, 257152, 257152, 257152, 257152, 257152, 257152, 257152, 257152,\n",
       "         257152, 257152, 257152, 257152, 257152, 257152, 257152, 257152, 257152,\n",
       "         257152, 257152, 257152, 257152, 257152, 257152, 257152, 257152, 257152,\n",
       "         257152, 257152, 257152, 257152, 257152, 257152, 257152, 257152, 257152,\n",
       "         257152, 257152, 257152, 257152, 257152, 257152, 257152, 257152, 257152,\n",
       "         257152, 257152, 257152, 257152, 257152, 257152, 257152, 257152, 257152,\n",
       "         257152, 257152, 257152, 257152, 257152, 257152, 257152, 257152, 257152,\n",
       "         257152, 257152, 257152, 257152, 257152, 257152, 257152, 257152, 257152,\n",
       "         257152, 257152, 257152, 257152, 257152, 257152, 257152, 257152, 257152,\n",
       "         257152, 257152, 257152, 257152, 257152, 257152, 257152, 257152, 257152,\n",
       "         257152, 257152, 257152, 257152, 257152, 257152, 257152, 257152, 257152,\n",
       "         257152, 257152, 257152, 257152, 257152, 257152, 257152, 257152, 257152,\n",
       "         257152, 257152, 257152, 257152, 257152, 257152, 257152, 257152, 257152,\n",
       "         257152, 257152, 257152, 257152, 257152, 257152, 257152, 257152, 257152,\n",
       "         257152, 257152, 257152, 257152, 257152, 257152, 257152, 257152, 257152,\n",
       "         257152, 257152, 257152, 257152, 257152, 257152, 257152, 257152, 257152,\n",
       "         257152, 257152, 257152, 257152, 257152, 257152, 257152, 257152, 257152,\n",
       "         257152, 257152, 257152, 257152, 257152, 257152, 257152, 257152, 257152,\n",
       "         257152, 257152, 257152, 257152, 257152, 257152, 257152, 257152, 257152,\n",
       "         257152, 257152, 257152, 257152, 257152, 257152, 257152, 257152, 257152,\n",
       "         257152, 257152, 257152, 257152,      2,   3531,    573,  42536, 103726,\n",
       "          18323,  19310,    575,    573,   3118,    798, 235248, 256617, 256711,\n",
       "         256053, 257069, 257103, 257113,    108, 256665, 256557, 256058, 257069,\n",
       "         257104, 257114, 256472, 256792, 256065, 257069, 257104, 257114,      1],\n",
       "        [257152, 257152, 257152, 257152, 257152, 257152, 257152, 257152, 257152,\n",
       "         257152, 257152, 257152, 257152, 257152, 257152, 257152, 257152, 257152,\n",
       "         257152, 257152, 257152, 257152, 257152, 257152, 257152, 257152, 257152,\n",
       "         257152, 257152, 257152, 257152, 257152, 257152, 257152, 257152, 257152,\n",
       "         257152, 257152, 257152, 257152, 257152, 257152, 257152, 257152, 257152,\n",
       "         257152, 257152, 257152, 257152, 257152, 257152, 257152, 257152, 257152,\n",
       "         257152, 257152, 257152, 257152, 257152, 257152, 257152, 257152, 257152,\n",
       "         257152, 257152, 257152, 257152, 257152, 257152, 257152, 257152, 257152,\n",
       "         257152, 257152, 257152, 257152, 257152, 257152, 257152, 257152, 257152,\n",
       "         257152, 257152, 257152, 257152, 257152, 257152, 257152, 257152, 257152,\n",
       "         257152, 257152, 257152, 257152, 257152, 257152, 257152, 257152, 257152,\n",
       "         257152, 257152, 257152, 257152, 257152, 257152, 257152, 257152, 257152,\n",
       "         257152, 257152, 257152, 257152, 257152, 257152, 257152, 257152, 257152,\n",
       "         257152, 257152, 257152, 257152, 257152, 257152, 257152, 257152, 257152,\n",
       "         257152, 257152, 257152, 257152, 257152, 257152, 257152, 257152, 257152,\n",
       "         257152, 257152, 257152, 257152, 257152, 257152, 257152, 257152, 257152,\n",
       "         257152, 257152, 257152, 257152, 257152, 257152, 257152, 257152, 257152,\n",
       "         257152, 257152, 257152, 257152, 257152, 257152, 257152, 257152, 257152,\n",
       "         257152, 257152, 257152, 257152, 257152, 257152, 257152, 257152, 257152,\n",
       "         257152, 257152, 257152, 257152, 257152, 257152, 257152, 257152, 257152,\n",
       "         257152, 257152, 257152, 257152, 257152, 257152, 257152, 257152, 257152,\n",
       "         257152, 257152, 257152, 257152, 257152, 257152, 257152, 257152, 257152,\n",
       "         257152, 257152, 257152, 257152, 257152, 257152, 257152, 257152, 257152,\n",
       "         257152, 257152, 257152, 257152, 257152, 257152, 257152, 257152, 257152,\n",
       "         257152, 257152, 257152, 257152, 257152, 257152, 257152, 257152, 257152,\n",
       "         257152, 257152, 257152, 257152, 257152, 257152, 257152, 257152, 257152,\n",
       "         257152, 257152, 257152, 257152, 257152, 257152, 257152, 257152, 257152,\n",
       "         257152, 257152, 257152, 257152, 257152, 257152, 257152, 257152, 257152,\n",
       "         257152, 257152, 257152, 257152,      2,   1065,    573,  31612,  15811,\n",
       "         158348,   1280,    573,  47074,  11769,  38799, 235248, 256543, 256723,\n",
       "         256049, 257063, 257100, 257102,    108, 256729, 256799, 256059, 257072,\n",
       "         257116, 257123, 256560, 257023, 256052, 257072, 257116, 257123,      1]],\n",
       "       device='cuda:0')"
      ]
     },
     "execution_count": 14,
     "metadata": {},
     "output_type": "execute_result"
    }
   ],
   "source": [
    "inputs[\"input_ids\"]"
   ]
  },
  {
   "cell_type": "code",
   "execution_count": 11,
   "metadata": {},
   "outputs": [
    {
     "data": {
      "text/plain": [
       "'\\ndef collate_fn(batch):\\n    images, labels = zip(*batch)\\n    prefixes = [\"<image><image>\" + label[\"prefix\"] for label in labels]\\n    suffixes = [augment_suffix(label[\"suffix\"]) for label in labels]\\n    images_flat = [img for img_list_x in images for img in img_list_x]\\n    inputs = processor(\\n        text=prefixes,\\n        images=images_flat,\\n        return_tensors=\"pt\",\\n        suffix=suffixes,\\n        padding=\"longest\"\\n    ).to(TORCH_DTYPE)\\n    return inputs\\n\\nbatch = [train_dataset[i] for i in range(3)]\\ninputs = collate_fn(batch)\\nfor x in inputs:\\n    print(x, inputs[x].shape)\\n'"
      ]
     },
     "execution_count": 11,
     "metadata": {},
     "output_type": "execute_result"
    }
   ],
   "source": [
    "'''\n",
    "def collate_fn(batch):\n",
    "    images, labels = zip(*batch)\n",
    "    prefixes = [\"<image><image>\" + label[\"prefix\"] for label in labels]\n",
    "    suffixes = [augment_suffix(label[\"suffix\"]) for label in labels]\n",
    "    images_flat = [img for img_list_x in images for img in img_list_x]\n",
    "    inputs = processor(\n",
    "        text=prefixes,\n",
    "        images=images_flat,\n",
    "        return_tensors=\"pt\",\n",
    "        suffix=suffixes,\n",
    "        padding=\"longest\"\n",
    "    ).to(TORCH_DTYPE)\n",
    "    return inputs\n",
    "\n",
    "batch = [train_dataset[i] for i in range(3)]\n",
    "inputs = collate_fn(batch)\n",
    "for x in inputs:\n",
    "    print(x, inputs[x].shape)\n",
    "'''"
   ]
  },
  {
   "cell_type": "code",
   "execution_count": 12,
   "metadata": {},
   "outputs": [
    {
     "data": {
      "text/plain": [
       "tensor([[257152, 257152, 257152, 257152, 257152, 257152, 257152, 257152, 257152,\n",
       "         257152, 257152, 257152, 257152, 257152, 257152, 257152, 257152, 257152,\n",
       "         257152, 257152, 257152, 257152, 257152, 257152, 257152, 257152, 257152,\n",
       "         257152, 257152, 257152, 257152, 257152, 257152, 257152, 257152, 257152,\n",
       "         257152, 257152, 257152, 257152, 257152, 257152, 257152, 257152, 257152,\n",
       "         257152, 257152, 257152, 257152, 257152, 257152, 257152, 257152, 257152,\n",
       "         257152, 257152, 257152, 257152, 257152, 257152, 257152, 257152, 257152,\n",
       "         257152, 257152, 257152, 257152, 257152, 257152, 257152, 257152, 257152,\n",
       "         257152, 257152, 257152, 257152, 257152, 257152, 257152, 257152, 257152,\n",
       "         257152, 257152, 257152, 257152, 257152, 257152, 257152, 257152, 257152,\n",
       "         257152, 257152, 257152, 257152, 257152, 257152, 257152, 257152, 257152,\n",
       "         257152, 257152, 257152, 257152, 257152, 257152, 257152, 257152, 257152,\n",
       "         257152, 257152, 257152, 257152, 257152, 257152, 257152, 257152, 257152,\n",
       "         257152, 257152, 257152, 257152, 257152, 257152, 257152, 257152, 257152,\n",
       "         257152, 257152, 257152, 257152, 257152, 257152, 257152, 257152, 257152,\n",
       "         257152, 257152, 257152, 257152, 257152, 257152, 257152, 257152, 257152,\n",
       "         257152, 257152, 257152, 257152, 257152, 257152, 257152, 257152, 257152,\n",
       "         257152, 257152, 257152, 257152, 257152, 257152, 257152, 257152, 257152,\n",
       "         257152, 257152, 257152, 257152, 257152, 257152, 257152, 257152, 257152,\n",
       "         257152, 257152, 257152, 257152, 257152, 257152, 257152, 257152, 257152,\n",
       "         257152, 257152, 257152, 257152, 257152, 257152, 257152, 257152, 257152,\n",
       "         257152, 257152, 257152, 257152, 257152, 257152, 257152, 257152, 257152,\n",
       "         257152, 257152, 257152, 257152, 257152, 257152, 257152, 257152, 257152,\n",
       "         257152, 257152, 257152, 257152, 257152, 257152, 257152, 257152, 257152,\n",
       "         257152, 257152, 257152, 257152, 257152, 257152, 257152, 257152, 257152,\n",
       "         257152, 257152, 257152, 257152, 257152, 257152, 257152, 257152, 257152,\n",
       "         257152, 257152, 257152, 257152, 257152, 257152, 257152, 257152, 257152,\n",
       "         257152, 257152, 257152, 257152, 257152, 257152, 257152, 257152, 257152,\n",
       "         257152, 257152, 257152, 257152,      2,   1065,    573,   2674,  94764,\n",
       "          14768,   5580,    573,  66635,  45839,   2237, 235248, 256516, 257023,\n",
       "         256044, 257063, 257092, 257094,    108, 256656, 256509, 256058, 257062,\n",
       "         257088, 257088, 256496, 256721, 256065, 257062, 257088, 257088,      1],\n",
       "        [257152, 257152, 257152, 257152, 257152, 257152, 257152, 257152, 257152,\n",
       "         257152, 257152, 257152, 257152, 257152, 257152, 257152, 257152, 257152,\n",
       "         257152, 257152, 257152, 257152, 257152, 257152, 257152, 257152, 257152,\n",
       "         257152, 257152, 257152, 257152, 257152, 257152, 257152, 257152, 257152,\n",
       "         257152, 257152, 257152, 257152, 257152, 257152, 257152, 257152, 257152,\n",
       "         257152, 257152, 257152, 257152, 257152, 257152, 257152, 257152, 257152,\n",
       "         257152, 257152, 257152, 257152, 257152, 257152, 257152, 257152, 257152,\n",
       "         257152, 257152, 257152, 257152, 257152, 257152, 257152, 257152, 257152,\n",
       "         257152, 257152, 257152, 257152, 257152, 257152, 257152, 257152, 257152,\n",
       "         257152, 257152, 257152, 257152, 257152, 257152, 257152, 257152, 257152,\n",
       "         257152, 257152, 257152, 257152, 257152, 257152, 257152, 257152, 257152,\n",
       "         257152, 257152, 257152, 257152, 257152, 257152, 257152, 257152, 257152,\n",
       "         257152, 257152, 257152, 257152, 257152, 257152, 257152, 257152, 257152,\n",
       "         257152, 257152, 257152, 257152, 257152, 257152, 257152, 257152, 257152,\n",
       "         257152, 257152, 257152, 257152, 257152, 257152, 257152, 257152, 257152,\n",
       "         257152, 257152, 257152, 257152, 257152, 257152, 257152, 257152, 257152,\n",
       "         257152, 257152, 257152, 257152, 257152, 257152, 257152, 257152, 257152,\n",
       "         257152, 257152, 257152, 257152, 257152, 257152, 257152, 257152, 257152,\n",
       "         257152, 257152, 257152, 257152, 257152, 257152, 257152, 257152, 257152,\n",
       "         257152, 257152, 257152, 257152, 257152, 257152, 257152, 257152, 257152,\n",
       "         257152, 257152, 257152, 257152, 257152, 257152, 257152, 257152, 257152,\n",
       "         257152, 257152, 257152, 257152, 257152, 257152, 257152, 257152, 257152,\n",
       "         257152, 257152, 257152, 257152, 257152, 257152, 257152, 257152, 257152,\n",
       "         257152, 257152, 257152, 257152, 257152, 257152, 257152, 257152, 257152,\n",
       "         257152, 257152, 257152, 257152, 257152, 257152, 257152, 257152, 257152,\n",
       "         257152, 257152, 257152, 257152, 257152, 257152, 257152, 257152, 257152,\n",
       "         257152, 257152, 257152, 257152, 257152, 257152, 257152, 257152, 257152,\n",
       "         257152, 257152, 257152, 257152, 257152, 257152, 257152, 257152, 257152,\n",
       "         257152, 257152, 257152, 257152,      2,   3531,    573,  42536, 103726,\n",
       "          18323,  19310,   5580,    573,   3118,    798, 235248, 256617, 256711,\n",
       "         256053, 257069, 257103, 257113,    108, 256665, 256557, 256058, 257069,\n",
       "         257104, 257114, 256472, 256792, 256065, 257069, 257104, 257114,      1],\n",
       "        [257152, 257152, 257152, 257152, 257152, 257152, 257152, 257152, 257152,\n",
       "         257152, 257152, 257152, 257152, 257152, 257152, 257152, 257152, 257152,\n",
       "         257152, 257152, 257152, 257152, 257152, 257152, 257152, 257152, 257152,\n",
       "         257152, 257152, 257152, 257152, 257152, 257152, 257152, 257152, 257152,\n",
       "         257152, 257152, 257152, 257152, 257152, 257152, 257152, 257152, 257152,\n",
       "         257152, 257152, 257152, 257152, 257152, 257152, 257152, 257152, 257152,\n",
       "         257152, 257152, 257152, 257152, 257152, 257152, 257152, 257152, 257152,\n",
       "         257152, 257152, 257152, 257152, 257152, 257152, 257152, 257152, 257152,\n",
       "         257152, 257152, 257152, 257152, 257152, 257152, 257152, 257152, 257152,\n",
       "         257152, 257152, 257152, 257152, 257152, 257152, 257152, 257152, 257152,\n",
       "         257152, 257152, 257152, 257152, 257152, 257152, 257152, 257152, 257152,\n",
       "         257152, 257152, 257152, 257152, 257152, 257152, 257152, 257152, 257152,\n",
       "         257152, 257152, 257152, 257152, 257152, 257152, 257152, 257152, 257152,\n",
       "         257152, 257152, 257152, 257152, 257152, 257152, 257152, 257152, 257152,\n",
       "         257152, 257152, 257152, 257152, 257152, 257152, 257152, 257152, 257152,\n",
       "         257152, 257152, 257152, 257152, 257152, 257152, 257152, 257152, 257152,\n",
       "         257152, 257152, 257152, 257152, 257152, 257152, 257152, 257152, 257152,\n",
       "         257152, 257152, 257152, 257152, 257152, 257152, 257152, 257152, 257152,\n",
       "         257152, 257152, 257152, 257152, 257152, 257152, 257152, 257152, 257152,\n",
       "         257152, 257152, 257152, 257152, 257152, 257152, 257152, 257152, 257152,\n",
       "         257152, 257152, 257152, 257152, 257152, 257152, 257152, 257152, 257152,\n",
       "         257152, 257152, 257152, 257152, 257152, 257152, 257152, 257152, 257152,\n",
       "         257152, 257152, 257152, 257152, 257152, 257152, 257152, 257152, 257152,\n",
       "         257152, 257152, 257152, 257152, 257152, 257152, 257152, 257152, 257152,\n",
       "         257152, 257152, 257152, 257152, 257152, 257152, 257152, 257152, 257152,\n",
       "         257152, 257152, 257152, 257152, 257152, 257152, 257152, 257152, 257152,\n",
       "         257152, 257152, 257152, 257152, 257152, 257152, 257152, 257152, 257152,\n",
       "         257152, 257152, 257152, 257152, 257152, 257152, 257152, 257152, 257152,\n",
       "         257152, 257152, 257152, 257152,      2,   1065,    573,  31612,  15811,\n",
       "         158348,    575,    573,  47074,  11769,  38799, 235248, 256543, 256723,\n",
       "         256049, 257063, 257100, 257102,    108, 256729, 256799, 256059, 257072,\n",
       "         257116, 257123, 256560, 257023, 256052, 257072, 257116, 257123,      1]])"
      ]
     },
     "execution_count": 12,
     "metadata": {},
     "output_type": "execute_result"
    }
   ],
   "source": [
    "inputs[\"input_ids\"]"
   ]
  },
  {
   "cell_type": "code",
   "execution_count": 9,
   "metadata": {},
   "outputs": [],
   "source": [
    "import numpy as np\n",
    "def compute_metrics(eval_pred):\n",
    "    predictions, label_tokens = eval_pred  # Extract predictions and labels\n",
    "    if isinstance(predictions, tuple):  # Some models return tuples\n",
    "        predictions = predictions[0]\n",
    "\n",
    "    # Convert to token indices if necessary (e.g., for text generation models)\n",
    "    pred_tokens = np.argmax(predictions, axis=-1)  # Assuming logits, take argmax\n",
    "\n",
    "    pred_texts = processor.tokenizer.batch_decode(pred_tokens[:,-SEQLEN-1:], skip_special_tokens=True)\n",
    "    label_text = processor.tokenizer.batch_decode(label_tokens[:,-SEQLEN-1:], skip_special_tokens=True)\n",
    "\n",
    "    print(pred_tokens[:,-SEQLEN-1:])\n",
    "    print(label_tokens[:,-SEQLEN-1:])\n",
    "    print(label_text)\n",
    "    print(pred_texts)\n",
    "    print()\n",
    "    return {\"accuracy\": 0}"
   ]
  },
  {
   "cell_type": "markdown",
   "metadata": {},
   "source": [
    "## Fine-tune with JAX settings"
   ]
  },
  {
   "cell_type": "code",
   "execution_count": 10,
   "metadata": {},
   "outputs": [
    {
     "name": "stdout",
     "output_type": "stream",
     "text": [
      "save_path /work/dlclarge2/zhangj-zhangj-CFM/models/training2_topview_70000_baseline\n",
      "TRAIN_STEPS 5515\n",
      "GRAD_ACCUM 8\n"
     ]
    }
   ],
   "source": [
    "from transformers import Seq2SeqTrainingArguments\n",
    "from transformers import Seq2SeqTrainer\n",
    "\n",
    "for param in model.vision_tower.parameters():\n",
    "    param.requires_grad = False\n",
    "\n",
    "for param in model.multi_modal_projector.parameters():\n",
    "    param.requires_grad = False\n",
    "    \n",
    "for name, param in model.named_parameters():\n",
    "    if param.requires_grad == True:\n",
    "        if \"self_attn\" in name:\n",
    "            param.requires_grad = True\n",
    "        else:\n",
    "            param.requires_grad = False\n",
    "\n",
    "TRAIN_EXAMPLES = len(train_dataset)\n",
    "BATCH_SIZE = 32\n",
    "BATCH_SIZE_DEV = 2 # on l40 was 8\n",
    "GRAD_ACCUM = int(round(BATCH_SIZE / BATCH_SIZE_DEV))\n",
    "TRAIN_STEPS = (TRAIN_EXAMPLES // BATCH_SIZE)\n",
    "SEQLEN = 12\n",
    "SAVE_STEPS = int(TRAIN_STEPS / 15)\n",
    "SAVE_LIMIT = 5\n",
    "\n",
    "run_name = \"_topview_70000_baseline\"\n",
    "new_model_location = Path(\"/work/dlclarge2/zhangj-zhangj-CFM/models\")\n",
    "save_path = new_model_location / (str(Path(dataset_location).stem) + run_name)\n",
    "print(\"save_path\", save_path)\n",
    "print(\"TRAIN_STEPS\",TRAIN_STEPS)\n",
    "print(\"GRAD_ACCUM\", GRAD_ACCUM)\n",
    "\n",
    "args_jax = Seq2SeqTrainingArguments(\n",
    "    max_steps=TRAIN_STEPS,\n",
    "    remove_unused_columns=False,\n",
    "    per_device_train_batch_size=BATCH_SIZE_DEV,\n",
    "    gradient_accumulation_steps=GRAD_ACCUM,\n",
    "    learning_rate=3e-5,  # 1e-5, 2e-5,\n",
    "    lr_scheduler_type=\"cosine\",\n",
    "    warmup_ratio=.05,\n",
    "    generation_max_length=SEQLEN,\n",
    "    logging_steps=10,\n",
    "    optim=\"adafactor\",\n",
    "    save_strategy=\"steps\",\n",
    "    save_steps=SAVE_STEPS,\n",
    "    save_total_limit=SAVE_LIMIT,\n",
    "    output_dir=save_path,\n",
    "    bf16=True,\n",
    "    report_to=[\"tensorboard\"],\n",
    "    dataloader_pin_memory=False,\n",
    "    dataloader_num_workers=0,\n",
    "    #dataloader_prefetch_factor=2,\n",
    "    #eval_strategy=\"steps\",\n",
    "    #eval_steps=4,\n",
    "    #per_device_eval_batch_size=BATCH_SIZE_DEV,\n",
    "    #eval_accumulation_steps=GRAD_ACCUM\n",
    ")\n",
    "#gradient_checkpointing=True,\n",
    "#weight_decay=3e-7,\n",
    "\n",
    "trainer = Seq2SeqTrainer(\n",
    "    model=model,\n",
    "    train_dataset=train_dataset,\n",
    "    #eval_dataset=train_dataset_small,\n",
    "    data_collator=collate_fn,\n",
    "    args=args_jax,\n",
    "    #compute_metrics=compute_metrics\n",
    ")"
   ]
  },
  {
   "cell_type": "code",
   "execution_count": 15,
   "metadata": {},
   "outputs": [],
   "source": [
    "#only when recover from last time training\n",
    "#last_checkpoint = \"/work/dlclarge2/zhangj-zhangj-CFM/models/training2_topview_70000_based/checkpoint-183\"\n",
    "#trainer.train(resume_from_checkpoint=last_checkpoint)\n"
   ]
  },
  {
   "cell_type": "code",
   "execution_count": 16,
   "metadata": {},
   "outputs": [],
   "source": [
    "for key, value in inputs.items():\n",
    "    if torch.is_tensor(value):\n",
    "        inputs[key] = value.to(DEVICE)"
   ]
  },
  {
   "cell_type": "code",
   "execution_count": 11,
   "metadata": {},
   "outputs": [
    {
     "ename": "OutOfMemoryError",
     "evalue": "CUDA out of memory. Tried to allocate 564.00 MiB. GPU 0 has a total capacity of 10.57 GiB of which 495.12 MiB is free. Including non-PyTorch memory, this process has 10.08 GiB memory in use. Of the allocated memory 9.37 GiB is allocated by PyTorch, and 535.15 MiB is reserved by PyTorch but unallocated. If reserved but unallocated memory is large try setting PYTORCH_CUDA_ALLOC_CONF=expandable_segments:True to avoid fragmentation.  See documentation for Memory Management  (https://pytorch.org/docs/stable/notes/cuda.html#environment-variables)",
     "output_type": "error",
     "traceback": [
      "\u001b[31m---------------------------------------------------------------------------\u001b[39m",
      "\u001b[31mOutOfMemoryError\u001b[39m                          Traceback (most recent call last)",
      "\u001b[36mCell\u001b[39m\u001b[36m \u001b[39m\u001b[32mIn[11]\u001b[39m\u001b[32m, line 1\u001b[39m\n\u001b[32m----> \u001b[39m\u001b[32m1\u001b[39m \u001b[43mtrainer\u001b[49m\u001b[43m.\u001b[49m\u001b[43mtrain\u001b[49m\u001b[43m(\u001b[49m\u001b[43m)\u001b[49m\n",
      "\u001b[36mFile \u001b[39m\u001b[32m~/miniconda3/envs/mani_skill_clean/lib/python3.12/site-packages/transformers/trainer.py:2171\u001b[39m, in \u001b[36mTrainer.train\u001b[39m\u001b[34m(self, resume_from_checkpoint, trial, ignore_keys_for_eval, **kwargs)\u001b[39m\n\u001b[32m   2169\u001b[39m         hf_hub_utils.enable_progress_bars()\n\u001b[32m   2170\u001b[39m \u001b[38;5;28;01melse\u001b[39;00m:\n\u001b[32m-> \u001b[39m\u001b[32m2171\u001b[39m     \u001b[38;5;28;01mreturn\u001b[39;00m \u001b[43minner_training_loop\u001b[49m\u001b[43m(\u001b[49m\n\u001b[32m   2172\u001b[39m \u001b[43m        \u001b[49m\u001b[43margs\u001b[49m\u001b[43m=\u001b[49m\u001b[43margs\u001b[49m\u001b[43m,\u001b[49m\n\u001b[32m   2173\u001b[39m \u001b[43m        \u001b[49m\u001b[43mresume_from_checkpoint\u001b[49m\u001b[43m=\u001b[49m\u001b[43mresume_from_checkpoint\u001b[49m\u001b[43m,\u001b[49m\n\u001b[32m   2174\u001b[39m \u001b[43m        \u001b[49m\u001b[43mtrial\u001b[49m\u001b[43m=\u001b[49m\u001b[43mtrial\u001b[49m\u001b[43m,\u001b[49m\n\u001b[32m   2175\u001b[39m \u001b[43m        \u001b[49m\u001b[43mignore_keys_for_eval\u001b[49m\u001b[43m=\u001b[49m\u001b[43mignore_keys_for_eval\u001b[49m\u001b[43m,\u001b[49m\n\u001b[32m   2176\u001b[39m \u001b[43m    \u001b[49m\u001b[43m)\u001b[49m\n",
      "\u001b[36mFile \u001b[39m\u001b[32m~/miniconda3/envs/mani_skill_clean/lib/python3.12/site-packages/transformers/trainer.py:2531\u001b[39m, in \u001b[36mTrainer._inner_training_loop\u001b[39m\u001b[34m(self, batch_size, args, resume_from_checkpoint, trial, ignore_keys_for_eval)\u001b[39m\n\u001b[32m   2524\u001b[39m context = (\n\u001b[32m   2525\u001b[39m     functools.partial(\u001b[38;5;28mself\u001b[39m.accelerator.no_sync, model=model)\n\u001b[32m   2526\u001b[39m     \u001b[38;5;28;01mif\u001b[39;00m i != \u001b[38;5;28mlen\u001b[39m(batch_samples) - \u001b[32m1\u001b[39m\n\u001b[32m   2527\u001b[39m     \u001b[38;5;129;01mand\u001b[39;00m \u001b[38;5;28mself\u001b[39m.accelerator.distributed_type != DistributedType.DEEPSPEED\n\u001b[32m   2528\u001b[39m     \u001b[38;5;28;01melse\u001b[39;00m contextlib.nullcontext\n\u001b[32m   2529\u001b[39m )\n\u001b[32m   2530\u001b[39m \u001b[38;5;28;01mwith\u001b[39;00m context():\n\u001b[32m-> \u001b[39m\u001b[32m2531\u001b[39m     tr_loss_step = \u001b[38;5;28;43mself\u001b[39;49m\u001b[43m.\u001b[49m\u001b[43mtraining_step\u001b[49m\u001b[43m(\u001b[49m\u001b[43mmodel\u001b[49m\u001b[43m,\u001b[49m\u001b[43m \u001b[49m\u001b[43minputs\u001b[49m\u001b[43m,\u001b[49m\u001b[43m \u001b[49m\u001b[43mnum_items_in_batch\u001b[49m\u001b[43m)\u001b[49m\n\u001b[32m   2533\u001b[39m \u001b[38;5;28;01mif\u001b[39;00m (\n\u001b[32m   2534\u001b[39m     args.logging_nan_inf_filter\n\u001b[32m   2535\u001b[39m     \u001b[38;5;129;01mand\u001b[39;00m \u001b[38;5;129;01mnot\u001b[39;00m is_torch_xla_available()\n\u001b[32m   2536\u001b[39m     \u001b[38;5;129;01mand\u001b[39;00m (torch.isnan(tr_loss_step) \u001b[38;5;129;01mor\u001b[39;00m torch.isinf(tr_loss_step))\n\u001b[32m   2537\u001b[39m ):\n\u001b[32m   2538\u001b[39m     \u001b[38;5;66;03m# if loss is nan or inf simply add the average of previous logged losses\u001b[39;00m\n\u001b[32m   2539\u001b[39m     tr_loss = tr_loss + tr_loss / (\u001b[32m1\u001b[39m + \u001b[38;5;28mself\u001b[39m.state.global_step - \u001b[38;5;28mself\u001b[39m._globalstep_last_logged)\n",
      "\u001b[36mFile \u001b[39m\u001b[32m~/miniconda3/envs/mani_skill_clean/lib/python3.12/site-packages/transformers/trainer.py:3678\u001b[39m, in \u001b[36mTrainer.training_step\u001b[39m\u001b[34m(self, model, inputs, num_items_in_batch)\u001b[39m\n\u001b[32m   3676\u001b[39m         loss = \u001b[38;5;28mself\u001b[39m.compute_loss(model, inputs)\n\u001b[32m   3677\u001b[39m     \u001b[38;5;28;01melse\u001b[39;00m:\n\u001b[32m-> \u001b[39m\u001b[32m3678\u001b[39m         loss = \u001b[38;5;28;43mself\u001b[39;49m\u001b[43m.\u001b[49m\u001b[43mcompute_loss\u001b[49m\u001b[43m(\u001b[49m\u001b[43mmodel\u001b[49m\u001b[43m,\u001b[49m\u001b[43m \u001b[49m\u001b[43minputs\u001b[49m\u001b[43m,\u001b[49m\u001b[43m \u001b[49m\u001b[43mnum_items_in_batch\u001b[49m\u001b[43m=\u001b[49m\u001b[43mnum_items_in_batch\u001b[49m\u001b[43m)\u001b[49m\n\u001b[32m   3680\u001b[39m \u001b[38;5;28;01mdel\u001b[39;00m inputs\n\u001b[32m   3681\u001b[39m \u001b[38;5;28;01mif\u001b[39;00m (\n\u001b[32m   3682\u001b[39m     \u001b[38;5;28mself\u001b[39m.args.torch_empty_cache_steps \u001b[38;5;129;01mis\u001b[39;00m \u001b[38;5;129;01mnot\u001b[39;00m \u001b[38;5;28;01mNone\u001b[39;00m\n\u001b[32m   3683\u001b[39m     \u001b[38;5;129;01mand\u001b[39;00m \u001b[38;5;28mself\u001b[39m.state.global_step % \u001b[38;5;28mself\u001b[39m.args.torch_empty_cache_steps == \u001b[32m0\u001b[39m\n\u001b[32m   3684\u001b[39m ):\n",
      "\u001b[36mFile \u001b[39m\u001b[32m~/miniconda3/envs/mani_skill_clean/lib/python3.12/site-packages/transformers/trainer.py:3734\u001b[39m, in \u001b[36mTrainer.compute_loss\u001b[39m\u001b[34m(self, model, inputs, return_outputs, num_items_in_batch)\u001b[39m\n\u001b[32m   3732\u001b[39m         loss_kwargs[\u001b[33m\"\u001b[39m\u001b[33mnum_items_in_batch\u001b[39m\u001b[33m\"\u001b[39m] = num_items_in_batch\n\u001b[32m   3733\u001b[39m     inputs = {**inputs, **loss_kwargs}\n\u001b[32m-> \u001b[39m\u001b[32m3734\u001b[39m outputs = \u001b[43mmodel\u001b[49m\u001b[43m(\u001b[49m\u001b[43m*\u001b[49m\u001b[43m*\u001b[49m\u001b[43minputs\u001b[49m\u001b[43m)\u001b[49m\n\u001b[32m   3735\u001b[39m \u001b[38;5;66;03m# Save past state if it exists\u001b[39;00m\n\u001b[32m   3736\u001b[39m \u001b[38;5;66;03m# TODO: this needs to be fixed and made cleaner later.\u001b[39;00m\n\u001b[32m   3737\u001b[39m \u001b[38;5;28;01mif\u001b[39;00m \u001b[38;5;28mself\u001b[39m.args.past_index >= \u001b[32m0\u001b[39m:\n",
      "\u001b[36mFile \u001b[39m\u001b[32m~/miniconda3/envs/mani_skill_clean/lib/python3.12/site-packages/torch/nn/modules/module.py:1773\u001b[39m, in \u001b[36mModule._wrapped_call_impl\u001b[39m\u001b[34m(self, *args, **kwargs)\u001b[39m\n\u001b[32m   1771\u001b[39m     \u001b[38;5;28;01mreturn\u001b[39;00m \u001b[38;5;28mself\u001b[39m._compiled_call_impl(*args, **kwargs)  \u001b[38;5;66;03m# type: ignore[misc]\u001b[39;00m\n\u001b[32m   1772\u001b[39m \u001b[38;5;28;01melse\u001b[39;00m:\n\u001b[32m-> \u001b[39m\u001b[32m1773\u001b[39m     \u001b[38;5;28;01mreturn\u001b[39;00m \u001b[38;5;28;43mself\u001b[39;49m\u001b[43m.\u001b[49m\u001b[43m_call_impl\u001b[49m\u001b[43m(\u001b[49m\u001b[43m*\u001b[49m\u001b[43margs\u001b[49m\u001b[43m,\u001b[49m\u001b[43m \u001b[49m\u001b[43m*\u001b[49m\u001b[43m*\u001b[49m\u001b[43mkwargs\u001b[49m\u001b[43m)\u001b[49m\n",
      "\u001b[36mFile \u001b[39m\u001b[32m~/miniconda3/envs/mani_skill_clean/lib/python3.12/site-packages/torch/nn/modules/module.py:1784\u001b[39m, in \u001b[36mModule._call_impl\u001b[39m\u001b[34m(self, *args, **kwargs)\u001b[39m\n\u001b[32m   1779\u001b[39m \u001b[38;5;66;03m# If we don't have any hooks, we want to skip the rest of the logic in\u001b[39;00m\n\u001b[32m   1780\u001b[39m \u001b[38;5;66;03m# this function, and just call forward.\u001b[39;00m\n\u001b[32m   1781\u001b[39m \u001b[38;5;28;01mif\u001b[39;00m \u001b[38;5;129;01mnot\u001b[39;00m (\u001b[38;5;28mself\u001b[39m._backward_hooks \u001b[38;5;129;01mor\u001b[39;00m \u001b[38;5;28mself\u001b[39m._backward_pre_hooks \u001b[38;5;129;01mor\u001b[39;00m \u001b[38;5;28mself\u001b[39m._forward_hooks \u001b[38;5;129;01mor\u001b[39;00m \u001b[38;5;28mself\u001b[39m._forward_pre_hooks\n\u001b[32m   1782\u001b[39m         \u001b[38;5;129;01mor\u001b[39;00m _global_backward_pre_hooks \u001b[38;5;129;01mor\u001b[39;00m _global_backward_hooks\n\u001b[32m   1783\u001b[39m         \u001b[38;5;129;01mor\u001b[39;00m _global_forward_hooks \u001b[38;5;129;01mor\u001b[39;00m _global_forward_pre_hooks):\n\u001b[32m-> \u001b[39m\u001b[32m1784\u001b[39m     \u001b[38;5;28;01mreturn\u001b[39;00m \u001b[43mforward_call\u001b[49m\u001b[43m(\u001b[49m\u001b[43m*\u001b[49m\u001b[43margs\u001b[49m\u001b[43m,\u001b[49m\u001b[43m \u001b[49m\u001b[43m*\u001b[49m\u001b[43m*\u001b[49m\u001b[43mkwargs\u001b[49m\u001b[43m)\u001b[49m\n\u001b[32m   1786\u001b[39m result = \u001b[38;5;28;01mNone\u001b[39;00m\n\u001b[32m   1787\u001b[39m called_always_called_hooks = \u001b[38;5;28mset\u001b[39m()\n",
      "\u001b[36mFile \u001b[39m\u001b[32m~/miniconda3/envs/mani_skill_clean/lib/python3.12/site-packages/accelerate/utils/operations.py:819\u001b[39m, in \u001b[36mconvert_outputs_to_fp32.<locals>.forward\u001b[39m\u001b[34m(*args, **kwargs)\u001b[39m\n\u001b[32m    818\u001b[39m \u001b[38;5;28;01mdef\u001b[39;00m\u001b[38;5;250m \u001b[39m\u001b[34mforward\u001b[39m(*args, **kwargs):\n\u001b[32m--> \u001b[39m\u001b[32m819\u001b[39m     \u001b[38;5;28;01mreturn\u001b[39;00m \u001b[43mmodel_forward\u001b[49m\u001b[43m(\u001b[49m\u001b[43m*\u001b[49m\u001b[43margs\u001b[49m\u001b[43m,\u001b[49m\u001b[43m \u001b[49m\u001b[43m*\u001b[49m\u001b[43m*\u001b[49m\u001b[43mkwargs\u001b[49m\u001b[43m)\u001b[49m\n",
      "\u001b[36mFile \u001b[39m\u001b[32m~/miniconda3/envs/mani_skill_clean/lib/python3.12/site-packages/accelerate/utils/operations.py:807\u001b[39m, in \u001b[36mConvertOutputsToFp32.__call__\u001b[39m\u001b[34m(self, *args, **kwargs)\u001b[39m\n\u001b[32m    806\u001b[39m \u001b[38;5;28;01mdef\u001b[39;00m\u001b[38;5;250m \u001b[39m\u001b[34m__call__\u001b[39m(\u001b[38;5;28mself\u001b[39m, *args, **kwargs):\n\u001b[32m--> \u001b[39m\u001b[32m807\u001b[39m     \u001b[38;5;28;01mreturn\u001b[39;00m convert_to_fp32(\u001b[38;5;28;43mself\u001b[39;49m\u001b[43m.\u001b[49m\u001b[43mmodel_forward\u001b[49m\u001b[43m(\u001b[49m\u001b[43m*\u001b[49m\u001b[43margs\u001b[49m\u001b[43m,\u001b[49m\u001b[43m \u001b[49m\u001b[43m*\u001b[49m\u001b[43m*\u001b[49m\u001b[43mkwargs\u001b[49m\u001b[43m)\u001b[49m)\n",
      "\u001b[36mFile \u001b[39m\u001b[32m~/miniconda3/envs/mani_skill_clean/lib/python3.12/site-packages/torch/amp/autocast_mode.py:44\u001b[39m, in \u001b[36mautocast_decorator.<locals>.decorate_autocast\u001b[39m\u001b[34m(*args, **kwargs)\u001b[39m\n\u001b[32m     41\u001b[39m \u001b[38;5;129m@functools\u001b[39m.wraps(func)\n\u001b[32m     42\u001b[39m \u001b[38;5;28;01mdef\u001b[39;00m\u001b[38;5;250m \u001b[39m\u001b[34mdecorate_autocast\u001b[39m(*args, **kwargs):\n\u001b[32m     43\u001b[39m     \u001b[38;5;28;01mwith\u001b[39;00m autocast_instance:\n\u001b[32m---> \u001b[39m\u001b[32m44\u001b[39m         \u001b[38;5;28;01mreturn\u001b[39;00m \u001b[43mfunc\u001b[49m\u001b[43m(\u001b[49m\u001b[43m*\u001b[49m\u001b[43margs\u001b[49m\u001b[43m,\u001b[49m\u001b[43m \u001b[49m\u001b[43m*\u001b[49m\u001b[43m*\u001b[49m\u001b[43mkwargs\u001b[49m\u001b[43m)\u001b[49m\n",
      "\u001b[36mFile \u001b[39m\u001b[32m~/miniconda3/envs/mani_skill_clean/lib/python3.12/site-packages/transformers/models/paligemma/modeling_paligemma.py:554\u001b[39m, in \u001b[36mPaliGemmaForConditionalGeneration.forward\u001b[39m\u001b[34m(self, input_ids, pixel_values, attention_mask, position_ids, past_key_values, token_type_ids, cache_position, inputs_embeds, labels, use_cache, output_attentions, output_hidden_states, return_dict, num_logits_to_keep)\u001b[39m\n\u001b[32m    550\u001b[39m \u001b[38;5;28;01mif\u001b[39;00m attention_mask \u001b[38;5;129;01mis\u001b[39;00m \u001b[38;5;129;01mnot\u001b[39;00m \u001b[38;5;28;01mNone\u001b[39;00m:\n\u001b[32m    551\u001b[39m     \u001b[38;5;66;03m# we use the input attention mask to shift the logits and labels, because it is 2D.\u001b[39;00m\n\u001b[32m    552\u001b[39m     \u001b[38;5;66;03m# we also crop attn mask in case it is longer, which happens in PrefixTuning with peft\u001b[39;00m\n\u001b[32m    553\u001b[39m     shift_attention_mask = attention_mask[:, -shift_logits.shape[\u001b[32m1\u001b[39m] :].to(logits.device)\n\u001b[32m--> \u001b[39m\u001b[32m554\u001b[39m     shift_logits = \u001b[43mshift_logits\u001b[49m\u001b[43m[\u001b[49m\u001b[43mshift_attention_mask\u001b[49m\u001b[43m.\u001b[49m\u001b[43mto\u001b[49m\u001b[43m(\u001b[49m\u001b[43mlogits\u001b[49m\u001b[43m.\u001b[49m\u001b[43mdevice\u001b[49m\u001b[43m)\u001b[49m\u001b[43m \u001b[49m\u001b[43m!=\u001b[49m\u001b[43m \u001b[49m\u001b[32;43m0\u001b[39;49m\u001b[43m]\u001b[49m.contiguous()\n\u001b[32m    555\u001b[39m     shift_labels = shift_labels[shift_attention_mask.to(shift_labels.device) != \u001b[32m0\u001b[39m].contiguous()\n\u001b[32m    556\u001b[39m \u001b[38;5;28;01melse\u001b[39;00m:\n",
      "\u001b[31mOutOfMemoryError\u001b[39m: CUDA out of memory. Tried to allocate 564.00 MiB. GPU 0 has a total capacity of 10.57 GiB of which 495.12 MiB is free. Including non-PyTorch memory, this process has 10.08 GiB memory in use. Of the allocated memory 9.37 GiB is allocated by PyTorch, and 535.15 MiB is reserved by PyTorch but unallocated. If reserved but unallocated memory is large try setting PYTORCH_CUDA_ALLOC_CONF=expandable_segments:True to avoid fragmentation.  See documentation for Memory Management  (https://pytorch.org/docs/stable/notes/cuda.html#environment-variables)"
     ]
    }
   ],
   "source": [
    "trainer.train()"
   ]
  },
  {
   "cell_type": "code",
   "execution_count": null,
   "metadata": {},
   "outputs": [],
   "source": [
    "print(\"Model device:\", next(model.parameters()).device)\n",
    "for k, v in inputs.items():\n",
    "    if torch.is_tensor(v):\n",
    "        print(f\"  {k}: {v.device}\")\n"
   ]
  },
  {
   "cell_type": "code",
   "execution_count": null,
   "metadata": {},
   "outputs": [],
   "source": [
    "print(next(model.parameters()).device)\n",
    "print({k: v.device for k, v in inputs.items() if torch.is_tensor(v)})"
   ]
  },
  {
   "cell_type": "code",
   "execution_count": null,
   "metadata": {},
   "outputs": [],
   "source": []
  }
 ],
 "metadata": {
  "accelerator": "GPU",
  "colab": {
   "gpuType": "A100",
   "machine_shape": "hm",
   "provenance": []
  },
  "kernelspec": {
   "display_name": "Python 3 (ipykernel)",
   "language": "python",
   "name": "python3"
  },
  "language_info": {
   "codemirror_mode": {
    "name": "ipython",
    "version": 3
   },
   "file_extension": ".py",
   "mimetype": "text/x-python",
   "name": "python",
   "nbconvert_exporter": "python",
   "pygments_lexer": "ipython3",
   "version": "3.12.11"
  }
 },
 "nbformat": 4,
 "nbformat_minor": 4
}
