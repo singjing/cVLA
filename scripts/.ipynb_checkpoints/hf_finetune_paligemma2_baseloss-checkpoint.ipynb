{
 "cells": [
  {
   "cell_type": "markdown",
   "metadata": {
    "id": "4LqvmtZPzyY1"
   },
   "source": [
    "[![Roboflow Notebooks](https://media.roboflow.com/notebooks/template/bannertest2-2.png?ik-sdk-version=javascript-1.4.3&updatedAt=1672932710194)](https://github.com/roboflow/notebooks)\n",
    "\n",
    "# Fine-tune PaliGemma2 on Object Detection Dataset\n",
    "\n",
    "---\n",
    "\n",
    "[![GitHub](https://badges.aleen42.com/src/github.svg)](https://github.com/google-research/big_vision/blob/main/big_vision/configs/proj/paligemma/README.md)\n",
    "[![arXiv](https://img.shields.io/badge/arXiv-2412.03555-b31b1b.svg)](https://arxiv.org/abs/2412.03555)\n",
    "\n",
    "PaliGemma 2 is built by combining the SigLIP-So400m vision encoder with the more recent and capable language models from the Gemma 2 family.\n",
    "\n",
    "![PaliGemma2 Figure.1](https://storage.googleapis.com/com-roboflow-marketing/notebooks/examples/paligemma2-1.png)\n",
    "\n",
    "The authors use a 3-stage training approach similar to the original PaliGemma. In stage 1, they combine the pretrained vision and language model components and train them jointly on a multimodal task mixture. In stage 2, they train the models at higher resolutions of 448px^2 and 896px^2. In stage 3, they fine-tune the models on the target transfer tasks.\n",
    "\n",
    "PaliGemma 2 models outperform the original PaliGemma at the same resolution and model size. Increasing the model size and resolution generally improves performance across a wide range of tasks, but the benefits differ depending on the task. Some tasks benefit more from increased resolution, while others benefit more from a larger language model.\n",
    "\n",
    "![PaliGemma2 Figure.2](https://storage.googleapis.com/com-roboflow-marketing/notebooks/examples/paligemma2-2.png)\n",
    "\n",
    "Notebook requires A100 with 40GB of VRAM to train."
   ]
  },
  {
   "cell_type": "markdown",
   "metadata": {
    "id": "lBp3Czz3GBmc"
   },
   "source": [
    "## Setup"
   ]
  },
  {
   "cell_type": "markdown",
   "metadata": {
    "id": "ADTkh-2y_9Yv"
   },
   "source": [
    "### Configure your API keys\n",
    "\n",
    "To fine-tune PaliGemma2, you need to provide your HuggingFace Token and Roboflow API key. Follow these steps:\n",
    "\n",
    "- Open your [`HuggingFace Settings`](https://huggingface.co/settings) page. Click `Access Tokens` then `New Token` to generate new token.\n",
    "- Go to your [`Roboflow Settings`](https://app.roboflow.com/settings/api) page. Click `Copy`. This will place your private key in the clipboard.\n",
    "- In Colab, go to the left pane and click on `Secrets` (🔑).\n",
    "    - Store HuggingFace Access Token under the name `HF_TOKEN`.\n",
    "    - Store Roboflow API Key under the name `ROBOFLOW_API_KEY`."
   ]
  },
  {
   "cell_type": "markdown",
   "metadata": {
    "id": "4wyojKiG_hX9"
   },
   "source": [
    "### Select the runtime\n",
    "\n",
    "Let's make sure that we have access to GPU. We can use `nvidia-smi` command to do that. In case of any problems navigate to `Edit` -> `Notebook settings` -> `Hardware accelerator`, set it to `T4 GPU`, and then click `Save`."
   ]
  },
  {
   "cell_type": "code",
   "execution_count": 1,
   "metadata": {
    "colab": {
     "base_uri": "https://localhost:8080/"
    },
    "id": "O_8BLW6R_x-z",
    "outputId": "678f6080-89ea-41f7-eecb-a592d1a03d82"
   },
   "outputs": [
    {
     "name": "stdout",
     "output_type": "stream",
     "text": [
      "Wed Oct 22 11:58:26 2025       \n",
      "+-----------------------------------------------------------------------------------------+\n",
      "| NVIDIA-SMI 580.82.07              Driver Version: 580.82.07      CUDA Version: 13.0     |\n",
      "+-----------------------------------------+------------------------+----------------------+\n",
      "| GPU  Name                 Persistence-M | Bus-Id          Disp.A | Volatile Uncorr. ECC |\n",
      "| Fan  Temp   Perf          Pwr:Usage/Cap |           Memory-Usage | GPU-Util  Compute M. |\n",
      "|                                         |                        |               MIG M. |\n",
      "|=========================================+========================+======================|\n",
      "|   0  NVIDIA GeForce RTX 3090        On  |   00000000:41:00.0 Off |                  N/A |\n",
      "| 30%   41C    P3             97W /  350W |       1MiB /  24576MiB |      0%      Default |\n",
      "|                                         |                        |                  N/A |\n",
      "+-----------------------------------------+------------------------+----------------------+\n",
      "\n",
      "+-----------------------------------------------------------------------------------------+\n",
      "| Processes:                                                                              |\n",
      "|  GPU   GI   CI              PID   Type   Process name                        GPU Memory |\n",
      "|        ID   ID                                                               Usage      |\n",
      "|=========================================================================================|\n",
      "|  No running processes found                                                             |\n",
      "+-----------------------------------------------------------------------------------------+\n"
     ]
    }
   ],
   "source": [
    "!nvidia-smi\n",
    "import os\n",
    "os.environ[\"CUDA_VISIBLE_DEVICES\"]=\"0,1\"   #,1\""
   ]
  },
  {
   "cell_type": "code",
   "execution_count": 2,
   "metadata": {},
   "outputs": [],
   "source": [
    "os.environ[\"TOKENIZERS_PARALLELISM\"] = \"false\""
   ]
  },
  {
   "cell_type": "markdown",
   "metadata": {
    "id": "FMlw3ru1YvLg"
   },
   "source": [
    "### Download dataset from Roboflow Universe\n",
    "\n",
    "To fine-tune PaliGemma2, prepare your dataset in JSONL format. You can use Roboflow to easily convert any dataset into this format."
   ]
  },
  {
   "cell_type": "code",
   "execution_count": 3,
   "metadata": {
    "colab": {
     "base_uri": "https://localhost:8080/"
    },
    "id": "Wtvz4QZ9YuG8",
    "outputId": "8edb179f-f6a1-421d-f50a-2ee61724415a"
   },
   "outputs": [
    {
     "name": "stdout",
     "output_type": "stream",
     "text": [
      "sending incremental file list\n",
      "sending incremental file list\n",
      "/tmp/indoorCVPR: directory\n",
      "/tmp/training2: directory\n"
     ]
    }
   ],
   "source": [
    "#!pip install -q peft bitsandbytes transformers==4.47.0 tf-keras\n",
    "!rsync -a --progress /data/lmbraid19/argusm/datasets/indoorCVPR_09.tar /tmp/ && mkdir -p /tmp/indoorCVPR && tar -xf /tmp/indoorCVPR_09.tar -C /tmp/indoorCVPR\n",
    "!rsync -a --progress /work/dlclarge2/zhangj-zhangj-CFM/data/training2 /tmp/\n",
    "!file /tmp/indoorCVPR\n",
    "!file /tmp/training2"
   ]
  },
  {
   "cell_type": "markdown",
   "metadata": {
    "id": "Cm7ElnTKvBVa"
   },
   "source": [
    "**NOTE:** Let's read the first few lines of the annotation file and examine the dataset format."
   ]
  },
  {
   "cell_type": "code",
   "execution_count": 4,
   "metadata": {
    "colab": {
     "base_uri": "https://localhost:8080/"
    },
    "id": "WLhSenP5AtQe",
    "outputId": "f6a6b7f0-6360-4eaf-8abf-bd40462af58a"
   },
   "outputs": [
    {
     "name": "stderr",
     "output_type": "stream",
     "text": [
      "/home/zhangj/miniconda3/envs/mani_skill_clean/lib/python3.12/site-packages/torch/cuda/__init__.py:63: FutureWarning: The pynvml package is deprecated. Please install nvidia-ml-py instead. If you did not install pynvml directly, please report this to the maintainers of the package that installed pynvml for you.\n",
      "  import pynvml  # type: ignore[import]\n",
      "/home/zhangj/miniconda3/envs/mani_skill_clean/lib/python3.12/site-packages/sapien/_vulkan_tricks.py:37: UserWarning: Failed to find system libvulkan. Fallback to SAPIEN builtin libvulkan.\n",
      "  warn(\"Failed to find system libvulkan. Fallback to SAPIEN builtin libvulkan.\")\n"
     ]
    },
    {
     "name": "stdout",
     "output_type": "stream",
     "text": [
      "Total samples: 88244 | Train: 87244 | Val: 1000| Smallv:200\n"
     ]
    },
    {
     "data": {
      "text/plain": [
       "'\\ntrain_dataset = H5Dataset(dataset_location, augment_rgb=augment_image_rgb, augment_text=complexify_text,\\n                          augment_depth=augment_depth, return_depth=True,action_encoder=\"xyzrotvec-cam-512xy\")\\n#, augment_rgbds=randomize_background\\n\\nprint(\"dataset_location:\", dataset_location,\"samples:\", len(train_dataset))\\n'"
      ]
     },
     "execution_count": 4,
     "metadata": {},
     "output_type": "execute_result"
    }
   ],
   "source": [
    "%load_ext autoreload\n",
    "%autoreload 2\n",
    "from pathlib import Path\n",
    "from cvla.data_loader_h5 import H5Dataset\n",
    "from cvla.data_loader_jsonl import JSONLDataset\n",
    "from cvla.data_augmentations import augment_image_rgb, RandomizeBackgrounds\n",
    "from cvla.data_augmentations import complexify_text, DepthAugmentation\n",
    "from cvla.data_loader_images import ImageFolderDataset\n",
    "from torchvision import transforms\n",
    "from torch.utils.data import random_split\n",
    "import torch\n",
    "import random\n",
    "\n",
    "model_location = Path(\"/data/lmbraid19/argusm/models\")\n",
    "dataset_location = Path(\"/tmp/training2\")\n",
    "\n",
    "bg_image_dataset = ImageFolderDataset(\"/tmp/indoorCVPR/Images\", transform=transforms.RandomResizedCrop((448,448)))\n",
    "randomize_background = RandomizeBackgrounds(p=0.2, background_images=bg_image_dataset)\n",
    "augment_depth = DepthAugmentation(depth_range=(25, 100), max_delta_depth=35)\n",
    "\n",
    "full_dataset = H5Dataset(\n",
    "    dataset_location,\n",
    "    augment_rgb=augment_image_rgb,\n",
    "    augment_text=complexify_text,\n",
    "    augment_depth=augment_depth,\n",
    "    return_depth=False,\n",
    "    action_encoder=\"xyzrotvec-cam-512xy\",\n",
    ")\n",
    "\n",
    "# 手动定义验证集大小\n",
    "val_size = 1000  # 固定1000条\n",
    "train_size = len(full_dataset) - val_size\n",
    "\n",
    "generator = torch.Generator().manual_seed(42)\n",
    "train_dataset, val_dataset = random_split(full_dataset, [train_size, val_size], generator=generator)\n",
    "\n",
    "val_indices_small = random.sample(range(len(val_dataset)), 200)\n",
    "val_dataset_small = torch.utils.data.Subset(val_dataset, val_indices_small)\n",
    "\n",
    "print(f\"Total samples: {len(full_dataset)} | Train: {len(train_dataset)} | Val: {len(val_dataset)}| Smallv:{len(val_dataset_small)}\")\n",
    "\n",
    "\n",
    "'''\n",
    "train_dataset = H5Dataset(dataset_location, augment_rgb=augment_image_rgb, augment_text=complexify_text,\n",
    "                          augment_depth=augment_depth, return_depth=True,action_encoder=\"xyzrotvec-cam-512xy\")\n",
    "#, augment_rgbds=randomize_background\n",
    "\n",
    "print(\"dataset_location:\", dataset_location,\"samples:\", len(train_dataset))\n",
    "'''"
   ]
  },
  {
   "cell_type": "markdown",
   "metadata": {
    "id": "McU9159EvkeA"
   },
   "source": [
    "### Set up and test data loaders"
   ]
  },
  {
   "cell_type": "code",
   "execution_count": 5,
   "metadata": {
    "colab": {
     "base_uri": "https://localhost:8080/",
     "height": 961
    },
    "id": "19pQQjIixL-T",
    "outputId": "c59a8054-4f92-4cb0-b1cb-6a7b89e6e4b6"
   },
   "outputs": [
    {
     "data": {
      "text/html": [
       "\n",
       "<div style=\"display: inline-flex; align-items: center; justify-content: center;\">\n",
       "    <img style=\"width:224px; height:224px;\" src=\"data:image/jpeg;base64,/9j/4AAQSkZJRgABAQEAZABkAAD/2wBDAAgGBgcGBQgHBwcJCQgKDBQNDAsLDBkSEw8UHRofHh0aHBwgJC4nICIsIxwcKDcpLDAxNDQ0Hyc5PTgyPC4zNDL/2wBDAQkJCQwLDBgNDRgyIRwhMjIyMjIyMjIyMjIyMjIyMjIyMjIyMjIyMjIyMjIyMjIyMjIyMjIyMjIyMjIyMjIyMjL/wAARCAFsAWwDASIAAhEBAxEB/8QAHwAAAQUBAQEBAQEAAAAAAAAAAAECAwQFBgcICQoL/8QAtRAAAgEDAwIEAwUFBAQAAAF9AQIDAAQRBRIhMUEGE1FhByJxFDKBkaEII0KxwRVS0fAkM2JyggkKFhcYGRolJicoKSo0NTY3ODk6Q0RFRkdISUpTVFVWV1hZWmNkZWZnaGlqc3R1dnd4eXqDhIWGh4iJipKTlJWWl5iZmqKjpKWmp6ipqrKztLW2t7i5usLDxMXGx8jJytLT1NXW19jZ2uHi4+Tl5ufo6erx8vP09fb3+Pn6/8QAHwEAAwEBAQEBAQEBAQAAAAAAAAECAwQFBgcICQoL/8QAtREAAgECBAQDBAcFBAQAAQJ3AAECAxEEBSExBhJBUQdhcRMiMoEIFEKRobHBCSMzUvAVYnLRChYkNOEl8RcYGRomJygpKjU2Nzg5OkNERUZHSElKU1RVVldYWVpjZGVmZ2hpanN0dXZ3eHl6goOEhYaHiImKkpOUlZaXmJmaoqOkpaanqKmqsrO0tba3uLm6wsPExcbHyMnK0tPU1dbX2Nna4uPk5ebn6Onq8vP09fb3+Pn6/9oADAMBAAIRAxEAPwD3+iiuO1y9u4dYnSO5mRBtwqyEAfKKAOxorz3+0b7/AJ/bj/v63+NH9o33/P7cf9/W/wAaAPQqK89/tG+/5/bj/v63+NH9o33/AD+3H/f1v8aAPQqK89/tG+/5/bj/AL+t/jR/aN9/z+3H/f1v8aAPQqK89/tG+/5/bj/v63+NH9o33/P7cf8Af1v8aAPQqK89/tG+/wCf24/7+t/jR/aN9/z+3H/f1v8AGgD0KivPf7Rvv+f24/7+t/jR/aN9/wA/tx/39b/GgD0KivPf7Rvv+f24/wC/rf40f2jff8/tx/39b/GgD0KivPf7Rvv+f24/7+t/jR/aN9/z+3H/AH9b/GgD0KivPf7Rvv8An9uP+/rf40f2jff8/tx/39b/ABoA9Corz3+0b7/n9uP+/rf40f2jff8AP7cf9/W/xoA9Corz3+0b7/n9uP8Av63+NH9o33/P7cf9/W/xoA9Corz3+0b7/n9uP+/rf40f2jff8/tx/wB/W/xoA9CoriLW/vDBIWupzyMEyGoTqN7uP+lz/wDfw0Ad7RXA/wBo3v8Az+XH/f1v8aP7RvR/y+XH/f1v8aAO+orgP7Rvf+fy4/7+t/jR/aN7/wA/lx/39b/GgLnf0VwH9o3v/P5cf9/W/wAaP7Rvf+fy4/7+t/jQK539FedPqV/vOL25/wC/rf41JBqN95yhry4wfWVv8aAueg0Vyy3dwCM3Ev8A32a1LYzzgESvgdTuNAzVorj/AB1dS6b4O1O4F9c27rFiOSGXY4ckbcHPr+ma8W8MeMteh8QWovdb1Ga3lby3WW6dgM8A8tgYOKAPpmivPf7Rvv8An9uP+/rf40f2jff8/tx/39b/ABoA9Corz3+0b7/n9uP+/rf40f2jff8AP7cf9/W/xoA9CorG8NTyz6dI00ryMJSAXYk4wPWtmgArh/EH/IcuP+A/+giu4rh/EH/IcuP+A/8AoIoAzKKKKACiiigAooooAKKKKACiiigAooooAKKKKACiiigAop6RSSZ2Ru2Ou0ZppBBwQQR2NACUUUUAFFFFABRRRQBcjyllk92JFVd1TvlLNBntn86qigQ/dSbutJSZoDQdnijcabRQApNANITSA0Aa1n4flvrVLlbiNA+eGBzwcVa/4ReYf8vcX5GrmitF/ZMO+cKct8v4mrxe2H/LwT9KAIV0iEffuGI/2RirUt1ZaXYSzzTLFbQqXd2PAA6mqxuIR0Zz+NeafFbxTbW9nFoYErtcDzZgjAYUH5QeO5H6UDOD8Z+Or/xbqLku0OnocQ2yscYz95vU/wAq5UykDIJB7EdqmNzaZGLMgdx5vX9KinuInj2x2yxn+9uJNAHrnhHxCmu6WA5xdwALKCRluPvD2NdDXhWh6zNomqRXsOSB8siZwHXuK9xgmS4t4p4zmOVA6n1BGRQBJRRRQB1/hX/kFy/9dj/6CtblYfhX/kFy/wDXY/8AoK1uUAFcP4g/5Dlx/wAB/wDQRXcVw/iD/kOXH/Af/QRQBmUUUUAFFFFABRRRQAUUUUAFFFFABRRRQAUUUUAFNkLCNirFWxwRTqZKpaNlHUigCiYd3JkbNWbfIbbvYgDABPAqL7I/Uhv++6fFGyTqD0Gc857UAWqKKKACiiigAooqtqNwbPTLu6ChjDA8gUnrhSaALSXUV3p8E8Dbo3XKsO49ajB9aissLoemhQFH2WLAAx/CKkoEOJxSbqTNGaAHbqTdSZozTDQCaKSikFzYsZttmg+v86sfaPrWVDLshVc07zx70AaLXQRSzEhVGSfavnXxPrba94ivL8yFo3fbEG/hjHCj/PrXq/jjWf7M8KXjIxEs6+Qntu4J6+ma8M3D1oGS7/cUjOT3qLcKQsc8UASBvWvafA07T+ELIsFGzdGMegYivEg3rXs/w9YHwZaj0lk/9CoA6iiiigDr/Cv/ACC5f+ux/wDQVrcrD8K/8guX/rsf/QVrcoAK4fxB/wAhy4/4D/6CK7iuH8Qf8hy4/wCA/wDoIoAzKKKKACiiigAooooAKKKKACiiigAooooAKKKKACmS/wCqbkjjqKfTZADGwPTFAFBjgZEj/ixqSBx54HJOOpPWgpEOSVx6ZpUVPOVkxjPY0AXKKKKACiiigArP13/kXdT/AOvSX/0A1oVQ13/kXtT/AOvSX/0A0AGlTpcaJp0kbhk+yxgEeygVarmPh7dteeDYA24tayvASe44YY/BgK6emIKKKKBBRRRQAUUUUAGT60UUUAeZfE/UDJfWenKw2xIZnAIPzHgZ9OB+tcDWv4ovTqHia/nySvmlFz6Lx/SsikUFFFFABXsvw5/5E+D/AK6yf+hV41Xu3hG1Np4U02NlUMYQ52993P8AIigDaooooA6/wr/yC5f+ux/9BWtysPwr/wAguX/rsf8A0Fa3KACuH8Qf8hy4/wCA/wDoIruK4fxB/wAhy4/4D/6CKAMyiiigAooooAKKKKACiiigAooooAKKKKACiiigApkozEwBxkU+mTHETHGeKAKP2Vs/fH5VJGvlSqCfy6VE0wIGVb6bsU+ORGZQcg56ZoAv0UUUAFFFFABUdxBHdW0tvKu6OVCjj1BGDUlFAGB8PdEutK8PX9ndxsjJfvtJHDrsTDD2NdJ9mwcGtePy7exiRj823J/HmqrSoTkdKBFQW/tS/Z/arPmp7UecmetAFb7P7Uht/arPnJ6j86PNQ96AKhtvaoZIigBx3rR3pUV1taBsHkc0AZ9VNVu/sGk3d3uUGKFnUt0zjj9cVbrnfHNx9n8IXx27vMCx9cYyw5piPFqKKKRQUUVPZ2dxqF3Ha2kTSzyHCqo/zxQBLpWnyarqttYxglppApx2XufwFfQUcaQxJFGoWNFCqoGAAOAK5/wp4Ut/DlnubbLfSr+9mx0/2V9v510VABRRRQB1/hX/AJBcv/XY/wDoK1uVh+Ff+QXL/wBdj/6CtblABXD+IP8AkOXH/Af/AEEV3FcP4g/5Dlx/wH/0EUAZlFFFABRRRQAUUUUAFFFFABRRRQAUUUUAFFFFABTJMCNs9MU+mS/6puccUAVlZR0B59qCI94Ozke1RnB48w/nTCIgRud8+xoA06KKKACiiigAoHUUgJaQRorO57KpOOM8+nQ9as+TBEcz3C8H7kfzE/j0oAg1OS6l4gnSOTOSXjLj8sio7UTeQyTkz3HJ3xLsUD/d5/nWgLyyZzust+f4pHOf0xVe4ESFXtyyhuq56UCKF1Z3cjhxeXdsoGCqImD7/MpqD7Fdf9Bi+/74h/8AjdXy7N95mP1NNoGU10+8f7uragfokP8A8bqzBBNbJiee4ny2d0oVT9BtUD9KkDMvRiPoaCzMMFifqaAILoXjzZtLmKGPH3ZITIc/UMP5VKjSCIK77nwASBgH14paCxIAJOB0HpQISsPxdpdxq/hu4tLRQ05KsqkgbsHOMmtyimI8SuPBXiO1RWk0qVgxwPKZZD+Sk1Tm8PazbRGWbSrxEHVmhOBXvPSpFztpDueH6H4O1bW5Rsga3tx96eZcAfQdT+FeuaF4esPD1qYbOP52A8yVuWc4/Qe1atFAwooooAKKKKAOv8K/8guX/rsf/QVrcrD8K/8AILl/67H/ANBWtygArzHxZfXEXie8jjPC7D93P8Ck16dXlHjH/ka745xwgGO/yLVR3BmeNUuhzuU8Z+6KRtTulOC4/wC+KqAK3AU5xxzSAYIJGV6+maqyEXTqVyE3CVTzj7lH9p3TH5WGQMkbao8kcZwOacflz91iw656U7IC2NTu8r8wwf8AZFKNSug21mA44+UfhVLdlNpbvwMUu4r0AZVPUA4NFkBbOp3Yyd6kA4yF4oXVLs8ZBJHHy1UOxDyCcjI9qRmZgGdiRk8UWQrlw6ndHAVlP/ARTjqN1837wDjIBUc1QBdMEEjPQg0Z+U4AzjBzzmiyC5oDV7kID5aHsWINH9r3JfaIoyc44yf61n4LLktwBgc0ei42+pOaOVBc0hq8oT5ljDEZGAT/AFoOq3IXf5UYXjqD36d/as7K8K+fl7j0pAMkbiQp7mjlQXND+17nnEcRA74P+NOj1OWeTynWMBh1ANZnfOAKmtT/AKVGT69qTSsO5qhM84H5UoG3ktj6ClJTH3h+NAdFHJB+tZjKjatcqzL5cZ2nrg/40h1icsAsUZ7dDyfzqlMytLLyAd5O4/ypi7RNHgtnIznsc1ryoWp0kLSxw+fqEkUCBd5VVO4Dvkk4HGa4rVviva28jx6LpiylSQJ7liQcHggDr39K3/GDn/hFdUZSw/cnBzz1rwse1ZDOnvfiF4mvnBfUWjUDASJQoA9K7bwH4iutcs7mK9Iea2KfvMY3KQcZ9/lNeR7TivSPhXDIIdUn2/u3aNAc9SNxP/oQoA9DoznFFFABRRRQAUUUUAFJS1y3jnWbzRNMtp7Kbynkn2MdobjaT3HtQJnUUV47/wAJ/r//AD+j/vyn+FWB8RdYMYVjAflwT5eCffg9aYWPU7m5W3TJG5scIDyaqDWsnb5Cg9sv+nSvM5/HN3MFPlR+Z3ZstmlsvGc32uMXaQiInDMqn5ffvmmuUD0w60QxVoACDj7/AB+eKT+2zjP2b/x//wCtWBZ39vqCGWyl8xQc4Xqv1FWEUMevPPHSq5UK5rDWyeluP++//rUp1sg4+z/Q7+v6VkFSpG/Kg85xSv8ALgZU8c4OafKguap1xgebb/x//wCtQdcPJ+zcf7//ANasjd1465zjin+ZufJbsFOR2xilyoLnqXgi6+16LNJs2YuGXGc/wrXS1yXw8OdAuD63Td/9hK62oe5QV5P4z48V3pB5zH/6LWvWK8m8Z4/4Su+55/d/+i1pw3EzCGCwJGRnkA809R5hCgjPRQfzpU3KDKBJ3AZTjBqMjuAcDrWghzSsxy2DwBjsaaMYPrS4O4YA56Ac0oIjz8xDg8ccUAIu0q24kHqpA7+lDKyqCejcjnrSE55JOSc0dCDt49D3oAcXym3AB4yabkjIB4PBx3pxUKODk9wR0pGbcQSRg9lGMUAKqF0JUEsOSAp6eppucge1HGO+aUgK+AQ/uM0AKzfLH1JA7nIppIYknj0AFKx3AEIFA44z/WjaWcjcu4nuwA/PpQAFWTH+0M8elITkZHHtQ7ZY5YsRwCfShmXaAqkHHJLZoAUFQOpzn+7Uts265jKp8wJJI/wqFFkfdsUnjnAqS1Leeq7sBjg0PYDXMr56Cl8wFQWAJ7Uzy1xjdmgQrnluKxKMu6x5jjceGJ2k+tMjDDP7othSeOo96ddnF24U8A8Vd0i3SW4a6mRWWI8RleGPb/Gtb6CL1lDealaGN9OeWCRSjOTtVgeOpx79KyD8FbC5Yut81kvAEfnB/wAc4NdHJczS/ec4HRRwB9BTPMf++351mwMA/Aq0I/5DjEf74/8Aia63R/AZ0XTIrGzuLcxpklmcksT1J4qkJZFOQ7A/WnfaZv8Anq350gLk2iX0IBZI2z2SQGqDKUYqwII6g0/z5SwzI351K6W7EMbhgSASDHnn86AK1FWJLeFXwl5E6+u1h/Sm+Smf+PmH/wAe/wAKBkNFS+Sn/PzD/wCPf4UeUgwTcRHHOBu/woEKtlduoZLWdlPIIjJBqtrPhB9Wt44NS02aWANvAQnOcccjkda0xqDgcXEn5mnLqUuOLqQf8CIoA5D/AIVfov8A0Bb/AP7+yf4U5fhjoqjB0K9b6ySV141OcdLtv++qeNXuB0uz+dAzgtQ+GmhsvlrZ3llITu3CRicegDCobH4d6FZzJK32m4ZWyBKylT7EYwa9FGrXZ5FwWFQSmO9B3RiOYDhlGA31oA4WfwNp0V017pUtzaXA5WPeDEx9CMZwenFMIfYheMIcYK5GQfeuqYlAxxyvauUVzPFHcEY85Q+PQnkj8KuAmOBUo25uR90UBd33SM+hoVgoyAd4OQc8D8KApfccrxyckCrEISeFIxt9sGlUM5wqFjjsKTcTw3Ipdm7lDn270AemfDvH/CPz4z/x9N1/3Urra5L4dgDw/OOc/amzn12pXW1lLcpBXlHjP5vFd4AORs/9AWvV68o8ZEDxTf5jB/1Y3c8fu1pw3EzAyfvZ9utOIjC8OS3+7x+eaYRjIJGRxjOc04mLYQA5fs2eD+GK0EIDggjPHXml4KFi67s9Oc/4U0sOcLxjuaczJgbCckYOVAoAQFieM5x2HangSNHtLgIPmCs3FRZJI3MfTntSsqg/K28Y64xQFheOMt1647U6LJkXYoZhzg4x+tMEZzhiE/3uKCqg4Lg/7ophYC5z90ZBz0oBdiFXJJPAFKib8hQucfxOBSb2B4wvOfloGOZXChGi2sMnJyCaZtA6sO3SlWORwWVGYDqQM4pucUAOUorcqWGfXFJu9ABxj1pzGWX5m3vgdTk4FNKgZ3OM+g5pAIST1NWLXyzcwjDZz8xJ4qJpQVC7QQOhIHr7VJaSFbqPONueR0BoewGwUi6jFJ5YYcHg04SxtyET/vukd1UZXC+pDZrEZk3o8m6ZV4yAemK1dNXbYR8EFiWOe/8AkAVlXjp57fIGyowTkGtu2Qx20SE5wg5FW9hEtFFTLErICJVVu4bPFSBFijFTPAEQsJ4nx2UnP8qiVSzADGT6nFIBuKXn1qcWkpGQ0P4zJ/jULKVYqeoOODkUBYSipUtp5ACkMjA/3VJoktp4V3SwyIucZZSKBkVJSgE9AT9Kd5b/ANxv++TQKwyilozQFhKKWlA3MAOpoCwgJU5BwanSTOGHUVXp6UAitq919lhldXCyycRbucse+O+Otc+CqExsweM9SoPB9Rmretxf8TFZWJOYwFyc4HfHpVFWVQcoGz0yTxWkVoJjpQykI23AHykKBkevvTFXcwGQM9ycCpI2V18qQ4H8Lf3T/hUbIyOVcYI6iqAQjBI4/Cl3DYF2qCP4uc0rlCfkVlH+02f6U2gR6h8PgR4dkYsWLXDHnt8qj+ldXWH4ShMHh+BGOTwenqBW5WT3LCvJPGn/ACNt9/2z/wDRa163Xk3jMoPFl78pJ+TOTx/q1pw3AwWCBRtdie4K4/rSxxGQ43BR0ywOM/gKbv4wAo4x0pCxYksSSeuTWlxDimOrr35pzRhEDFg2cYww/lUVFFwJUDO2I4wSDnnmmksPlJIwMYplABY4AJPtRcBxRwoYowU9yOKTNPKN0dgo9Cf6UqSCFtyM+71B20XAizTgjntj68U4zOTnOG9e/wCdIZXZAh24H+yM/n1oATCDq5P+6KXeB91APc8mkRtrZ2q3s1Ix3MTgD2FIBTJIwILsQe2eKbTtybMeWN397JpF2hvnBK+gOKAFaR3UKzEgdBUloA13ECcAmmbPMY+UjY9znH41YtkiSeMiUmXP3QvA/HND2A1RAgBOaTylB56ewoVpcdQaC7qM7DWQzP1Fys67UAbb97HJrYiBESBhghQDWNfhmkR3ZVwOhPPWtzcH+YHIPOap7ITFHrT6aBzTqQBRRRQIKKKKACiiigBQzKcqxB9jT/tE/wDz3l/77NR0UAHXrUq3U6jCyECoqKAHySvMQZGLY6ZpBIyptXA9wBn86bRQAzpSr1pSMikHWkMxtc/4+Yv+uf8AU1mA4IPHHqK09bb9/Gu0fc69+tZdax2EOdy7ZIUH/ZUD+VSoRcIImP70fcY9/Y1E7K2NsYX8Sc0i4DAsCR7HFMB0hBOPKVCODjP9TRFGZZo4wQC7BRnpyasPsvAWjBEyjkMclx6/Wp9AiWXWrcMAQpLYI44FDA9X0PixYAgqJDtx0xgVpVkeHsC0uVHRbggf98r0rXrEoK8m8YmMeLr7zFZh+7+62P8Almvsa9ZrybxlGzeLL04AH7vknA/1a1UdwMAbC/O4L+Zoby93yFserCl2xgfM5Y+ij+po8wAfKig+p5rQQpiBGY2Z/X5cU4wooO6ePIH3VyT/AIVEzs33mJ+ppKAJlQFSyKpx3eQD9M0i+dLlUUkdwg/wqKigBdjBtu07vTFBBU4YEH3FAJU5BIPtQWYnJYk+pNIBKKe8skgAd2YD1NBlYpswmPZBn88UwGUVYRAinzkjX3bO78gaRJoY84g3nszHp+FAEaxOwzwq/wB5uBS5iToDIffgUhkEkm6TeR/vc01vL3fLvC++CaBXFeRnGCePQcCpLP8A4/IvrV/TfD17q5H2GNzH3llXYg/HJz+Fd7o/gvTtOCyTr9quAOTJ90H2H+NS2hnH/iPypAcHqMetehP4d0mRyzWgyeTtdlH5A1H/AMIxpXmo4tyAv8G8lT9c1mM87vdOvb5I3tLO4nRSQWjjLDt6U61a5tVNveW88Tp03RtnH5V6vHEkMYjiRURRgKowBTxmnfSwrHl7TpGoZ3CA924pEuoXbakyMT2BFenvGkgAkRXHXDDNU7+1g/s652W8e7ymxhBnODQFjgdxo3H2qSKGSc4iUt611Fv4S0xrdDeQedPj5nErgfhgigDk9xpd/tXVT+C9FlChIpoSDnMczc/mTTG8FaeUIW6vg2OD52cfpRoFjmN/tRvHoa1bvwsmlQfaDfzz8hdkmMc1QaJOy/rQBDuFLuFOMQ9TSeUPU0AJuHrRketL5XvSNHtGc0ALketGajIIUkDJ7Ad6rmeZELNp96oAySYTgUAXKaeDkVmrq9sxwRIo9SP8KbPq8Kp+4+dz6jAFOzAh1UST3YCRs2xMHArMIIOCOfSld2kcu7ZYnJNJWiEKVZRkqR9RSUpdmGGZiPc05JZI87HZc+hoENVirBlOCDkEV0nhpYZr+S52gMI8MvoxPUfUZrmySTknJ966rw8mdIubhlVG3YVwoGcD296Utho7LwpIJdPuXBJBuWwT34Wt6ud8GqE0iYDp9ob/ANBWuirIoK8k8af8jbff9s//AEWtet15P4yWI+K73dKVb93xt4+4veqjuDOdoqXylI+WeIn05H8xQbeTtsY+iuD/ACNaCIqKkMEynBib8s1GyshwylfqMUBcKKSnxwySDKrwOrHgD8aBXG5pVVpG2opY+gFSYgj6sZW9F4X86a87su0YRP7qjAoC47ykj/1sgz/dTk/n0pPPK/6pRH7jlvzqKigA6nJoq1YabeapP5NlA0rjrjoPqe1dzpHw/giKy6pL5zj/AJZRnC/ieppNpBY4vTdG1DVpNtnbs47ueFH1Nd5ovgW0sWWe/YXUw6Jj5F/xrqooo4Y1jiRUReAqjAFPqHJsdhFVUUKqhVAwABgClooqRhRRSEZoAWik9qCOOKAF/CkOMcigDA7/AJ0c+lAHG6nbHSNX8xFItpeRjp7j8K2YvEOlWkKRX+p2dtJtyonnVCy9iMmpPEiodEmd1BKFSpxyOR0r5e1p7u/1G5uxcsyzSMQsnVFzwAfYcVnOrCDSk7XMqlanTaU3a59axyJLGskbq6OAyspyCD0INOriNK+IXhO00uytG1ORPJgSMebbSAnCgc4BHb1rUTx54WmGF1q3XPdsr/MUKtTf2l94KvSe0l95Z8SDNpAP+mn9DXNtHircupaROAI/FFhNGpyI5blAR9MmsHS/Fuh6/fTWem3fmzRDcQUK7lHBK56jmt6dOdSMpwV1Hdrp69ilOL2Zo7Pak289KsbPrSbKgog2+1T2Vh9tlYOxjgjG6ST0Fcp438S3PhmGye3WEmdnB81S3QDpgj1rT0XxH/bvhWzaLYHkybgoCoLgnjnsBigDX0u0F5qyJCrm3R9xZuoUetd31Bzz7Vzeh3VpbRpbwJNI8jDzGKcbj7+gro8Y6LQNCbVH8I/Kq0umWE8xkmsLaRz1d4gSfxIq1zjp+tH4H86AM240DRrhQsmn2uAc/KgT+WKrnwnoJUgadFz3DH/GtrPsaOOuP0p3YHNf8ILoY58qc/8AbU1BN8PtJd90c91Ev90MCP1FdZlTSblB6/rRdhY4yf4c2bRj7Pfzo+esihhj6DFR32mNoGjfYxJ5gbnzNpGcnniu4wDUc1vDcJsmRZF9GANDbYGL4MYto8pJz+/P/oK10VQWtrBaRGOCJI1LbiEGBmp6QBXkfjX/AJG2+/7Z/wDota9cryPxr/yNt9/2z/8ARa1UNxMwKKVVLNtUEk9gKm+ziPmeQJ/sDlvy7VoSQglehI+hqxGLlVDGZoVPdmIz+HU037QsfEEYT/bblv8A61QszOxZmLMepJoGW/taxjCqJm/vyoD+QqN7tpAPMjjbHA4Ix+AOKr0UCJfMiPWD8nNGbc/wyr77gf6U2KKSeVYoY3kkY4CoMk12Oi+App8TaqzQp1EKEbj9T2pNpDOVt7P7bMsNqZpZW6L5X+BNdnpPw+UbZdUn3dxDFkfma7Gw02z0yHyrO3SJe+Byfqe9WqhyHYgtLK2sIBDawJDGOyDH5+tT0UVIwooooAKAc0c0n4UALRSZ9qOCM/8A1qAFo5pBjsaWgAozRRQBVv7Vb+zktmcoHx8wHTBz/SvJrz4Fvf6pLcy+JP3Ek7SGFbX7qls7Qd/HHGcV7HRSshWT1IYbWCC1itY4lEMSCNEPICgYA59qhk0nTpv9bp9q/wDvQqf6VcooaT3BpPc5zWNB8NWmlXl7c6JpxSGF5GxbopOBnGQK89+CXhHTzY3HiOUPJdGWS1jjfGxEG3nGOvau98eeHL7xNoC2dhcJFIkwkKyEhZAARgkfXP4Vj/BqEw/D6PJyWupjx7Nj+ld+EqVKeFrqGibgvX4v8jedGhGhCUWudt3XZK1vvuztH0uzckmBQT/d4qL+xLT/AG/++q0aK4TE8C+OsSWmpaPbRs3lmF5NpOecgZrc+DduX0mz8xWUB5ZFyPvDP8q9VvNJ07UXV73T7S5ZBhWnhVyB7ZFOt9MsbR1a2tIYSi7VEaBQB6ADigCyFC9AB9BS0UUAFFFJj3oAWimkZPX9KXn1FAB+FLSDiloAKKTv3oJx/wDqoAevSlpF6UtABXlHjEQL4rvWkZmY7PkXj+Bepr1evI/Gv/I233/bP/0WtVDcTMdrp9pSICJPROp+p61BRRWhIUUV0uk+CdS1HbJcj7HAe8g+c/Rf8aG7DObVWdwiKWZuAqjJNdVpHgS/vcS3zfZIT/CeXP4dvxrt9H8O6doq5toi0xGGlc5Y/wCFa1Q5dh2KOm6PYaTEI7O3WPjl+rN9TV6iioGFFFFABRRRQAUUUUAJkeopaQgHqAaMDtxQAtJnmjHvSYbPUflQAu4ZxmlwKTn2NIRnsfwNAC4ox9aTGOdzUgcZ++KAH0nPtS0mfagA59qM4PSlooAa7BEZm6AZNcR8IBj4Y6U56u07H/v8/wDhXT+Ib9dL8OanfurOtvaySFV6nCk1wHwR8TR6p4XbRBatFJpQGZN2VkEjO2fY5zxXqUaFSWXVakVopQv90l+bRDa50j0/OejCnUUmBXlli0nPtS0UAJk+lLRzRgelABRRikK57mgBaQlvQfnQFxQR70AJuPdD+lG7/ZalwfWgZHvQAZ+tLTSGJ4bH4Um2TP3h+VAEq9KWmpnHNOoAK8j8a/8AI233/bP/ANFrXrleb+IPDupax4vvTbQYiPl/vpOE+4vfv+FVHcTOMrd0XwpqOsESBfs9v/z1kB5/3R3rudH8G6bpm2WVPtVwMHfIOAfYV0QGBgdKbl2Cxh6R4T0zSQrrF59wP+WsvJz7DoK3KKKgYUUUUAFFFFABRRRQAUUUUAFFFFACZ5xik3D3/KnUUAICD0paKKACijA9KTFAC0daTB9aOcUABVfQUAUtFACYPY/nSfNnqPyp2cUmR60ANdA6MjqrqwwQRwR6VS03SNP0aF4tM022s43be626KgY+pxWhRVKcknFPRgN3eqsKUMDS0Y4qQDI9aKMCk2j0oAWjNJtHYkfjRjHc0AGR60tJg+o/Kj5vagBaKTJz0pc0AFFJketGTnp+tAC/jRSdRS0AOXpS0i9KWgApp606mnrQAlFFFABRRRQAUUUUAFFFFABRRRQAUUUUAFFFFABRRRQAUUUUAFFFFABRRRQAUUZooAKMA9qKo/21pf22Sy/tG1F1GMvCZV3L9Rmk2luJtLcu7R6YpNvoTWbP4l0K1z52s2CEdjcJn8s1l3HxE8KW+d2rxsfSON3z+QqXUgt2iHWpx3kvvOnwfWl5rzu/+Mnh60gneG2v7ho0JTEaqrnHAyWyB74/CqXg34y2OvSTwazbrpsisPLkVi8bAnoePlI9en0relRnVw88TDWELJvtfYqlONWXJT1flqeo5oqOCeK5hWaCVJYmGVdDkH8akxWZTVtGFFFBz2oAKKOaKACiiigAowPSikz7UALRRRQA5elLSL0paACmnrTqaetACUUUUAFFFFABRRRQAUUUUAFFFFABRRRQAUUUUAFFFFABRz60UUAFFFBOBk9KACq19qFpptnJd3kywwR4LuwOBk4/rVhWDqGUgqehBzmqGuW8V3oV9azSLGs0DpvbHykjg89weaUm0m0VDlclzbFe08U6LfxSS2l/HMkZw5UH5frkU6TxFpaKT9oQ8ZwCOleFeH7q3Z9Ttbm4ihS5tziS4bHzggj+Zq7J8QNOn1VtPtrOe5dCYoSoG2VumAOuPTvU4RVcTRlUpxvypuVuiXU1zCFPDVnCErq3r+R7tZXsN/bLPAcoeBXm2peCPDmkeJLjWNe1mI2csjzCzkGHZmyexywBPYen419EtvGmsxfYY7yPRLPG47RmQj275/EV1Gl/DXQrGX7RepLqd0TlpbttwJ/3eh/HNc8r1re7t3/yPKneva0Nur0/DdnF3/ijw3a28knh/wAH29xHGdpu7u3Hlqe3XJP5g1wd/e3Op3T3F0yAt0SJAiqPQAcAV0/xM16W48UT6LDLCNO08IscEKgBZCuWzjvzjHauKMnHWvMxTlz8l9vkfU5VkdCVJVsQ22+i0Vvlq/myYKgBGB755rO0kKmno6gBmJz781YeXCNz0FVdNONPiH1/ma7KPNHLK3nOn/6TU/4B7tONLD4umqUEkoy0St1idj4W8Y3vhe93wsZLWQgTQNyCM9R6GvoHTdRttW06C/s33wTLuQ4xXyvndnFeq/BnV5PP1HR5HJj2i4iBIwpzhgPrkH8DWeBrNS9m9jmz7L4ul9agv+D6+aPXaKKK9Y+QCiiigBNwHXilBB6UUmB6UALRTdnoSKXDev5igBaKbh89RSZcds0ASr0paahJHIxzTqACmnrTqaetACUUUUAFFFFABRRRQAUUUUAFFFFABRRRQAUUUUAFFFFABRRRQAVi+LNIudd8NXmnWlwIJ5lG1iSAcEEqcdjjFbVFKUVJNMmUVKLi+p534d+Gtxa6UINW1rUFbeSLayuisKg+2OT+VbEfw28MK2+ayluX/vTXEjH+ddZRWUcPTStYxjhaUUly39dTxe98Ezab42ZbSzEtr5omgi8pnUp1KknjjkcntXN6baDTvihqN9PoiRQw3ixGLdhIGlU7eQcDPJ9OtfRleZWOlQ614o+JGnTkKsptMOf4GETFW/AgGu3A0pUcPifZSabiv/S46fp6HrU8RRlWpKrTXKtHZdGmr6dVuvM6+Gz1MXMTRRR20SAZRiCCM8gY56H+VbuPQ1xPgLxxB4ht4tMnWVdSggBd2HyygYBYH16E59a7euWnOM480TLGYWrharo1VZr+rnzp8YdMfw543OpmMjT9XVXMg6JMo2sDz3AU1xyyq4BBBU9CD1r6X8ceHofEWgPDLbxzmLLhHXORjkDvn0xXznf+AtR09y+h3fmw5/495zgr9D0P6VzV8Iqj5o7nbgszdGPs6mqKsjgQucjAU1FYMPsUWD2rOvv7XtYnj1HR7mJVwGlVCVz256frVa21VbeMr9muGycn5a6Y4emsrnTcv3jmna3RJq99urOz+0qbxUZp+7ytX8210+R0RfHfFdF8PL+S2+I2iRRS7TcSvG4wDuXYxI/QVxFvLq+p8abo9xIDwJHUhQR1Gen617R8Hvh5LYXMnibWnSa9x5VtGFBWH1YH17fnXBh8LNTUpaWDHZpTnSdKDvf7j2WikIPY0g3j0NekfOjqKKTPsaAGlsH7p+opwYGmmQA9D+VKHU9GFADsiikwD2FIUB/+tQA6im7COjH8aRvMA+XafrQBKvSlqOIuUO8AHPapKACmnrTqaetACUUUUAFFFFABRRRQAUUUUAFFFFABRRRQAUUUUAFFFFABRRRQAUUUUAFFFFABXk/hPxbpX/C3/FOnbpC+pTRxwPt+UtCjK4P647HH0r1iudtfBPh2x8Sy+ILfTFTUpCzGXcxAZvvMFzgE85IHc+prvwdehTp1oVk3zRsrd7pq/wA0iZJtqxY0jwpouhXs93p1ksM0wwzbicDOcAE8DPpW1QCD3orz4xUVZI2q1qlaXPUk2+7dwrkvEXhD7bI95p21JyMvF0Dn1Hoa62imZnjd1ZXdk226t5YT/trgVDGkkrbY0Z264UZNe0lQwwwBHuKQIinKqoPqBQB55ovg+7vJUmv0MFr1KE4d/wAOwr0KKKOCJYokCRoMKqjgCn0UAFFFFABRRRQAUnHcUtFADcKfajaezGnUYoAb83qDS5OOlLik5oAchyDxjmnUi9KWgApp606mnrQAlFFFABRRRQAUUUUAFFFFABRRRQAUUUUAFFFFABRRRQAUUUUAFFFJ8w9DQAtFNDc4IxS4AoAWim9T96j5h70AKVB7Umz0JFLuHfIoBB70AAB9f0o59KWigBM+tLketFJgHtQAtFGMUhz2xQAtFNBbuB+dLn2NAC0UUUAFFFFABiiiigBDnHGM0gL55X8QadRQA5elLSL0paACmnrTqaetACUUUUAFFFFABRRRQAUUUUAFFFFABRRRQAUUUZxQAUUUUAFFFFABRRRQAEA0HHeikIBoAAB1FB3Z4o6DpQPxoAWkIHXFLmkwM5oAUHNJz2pelN3igAJI7U4dKbu9Bmk8wjqpoAfRSKwbpS0AFFFJnHY0ALSYpaKAA+1NJYds/SnUUAND56gilyPWlowKADINFNKCk2HsxoAlXpS02MELyc806gApp606mnrQAlFFFABRRRQAUUUUAFFFFABRRRQAUUUUAFFFFABRRRQAZAoopMCgBaKT8aDnHFAC0UwuR1U0okU98fWgB1FFFABiiiigBpBNM2nvUtFAEQyOhp4bPWnYHpRQAwuoNOBBGRSFRSgAdKBgSBRuHrQwzTCCKBDyM96YS4NKGwKQnNADlYnqKXdzjBqMNg0ecM4NAEtFMD5p/WgAooooAcvSlpF6UtABSYFLRQAmBRgUtFACYFGBS0UAJgUYFLRQAmBRgUtFACYFGBS0UAJgUYFLRQAmBRgUtFACYFGBS0UAJgUYFLRQAmBRgUtFACYFG1T2paKAG+WoPApcClooATAowKWigBMCjApaKAEwKMClooATAowKWigBMCjApaKAEwKTYvpTqKAG7F9KaYYyc7efrUlFADRGg6ClCgdqWigBMCjApaKADpRRRQB//9k=\" />\n",
       "    <p style=\"width:256px; margin:10px; font-size:small;\">text: put the red folder into the red ball &lt;loc0271&gt;&lt;loc0331&gt;&lt;loc0049&gt;&lt;seg045&gt;&lt;seg087&gt;&lt;seg094&gt;</br></br>label: &lt;loc0388&gt;&lt;loc0285&gt;&lt;loc0059&gt;&lt;seg042&gt;&lt;seg082&gt;&lt;seg087&gt;&lt;loc0362&gt;&lt;loc0354&gt;&lt;loc0051&gt;&lt;seg042&gt;&lt;seg082&gt;&lt;seg087&gt;</p>\n",
       "</div>\n",
       "\n",
       "<div style=\"display: inline-flex; align-items: center; justify-content: center;\">\n",
       "    <img style=\"width:224px; height:224px;\" src=\"data:image/jpeg;base64,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\" />\n",
       "    <p style=\"width:256px; margin:10px; font-size:small;\">text: put the pyramid shaped keycap inside the cylindrical dark flashlight &lt;loc0171&gt;&lt;loc0049&gt;&lt;loc0036&gt;&lt;seg048&gt;&lt;seg080&gt;&lt;seg094&gt;</br></br>label: &lt;loc0293&gt;&lt;loc0022&gt;&lt;loc0051&gt;&lt;seg060&gt;&lt;seg091&gt;&lt;seg115&gt;&lt;loc0211&gt;&lt;loc0239&gt;&lt;loc0025&gt;&lt;seg060&gt;&lt;seg091&gt;&lt;seg115&gt;</p>\n",
       "</div>\n",
       "\n",
       "<div style=\"display: inline-flex; align-items: center; justify-content: center;\">\n",
       "    <img style=\"width:224px; height:224px;\" src=\"data:image/jpeg;base64,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\" />\n",
       "    <p style=\"width:256px; margin:10px; font-size:small;\">text: put the fiddler crab inside the conical seashell &lt;loc0199&gt;&lt;loc0353&gt;&lt;loc0054&gt;&lt;seg051&gt;&lt;seg084&gt;&lt;seg101&gt;</br></br>label: &lt;loc0347&gt;&lt;loc0395&gt;&lt;loc0052&gt;&lt;seg059&gt;&lt;seg092&gt;&lt;seg114&gt;&lt;loc0232&gt;&lt;loc0433&gt;&lt;loc0062&gt;&lt;seg059&gt;&lt;seg092&gt;&lt;seg114&gt;</p>\n",
       "</div>\n",
       "\n",
       "<div style=\"display: inline-flex; align-items: center; justify-content: center;\">\n",
       "    <img style=\"width:224px; height:224px;\" src=\"data:image/jpeg;base64,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\" />\n",
       "    <p style=\"width:256px; margin:10px; font-size:small;\">text: put the cylindrical metal can in the cylindrical plastic object &lt;loc0320&gt;&lt;loc0085&gt;&lt;loc0045&gt;&lt;seg050&gt;&lt;seg083&gt;&lt;seg097&gt;</br></br>label: &lt;loc0288&gt;&lt;loc0388&gt;&lt;loc0068&gt;&lt;seg059&gt;&lt;seg093&gt;&lt;seg114&gt;&lt;loc0449&gt;&lt;loc0081&gt;&lt;loc0037&gt;&lt;seg059&gt;&lt;seg093&gt;&lt;seg114&gt;</p>\n",
       "</div>\n",
       "\n",
       "<div style=\"display: inline-flex; align-items: center; justify-content: center;\">\n",
       "    <img style=\"width:224px; height:224px;\" src=\"data:image/jpeg;base64,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\" />\n",
       "    <p style=\"width:256px; margin:10px; font-size:small;\">text: put the vibrant blue toy in the round shiny apple &lt;loc0187&gt;&lt;loc0260&gt;&lt;loc0059&gt;&lt;seg042&gt;&lt;seg062&gt;&lt;seg060&gt;</br></br>label: &lt;loc0331&gt;&lt;loc0085&gt;&lt;loc0058&gt;&lt;seg043&gt;&lt;seg060&gt;&lt;seg058&gt;&lt;loc0224&gt;&lt;loc0251&gt;&lt;loc0067&gt;&lt;seg043&gt;&lt;seg060&gt;&lt;seg058&gt;</p>\n",
       "</div>\n",
       "\n",
       "<div style=\"display: inline-flex; align-items: center; justify-content: center;\">\n",
       "    <img style=\"width:224px; height:224px;\" src=\"data:image/jpeg;base64,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\" />\n",
       "    <p style=\"width:256px; margin:10px; font-size:small;\">text: put the pixelated toy in the halved green avocado &lt;loc0154&gt;&lt;loc0355&gt;&lt;loc0050&gt;&lt;seg046&gt;&lt;seg075&gt;&lt;seg084&gt;</br></br>label: &lt;loc0243&gt;&lt;loc0511&gt;&lt;loc0049&gt;&lt;seg048&gt;&lt;seg077&gt;&lt;seg090&gt;&lt;loc0123&gt;&lt;loc0408&gt;&lt;loc0063&gt;&lt;seg048&gt;&lt;seg077&gt;&lt;seg090&gt;</p>\n",
       "</div>\n"
      ],
      "text/plain": [
       "<IPython.core.display.HTML object>"
      ]
     },
     "metadata": {},
     "output_type": "display_data"
    }
   ],
   "source": [
    "from cvla.utils_vis import render_example\n",
    "import matplotlib.pyplot as plt\n",
    "from cvla.utils_traj_tokens import getActionEncInstance\n",
    "\n",
    "enc = getActionEncInstance(\"xyzrotvec-cam-512xy\")\n",
    "num_samples = 3*2\n",
    "html_imgs = \"\"\n",
    "for i in range(num_samples):\n",
    "    image, sample = train_dataset[i]\n",
    "    prefix = sample[\"prefix\"]\n",
    "    html_imgs += render_example(image, label=sample[\"suffix\"], enc=enc, text=prefix, camera=sample[\"camera\"])\n",
    "\n",
    "plot_images = True\n",
    "if plot_images:\n",
    "    from IPython.display import display, HTML\n",
    "    display(HTML(html_imgs))\n",
    "    "
   ]
  },
  {
   "cell_type": "markdown",
   "metadata": {
    "id": "_ZvYNxYbBtE3"
   },
   "source": [
    "### Load PaliGemma2 model\n",
    "\n",
    "**NOTE:** PaliGemma2 offers 9 pre-trained models with sizes of `3B`, `10B`, and `28B` parameters, and resolutions of `224`, `448`, and `896` pixels. In this tutorial, I'll be using the [`google/paligemma2-3b-pt-448`](https://huggingface.co/google/paligemma2-3b-pt-448) checkpoint. Resolution has a key impact on the mAP of the trained model, and it seems that `448` offers the most optimal balance between performance and compute resources required to train the model."
   ]
  },
  {
   "cell_type": "code",
   "execution_count": 6,
   "metadata": {
    "colab": {
     "base_uri": "https://localhost:8080/",
     "height": 17,
     "referenced_widgets": [
      "a5cd856a1fbf413a9aa4edff7cf3e636",
      "23be9405ad7f4cd8817db36f2f3834dd",
      "2e2e11bda8024f97868d45598bff6dc8",
      "11a966b75e124f369844afda5db25ab6",
      "37650cf71172405392ab843fd82360c3",
      "4fc0f4ab93ff4fddb482a8d6820b1253",
      "cda1f28093f04b1ca2e3689d1e314e10",
      "972c99a291d24b9f96ea09df63d5cf4b",
      "83aa606372b848659e13d683fa2fe09e",
      "3c26b58a776346f2920f810d99b21545",
      "fc9c7ae18f7341598a741ee8811896ff",
      "632c3fbb8739429b875687049eb1cf61",
      "7aeec69c06b049738c1fae480103cb1d",
      "c4e5a6e67ec3443fb73bfa86a27df704",
      "9355cb34cea948909504c1144169b693",
      "7a294c9159804eb388a2d7fe67f2920e",
      "7877bed5b8144f78a5a3f8b33741a82b",
      "dcb6f37a97664ed8ad2a699956bd772b",
      "ee2fa3db801344ba8564f700ca5ee2c5",
      "d5b373e9c1fc4d078e5512764235c6ba"
     ]
    },
    "id": "VfCgxIp3EjmC",
    "outputId": "db59a5d0-440f-4ca3-c5a3-194b9e22f7bd"
   },
   "outputs": [],
   "source": [
    "# from huggingface_hub import notebook_login\n",
    "# notebook_login()"
   ]
  },
  {
   "cell_type": "code",
   "execution_count": 7,
   "metadata": {
    "colab": {
     "base_uri": "https://localhost:8080/",
     "height": 145,
     "referenced_widgets": [
      "2f877f70e9b241f08717bba2b7616198",
      "9393bb98f83e4bf1bd8becdfdfb41f12",
      "41a50a96ca224e0aa12ef142d317e762",
      "cfcdcf908ff04fa19159c98b08c851ce",
      "9165a3ed1f2d4671b089dd00cae0fdbb",
      "6873590d9ac9436facef6cb182e1c077",
      "7ef24d8b5077400b9e005b373ab8d4f1",
      "df5fb754518547b480d95ce715bcdd8b",
      "c3eddb53526e4694bbf5ee3636e1b806",
      "eaf748f0d17148eba7e6351d107c1a50",
      "625fb0f94f5546e0a643192c2bd6c40f",
      "45db0bb8841f48e38c8eb8d28c1e72b8",
      "254a4ab182234215a7aeb6873f6c62af",
      "b7c2a5216879471c982406086571af7e",
      "9db3a6d6cd9548878d0998150f897ff1",
      "3226844ff08a46dcbc982432456d496b",
      "94f8f306b995471291fc610c4f170b26",
      "b91043be62ef4965852d9dcf5faf8edc",
      "141bc95f2dcc485cb9d23f0f01d28f24",
      "a770c3f09c204bf7b879a0d72256977d",
      "545d3d664c8e49cab3270012be39a604",
      "eeb274cb895f416bb85211d8ed07c005",
      "a3be6c18dd6440e48e80a9dc70bf9c9a",
      "f6619c93a7274805bb3005b0898d5f5f",
      "ef7ffed4ac344f7aaf1f39417284f4e3",
      "eab62ec555b146f4802630f6dd38afc6",
      "3dd89974f8b74268bf295119037ab0b8",
      "b18537a50e8f4e4d9829735ea2a98596",
      "d7f77f6a75f9441b8b1231b2eec3123a",
      "9f36c016c2a24d398e84c62964c47277",
      "dce11ec58ce84d9ea0ae3ac26519e796",
      "1a33f188e7ce499ebcb96e7e1617efe4",
      "be391a3e32d04aea837517041123cece",
      "4dd7115fec054f4790524d469bb263f7",
      "b6a7688a29f74e18b9c10ca185585457",
      "ed85f01229c146a48ae86370c36fb588",
      "2e5cf178fc03434faad8539094ddce4a",
      "ae8a2d84dd28458ba68bc94553337064",
      "20f03fcb438749f5a95cd3a72246fafd",
      "6f9622e6bdb1478e99ddddd1e2257f01",
      "f6e321f3c19f41688f3b2fd84243e851",
      "52d311c2b3af4979b433a392e77b5b21",
      "bddb4ea70dab445badbd5a4b2ef66ed4",
      "e9eb6315ff8a42f4911a3cee35e8320b"
     ]
    },
    "id": "ntXj4A3SyEAa",
    "outputId": "898b4343-0089-4ee6-8a54-d1f76d39b59f"
   },
   "outputs": [
    {
     "name": "stdout",
     "output_type": "stream",
     "text": [
      "cuda visible devices: 0,1\n",
      "cuda\n",
      "Using device: cuda\n",
      "Good devices [0, 1]\n"
     ]
    },
    {
     "data": {
      "application/vnd.jupyter.widget-view+json": {
       "model_id": "c875dddc7d154821965e5c603929179b",
       "version_major": 2,
       "version_minor": 0
      },
      "text/plain": [
       "Loading checkpoint shards:   0%|          | 0/2 [00:00<?, ?it/s]"
      ]
     },
     "metadata": {},
     "output_type": "display_data"
    }
   ],
   "source": [
    "from transformers import PaliGemmaProcessor, PaliGemmaForConditionalGeneration\n",
    "import torch\n",
    "import transformers\n",
    "\n",
    "#transformers.utils.logging.set_verbosity_error()\n",
    "\n",
    "# setting device on GPU if available, else CPU\n",
    "print(\"cuda visible devices:\", os.environ[\"CUDA_VISIBLE_DEVICES\"])\n",
    "devices_good = sorted((int(x) for x in os.environ[\"CUDA_VISIBLE_DEVICES\"].split(\",\")))\n",
    "DEVICE = torch.device('cuda')\n",
    "print(DEVICE)\n",
    "print('Using device:', DEVICE)\n",
    "print(\"Good devices\", devices_good)\n",
    "\n",
    "TORCH_DTYPE = torch.bfloat16\n",
    "# use checkpoint\n",
    "#LOCAL_CHECKPOINT = \"/data/lmbraid19/argusm/models/_text_lr3e-05xyzrotvec-cam-512xy256d_2025-04-23_12-03-48/checkpoint-4687\"\n",
    "\n",
    "#fine-tune directly on paligemma2\n",
    "MODEL_NAME = \"google/paligemma2-3b-pt-224\"\n",
    "\n",
    "processor = PaliGemmaProcessor.from_pretrained(\"google/paligemma2-3b-pt-224\")\n",
    "model = PaliGemmaForConditionalGeneration.from_pretrained(\n",
    "    #LOCAL_CHECKPOINT,\n",
    "    MODEL_NAME,\n",
    "    torch_dtype=TORCH_DTYPE,\n",
    "    device_map=None,\n",
    "    attn_implementation='eager'\n",
    ")\n",
    "#.to(\"cuda\") \n",
    "tokenizer = processor.tokenizer\n"
   ]
  },
  {
   "cell_type": "code",
   "execution_count": 8,
   "metadata": {},
   "outputs": [],
   "source": [
    "import random\n",
    "def augment_suffix(suffix):\n",
    "    parts = suffix.split(' ; ')\n",
    "    random.shuffle(parts)\n",
    "    return ' ; '.join(parts)"
   ]
  },
  {
   "cell_type": "code",
   "execution_count": 9,
   "metadata": {},
   "outputs": [
    {
     "name": "stdout",
     "output_type": "stream",
     "text": [
      "input_ids torch.Size([3, 289])\n",
      "token_type_ids torch.Size([3, 289])\n",
      "attention_mask torch.Size([3, 289])\n",
      "pixel_values torch.Size([3, 3, 224, 224])\n",
      "labels torch.Size([3, 289])\n"
     ]
    }
   ],
   "source": [
    "def collate_fn(batch):\n",
    "    images, labels = zip(*batch)\n",
    "    prefixes = [\"<image>\" + label[\"prefix\"] for label in labels]\n",
    "    suffixes = [augment_suffix(label[\"suffix\"]) for label in labels]\n",
    "\n",
    "    inputs = processor(\n",
    "        text=prefixes,\n",
    "        images=images,\n",
    "        return_tensors=\"pt\",\n",
    "        suffix=suffixes,\n",
    "        padding=\"longest\"\n",
    "    ).to(TORCH_DTYPE)\n",
    "\n",
    "    return inputs\n",
    "\n",
    "batch = [train_dataset[i] for i in range(3)]\n",
    "inputs = collate_fn(batch)\n",
    "for x in inputs:\n",
    "    print(x, inputs[x].shape)"
   ]
  },
  {
   "cell_type": "code",
   "execution_count": 10,
   "metadata": {},
   "outputs": [
    {
     "data": {
      "text/plain": [
       "tensor([[     0,      0,      0, 257152, 257152, 257152, 257152, 257152, 257152,\n",
       "         257152, 257152, 257152, 257152, 257152, 257152, 257152, 257152, 257152,\n",
       "         257152, 257152, 257152, 257152, 257152, 257152, 257152, 257152, 257152,\n",
       "         257152, 257152, 257152, 257152, 257152, 257152, 257152, 257152, 257152,\n",
       "         257152, 257152, 257152, 257152, 257152, 257152, 257152, 257152, 257152,\n",
       "         257152, 257152, 257152, 257152, 257152, 257152, 257152, 257152, 257152,\n",
       "         257152, 257152, 257152, 257152, 257152, 257152, 257152, 257152, 257152,\n",
       "         257152, 257152, 257152, 257152, 257152, 257152, 257152, 257152, 257152,\n",
       "         257152, 257152, 257152, 257152, 257152, 257152, 257152, 257152, 257152,\n",
       "         257152, 257152, 257152, 257152, 257152, 257152, 257152, 257152, 257152,\n",
       "         257152, 257152, 257152, 257152, 257152, 257152, 257152, 257152, 257152,\n",
       "         257152, 257152, 257152, 257152, 257152, 257152, 257152, 257152, 257152,\n",
       "         257152, 257152, 257152, 257152, 257152, 257152, 257152, 257152, 257152,\n",
       "         257152, 257152, 257152, 257152, 257152, 257152, 257152, 257152, 257152,\n",
       "         257152, 257152, 257152, 257152, 257152, 257152, 257152, 257152, 257152,\n",
       "         257152, 257152, 257152, 257152, 257152, 257152, 257152, 257152, 257152,\n",
       "         257152, 257152, 257152, 257152, 257152, 257152, 257152, 257152, 257152,\n",
       "         257152, 257152, 257152, 257152, 257152, 257152, 257152, 257152, 257152,\n",
       "         257152, 257152, 257152, 257152, 257152, 257152, 257152, 257152, 257152,\n",
       "         257152, 257152, 257152, 257152, 257152, 257152, 257152, 257152, 257152,\n",
       "         257152, 257152, 257152, 257152, 257152, 257152, 257152, 257152, 257152,\n",
       "         257152, 257152, 257152, 257152, 257152, 257152, 257152, 257152, 257152,\n",
       "         257152, 257152, 257152, 257152, 257152, 257152, 257152, 257152, 257152,\n",
       "         257152, 257152, 257152, 257152, 257152, 257152, 257152, 257152, 257152,\n",
       "         257152, 257152, 257152, 257152, 257152, 257152, 257152, 257152, 257152,\n",
       "         257152, 257152, 257152, 257152, 257152, 257152, 257152, 257152, 257152,\n",
       "         257152, 257152, 257152, 257152, 257152, 257152, 257152, 257152, 257152,\n",
       "         257152, 257152, 257152, 257152, 257152, 257152, 257152, 257152, 257152,\n",
       "         257152, 257152, 257152, 257152, 257152, 257152, 257152,      2,   1065,\n",
       "            573,   3118,  15173,    575,    573,   3118,   5744, 235248, 256271,\n",
       "         256331, 256049, 257069, 257111, 257118,    108, 256388, 256285, 256059,\n",
       "         257066, 257106, 257111, 256362, 256354, 256051, 257066, 257106, 257111,\n",
       "              1],\n",
       "        [257152, 257152, 257152, 257152, 257152, 257152, 257152, 257152, 257152,\n",
       "         257152, 257152, 257152, 257152, 257152, 257152, 257152, 257152, 257152,\n",
       "         257152, 257152, 257152, 257152, 257152, 257152, 257152, 257152, 257152,\n",
       "         257152, 257152, 257152, 257152, 257152, 257152, 257152, 257152, 257152,\n",
       "         257152, 257152, 257152, 257152, 257152, 257152, 257152, 257152, 257152,\n",
       "         257152, 257152, 257152, 257152, 257152, 257152, 257152, 257152, 257152,\n",
       "         257152, 257152, 257152, 257152, 257152, 257152, 257152, 257152, 257152,\n",
       "         257152, 257152, 257152, 257152, 257152, 257152, 257152, 257152, 257152,\n",
       "         257152, 257152, 257152, 257152, 257152, 257152, 257152, 257152, 257152,\n",
       "         257152, 257152, 257152, 257152, 257152, 257152, 257152, 257152, 257152,\n",
       "         257152, 257152, 257152, 257152, 257152, 257152, 257152, 257152, 257152,\n",
       "         257152, 257152, 257152, 257152, 257152, 257152, 257152, 257152, 257152,\n",
       "         257152, 257152, 257152, 257152, 257152, 257152, 257152, 257152, 257152,\n",
       "         257152, 257152, 257152, 257152, 257152, 257152, 257152, 257152, 257152,\n",
       "         257152, 257152, 257152, 257152, 257152, 257152, 257152, 257152, 257152,\n",
       "         257152, 257152, 257152, 257152, 257152, 257152, 257152, 257152, 257152,\n",
       "         257152, 257152, 257152, 257152, 257152, 257152, 257152, 257152, 257152,\n",
       "         257152, 257152, 257152, 257152, 257152, 257152, 257152, 257152, 257152,\n",
       "         257152, 257152, 257152, 257152, 257152, 257152, 257152, 257152, 257152,\n",
       "         257152, 257152, 257152, 257152, 257152, 257152, 257152, 257152, 257152,\n",
       "         257152, 257152, 257152, 257152, 257152, 257152, 257152, 257152, 257152,\n",
       "         257152, 257152, 257152, 257152, 257152, 257152, 257152, 257152, 257152,\n",
       "         257152, 257152, 257152, 257152, 257152, 257152, 257152, 257152, 257152,\n",
       "         257152, 257152, 257152, 257152, 257152, 257152, 257152, 257152, 257152,\n",
       "         257152, 257152, 257152, 257152, 257152, 257152, 257152, 257152, 257152,\n",
       "         257152, 257152, 257152, 257152, 257152, 257152, 257152, 257152, 257152,\n",
       "         257152, 257152, 257152, 257152, 257152, 257152, 257152, 257152, 257152,\n",
       "         257152, 257152, 257152, 257152, 257152, 257152, 257152, 257152, 257152,\n",
       "         257152, 257152, 257152, 257152,      2,   1065,    573,  57085,  24048,\n",
       "           2621,   5549,    575,    573,  61086,   4868,  93706, 235248, 256171,\n",
       "         256049, 256036, 257072, 257104, 257118,    108, 256293, 256022, 256051,\n",
       "         257084, 257115, 257139, 256211, 256239, 256025, 257084, 257115, 257139,\n",
       "              1],\n",
       "        [     0, 257152, 257152, 257152, 257152, 257152, 257152, 257152, 257152,\n",
       "         257152, 257152, 257152, 257152, 257152, 257152, 257152, 257152, 257152,\n",
       "         257152, 257152, 257152, 257152, 257152, 257152, 257152, 257152, 257152,\n",
       "         257152, 257152, 257152, 257152, 257152, 257152, 257152, 257152, 257152,\n",
       "         257152, 257152, 257152, 257152, 257152, 257152, 257152, 257152, 257152,\n",
       "         257152, 257152, 257152, 257152, 257152, 257152, 257152, 257152, 257152,\n",
       "         257152, 257152, 257152, 257152, 257152, 257152, 257152, 257152, 257152,\n",
       "         257152, 257152, 257152, 257152, 257152, 257152, 257152, 257152, 257152,\n",
       "         257152, 257152, 257152, 257152, 257152, 257152, 257152, 257152, 257152,\n",
       "         257152, 257152, 257152, 257152, 257152, 257152, 257152, 257152, 257152,\n",
       "         257152, 257152, 257152, 257152, 257152, 257152, 257152, 257152, 257152,\n",
       "         257152, 257152, 257152, 257152, 257152, 257152, 257152, 257152, 257152,\n",
       "         257152, 257152, 257152, 257152, 257152, 257152, 257152, 257152, 257152,\n",
       "         257152, 257152, 257152, 257152, 257152, 257152, 257152, 257152, 257152,\n",
       "         257152, 257152, 257152, 257152, 257152, 257152, 257152, 257152, 257152,\n",
       "         257152, 257152, 257152, 257152, 257152, 257152, 257152, 257152, 257152,\n",
       "         257152, 257152, 257152, 257152, 257152, 257152, 257152, 257152, 257152,\n",
       "         257152, 257152, 257152, 257152, 257152, 257152, 257152, 257152, 257152,\n",
       "         257152, 257152, 257152, 257152, 257152, 257152, 257152, 257152, 257152,\n",
       "         257152, 257152, 257152, 257152, 257152, 257152, 257152, 257152, 257152,\n",
       "         257152, 257152, 257152, 257152, 257152, 257152, 257152, 257152, 257152,\n",
       "         257152, 257152, 257152, 257152, 257152, 257152, 257152, 257152, 257152,\n",
       "         257152, 257152, 257152, 257152, 257152, 257152, 257152, 257152, 257152,\n",
       "         257152, 257152, 257152, 257152, 257152, 257152, 257152, 257152, 257152,\n",
       "         257152, 257152, 257152, 257152, 257152, 257152, 257152, 257152, 257152,\n",
       "         257152, 257152, 257152, 257152, 257152, 257152, 257152, 257152, 257152,\n",
       "         257152, 257152, 257152, 257152, 257152, 257152, 257152, 257152, 257152,\n",
       "         257152, 257152, 257152, 257152, 257152, 257152, 257152, 257152, 257152,\n",
       "         257152, 257152, 257152, 257152, 257152,      2,   1065,    573, 121510,\n",
       "           1595,  47386,    575,    573,  99639,  28318,  20256, 235248, 256199,\n",
       "         256353, 256054, 257075, 257108, 257125,    108, 256347, 256395, 256052,\n",
       "         257083, 257116, 257138, 256232, 256433, 256062, 257083, 257116, 257138,\n",
       "              1]])"
      ]
     },
     "execution_count": 10,
     "metadata": {},
     "output_type": "execute_result"
    }
   ],
   "source": [
    "inputs[\"input_ids\"]"
   ]
  },
  {
   "cell_type": "code",
   "execution_count": 24,
   "metadata": {},
   "outputs": [
    {
     "name": "stdout",
     "output_type": "stream",
     "text": [
      "save_path /work/dlclarge2/zhangj-zhangj-CFM/models/training2_topview_70000_baseline\n",
      "TRAIN_STEPS 2726\n",
      "GRAD_ACCUM 16\n"
     ]
    }
   ],
   "source": [
    "from cvla.utils_eval import Evaluator\n",
    "from transformers import Seq2SeqTrainingArguments\n",
    "from transformers import Seq2SeqTrainer\n",
    "import torch\n",
    "from torch.utils.tensorboard import SummaryWriter\n",
    "from tqdm import tqdm\n",
    "from math import ceil\n",
    "\n",
    "\n",
    "\n",
    "TRAIN_EXAMPLES = len(train_dataset)\n",
    "BATCH_SIZE = 32\n",
    "BATCH_SIZE_DEV = 2\n",
    "GRAD_ACCUM = int(round(BATCH_SIZE / BATCH_SIZE_DEV))\n",
    "TRAIN_STEPS = TRAIN_EXAMPLES // BATCH_SIZE\n",
    "SEQLEN = 12\n",
    "#EVAL_STEPS = 200\n",
    "EVAL_STEPS = 200\n",
    "SAVE_LIMIT = 5\n",
    "LOGGING_STEPS = 10\n",
    "\n",
    "\n",
    "run_name = \"_topview_70000_baseline\"\n",
    "new_model_location = Path(\"/work/dlclarge2/zhangj-zhangj-CFM/models\")\n",
    "save_path = new_model_location / (str(Path(dataset_location).stem) + run_name)\n",
    "print(\"save_path\", save_path)\n",
    "print(\"TRAIN_STEPS\",TRAIN_STEPS)\n",
    "print(\"GRAD_ACCUM\", GRAD_ACCUM)\n",
    "\n",
    "writer = SummaryWriter(log_dir=str(save_path / \"tb_logs\"))\n",
    "\n",
    "class CustomTrainer(Seq2SeqTrainer):\n",
    "    \"\"\"\n",
    "    Trainer that:\n",
    "      - uses normal loss for training\n",
    "      - runs model.generate() for evaluation\n",
    "      - uses Evaluator to compute real-world metrics\n",
    "    \"\"\"\n",
    "\n",
    "    def compute_loss(self, model, inputs, return_outputs=False, num_items_in_batch=None):\n",
    "    \n",
    "        outputs = model(**inputs)\n",
    "        loss = getattr(outputs, \"loss\", None)\n",
    "        if loss is None:\n",
    "            raise ValueError(\"Model outputs do not contain a 'loss' field.\")\n",
    "\n",
    "        if self.state.global_step % self.args.logging_steps == 0:\n",
    "            writer.add_scalar(\"train/loss_total\", loss.item(), self.state.global_step)\n",
    "            writer.add_scalar(\"train/lr\", self.optimizer.param_groups[0][\"lr\"], self.state.global_step)\n",
    "\n",
    "        return (loss, outputs) if return_outputs else loss\n",
    "\n",
    "    def evaluate(self, eval_dataset=None, ignore_keys=None, metric_key_prefix=\"eval\"):\n",
    "        \"\"\"\n",
    "        Overridden evaluation that generates predictions textually\n",
    "        and computes spatial metrics via Evaluator.\n",
    "        \"\"\"\n",
    "        self.model.eval()\n",
    "        dataset = eval_dataset or self.eval_dataset\n",
    "        # helper: unwrap nested Subsets to access H5Dataset\n",
    "        def unwrap_dataset(dset):\n",
    "            while hasattr(dset, \"dataset\"):\n",
    "                dset = dset.dataset\n",
    "            return dset\n",
    "\n",
    "        base_dataset = unwrap_dataset(dataset)\n",
    "        camera = dataset[0][1][\"camera\"]\n",
    "\n",
    "        evaluator = Evaluator(\n",
    "            getActionEncInstance(\"xyzrotvec-cam-512xy\"),\n",
    "            camera_fixed=camera,\n",
    "            encoder_labels=base_dataset.action_encoder,  # ✅ now always valid\n",
    "        )\n",
    "        # sample limited subset for speed\n",
    "        eval_batch_size = self.args.per_device_eval_batch_size\n",
    "        test_samples = min(len(dataset), 200)\n",
    "        device = next(self.model.parameters()).device\n",
    "        \n",
    "        for start_idx in tqdm(range(0, test_samples, eval_batch_size), total=ceil(test_samples / eval_batch_size)):\n",
    "            batch_i = range(start_idx, min(start_idx + eval_batch_size, test_samples))\n",
    "            batch = [dataset[i] for i in batch_i]\n",
    "            inputs = self.data_collator(batch)\n",
    "            inputs = {k: v.to(device) if isinstance(v, torch.Tensor) else v for k, v in inputs.items()}\n",
    "            prefix_length = inputs[\"input_ids\"].shape[-1]\n",
    "\n",
    "            with torch.inference_mode():\n",
    "                generation = self.model.generate(**inputs, max_new_tokens=13, do_sample=False, use_cache=False)\n",
    "                decoded = [\n",
    "                    self.processing_class.decode(x[prefix_length:], skip_special_tokens=True) for x in generation\n",
    "                ]\n",
    "                decoded_labels = [\n",
    "                    self.processing_class.decode([t for t in x.tolist() if t >= 0], skip_special_tokens=True)\n",
    "                    for x in inputs[\"labels\"]\n",
    "                ]\n",
    "\n",
    "\n",
    "            for pred, label in zip(decoded, decoded_labels):\n",
    "                evaluator.evaluate(pred, label, camera=camera)\n",
    "\n",
    "        stats = evaluator.report_stats()\n",
    "        metrics = {f\"{metric_key_prefix}_{k}\": v for k, v in stats.items()}\n",
    "\n",
    "        # log to TensorBoard\n",
    "        for k, v in metrics.items():\n",
    "            writer.add_scalar(k, v, self.state.global_step)\n",
    "\n",
    "        self.log(metrics)\n",
    "        return metrics"
   ]
  },
  {
   "cell_type": "code",
   "execution_count": null,
   "metadata": {},
   "outputs": [],
   "source": []
  },
  {
   "cell_type": "markdown",
   "metadata": {},
   "source": [
    "## Fine-tune with JAX settings"
   ]
  },
  {
   "cell_type": "code",
   "execution_count": 25,
   "metadata": {},
   "outputs": [
    {
     "name": "stderr",
     "output_type": "stream",
     "text": [
      "/home/zhangj/miniconda3/envs/mani_skill_clean/lib/python3.12/site-packages/transformers/training_args.py:1575: FutureWarning: `evaluation_strategy` is deprecated and will be removed in version 4.46 of 🤗 Transformers. Use `eval_strategy` instead\n",
      "  warnings.warn(\n",
      "/tmp/ipykernel_332085/1012045069.py:39: FutureWarning: `tokenizer` is deprecated and will be removed in version 5.0.0 for `CustomTrainer.__init__`. Use `processing_class` instead.\n",
      "  trainer = CustomTrainer(\n"
     ]
    }
   ],
   "source": [
    "\n",
    "for param in model.vision_tower.parameters():\n",
    "    param.requires_grad = False\n",
    "\n",
    "for param in model.multi_modal_projector.parameters():\n",
    "    param.requires_grad = False\n",
    "    \n",
    "for name, param in model.named_parameters():\n",
    "    if param.requires_grad == True:\n",
    "        if \"self_attn\" in name:\n",
    "            param.requires_grad = True\n",
    "        else:\n",
    "            param.requires_grad = False\n",
    "\n",
    "args_jax = Seq2SeqTrainingArguments(\n",
    "    max_steps=TRAIN_STEPS,\n",
    "    per_device_train_batch_size=BATCH_SIZE_DEV,\n",
    "    gradient_accumulation_steps=GRAD_ACCUM,\n",
    "    learning_rate=3e-5,\n",
    "    lr_scheduler_type=\"cosine\",\n",
    "    warmup_ratio=0.05,\n",
    "    generation_max_length=SEQLEN,\n",
    "    logging_steps=LOGGING_STEPS,\n",
    "    optim=\"adafactor\",\n",
    "    evaluation_strategy=\"steps\",\n",
    "    eval_steps=EVAL_STEPS,\n",
    "    save_strategy=\"steps\",\n",
    "    save_steps=EVAL_STEPS,\n",
    "    save_total_limit=SAVE_LIMIT,\n",
    "    load_best_model_at_end=True,\n",
    "    metric_for_best_model=\"cart_l1\",\n",
    "    greater_is_better=False,\n",
    "    bf16=True,\n",
    "    output_dir=save_path,\n",
    "    report_to=[\"tensorboard\"],\n",
    "    dataloader_num_workers=4,\n",
    "    remove_unused_columns=False,\n",
    ")\n",
    "\n",
    "trainer = CustomTrainer(\n",
    "    model=model,\n",
    "    tokenizer=tokenizer,\n",
    "    train_dataset=train_dataset,\n",
    "    eval_dataset=val_dataset_small,\n",
    "    data_collator=collate_fn,  # replace with your collate_fn if you use one\n",
    "    args=args_jax,\n",
    ")"
   ]
  },
  {
   "cell_type": "code",
   "execution_count": 13,
   "metadata": {},
   "outputs": [],
   "source": [
    "#only when recover from last time training\n",
    "#last_checkpoint = \"/work/dlclarge2/zhangj-zhangj-CFM/models/training2_topview_70000_based/checkpoint-183\"\n",
    "#trainer.train(resume_from_checkpoint=last_checkpoint)\n"
   ]
  },
  {
   "cell_type": "code",
   "execution_count": 26,
   "metadata": {},
   "outputs": [
    {
     "data": {
      "text/html": [
       "\n",
       "    <div>\n",
       "      \n",
       "      <progress value='2726' max='2726' style='width:300px; height:20px; vertical-align: middle;'></progress>\n",
       "      [2726/2726 4:15:13, Epoch 0/1]\n",
       "    </div>\n",
       "    <table border=\"1\" class=\"dataframe\">\n",
       "  <thead>\n",
       " <tr style=\"text-align: left;\">\n",
       "      <th>Step</th>\n",
       "      <th>Training Loss</th>\n",
       "      <th>Validation Loss</th>\n",
       "    </tr>\n",
       "  </thead>\n",
       "  <tbody>\n",
       "  </tbody>\n",
       "</table><p>"
      ],
      "text/plain": [
       "<IPython.core.display.HTML object>"
      ]
     },
     "metadata": {},
     "output_type": "display_data"
    },
    {
     "name": "stderr",
     "output_type": "stream",
     "text": [
      "100%|███████████████████████████████████████████████████████████████████████████████| 25/25 [01:48<00:00,  4.34s/it]\n",
      "100%|███████████████████████████████████████████████████████████████████████████████| 25/25 [01:47<00:00,  4.32s/it]\n",
      "100%|███████████████████████████████████████████████████████████████████████████████| 25/25 [01:48<00:00,  4.33s/it]\n",
      "100%|███████████████████████████████████████████████████████████████████████████████| 25/25 [01:48<00:00,  4.33s/it]\n",
      "100%|███████████████████████████████████████████████████████████████████████████████| 25/25 [01:48<00:00,  4.34s/it]\n",
      "100%|███████████████████████████████████████████████████████████████████████████████| 25/25 [01:48<00:00,  4.33s/it]\n",
      "100%|███████████████████████████████████████████████████████████████████████████████| 25/25 [01:48<00:00,  4.32s/it]\n",
      "100%|███████████████████████████████████████████████████████████████████████████████| 25/25 [01:48<00:00,  4.33s/it]\n",
      "100%|███████████████████████████████████████████████████████████████████████████████| 25/25 [01:47<00:00,  4.32s/it]\n",
      "100%|███████████████████████████████████████████████████████████████████████████████| 25/25 [01:47<00:00,  4.32s/it]\n",
      "100%|███████████████████████████████████████████████████████████████████████████████| 25/25 [01:46<00:00,  4.25s/it]\n",
      "100%|███████████████████████████████████████████████████████████████████████████████| 25/25 [01:48<00:00,  4.33s/it]\n",
      "100%|███████████████████████████████████████████████████████████████████████████████| 25/25 [01:48<00:00,  4.32s/it]\n",
      "There were missing keys in the checkpoint model loaded: ['language_model.lm_head.weight'].\n"
     ]
    },
    {
     "name": "stdout",
     "output_type": "stream",
     "text": [
      "✅ Training completed successfully with Evaluator-based validation.\n"
     ]
    }
   ],
   "source": [
    "trainer.train()\n",
    "trainer.save_model(str(save_path / \"final_checkpoint\"))\n",
    "writer.close()\n",
    "print(\"✅ Training completed successfully with Evaluator-based validation.\")"
   ]
  },
  {
   "cell_type": "code",
   "execution_count": null,
   "metadata": {},
   "outputs": [],
   "source": [
    "for key, value in inputs.items():\n",
    "    if torch.is_tensor(value):\n",
    "        inputs[key] = value.to(DEVICE)"
   ]
  },
  {
   "cell_type": "code",
   "execution_count": null,
   "metadata": {},
   "outputs": [],
   "source": [
    "print(\"Model device:\", next(model.parameters()).device)\n",
    "for k, v in inputs.items():\n",
    "    if torch.is_tensor(v):\n",
    "        print(f\"  {k}: {v.device}\")\n"
   ]
  },
  {
   "cell_type": "code",
   "execution_count": null,
   "metadata": {},
   "outputs": [],
   "source": [
    "print(next(model.parameters()).device)\n",
    "print({k: v.device for k, v in inputs.items() if torch.is_tensor(v)})"
   ]
  },
  {
   "cell_type": "code",
   "execution_count": null,
   "metadata": {},
   "outputs": [],
   "source": []
  },
  {
   "cell_type": "code",
   "execution_count": null,
   "metadata": {},
   "outputs": [],
   "source": []
  }
 ],
 "metadata": {
  "accelerator": "GPU",
  "colab": {
   "gpuType": "A100",
   "machine_shape": "hm",
   "provenance": []
  },
  "kernelspec": {
   "display_name": "Python 3 (ipykernel)",
   "language": "python",
   "name": "python3"
  },
  "language_info": {
   "codemirror_mode": {
    "name": "ipython",
    "version": 3
   },
   "file_extension": ".py",
   "mimetype": "text/x-python",
   "name": "python",
   "nbconvert_exporter": "python",
   "pygments_lexer": "ipython3",
   "version": "3.12.11"
  }
 },
 "nbformat": 4,
 "nbformat_minor": 4
}
