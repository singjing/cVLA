{
  "cells": [
    {
      "cell_type": "markdown",
      "metadata": {
        "id": "4LqvmtZPzyY1"
      },
      "source": [
        "[![Roboflow Notebooks](https://media.roboflow.com/notebooks/template/bannertest2-2.png?ik-sdk-version=javascript-1.4.3&updatedAt=1672932710194)](https://github.com/roboflow/notebooks)\n",
        "\n",
        "# Fine-tune PaliGemma on Object Detection Dataset\n",
        "\n",
        "---\n",
        "\n",
        "[![GitHub](https://badges.aleen42.com/src/github.svg)](https://github.com/google-research/big_vision/blob/main/big_vision/configs/proj/paligemma/README.md)\n",
        "[![Roboflow](https://raw.githubusercontent.com/roboflow-ai/notebooks/main/assets/badges/roboflow-blogpost.svg)](https://blog.roboflow.com/how-to-fine-tune-paligemma/)\n",
        "[![YouTube](https://badges.aleen42.com/src/youtube.svg)](https://www.youtube.com/watch?v=OMBmVInx68M)\n",
        "\n",
        "PaliGemma is an open vision-language model (VLM) inspired by PaLI-3, built with\n",
        "open components, such as\n",
        "the [SigLIP vision model](https://colab.research.google.com/github/google-research/big_vision/blob/main/big_vision/configs/proj/image_text/SigLIP_demo.ipynb)\n",
        "and\n",
        "the [Gemma language model](https://ai.google.dev/gemma).\n",
        "PaliGemma is designed as a versatile model for transfer to a wide range of\n",
        "vision-language tasks such as image and short video caption, visual question\n",
        "answering, text reading, object detection and object segmentation. Together with\n",
        "the pretrained and transfer checkpoints at multiple resolutions, we provide a\n",
        "checkpoint transferred to a mixture of tasks that can be used for off-the-shelf\n",
        "exploration.\n",
        "\n",
        "This notebook is an extension of the [official notebook](https://colab.research.google.com/github/google-research/big_vision/blob/main/big_vision/configs/proj/paligemma/finetune_paligemma.ipynb) prepared by Google Research.\n",
        "\n",
        "![PaliGemma model](https://storage.cloud.google.com/com-roboflow-marketing/notebooks/examples/paligemma.png)\n",
        "\n",
        "This notebook shows how to fine-tune [PaliGemma](https://ai.google.dev/gemma/docs/paligemma) on a vision-language task with [JAX](https://jax.readthedocs.io/en/latest/index.html). *Fine-tuning* is a process that can improve your model's performance on specific tasks or help the model adhere to specific output requirements when instructions aren't sufficient and you have a set of examples that demonstrate the outputs you want. Gemma-based models like PaliGemma require fine-tuning to produce expected results.\n",
        "\n",
        "To make it runnable on a T4 colab runtime with 16GB HBM and 12GB RAM, we opt to only finetune the attention layers of the language model and freeze the other parameters."
      ]
    },
    {
      "cell_type": "markdown",
      "metadata": {
        "id": "lBp3Czz3GBmc"
      },
      "source": [
        "## Setup"
      ]
    },
    {
      "cell_type": "markdown",
      "metadata": {
        "id": "4ohXT9pQFjZs"
      },
      "source": [
        "### Get access to PaliGemma\n",
        "\n",
        "Before using PaliGemma for the first time, you must request access to the model through Kaggle by completing the following steps:\n",
        "\n",
        "1. Log in to [`Kaggle`](https://www.kaggle.com), or create a new Kaggle account if you don't already have one.\n",
        "1. Go to the [`PaliGemma Model Card`](https://www.kaggle.com/models/google/paligemma/) and click `Request Access`.\n",
        "1. Complete the consent form and accept the terms and conditions."
      ]
    },
    {
      "cell_type": "markdown",
      "metadata": {
        "id": "ADTkh-2y_9Yv"
      },
      "source": [
        "### Configure your API keys\n",
        "\n",
        "To use PaliGemma, you need to provide your Kaggle username, Kaggle API key, and Roboflow API key. Follow these steps:\n",
        "\n",
        "- Open your [`Kaggle Settings`](https://www.kaggle.com/settings) page. Click `Create New Token`. This will download a `kaggle.json` file containing your API credentials.\n",
        "- Go to your [`Roboflow Settings`](https://app.roboflow.com/settings/api) page. Click `Copy`. This will place your private key in the clipboard.\n",
        "- In Colab, go to the left pane and click on `Secrets` (🔑).\n",
        "    - Store Kaggle Username under the name `KAGGLE_USERNAME`.\n",
        "    - Store Kaggle API Key under the name `KAGGLE_KEY`.\n",
        "    - Store Roboflow API Key under the name `ROBOFLOW_API_KEY`."
      ]
    },
    {
      "cell_type": "markdown",
      "metadata": {
        "id": "4wyojKiG_hX9"
      },
      "source": [
        "### Select the runtime\n",
        "\n",
        "Let's make sure that we have access to GPU. We can use `nvidia-smi` command to do that. In case of any problems navigate to `Edit` -> `Notebook settings` -> `Hardware accelerator`, set it to `T4 GPU`, and then click `Save`."
      ]
    },
    {
      "cell_type": "code",
      "execution_count": 1,
      "metadata": {},
      "outputs": [],
      "source": [
        "#!nvidia-smi\n",
        "# !pip install -U \"jax[cuda12]\"\n",
        "# !pip install jax\n",
        "# !pip install tensorflow\n",
        "# !pip install flax\n",
        "# !pip install kagglehub\n",
        "# !pip install gsutil"
      ]
    },
    {
      "cell_type": "markdown",
      "metadata": {
        "id": "FMlw3ru1YvLg"
      },
      "source": [
        "### Download dataset from Roboflow Universe\n",
        "\n",
        "To fine-tune PaliGemma, prepare your dataset in JSONL format. You can use Roboflow to easily convert any dataset into this format."
      ]
    },
    {
      "cell_type": "code",
      "execution_count": 2,
      "metadata": {
        "colab": {
          "base_uri": "https://localhost:8080/"
        },
        "id": "Wtvz4QZ9YuG8",
        "outputId": "e4593376-d845-4467-9775-5f965bc79e79"
      },
      "outputs": [],
      "source": [
        "# !pip install -q roboflow\n",
        "# !pip install -q git+https://github.com/roboflow/supervision.git"
      ]
    },
    {
      "cell_type": "code",
      "execution_count": 3,
      "metadata": {
        "colab": {
          "base_uri": "https://localhost:8080/"
        },
        "id": "TGDFTYVnY4zn",
        "outputId": "c83f6f3c-934d-4c40-c67d-236f08a7f5ff"
      },
      "outputs": [],
      "source": [
        "#from roboflow import Roboflow\n",
        "#import os\n",
        "# ROBOFLOW_API_KEY = os.environ['ROBOFLOW_API_KEY']\n",
        "# ROBOFLOW_API_KEY=\"hCCEILjNcf8HxZrYav6A\"\n",
        "# rf = Roboflow(api_key=ROBOFLOW_API_KEY)\n",
        "# project = rf.workspace(\"roboflow-jvuqo\").project(\"number-ops-j1426\")\n",
        "# version = project.version(1)\n",
        "# dataset = version.download(\"paligemma\")\n",
        "# dataset.location = \"/content/clevr-act-1\""
      ]
    },
    {
      "cell_type": "code",
      "execution_count": null,
      "metadata": {
        "colab": {
          "base_uri": "https://localhost:8080/"
        },
        "id": "WLhSenP5AtQe",
        "outputId": "272faa58-9e9e-4440-f86b-fdb795d5c31a"
      },
      "outputs": [],
      "source": [
        "dataset_location = \"/tmp/clevr-act-6-rbt\"\n",
        "!head -n 1 {dataset_location}/dataset/_annotations.all.jsonl\n",
        "print(\"Train set:\")\n",
        "!head -n 5 {dataset_location}/dataset/_annotations.train.jsonl\n",
        "print(\"\\nValidation set:\")\n",
        "!head -n 5 {dataset_location}/dataset/_annotations.valid.jsonl"
      ]
    },
    {
      "cell_type": "code",
      "execution_count": null,
      "metadata": {
        "colab": {
          "base_uri": "https://localhost:8080/",
          "height": 349
        },
        "id": "6ihTTuTd747l",
        "outputId": "68d62f82-bd14-4b01-8f41-89c62eb3fe92"
      },
      "outputs": [],
      "source": [
        "import cv2\n",
        "import json\n",
        "import supervision as sv\n",
        "from typing import List\n",
        "\n",
        "def read_n_lines(file_path: str, n: int) -> List[str]:\n",
        "    with open(file_path, 'r') as file:\n",
        "        lines = [next(file).strip() for _ in range(n)]\n",
        "    return lines\n",
        "\n",
        "images = []\n",
        "lines = read_n_lines(f\"{dataset_location}/dataset/_annotations.train.jsonl\", 25)\n",
        "first = json.loads(lines[0])\n",
        "\n",
        "#CLASSES = first.get('prefix').replace(\"detect \", \"\").split(\" ; \")\n",
        "\n",
        "for line in lines:\n",
        "    data = json.loads(line)\n",
        "    image_path = f\"{dataset_location}/dataset/{data.get('image')}\"\n",
        "    image = cv2.imread(image_path)\n",
        "    \n",
        "    (h, w, _) = image.shape\n",
        "    CLASSES = [data.get('prefix').replace(\"detect \",\"\")]\n",
        "    detections = sv.Detections.from_lmm(\n",
        "        lmm='paligemma',\n",
        "        result=data.get('suffix'),\n",
        "        resolution_wh=(w, h),\n",
        "        classes=CLASSES)\n",
        "\n",
        "    image = sv.BoundingBoxAnnotator(thickness=4).annotate(image, detections)\n",
        "    image = sv.LabelAnnotator(text_scale=2, text_thickness=4).annotate(image, detections)\n",
        "    images.append(image)\n",
        "\n",
        "sv.plot_images_grid(images, (5, 5))"
      ]
    },
    {
      "cell_type": "markdown",
      "metadata": {
        "id": "eg3sqaoPFS3W"
      },
      "source": [
        "### Fetch the `big_vision` repository and install related dependencies\n",
        "\n",
        "Download the `big_vision` repository to your Colab notebook from GitHub and install dependencies related to `big_vision` by running the following code."
      ]
    },
    {
      "cell_type": "code",
      "execution_count": 6,
      "metadata": {
        "id": "DfxKb3F839Ks"
      },
      "outputs": [],
      "source": [
        "import os\n",
        "import sys\n",
        "\n",
        "# TPUs with\n",
        "if \"COLAB_TPU_ADDR\" in os.environ:\n",
        "  raise \"It seems you are using Colab with remote TPUs which is not supported.\"\n",
        "\n",
        "# Fetch big_vision repository if python doesn't know about it and install\n",
        "# dependencies needed for this notebook.\n",
        "if not os.path.exists(\"big_vision_repo\"):\n",
        "  !git clone --quiet --branch=main --depth=1 \\\n",
        "     https://github.com/google-research/big_vision big_vision_repo\n",
        "\n",
        "# Append big_vision code to python import path\n",
        "if \"big_vision_repo\" not in sys.path:\n",
        "  sys.path.append(\"big_vision_repo\")\n",
        "\n",
        "# Install missing dependencies. Assume jax~=0.4.25 with GPU available.\n",
        "!pip3 install -q \"overrides\" \"ml_collections\" \"einops~=0.7\" \"sentencepiece\"\n"
      ]
    },
    {
      "cell_type": "markdown",
      "metadata": {
        "id": "YU2fs7d0F1Fo"
      },
      "source": [
        "### Set environment variables\n",
        "\n",
        "Set the environment variables for `KAGGLE_USERNAME` and `KAGGLE_KEY`."
      ]
    },
    {
      "cell_type": "code",
      "execution_count": null,
      "metadata": {
        "id": "zGLIp1Cx3_CX"
      },
      "outputs": [],
      "source": [
        "!file ~/.kaggle/kaggle.json"
      ]
    },
    {
      "cell_type": "markdown",
      "metadata": {
        "id": "zx3dj5NzG93I"
      },
      "source": [
        "### Import JAX and other dependencies\n",
        "\n",
        "Import JAX and other dependencies required for PaliGemma, like TensorFlow and NumPy."
      ]
    },
    {
      "cell_type": "code",
      "execution_count": null,
      "metadata": {
        "id": "OlWELn2FHB22"
      },
      "outputs": [],
      "source": [
        "import base64\n",
        "import functools\n",
        "import html\n",
        "import io\n",
        "import warnings\n",
        "\n",
        "import jax\n",
        "import jax.numpy as jnp\n",
        "import numpy as np\n",
        "import ml_collections\n",
        "\n",
        "import tensorflow as tf\n",
        "import sentencepiece\n",
        "\n",
        "from IPython.display import display, HTML\n",
        "from PIL import Image\n",
        "from tqdm.notebook import tqdm\n",
        "\n",
        "# Import model definition from big_vision\n",
        "from big_vision.models.proj.paligemma import paligemma\n",
        "from big_vision.trainers.proj.paligemma import predict_fns\n",
        "\n",
        "# Import big vision utilities\n",
        "import big_vision.datasets.jsonl\n",
        "import big_vision.utils\n",
        "import big_vision.sharding\n",
        "\n",
        "# Don't let TF use the GPU or TPUs\n",
        "tf.config.set_visible_devices([], \"GPU\")\n",
        "tf.config.set_visible_devices([], \"TPU\")\n",
        "\n",
        "backend = jax.lib.xla_bridge.get_backend()\n",
        "print(f\"JAX version:  {jax.__version__}\")\n",
        "print(f\"JAX platform: {backend.platform}\")\n",
        "print(f\"JAX devices:  {jax.device_count()}\")"
      ]
    },
    {
      "cell_type": "markdown",
      "metadata": {
        "id": "_PHhkFGuHMFF"
      },
      "source": [
        "## Download and configure the model\n",
        "\n",
        "In this step, you'll download the model checkpoint and configure it so that you can fine-tune it later on. This step shows you how to move model parameters into TPU memory, which is useful for fine-tuning models on devices with limited resources."
      ]
    },
    {
      "cell_type": "markdown",
      "metadata": {
        "id": "9wU_sHbGHQka"
      },
      "source": [
        "### Download the model checkpoint\n",
        "\n",
        "PaliGemma includes several model variations. For this tutorial, you'll use the base [JAX/FLAX PaliGemma 3B weight model](https://www.kaggle.com/models/google/paligemma/jax/paligemma-3b-pt-224).\n",
        "\n",
        "Download the `float16` version of the model checkpoint from Kaggle by running the following code. This process takes several minutes to complete."
      ]
    },
    {
      "cell_type": "code",
      "execution_count": null,
      "metadata": {
        "id": "gQNOTfF24AV4"
      },
      "outputs": [],
      "source": [
        "import os\n",
        "import kagglehub\n",
        "\n",
        "MODEL_PATH = \"./pt_224_128.params.f16.npz\"\n",
        "if not os.path.exists(MODEL_PATH):\n",
        "    print(\"Downloading the checkpoint from Kaggle, this could take a few minutes....\")\n",
        "    # Note: kaggle archive contains the same checkpoint in multiple formats.ROBOFLOW_API_KEY\n",
        "    # Download only the float16 model.\n",
        "    MODEL_PATH = kagglehub.model_download('google/paligemma/jax/paligemma-3b-pt-224', 'paligemma-3b-pt-224.f16.npz')\n",
        "    print(f\"Model path: {MODEL_PATH}\")\n",
        "\n",
        "TOKENIZER_PATH = \"./paligemma_tokenizer.model\"\n",
        "if not os.path.exists(TOKENIZER_PATH):\n",
        "    print(\"Downloading the model tokenizer...\")\n",
        "    !gsutil cp gs://big_vision/paligemma_tokenizer.model {TOKENIZER_PATH}\n",
        "    print(f\"Tokenizer path: {TOKENIZER_PATH}\")"
      ]
    },
    {
      "cell_type": "markdown",
      "metadata": {
        "id": "fnCT0G9sHxsX"
      },
      "source": [
        "### Configure the model\n",
        "\n",
        "It's time to actually start configuring the model that you're going to use.\n",
        "\n",
        "For this notebook, you need to be able to fit your model onto a T4 GPU. Having a limited resource like space constraints means that you have to be mindful of how your model is configured.\n",
        "\n",
        "If you fine-tune every parameter, your model won't be able to run in the notebook environment. As a result, in this part of the notebook, you'll configure your model so that it has the ability to freeze some of the parameters, and only fine-tune the parameters that really need to be fine-tuned for the model to give you accurate results. In LLMs, parameters are said to be *frozen* when they are no longer actively being used to train the model.\n",
        "\n",
        "In order to configure your model, you need to:\n",
        "\n",
        "* Initialize the `model_config` as a [`FrozenConfigDict`](https://github.com/google/ml_collections/tree/master#frozenconfigdict) so that you can freeze some of the parameters and keep memory usage low\n",
        "* Initialize an instance of the PaliGemma `Model` class using the `model_config` as its configurations\n",
        "* Load the model parameters into RAM\n",
        "* Define a `decode` function to sample outputs from the model\n",
        "\n",
        "This code in this cell takes about a minute to run to completion."
      ]
    },
    {
      "cell_type": "code",
      "execution_count": null,
      "metadata": {
        "id": "1aghcULcEdtv"
      },
      "outputs": [],
      "source": [
        "my_gpu_devices = [jax.devices()[1]]\n",
        "#my_gpu_devices = jax.devices()[1:]\n",
        "print(jax.devices())\n",
        "print(my_gpu_devices)\n",
        "\n",
        "# Define model\n",
        "model_config = ml_collections.FrozenConfigDict({\n",
        "    \"llm\": {\"vocab_size\": 257_152},\n",
        "    \"img\": {\"variant\": \"So400m/14\", \"pool_type\": \"none\", \"scan\": True, \"dtype_mm\": \"float16\"}\n",
        "})\n",
        "model = paligemma.Model(**model_config)\n",
        "tokenizer = sentencepiece.SentencePieceProcessor(TOKENIZER_PATH)\n",
        "\n",
        "# Load params - this can take up to 1 minute in T4 colabs.\n",
        "params = paligemma.load(None, MODEL_PATH, model_config)\n",
        "\n",
        "# Define `decode` function to sample outputs from the model.\n",
        "decode_fn = predict_fns.get_all(model)['decode']\n",
        "decode = functools.partial(decode_fn, devices=my_gpu_devices, eos_token=tokenizer.eos_id())"
      ]
    },
    {
      "cell_type": "markdown",
      "metadata": {
        "id": "jytrSroKIfLD"
      },
      "source": [
        "### Move model parameters into GPU/TPU memory\n",
        "\n",
        "Now you need to move the model parameters into GPU/TPU memory. First, shard the parameters across the available GPUs, then load the parameters. Here, you'll load the parameters sequentially. This process takes longer than loading them simultaneously, but it requires more RAM than you have available in this notebook.\n",
        "\n",
        "Finally, print out all of the parameters to see what type each individual parameter is cast to. Frozen parameters are kept as `float16`, while the trainable parameters are cast to `float32`. When you inspect the list, you'll see that most of the parameters have been frozen and are `float16`."
      ]
    },
    {
      "cell_type": "code",
      "execution_count": null,
      "metadata": {
        "id": "RWOdf_fw2SAO"
      },
      "outputs": [],
      "source": [
        "# Create a pytree mask of the trainable params.\n",
        "def is_trainable_param(name, param):  # pylint: disable=unused-argument\n",
        "  if name.startswith(\"llm/layers/attn/\"):  return True\n",
        "  if name.startswith(\"llm/\"):              return False\n",
        "  if name.startswith(\"img/\"):              return False\n",
        "  raise ValueError(f\"Unexpected param name {name}\")\n",
        "trainable_mask = big_vision.utils.tree_map_with_names(is_trainable_param, params)\n",
        "\n",
        "# If more than one device is available (e.g. multiple GPUs) the parameters can\n",
        "# be sharded across them to reduce HBM usage per device.\n",
        "mesh = jax.sharding.Mesh(my_gpu_devices, (\"data\"))\n",
        "\n",
        "data_sharding = jax.sharding.NamedSharding(\n",
        "    mesh, jax.sharding.PartitionSpec(\"data\"))\n",
        "\n",
        "params_sharding = big_vision.sharding.infer_sharding(\n",
        "    params, strategy=[('.*', 'fsdp(axis=\"data\")')], mesh=mesh)\n",
        "\n",
        "# Yes: Some donated buffers are not usable.\n",
        "warnings.filterwarnings(\n",
        "    \"ignore\", message=\"Some donated buffers were not usable\")\n",
        "\n",
        "@functools.partial(jax.jit, donate_argnums=(0,), static_argnums=(1,))\n",
        "def maybe_cast_to_f32(params, trainable):\n",
        "  return jax.tree.map(lambda p, m: p.astype(jnp.float32) if m else p,\n",
        "                      params, trainable)\n",
        "\n",
        "# Loading all params in simultaneous - albeit much faster and more succinct -\n",
        "# requires more RAM than the T4 colab runtimes have by default.\n",
        "# Instead we do it param by param.\n",
        "params, treedef = jax.tree.flatten(params)\n",
        "sharding_leaves = jax.tree.leaves(params_sharding)\n",
        "trainable_leaves = jax.tree.leaves(trainable_mask)\n",
        "for idx, (sharding, trainable) in enumerate(zip(sharding_leaves, trainable_leaves)):\n",
        "  params[idx] = big_vision.utils.reshard(params[idx], sharding)\n",
        "  params[idx] = maybe_cast_to_f32(params[idx], trainable)\n",
        "  params[idx].block_until_ready()\n",
        "params = jax.tree.unflatten(treedef, params)\n",
        "\n",
        "# Print params to show what the model is made of.\n",
        "def parameter_overview(params):\n",
        "  for path, arr in big_vision.utils.tree_flatten_with_names(params)[0]:\n",
        "    print(f\"{path:80s} {str(arr.shape):22s} {arr.dtype}\")\n",
        "\n",
        "print(\" == Model params == \")\n",
        "parameter_overview(params)"
      ]
    },
    {
      "cell_type": "markdown",
      "metadata": {
        "id": "Y1sfijh_Ix09"
      },
      "source": [
        "## Prepare to tune the model\n",
        "\n",
        "Now that your model is configured, you can tune it. In this step, you'll create your model's inputs as well as the training and validation iterators, view the training examples, and define the training and validation loops."
      ]
    },
    {
      "cell_type": "markdown",
      "metadata": {
        "id": "6hNkSJwJI138"
      },
      "source": [
        "### Create model inputs\n",
        "\n",
        "The model checkpoint you're using has already been trained on images of various aspect ratios that have been resized to 224x224 pixels, and to handle tokenized texts.\n",
        "\n",
        "The code below defines three functions that you'll use in the next step create the model's inputs:\n",
        "\n",
        "* **`preprocess_image`:** Normalizes the image data. In this case, pre-processing converts the passed-in image to greyscale, removes the alpha layer, and resizes the passed-in image to the size required by the model for image inputs (224x224 pixels).\n",
        "* **`preprocess_tokens`:** Splits the tokens up and adds flags to mark whether a token is a prefix or suffix token. These flags will be used later on in the code, during the training step and the evaluation loop.\n",
        "* **`postprocess_tokens`:** Removes any tokens left at and/or after the end-of-sequence (EOS) token and returns the remaining decoded tokens.\n"
      ]
    },
    {
      "cell_type": "code",
      "execution_count": 12,
      "metadata": {
        "id": "8SRW0NuU4UcW"
      },
      "outputs": [],
      "source": [
        "def preprocess_image(image, size=224):\n",
        "  # Model has been trained to handle images of different aspects ratios\n",
        "  # resized to 224x224 in the range [-1, 1]. Bilinear and antialias resize\n",
        "  # options are helpful to improve quality in some tasks.\n",
        "  image = np.asarray(image)\n",
        "  if image.ndim == 2:  # Convert image without last channel into greyscale.\n",
        "    image = np.stack((image,)*3, axis=-1)\n",
        "  image = image[..., :3]  # Remove alpha layer.\n",
        "  assert image.shape[-1] == 3\n",
        "\n",
        "  image = tf.constant(image)\n",
        "  image = tf.image.resize(image, (size, size), method='bilinear', antialias=True)\n",
        "  return image.numpy() / 127.5 - 1.0  # [0, 255]->[-1,1]\n",
        "\n",
        "def preprocess_tokens(prefix, suffix=None, seqlen=None):\n",
        "  # Model has been trained to handle tokenized text composed of a prefix with\n",
        "  # full attention and a suffix with causal attention.\n",
        "  separator = \"\\n\"\n",
        "  tokens = tokenizer.encode(prefix, add_bos=True) + tokenizer.encode(separator)\n",
        "  mask_ar = [0] * len(tokens)    # 0 to use full attention for prefix.\n",
        "  mask_loss = [0] * len(tokens)  # 0 to not use prefix tokens in the loss.\n",
        "\n",
        "  if suffix:\n",
        "    suffix = tokenizer.encode(suffix, add_eos=True)\n",
        "    tokens += suffix\n",
        "    mask_ar += [1] * len(suffix)    # 1 to use causal attention for suffix.\n",
        "    mask_loss += [1] * len(suffix)  # 1 to use suffix tokens in the loss.\n",
        "\n",
        "  mask_input = [1] * len(tokens)    # 1 if it's a token, 0 if padding.\n",
        "  if seqlen:\n",
        "    padding = [0] * max(0, seqlen - len(tokens))\n",
        "    tokens = tokens[:seqlen] + padding\n",
        "    mask_ar = mask_ar[:seqlen] + padding\n",
        "    mask_loss = mask_loss[:seqlen] + padding\n",
        "    mask_input = mask_input[:seqlen] + padding\n",
        "\n",
        "  return jax.tree.map(np.array, (tokens, mask_ar, mask_loss, mask_input))\n",
        "\n",
        "def postprocess_tokens(tokens):\n",
        "  tokens = tokens.tolist()  # np.array to list[int]\n",
        "  try:  # Remove tokens at and after EOS if any.\n",
        "    eos_pos = tokens.index(tokenizer.eos_id())\n",
        "    tokens = tokens[:eos_pos]\n",
        "  except ValueError:\n",
        "    pass\n",
        "  return tokenizer.decode(tokens)"
      ]
    },
    {
      "cell_type": "markdown",
      "metadata": {
        "id": "h4Lul8c3JDBQ"
      },
      "source": [
        "### Create the training and validation iterators\n",
        "\n",
        "Create two iterators:\n",
        "\n",
        "*   A **training iterator** to allow the training process to go through the data in chunks rather than processing it all at once. This allows you to do some data pre-processing before use.\n",
        "*   A **validation iterator** that allows the training process to iterate over the validation dataset to see how well the tuned model aligned with the provided results."
      ]
    },
    {
      "cell_type": "code",
      "execution_count": 13,
      "metadata": {},
      "outputs": [],
      "source": [
        "train_dataset = big_vision.datasets.jsonl.DataSource(\n",
        "    os.path.join(dataset_location, \"dataset/_annotations.train.jsonl\"),\n",
        "    fopen_keys={\"image\": f\"{dataset_location}/dataset\"})\n",
        "\n",
        "val_dataset = big_vision.datasets.jsonl.DataSource(\n",
        "    os.path.join(dataset_location, \"dataset/_annotations.valid.jsonl\"),\n",
        "    fopen_keys={\"image\": f\"{dataset_location}/dataset\"})"
      ]
    },
    {
      "cell_type": "code",
      "execution_count": null,
      "metadata": {},
      "outputs": [],
      "source": [
        "eval_token_statistics = True\n",
        "if eval_token_statistics:\n",
        "    prefix_l = []\n",
        "    suffix_l = []\n",
        "    prefix_lens = []\n",
        "    suffix_lens = []\n",
        "\n",
        "    for example in train_dataset.get_tfdata(ordered=True).as_numpy_iterator():\n",
        "        prefix = example[\"prefix\"].decode().lower()\n",
        "        suffix = example[\"suffix\"].decode().lower()\n",
        "        tokens, mask_ar, _, mask_input = preprocess_tokens(prefix, seqlen=None)\n",
        "        text, _, _, _ = preprocess_tokens(suffix, seqlen=None)\n",
        "\n",
        "        prefix_l.append(example[\"prefix\"])\n",
        "        prefix_lens.append(len(tokens))\n",
        "        suffix_l.append(example[\"suffix\"])\n",
        "        suffix_lens.append(len(text))\n",
        "\n",
        "    prefix_lens = np.array(prefix_lens)\n",
        "    suffix_lens = np.array(suffix_lens)\n",
        "    print(np.unique(prefix_lens, return_counts=True))\n",
        "    print(np.unique(suffix_lens, return_counts=True))\n",
        "    print(\"Suggested PREFIX_SEQLEN:\", int(np.percentile(prefix_lens, .95).round()))\n",
        "    print(\"Suggested SUFFIX_SEQLEN:\", int(np.percentile(suffix_lens, .95).round()))\n",
        "    #np.array(prefix_l)[np.where(prefix_lens == prefix_lens.max())[0]]"
      ]
    },
    {
      "cell_type": "code",
      "execution_count": 15,
      "metadata": {
        "id": "whzWOojGOtzi"
      },
      "outputs": [],
      "source": [
        "#SEQLEN = 128\n",
        "SEQLEN = 32 #PREFIX_SEQLEN = 10, SUFFIX_SEQLEN = 14\n",
        "\n",
        "def train_data_iterator():\n",
        "  \"\"\"Never ending iterator over training examples.\"\"\"\n",
        "  # Shuffle examples and repeat so one can train for many epochs.\n",
        "  dataset = train_dataset.get_tfdata().shuffle(1_000).repeat()\n",
        "  for example in dataset.as_numpy_iterator():\n",
        "    image = Image.open(io.BytesIO(example[\"image\"]))\n",
        "    image = preprocess_image(image)\n",
        "\n",
        "    prefix = example[\"prefix\"].decode().lower()\n",
        "    suffix = example[\"suffix\"].decode().lower()\n",
        "    tokens, mask_ar, mask_loss, _ = preprocess_tokens(prefix, suffix, SEQLEN)\n",
        "    label, _, _, _ = preprocess_tokens(suffix, seqlen=SEQLEN)\n",
        "\n",
        "    yield {\n",
        "        \"image\": np.asarray(image),\n",
        "        \"text\": np.asarray(tokens),\n",
        "        \"label\": np.asarray(label),\n",
        "        \"mask_ar\": np.asarray(mask_ar),\n",
        "        \"mask_loss\": np.asarray(mask_loss),\n",
        "    }\n",
        "\n",
        "\n",
        "def validation_data_iterator():\n",
        "  \"\"\"Single iterator over validation examples.\"\"\"\n",
        "  for example in val_dataset.get_tfdata(ordered=True).as_numpy_iterator():\n",
        "    image = Image.open(io.BytesIO(example[\"image\"]))\n",
        "    image = preprocess_image(image)\n",
        "\n",
        "    prefix = example[\"prefix\"].decode().lower()\n",
        "    suffix = example[\"suffix\"].decode().lower()\n",
        "    tokens, mask_ar, _, mask_input = preprocess_tokens(prefix, seqlen=SEQLEN)\n",
        "    label, _, _, _ = preprocess_tokens(suffix, seqlen=SEQLEN)\n",
        "\n",
        "    yield {\n",
        "        \"image\": np.asarray(image),\n",
        "        \"text\": np.asarray(tokens),\n",
        "        \"label\": np.asarray(label),\n",
        "        \"mask_ar\": np.asarray(mask_ar),\n",
        "        \"mask_input\": np.asarray(mask_input),\n",
        "    }\n"
      ]
    },
    {
      "cell_type": "code",
      "execution_count": null,
      "metadata": {
        "colab": {
          "base_uri": "https://localhost:8080/",
          "height": 389
        },
        "id": "BzJfb5t0nsLq",
        "outputId": "49b3a42c-4925-44ba-d625-82cef4472d73"
      },
      "outputs": [],
      "source": [
        "%load_ext autoreload\n",
        "%autoreload 2\n",
        "import re\n",
        "import matplotlib.pyplot as plt\n",
        "from utils_traj_tokens import decode_caption_xyzrotvec\n",
        "from utils_trajectory import DummyCamera\n",
        "\n",
        "def text_to_prefix_suffix(s):\n",
        "    parts = s.split(\"\\n\", 1)\n",
        "    if len(parts) > 1:\n",
        "        return parts[0], parts[1]\n",
        "    return s\n",
        "\n",
        "def render_inline(image, resize=(128, 128)):\n",
        "    \"\"\"Convert image into inline html.\"\"\"\n",
        "    image = Image.fromarray(image)\n",
        "    image.resize(resize)\n",
        "    with io.BytesIO() as buffer:\n",
        "        image.save(buffer, format='jpeg')\n",
        "        image_b64 = str(base64.b64encode(buffer.getvalue()), \"utf-8\")\n",
        "        return f\"data:image/jpeg;base64,{image_b64}\"\n",
        "\n",
        "\n",
        "def tokenstr2curve(caption, image_height, image_width):\n",
        "    camera_extrinsic = [[[1, 0, 0, 0], [0, 1, 0, 0], [0, 0, 1, 0]]]\n",
        "    camera_intrinsic = [[[410.029, 0.0, 224.0], [0.0, 410.029, 224.0], [0.0, 0.0, 1.0]]]\n",
        "    camera = DummyCamera(camera_intrinsic, camera_extrinsic, width=image_width, height=image_height)\n",
        "    curve_c, _ =  decode_caption_xyzrotvec(caption, camera)\n",
        "    return curve_c\n",
        "\n",
        "\n",
        "def render_example(image, label, prediction=None, text=None):\n",
        "    image = ((image + 1)/2 * 255).astype(np.uint8)  # [-1,1] -> [0, 255]\n",
        "    # get the size of the resized image (e.g 224 instead of 448) use this for deprojection\n",
        "    # double check this, there could be issues here\n",
        "    image_height, image_width, _ = image.shape\n",
        "\n",
        "    plot_width, plot_height = 448, 448\n",
        "    dpi = 100\n",
        "    figsize = (plot_width / dpi, plot_height / dpi)\n",
        "    fig, ax = plt.subplots(figsize=figsize, dpi=dpi)\n",
        "    ax.imshow(image)\n",
        "    ax.axis('off')\n",
        "\n",
        "    try:\n",
        "        curve_25d = tokenstr2curve(label, image_height, image_width)\n",
        "        curve_2d = curve_25d[:, :2]\n",
        "        ax.plot(curve_2d[:, 0], curve_2d[:, 1],'.-', color='green')\n",
        "    except ValueError:\n",
        "        pass\n",
        "\n",
        "    html_text = \"\"\n",
        "    if text:\n",
        "       html_text = f\"{html.escape(\"text: \"+text)}\"\n",
        "    html_text += f\"</br></br>{html.escape(\"label: \"+label)}\"\n",
        "\n",
        "    if prediction:\n",
        "        html_text += f\"</br></br>{html.escape(\"pred: \"+prediction)}\"\n",
        "        try:\n",
        "            curve_2d_gt = tokenstr2curve(prediction, image_height, image_width)\n",
        "            ax.plot(curve_2d_gt[:, 0], curve_2d_gt[:, 1],'.-', color='lime')\n",
        "        except ValueError:\n",
        "            pass\n",
        "\n",
        "    with io.BytesIO() as buffer:\n",
        "        fig.savefig(buffer, format='jpeg',bbox_inches='tight', dpi=dpi)\n",
        "        image_b64 = str(base64.b64encode(buffer.getvalue()), \"utf-8\")\n",
        "        res_str =  f\"data:image/jpeg;base64,{image_b64}\"\n",
        "    plt.close(fig)\n",
        "    return f\"\"\"\n",
        "<div style=\"display: inline-flex; align-items: center; justify-content: center;\">\n",
        "    <img style=\"width:224px; height:224px;\" src=\"{res_str}\" />\n",
        "    <p style=\"width:256px; margin:10px; font-size:small;\">{html_text}</p>\n",
        "</div>\n",
        "\"\"\"\n",
        "\n",
        "html_out = \"\"\n",
        "for idx, example in zip(range(4), train_data_iterator()):\n",
        "    # In this case text is both the prefix and the suffix\n",
        "    text = postprocess_tokens(example[\"text\"])  # detokenize model input.\n",
        "    prefix, suffix = text_to_prefix_suffix(text)\n",
        "    html_out += render_example(example[\"image\"], label=suffix, text=prefix)\n",
        "\n",
        "print(\"Training examples\")\n",
        "display(HTML(html_out))"
      ]
    },
    {
      "cell_type": "markdown",
      "metadata": {
        "id": "hKFJ9rbLKoTa"
      },
      "source": [
        "### Define the training and evaluation loops\n",
        "\n",
        "Define the training loop to train the model on the provided dataset, and the evaluation loop to look at all of the examples in the validation dataset and make its predictions.\n",
        "\n",
        "#### Defining the training loop\n",
        "\n",
        "The `update_fn` function defines the training step. During the training step, the loss per example is calculated and stochastic gradient descent (SGD) is applied to the trainable parameters.\n",
        "\n",
        "Recall that earlier in the notebook, you included flags in the `preprocess_tokens` function that included `mask_loss`. You'll use the `mask_loss` flag here to exclude prefix and padded tokens from the loss. Without it, the loss calculation will be skewed. You also need to normalize each example, since each of them has a different number of tokens. After the prefix and padded tokens have been excluded and the examples have been normalized, you can calculate the loss per example.\n",
        "\n",
        "The training step also includes a function to apply an SGD to optimize the training.\n",
        "\n",
        "#### Defining the evaluation loop\n",
        "\n",
        "The `make_predictions` function is your evaluation loop. The evaluation loop is fairly straight forward with one notable change. If you recall from the beginning of the notebook, you only have 90 examples in your training data set. This is a very small amount of training examples, and your model ends up not having enough examples for the batch size when you run the training. This means that in the evaluation loop, you need to pad the batch by repeating examples.\n",
        "\n",
        "To make sure that your evaluation loop only counts actual examples and not the padded examples, you have to apply a mask to the padded examples that excludes them from the output."
      ]
    },
    {
      "cell_type": "code",
      "execution_count": 17,
      "metadata": {
        "id": "dwUV_imW3WQJ"
      },
      "outputs": [],
      "source": [
        "# The main update_fn using a simple stochastic gradient descent (SGD).\n",
        "@functools.partial(jax.jit, donate_argnums=(0,))\n",
        "def update_fn(params, batch, learning_rate):\n",
        "  imgs, txts, mask_ar = batch[\"image\"], batch[\"text\"], batch[\"mask_ar\"]\n",
        "\n",
        "  def loss_fn(params):\n",
        "    text_logits, _ = model.apply({\"params\": params}, imgs, txts[:, :-1], mask_ar[:, :-1], train=True)\n",
        "    logp = jax.nn.log_softmax(text_logits, axis=-1)\n",
        "\n",
        "    # The model takes as input txts[:, :-1] but the loss is defined as predicting\n",
        "    # next tokens txts[:, 1:]. Additionally, mask_loss[:, 1:] indicates which tokens\n",
        "    # are part of the loss (e.g. prefix and padded tokens are not included).\n",
        "    mask_loss = batch[\"mask_loss\"][:, 1:]\n",
        "    targets = jax.nn.one_hot(txts[:, 1:], text_logits.shape[-1])\n",
        "\n",
        "    # Compute the loss per example. i.e. the mean of per token pplx.\n",
        "    # Since each example has a different number of tokens we normalize it.\n",
        "    token_pplx = jnp.sum(logp * targets, axis=-1)  # sum across vocab_size.\n",
        "    example_loss = -jnp.sum(token_pplx * mask_loss, axis=-1)  # sum across seq_len.\n",
        "    example_loss /= jnp.clip(jnp.sum(mask_loss, -1), 1)  # weight by num of tokens.\n",
        "\n",
        "    # batch_loss: mean of per example loss.\n",
        "    return jnp.mean(example_loss)\n",
        "\n",
        "  loss, grads = jax.value_and_grad(loss_fn)(params)\n",
        "\n",
        "  # Apply gradients to trainable params using SGD.\n",
        "  def apply_grad(param, gradient, trainable):\n",
        "    if not trainable: return param\n",
        "    return param - learning_rate * gradient\n",
        "\n",
        "  params = jax.tree_util.tree_map(apply_grad, params, grads, trainable_mask)\n",
        "\n",
        "  return params, loss\n",
        "\n",
        "# Evaluation/inference loop.\n",
        "def make_predictions(data_iterator, *, num_examples=None,\n",
        "                     batch_size=4, seqlen=SEQLEN, sampler=\"greedy\"):\n",
        "  outputs = []\n",
        "  while True:\n",
        "    # Construct a list of examples in the batch.\n",
        "    examples = []\n",
        "    try:\n",
        "      for _ in range(batch_size):\n",
        "        examples.append(next(data_iterator))\n",
        "        examples[-1][\"_mask\"] = np.array(True)  # Indicates true example.\n",
        "    except StopIteration:\n",
        "      if len(examples) == 0:\n",
        "        return outputs\n",
        "\n",
        "    # Not enough examples to complete a batch. Pad by repeating last example.\n",
        "    while len(examples) % batch_size:\n",
        "      examples.append(dict(examples[-1]))\n",
        "      examples[-1][\"_mask\"] = np.array(False)  # Indicates padding example.\n",
        "\n",
        "    # Convert list of examples into a dict of np.arrays and load onto devices.\n",
        "    batch = jax.tree.map(lambda *x: np.stack(x), *examples)\n",
        "    batch = big_vision.utils.reshard(batch, data_sharding)\n",
        "\n",
        "    # Make model predictions\n",
        "    tokens = decode({\"params\": params}, batch=batch,\n",
        "                    max_decode_len=seqlen, sampler=sampler)\n",
        "\n",
        "    # Fetch model predictions to device and detokenize.\n",
        "    tokens, mask = jax.device_get((tokens, batch[\"_mask\"]))\n",
        "    tokens = tokens[mask]  # remove padding examples.\n",
        "    texts = [postprocess_tokens(e[\"text\"]) for e in examples]\n",
        "    labels = [postprocess_tokens(e[\"label\"]) for e in examples]\n",
        "    prediction = [postprocess_tokens(t) for t in tokens]\n",
        "\n",
        "    # Append to html output.\n",
        "    for example, text, label, pred,  in zip(examples, texts, labels, prediction):\n",
        "      outputs.append((example[\"image\"], text, label, pred))\n",
        "      if num_examples and len(outputs) >= num_examples:\n",
        "        return outputs"
      ]
    },
    {
      "cell_type": "code",
      "execution_count": null,
      "metadata": {
        "colab": {
          "base_uri": "https://localhost:8080/",
          "height": 371
        },
        "id": "GCXYnIdm4ILQ",
        "outputId": "cfd0eb8d-d5b7-4884-adbb-83590eaf204e"
      },
      "outputs": [],
      "source": [
        "html_out = \"\"\n",
        "for image, text, label, pred in make_predictions(validation_data_iterator(), num_examples=8, batch_size=1):\n",
        "  html_out += render_example(image, label=label, prediction=pred, text=text)\n",
        "display(HTML(html_out))"
      ]
    },
    {
      "cell_type": "markdown",
      "metadata": {
        "id": "fNigSP99MJFe"
      },
      "source": [
        "## Tune the model\n",
        "\n",
        "Now that you've set everything up and taken a look at the training data, it's time to finally tune the model. The code below runs the training loop for the model for 64 steps and prints the learning rate (`lr` in the printed output) and loss rate for each step.\n",
        "\n",
        "Every 16 steps, the model prints what its predictions are at that step in the training. This code prints out predictions for the same set of images so that you can see the model's ability to predict descriptions improve over time.\n",
        "\n",
        "At earlier steps in the training, there's likely issues with the descriptions, such as repeated sentences as the model gets stuck in its predictive loop or unfinished sentences. The model's predictions become steadily more accurate as training progresses. By step 64, the model's predictions should closely resemble the descriptions provided by the training data.\n",
        "\n",
        "This process takes around 15 minutes to complete on T4 TPUs."
      ]
    },
    {
      "cell_type": "code",
      "execution_count": null,
      "metadata": {},
      "outputs": [],
      "source": [
        "import os\n",
        "BATCH_SIZE = 32\n",
        "TRAIN_EXAMPLES = train_dataset.total_examples\n",
        "LEARNING_RATE = 0.005\n",
        "\n",
        "TRAIN_STEPS = TRAIN_EXAMPLES // BATCH_SIZE\n",
        "EVAL_STEPS = TRAIN_STEPS // 25\n",
        "SAVE_STEPS = TRAIN_STEPS // 8\n",
        "\n",
        "print(\"train samples\", TRAIN_EXAMPLES)\n",
        "print(\"batch size\", BATCH_SIZE)\n",
        "print(\"train steps\", TRAIN_STEPS)\n",
        "print(\"eval steps\", EVAL_STEPS)\n",
        "\n",
        "\n",
        "TARGET_MODEL_DIR = f\"{dataset_location}/model\"\n",
        "os.makedirs(TARGET_MODEL_DIR, exist_ok=True)\n",
        "\n",
        "def save_model(step, params):\n",
        "    model_path = f\"{TARGET_MODEL_DIR}/paligemma-3b-pt-224-step{step:06d}.f16.npz\"\n",
        "    print(\"saving model to \", model_path)\n",
        "    flat, _ = big_vision.utils.tree_flatten_with_names(params)\n",
        "    with open(model_path, \"wb\") as f:\n",
        "        np.savez(f, **{k: v for k, v in flat})"
      ]
    },
    {
      "cell_type": "code",
      "execution_count": null,
      "metadata": {
        "colab": {
          "base_uri": "https://localhost:8080/",
          "height": 400
        },
        "id": "067wj_6bZAG3",
        "outputId": "5442d16f-f728-4742-c73b-0ee695ce1e58"
      },
      "outputs": [],
      "source": [
        "# Run a short training loop with cosine learning rate schedule.\n",
        "#\n",
        "# Note: the first step can be quite slow on some machines (up to several minutes)\n",
        "# due to XLA compilation of the jax.jit'd function.\n",
        "#\n",
        "#%%time\n",
        "\n",
        "train_data_it = train_data_iterator()\n",
        "\n",
        "sched_fn = big_vision.utils.create_learning_rate_schedule(\n",
        "    total_steps=TRAIN_STEPS+1, base=LEARNING_RATE,\n",
        "    decay_type=\"cosine\", warmup_percent=0.10)\n",
        "\n",
        "for step in range(1, TRAIN_STEPS+1):\n",
        "  # Make list of N training examples.\n",
        "  examples = [next(train_data_it) for _ in range(BATCH_SIZE)]\n",
        "\n",
        "  # Convert list of examples into a dict of np.arrays and load onto devices.\n",
        "  batch = jax.tree.map(lambda *x: np.stack(x), *examples)\n",
        "  batch = big_vision.utils.reshard(batch, data_sharding)\n",
        "\n",
        "  # Training step and report training loss\n",
        "  learning_rate = sched_fn(step)\n",
        "  params, loss = update_fn(params, batch, learning_rate)\n",
        "\n",
        "  loss = jax.device_get(loss)\n",
        "  print(f\"step: {step:2d}/{TRAIN_STEPS:2d}   lr: {learning_rate:.5f}   loss: {loss:.4f}\")\n",
        "\n",
        "  if (step % SAVE_STEPS) == 0:\n",
        "    save_model(step, params)\n",
        "    \n",
        "  if (step % EVAL_STEPS) == 0:\n",
        "    print(f\"Model predictions at step {step}\")\n",
        "    html_out = \"\"\n",
        "    for image, text, label, pred in make_predictions(validation_data_iterator(), num_examples=4, batch_size=4):\n",
        "      html_out += render_example(image, label=label, prediction=pred, text=text)\n",
        "    display(HTML(html_out))\n"
      ]
    },
    {
      "cell_type": "markdown",
      "metadata": {
        "id": "rGjB_4Mo8RA_"
      },
      "source": [
        "## Evaluate fine-tuned model"
      ]
    },
    {
      "cell_type": "code",
      "execution_count": null,
      "metadata": {
        "colab": {
          "base_uri": "https://localhost:8080/",
          "height": 1000
        },
        "id": "hgUhEKjzPdMQ",
        "outputId": "0b0dee6e-c767-40fc-8539-2b1f0a66d777"
      },
      "outputs": [],
      "source": [
        "# @title Visualize results\n",
        "html_out = \"\"\n",
        "for image, text, label, pred in make_predictions(validation_data_iterator(), num_examples=16, batch_size=8):\n",
        "  html_out += render_example(image, label=label, prediction=pred, text=text) \n",
        "display(HTML(html_out))"
      ]
    },
    {
      "cell_type": "code",
      "execution_count": null,
      "metadata": {
        "colab": {
          "base_uri": "https://localhost:8080/",
          "height": 49,
          "referenced_widgets": [
            "9c56655eea6e423b943b8709f0dce2c3",
            "685bede44f7f4562b2749b09e7075df1",
            "441320a2a2b142919be3854f0ab79c97",
            "6b68e32dfe594e80aba277e586c62176",
            "6ce4b924c57b41779280a4429b1d4f26",
            "d15f6a16df3d4403b4fab2d1b3ecf322",
            "1029cc13ba234ef9ba5fb7c0783a686b",
            "bdce6bd4ceee439ea5422359148342ac",
            "de4542984c5c4bf4bbfd92cd99ccff4b",
            "663489270210429bb74c12a4fd86eb11",
            "57dbfbcbf16e4776aaa2b7dd82f9b644"
          ]
        },
        "id": "JD9l94a8pYRc",
        "outputId": "b1a5c0a8-e243-4a56-afca-872d90535d01"
      },
      "outputs": [],
      "source": [
        "# @title Collect predictions\n",
        "from tqdm.autonotebook import tqdm\n",
        "\n",
        "targets = []\n",
        "predictions = []\n",
        "\n",
        "for image, text, prediction in tqdm(make_predictions(validation_data_iterator(), num_examples=512, batch_size=8)):\n",
        "    h, w, _ = image.shape\n",
        "\n",
        "    target = sv.Detections.from_lmm(\n",
        "        lmm='paligemma',\n",
        "        result=text,\n",
        "        resolution_wh=(w, h),\n",
        "        classes=caption_to_class(text))\n",
        "    targets.append(target)\n",
        "    prediction_detection = sv.Detections.from_lmm(\n",
        "        lmm='paligemma',\n",
        "        result=prediction,\n",
        "        resolution_wh=(w, h),\n",
        "        classes=caption_to_class(prediction))\n",
        "    prediction_detection.confidence = np.ones(len(prediction_detection))\n",
        "    predictions.append(prediction_detection)"
      ]
    },
    {
      "cell_type": "code",
      "execution_count": null,
      "metadata": {
        "colab": {
          "base_uri": "https://localhost:8080/"
        },
        "id": "M8nr4n00eJJn",
        "outputId": "1d3524a4-7ffc-4513-9e5f-a44aa4974304"
      },
      "outputs": [],
      "source": [
        "per_sample_map50 = []\n",
        "for tar, pred in zip(targets, predictions):\n",
        "  mean_average_precision = sv.MeanAveragePrecision.from_detections(\n",
        "    predictions=[pred],\n",
        "    targets=[tar],\n",
        "  )\n",
        "  #print(f\"{mean_average_precision.map50_95:.2f},  {mean_average_precision.map50:.2f}  {mean_average_precision.map75:.2f}\")\n",
        "  per_sample_map50.append(mean_average_precision.map50)\n",
        "print(np.mean(per_sample_map50))"
      ]
    },
    {
      "cell_type": "code",
      "execution_count": null,
      "metadata": {
        "colab": {
          "base_uri": "https://localhost:8080/"
        },
        "id": "d62AueMC7Yp3",
        "outputId": "2c3ccd8c-f192-46e7-bd19-b90e7d882feb"
      },
      "outputs": [],
      "source": [
        "# @title Calculate mAP\n",
        "mean_average_precision = sv.MeanAveragePrecision.from_detections(\n",
        "    predictions=predictions,\n",
        "    targets=targets,\n",
        ")\n",
        "\n",
        "print(f\"map50_95: {mean_average_precision.map50_95:.2f}\")\n",
        "print(f\"map50: {mean_average_precision.map50:.2f}\")\n",
        "print(f\"map75: {mean_average_precision.map75:.2f}\")"
      ]
    },
    {
      "cell_type": "code",
      "execution_count": null,
      "metadata": {
        "id": "lE7je-hL8Bj3"
      },
      "outputs": [],
      "source": [
        "# @title Calculate Confusion Matrix\n",
        "confusion_matrix = sv.ConfusionMatrix.from_detections(\n",
        "    predictions=predictions,\n",
        "    targets=targets,\n",
        "    classes=CLASSES\n",
        ")\n",
        "\n",
        "_ = confusion_matrix.plot()"
      ]
    },
    {
      "cell_type": "markdown",
      "metadata": {
        "id": "Hr1gTKP8trRb"
      },
      "source": [
        "## Save fine-tuned model locally"
      ]
    },
    {
      "cell_type": "code",
      "execution_count": 23,
      "metadata": {
        "id": "zyVxKr2FOxPe"
      },
      "outputs": [],
      "source": [
        "import os\n",
        "\n",
        "TARGET_MODEL_DIR = f\"{dataset_location}/model\"\n",
        "model_path = f\"{TARGET_MODEL_DIR}/paligemma-3b-pt-224-final.f16.npz\"\n",
        "\n",
        "os.makedirs(TARGET_MODEL_DIR, exist_ok=True)\n",
        "\n",
        "flat, _ = big_vision.utils.tree_flatten_with_names(params)\n",
        "with open(model_path, \"wb\") as f:\n",
        "  np.savez(f, **{k: v for k, v in flat})"
      ]
    },
    {
      "cell_type": "markdown",
      "metadata": {
        "id": "7gj7L3BkMZrZ"
      },
      "source": [
        "## Test model on simulation"
      ]
    },
    {
      "cell_type": "code",
      "execution_count": null,
      "metadata": {
        "id": "_YfNYT7qMMY2"
      },
      "outputs": [],
      "source": [
        "!pip --version"
      ]
    },
    {
      "cell_type": "code",
      "execution_count": null,
      "metadata": {},
      "outputs": [],
      "source": []
    }
  ],
  "metadata": {
    "accelerator": "GPU",
    "colab": {
      "gpuType": "T4",
      "provenance": []
    },
    "kernelspec": {
      "display_name": "Python 3 (ipykernel)",
      "language": "python",
      "name": "python3"
    },
    "language_info": {
      "codemirror_mode": {
        "name": "ipython",
        "version": 3
      },
      "file_extension": ".py",
      "mimetype": "text/x-python",
      "name": "python",
      "nbconvert_exporter": "python",
      "pygments_lexer": "ipython3",
      "version": "3.12.7"
    },
    "widgets": {
      "application/vnd.jupyter.widget-state+json": {
        "1029cc13ba234ef9ba5fb7c0783a686b": {
          "model_module": "@jupyter-widgets/controls",
          "model_module_version": "1.5.0",
          "model_name": "DescriptionStyleModel",
          "state": {
            "_model_module": "@jupyter-widgets/controls",
            "_model_module_version": "1.5.0",
            "_model_name": "DescriptionStyleModel",
            "_view_count": null,
            "_view_module": "@jupyter-widgets/base",
            "_view_module_version": "1.2.0",
            "_view_name": "StyleView",
            "description_width": ""
          }
        },
        "441320a2a2b142919be3854f0ab79c97": {
          "model_module": "@jupyter-widgets/controls",
          "model_module_version": "1.5.0",
          "model_name": "FloatProgressModel",
          "state": {
            "_dom_classes": [],
            "_model_module": "@jupyter-widgets/controls",
            "_model_module_version": "1.5.0",
            "_model_name": "FloatProgressModel",
            "_view_count": null,
            "_view_module": "@jupyter-widgets/controls",
            "_view_module_version": "1.5.0",
            "_view_name": "ProgressView",
            "bar_style": "success",
            "description": "",
            "description_tooltip": null,
            "layout": "IPY_MODEL_bdce6bd4ceee439ea5422359148342ac",
            "max": 65,
            "min": 0,
            "orientation": "horizontal",
            "style": "IPY_MODEL_de4542984c5c4bf4bbfd92cd99ccff4b",
            "value": 65
          }
        },
        "57dbfbcbf16e4776aaa2b7dd82f9b644": {
          "model_module": "@jupyter-widgets/controls",
          "model_module_version": "1.5.0",
          "model_name": "DescriptionStyleModel",
          "state": {
            "_model_module": "@jupyter-widgets/controls",
            "_model_module_version": "1.5.0",
            "_model_name": "DescriptionStyleModel",
            "_view_count": null,
            "_view_module": "@jupyter-widgets/base",
            "_view_module_version": "1.2.0",
            "_view_name": "StyleView",
            "description_width": ""
          }
        },
        "663489270210429bb74c12a4fd86eb11": {
          "model_module": "@jupyter-widgets/base",
          "model_module_version": "1.2.0",
          "model_name": "LayoutModel",
          "state": {
            "_model_module": "@jupyter-widgets/base",
            "_model_module_version": "1.2.0",
            "_model_name": "LayoutModel",
            "_view_count": null,
            "_view_module": "@jupyter-widgets/base",
            "_view_module_version": "1.2.0",
            "_view_name": "LayoutView",
            "align_content": null,
            "align_items": null,
            "align_self": null,
            "border": null,
            "bottom": null,
            "display": null,
            "flex": null,
            "flex_flow": null,
            "grid_area": null,
            "grid_auto_columns": null,
            "grid_auto_flow": null,
            "grid_auto_rows": null,
            "grid_column": null,
            "grid_gap": null,
            "grid_row": null,
            "grid_template_areas": null,
            "grid_template_columns": null,
            "grid_template_rows": null,
            "height": null,
            "justify_content": null,
            "justify_items": null,
            "left": null,
            "margin": null,
            "max_height": null,
            "max_width": null,
            "min_height": null,
            "min_width": null,
            "object_fit": null,
            "object_position": null,
            "order": null,
            "overflow": null,
            "overflow_x": null,
            "overflow_y": null,
            "padding": null,
            "right": null,
            "top": null,
            "visibility": null,
            "width": null
          }
        },
        "685bede44f7f4562b2749b09e7075df1": {
          "model_module": "@jupyter-widgets/controls",
          "model_module_version": "1.5.0",
          "model_name": "HTMLModel",
          "state": {
            "_dom_classes": [],
            "_model_module": "@jupyter-widgets/controls",
            "_model_module_version": "1.5.0",
            "_model_name": "HTMLModel",
            "_view_count": null,
            "_view_module": "@jupyter-widgets/controls",
            "_view_module_version": "1.5.0",
            "_view_name": "HTMLView",
            "description": "",
            "description_tooltip": null,
            "layout": "IPY_MODEL_d15f6a16df3d4403b4fab2d1b3ecf322",
            "placeholder": "​",
            "style": "IPY_MODEL_1029cc13ba234ef9ba5fb7c0783a686b",
            "value": "100%"
          }
        },
        "6b68e32dfe594e80aba277e586c62176": {
          "model_module": "@jupyter-widgets/controls",
          "model_module_version": "1.5.0",
          "model_name": "HTMLModel",
          "state": {
            "_dom_classes": [],
            "_model_module": "@jupyter-widgets/controls",
            "_model_module_version": "1.5.0",
            "_model_name": "HTMLModel",
            "_view_count": null,
            "_view_module": "@jupyter-widgets/controls",
            "_view_module_version": "1.5.0",
            "_view_name": "HTMLView",
            "description": "",
            "description_tooltip": null,
            "layout": "IPY_MODEL_663489270210429bb74c12a4fd86eb11",
            "placeholder": "​",
            "style": "IPY_MODEL_57dbfbcbf16e4776aaa2b7dd82f9b644",
            "value": " 65/65 [00:00&lt;00:00, 1415.15it/s]"
          }
        },
        "6ce4b924c57b41779280a4429b1d4f26": {
          "model_module": "@jupyter-widgets/base",
          "model_module_version": "1.2.0",
          "model_name": "LayoutModel",
          "state": {
            "_model_module": "@jupyter-widgets/base",
            "_model_module_version": "1.2.0",
            "_model_name": "LayoutModel",
            "_view_count": null,
            "_view_module": "@jupyter-widgets/base",
            "_view_module_version": "1.2.0",
            "_view_name": "LayoutView",
            "align_content": null,
            "align_items": null,
            "align_self": null,
            "border": null,
            "bottom": null,
            "display": null,
            "flex": null,
            "flex_flow": null,
            "grid_area": null,
            "grid_auto_columns": null,
            "grid_auto_flow": null,
            "grid_auto_rows": null,
            "grid_column": null,
            "grid_gap": null,
            "grid_row": null,
            "grid_template_areas": null,
            "grid_template_columns": null,
            "grid_template_rows": null,
            "height": null,
            "justify_content": null,
            "justify_items": null,
            "left": null,
            "margin": null,
            "max_height": null,
            "max_width": null,
            "min_height": null,
            "min_width": null,
            "object_fit": null,
            "object_position": null,
            "order": null,
            "overflow": null,
            "overflow_x": null,
            "overflow_y": null,
            "padding": null,
            "right": null,
            "top": null,
            "visibility": null,
            "width": null
          }
        },
        "9c56655eea6e423b943b8709f0dce2c3": {
          "model_module": "@jupyter-widgets/controls",
          "model_module_version": "1.5.0",
          "model_name": "HBoxModel",
          "state": {
            "_dom_classes": [],
            "_model_module": "@jupyter-widgets/controls",
            "_model_module_version": "1.5.0",
            "_model_name": "HBoxModel",
            "_view_count": null,
            "_view_module": "@jupyter-widgets/controls",
            "_view_module_version": "1.5.0",
            "_view_name": "HBoxView",
            "box_style": "",
            "children": [
              "IPY_MODEL_685bede44f7f4562b2749b09e7075df1",
              "IPY_MODEL_441320a2a2b142919be3854f0ab79c97",
              "IPY_MODEL_6b68e32dfe594e80aba277e586c62176"
            ],
            "layout": "IPY_MODEL_6ce4b924c57b41779280a4429b1d4f26"
          }
        },
        "bdce6bd4ceee439ea5422359148342ac": {
          "model_module": "@jupyter-widgets/base",
          "model_module_version": "1.2.0",
          "model_name": "LayoutModel",
          "state": {
            "_model_module": "@jupyter-widgets/base",
            "_model_module_version": "1.2.0",
            "_model_name": "LayoutModel",
            "_view_count": null,
            "_view_module": "@jupyter-widgets/base",
            "_view_module_version": "1.2.0",
            "_view_name": "LayoutView",
            "align_content": null,
            "align_items": null,
            "align_self": null,
            "border": null,
            "bottom": null,
            "display": null,
            "flex": null,
            "flex_flow": null,
            "grid_area": null,
            "grid_auto_columns": null,
            "grid_auto_flow": null,
            "grid_auto_rows": null,
            "grid_column": null,
            "grid_gap": null,
            "grid_row": null,
            "grid_template_areas": null,
            "grid_template_columns": null,
            "grid_template_rows": null,
            "height": null,
            "justify_content": null,
            "justify_items": null,
            "left": null,
            "margin": null,
            "max_height": null,
            "max_width": null,
            "min_height": null,
            "min_width": null,
            "object_fit": null,
            "object_position": null,
            "order": null,
            "overflow": null,
            "overflow_x": null,
            "overflow_y": null,
            "padding": null,
            "right": null,
            "top": null,
            "visibility": null,
            "width": null
          }
        },
        "d15f6a16df3d4403b4fab2d1b3ecf322": {
          "model_module": "@jupyter-widgets/base",
          "model_module_version": "1.2.0",
          "model_name": "LayoutModel",
          "state": {
            "_model_module": "@jupyter-widgets/base",
            "_model_module_version": "1.2.0",
            "_model_name": "LayoutModel",
            "_view_count": null,
            "_view_module": "@jupyter-widgets/base",
            "_view_module_version": "1.2.0",
            "_view_name": "LayoutView",
            "align_content": null,
            "align_items": null,
            "align_self": null,
            "border": null,
            "bottom": null,
            "display": null,
            "flex": null,
            "flex_flow": null,
            "grid_area": null,
            "grid_auto_columns": null,
            "grid_auto_flow": null,
            "grid_auto_rows": null,
            "grid_column": null,
            "grid_gap": null,
            "grid_row": null,
            "grid_template_areas": null,
            "grid_template_columns": null,
            "grid_template_rows": null,
            "height": null,
            "justify_content": null,
            "justify_items": null,
            "left": null,
            "margin": null,
            "max_height": null,
            "max_width": null,
            "min_height": null,
            "min_width": null,
            "object_fit": null,
            "object_position": null,
            "order": null,
            "overflow": null,
            "overflow_x": null,
            "overflow_y": null,
            "padding": null,
            "right": null,
            "top": null,
            "visibility": null,
            "width": null
          }
        },
        "de4542984c5c4bf4bbfd92cd99ccff4b": {
          "model_module": "@jupyter-widgets/controls",
          "model_module_version": "1.5.0",
          "model_name": "ProgressStyleModel",
          "state": {
            "_model_module": "@jupyter-widgets/controls",
            "_model_module_version": "1.5.0",
            "_model_name": "ProgressStyleModel",
            "_view_count": null,
            "_view_module": "@jupyter-widgets/base",
            "_view_module_version": "1.2.0",
            "_view_name": "StyleView",
            "bar_color": null,
            "description_width": ""
          }
        }
      }
    }
  },
  "nbformat": 4,
  "nbformat_minor": 0
}
