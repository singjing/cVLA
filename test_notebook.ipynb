{
 "cells": [
  {
   "cell_type": "code",
   "execution_count": 1,
   "metadata": {},
   "outputs": [
    {
     "name": "stdout",
     "output_type": "stream",
     "text": [
      "Train set:\n",
      "{\"image\": \"CLEVR_4285005254.jpg\", \"prefix\": \"move large green cube onto large gray sphere <loc0440><loc0534><loc0049><loc0102><loc0048><loc0079>\", \"suffix\": \"<loc0533><loc0428><loc0071><loc0109><loc0009><loc0015><loc0414><loc0335><loc0069><loc0109><loc0009><loc0015>\"}\n",
      "{\"image\": \"CLEVR_3958594555.jpg\", \"prefix\": \"move large purple sphere onto large blue cube <loc0411><loc0477><loc0052><loc0101><loc0048><loc0083>\", \"suffix\": \"<loc0618><loc0655><loc0060><loc0101><loc0048><loc0083><loc0404><loc0376><loc0074><loc0101><loc0048><loc0083>\"}\n",
      "{\"image\": \"CLEVR_4134492330.jpg\", \"prefix\": \"move small gray sphere onto small cyan sphere <loc0412><loc0505><loc0050><loc0103><loc0050><loc0083>\", \"suffix\": \"<loc0540><loc0600><loc0070><loc0103><loc0050><loc0083><loc0624><loc0577><loc0050><loc0103><loc0050><loc0083>\"}\n",
      "{\"image\": \"CLEVR_1134966472.jpg\", \"prefix\": \"move small green sphere onto small cyan cube <loc0401><loc0501><loc0049><loc0102><loc0048><loc0078>\", \"suffix\": \"<loc0971><loc0939><loc0038><loc0102><loc0048><loc0078><loc0920><loc0743><loc0032><loc0102><loc0048><loc0078>\"}\n",
      "{\"image\": \"CLEVR_3389600897.jpg\", \"prefix\": \"move small blue cube onto small blue sphere <loc0445><loc0528><loc0051><loc0099><loc0047><loc0078>\", \"suffix\": \"<loc0722><loc0462><loc0051><loc0084><loc0086><loc0142><loc0866><loc0838><loc0036><loc0084><loc0086><loc0142>\"}\n",
      "\n",
      "Validation set:\n",
      "{\"image\": \"CLEVR_0282652423.jpg\", \"prefix\": \"move small brown cube onto small purple sphere <loc0407><loc0530><loc0047><loc0105><loc0045><loc0075>\", \"suffix\": \"<loc0964><loc0648><loc0038><loc0093><loc0070><loc0115><loc0610><loc0328><loc0053><loc0093><loc0070><loc0115>\"}\n",
      "{\"image\": \"CLEVR_0659885405.jpg\", \"prefix\": \"move small gray cube onto large red sphere <loc0428><loc0540><loc0049><loc0102><loc0047><loc0077>\", \"suffix\": \"<loc0561><loc0470><loc0067><loc0106><loc0029><loc0047><loc0507><loc0246><loc0065><loc0106><loc0029><loc0047>\"}\n",
      "{\"image\": \"CLEVR_3980367084.jpg\", \"prefix\": \"move large yellow sphere onto large gray cube <loc0433><loc0484><loc0052><loc0099><loc0048><loc0081>\", \"suffix\": \"<loc0541><loc0341><loc0069><loc0099><loc0048><loc0081><loc0556><loc0546><loc0050><loc0099><loc0048><loc0081>\"}\n",
      "{\"image\": \"CLEVR_2349715981.jpg\", \"prefix\": \"move small cyan cube onto small yellow sphere <loc0405><loc0474><loc0052><loc0099><loc0049><loc0084>\", \"suffix\": \"<loc0801><loc0635><loc0046><loc0105><loc0035><loc0058><loc0495><loc0344><loc0067><loc0105><loc0035><loc0058>\"}\n",
      "{\"image\": \"CLEVR_0050475165.jpg\", \"prefix\": \"move large yellow sphere onto large red sphere <loc0410><loc0532><loc0046><loc0106><loc0043><loc0074>\", \"suffix\": \"<loc0786><loc0677><loc0047><loc0106><loc0043><loc0074><loc0653><loc0894><loc0045><loc0106><loc0043><loc0074>\"}\n"
     ]
    }
   ],
   "source": [
    "dataset_location = \"/tmp/clevr-act-5\"\n",
    "print(\"Train set:\")\n",
    "!head -n 5 {dataset_location}/dataset/_annotations.train.jsonl\n",
    "print(\"\\nValidation set:\")\n",
    "!head -n 5 {dataset_location}/dataset/_annotations.valid.jsonl"
   ]
  },
  {
   "cell_type": "code",
   "execution_count": 9,
   "metadata": {},
   "outputs": [
    {
     "name": "stdout",
     "output_type": "stream",
     "text": [
      "move large green cube onto large gray sphere <loc0440><loc0534><loc0049><loc0102><loc0048><loc0079>\n",
      "move large purple sphere onto large blue cube <loc0411><loc0477><loc0052><loc0101><loc0048><loc0083>\n",
      "move small gray sphere onto small cyan sphere <loc0412><loc0505><loc0050><loc0103><loc0050><loc0083>\n",
      "move small green sphere onto small cyan cube <loc0401><loc0501><loc0049><loc0102><loc0048><loc0078>\n",
      "move small blue cube onto small blue sphere <loc0445><loc0528><loc0051><loc0099><loc0047><loc0078>\n",
      "move small gray sphere onto large blue sphere <loc0411><loc0521><loc0048><loc0104><loc0046><loc0077>\n",
      "move large yellow cube onto small purple cube <loc0461><loc0541><loc0050><loc0099><loc0044><loc0071>\n",
      "move small purple cube onto small cyan cube <loc0434><loc0528><loc0050><loc0102><loc0045><loc0076>\n",
      "move large blue sphere onto small cyan sphere <loc0418><loc0513><loc0049><loc0106><loc0041><loc0074>\n",
      "move large yellow sphere onto small blue sphere <loc0403><loc0518><loc0046><loc0108><loc0044><loc0075>\n",
      "move small brown sphere onto small gray cube <loc0428><loc0528><loc0050><loc0102><loc0047><loc0076>\n",
      "move large green sphere onto large purple cube <loc0388><loc0503><loc0047><loc0107><loc0049><loc0081>\n",
      "move large gray cube onto small cyan sphere <loc0427><loc0533><loc0047><loc0106><loc0042><loc0069>\n",
      "move small red sphere onto small cyan sphere <loc0384><loc0484><loc0047><loc0106><loc0047><loc0080>\n",
      "move small purple cube onto small brown sphere <loc0390><loc0487><loc0049><loc0104><loc0046><loc0080>\n",
      "move small brown sphere onto small gray sphere <loc0441><loc0534><loc0051><loc0098><loc0052><loc0078>\n",
      "move large purple cube onto large brown cube <loc0421><loc0537><loc0049><loc0100><loc0047><loc0075>\n",
      "move small red sphere onto large gray sphere <loc0411><loc0485><loc0051><loc0101><loc0043><loc0078>\n",
      "move large blue cube onto large gray cube <loc0450><loc0509><loc0052><loc0097><loc0053><loc0081>\n",
      "move large purple cube onto large red sphere <loc0473><loc0539><loc0050><loc0098><loc0048><loc0072>\n",
      "move small purple cube onto small yellow sphere <loc0383><loc0491><loc0048><loc0107><loc0046><loc0081>\n",
      "move small red sphere onto small blue sphere <loc0423><loc0501><loc0049><loc0103><loc0046><loc0077>\n",
      "move small gray cube onto small brown cube <loc0453><loc0514><loc0054><loc0096><loc0050><loc0080>\n",
      "move large yellow sphere onto large red sphere <loc0432><loc0539><loc0047><loc0105><loc0046><loc0076>\n",
      "move small green cube onto small brown cube <loc0455><loc0542><loc0051><loc0099><loc0049><loc0076>\n"
     ]
    }
   ],
   "source": [
    "import cv2\n",
    "import json\n",
    "import supervision as sv\n",
    "from typing import List\n",
    "import re\n",
    "\n",
    "def read_n_lines(file_path: str, n: int) -> List[str]:\n",
    "    with open(file_path, 'r') as file:\n",
    "        lines = [next(file).strip() for _ in range(n)]\n",
    "    return lines\n",
    "\n",
    "def parse_trajectory_tokens(caption):\n",
    "  caption = caption.strip(\"\\n\")\n",
    "  if \";\" in caption:\n",
    "    raise ValueError\n",
    "  pattern = r\"(?:<loc\\d{4}>)+ ([\\w\\s\\-]+)$\"\n",
    "  match = re.search(pattern, caption)\n",
    "  #print(f\"Matched words: {match.group(1)}\")\n",
    "  if match:\n",
    "    return match\n",
    "  else:\n",
    "    return \"\"\n",
    "\n",
    "train_file = f\"{dataset_location}/dataset/_annotations.train.jsonl\"\n",
    "images = []\n",
    "lines = read_n_lines(train_file, 25)\n",
    "first = json.loads(lines[0])\n",
    "\n",
    "#CLASSES = first.get('prefix').replace(\"detect \", \"\").split(\" ; \")\n",
    "for line in lines:\n",
    "    data = json.loads(line)\n",
    "    image = cv2.imread(f\"{dataset_location}/dataset/{data.get('image')}\")\n",
    "    (h, w, _) = image.shape\n",
    "\n",
    "    suffix = data.get('suffix')\n",
    "    prefix = data.get('prefix')\n",
    "    #match = parse_trajectory_tokens(suffix)\n",
    "    print(prefix)\n",
    "    "
   ]
  },
  {
   "cell_type": "code",
   "execution_count": 7,
   "metadata": {},
   "outputs": [
    {
     "name": "stderr",
     "output_type": "stream",
     "text": [
      "UserWarning: To copy construct from a tensor, it is recommended to use sourceTensor.clone().detach() or sourceTensor.clone().detach().requires_grad_(True), rather than torch.tensor(sourceTensor).\n"
     ]
    },
    {
     "data": {
      "text/plain": [
       "tensor([[1., 0., 0., 0.],\n",
       "        [0., 1., 0., 0.],\n",
       "        [0., 0., 1., 0.],\n",
       "        [0., 0., 0., 1.]])"
      ]
     },
     "execution_count": 7,
     "metadata": {},
     "output_type": "execute_result"
    }
   ],
   "source": [
    "!ls"
   ]
  },
  {
   "cell_type": "code",
   "execution_count": 10,
   "metadata": {},
   "outputs": [
    {
     "ename": "ModuleNotFoundError",
     "evalue": "No module named 'torch'",
     "output_type": "error",
     "traceback": [
      "\u001b[0;31m---------------------------------------------------------------------------\u001b[0m",
      "\u001b[0;31mModuleNotFoundError\u001b[0m                       Traceback (most recent call last)",
      "Cell \u001b[0;32mIn[10], line 1\u001b[0m\n\u001b[0;32m----> 1\u001b[0m \u001b[38;5;28;01mimport\u001b[39;00m \u001b[38;5;21;01mtorch\u001b[39;00m\n\u001b[1;32m      2\u001b[0m \u001b[38;5;28;01mclass\u001b[39;00m \u001b[38;5;21;01mDummyCamera\u001b[39;00m:\n\u001b[1;32m      3\u001b[0m     \u001b[38;5;28;01mdef\u001b[39;00m \u001b[38;5;21m__init__\u001b[39m(\u001b[38;5;28mself\u001b[39m):\n",
      "\u001b[0;31mModuleNotFoundError\u001b[0m: No module named 'torch'"
     ]
    }
   ],
   "source": [
    "\n",
    "import torch\n",
    "class DummyCamera:\n",
    "    def __init__(self):\n",
    "        self.height = 448\n",
    "        self.width = 448\n",
    "\n",
    "camera = DummyCamera()\n",
    "\n",
    "def parse_trajectory_xyz(caption, camera, num_tokens=3):\n",
    "    DEPTH_SCALE = 100\n",
    "    # Pattern to extract numbers inside <loc####> tags\n",
    "    loc_strings = re.findall(r\"<loc(\\d{4})>\", caption)\n",
    "    num_position_tokens = len(loc_strings)\n",
    "    loc_strings_pairs = loc_strings[:(num_position_tokens//num_tokens)*num_tokens]\n",
    "    loc_numbers = [int(x) for x in loc_strings_pairs]\n",
    "    loc_h = [x/(1024-1)*camera.height for x in loc_numbers[::num_tokens]]\n",
    "    loc_w = [x/(1024-1)*camera.width for x in loc_numbers[1::num_tokens]]\n",
    "    loc_d = [x/DEPTH_SCALE for x in loc_numbers[2::num_tokens]]  # depth\n",
    "    curve_2d = torch.tensor((loc_w, loc_h)).T\n",
    "    return curve_2d, torch.tensor(loc_d)\n",
    "\n",
    "print(suffix)\n",
    "print(parse_trajectory_xyz(suffix, camera))\n"
   ]
  },
  {
   "cell_type": "code",
   "execution_count": 5,
   "metadata": {},
   "outputs": [
    {
     "name": "stdout",
     "output_type": "stream",
     "text": [
      "\n"
     ]
    },
    {
     "ename": "NameError",
     "evalue": "name 'curve_2d' is not defined",
     "output_type": "error",
     "traceback": [
      "\u001b[0;31m---------------------------------------------------------------------------\u001b[0m",
      "\u001b[0;31mNameError\u001b[0m                                 Traceback (most recent call last)",
      "Cell \u001b[0;32mIn[5], line 60\u001b[0m\n\u001b[1;32m     58\u001b[0m caption \u001b[38;5;241m=\u001b[39m data\u001b[38;5;241m.\u001b[39mget(\u001b[38;5;124m'\u001b[39m\u001b[38;5;124mprefix\u001b[39m\u001b[38;5;124m'\u001b[39m)\n\u001b[1;32m     59\u001b[0m image \u001b[38;5;241m=\u001b[39m Image\u001b[38;5;241m.\u001b[39mopen(\u001b[38;5;124mf\u001b[39m\u001b[38;5;124m\"\u001b[39m\u001b[38;5;132;01m{\u001b[39;00mdataset_location\u001b[38;5;132;01m}\u001b[39;00m\u001b[38;5;124m/dataset/\u001b[39m\u001b[38;5;132;01m{\u001b[39;00mdata\u001b[38;5;241m.\u001b[39mget(\u001b[38;5;124m'\u001b[39m\u001b[38;5;124mimage\u001b[39m\u001b[38;5;124m'\u001b[39m)\u001b[38;5;132;01m}\u001b[39;00m\u001b[38;5;124m\"\u001b[39m)\n\u001b[0;32m---> 60\u001b[0m html_out \u001b[38;5;241m+\u001b[39m\u001b[38;5;241m=\u001b[39m \u001b[43mrender_example_trajectory\u001b[49m\u001b[43m(\u001b[49m\u001b[43mimage\u001b[49m\u001b[43m,\u001b[49m\u001b[43m \u001b[49m\u001b[43mcaption\u001b[49m\u001b[43m)\u001b[49m\n\u001b[1;32m     61\u001b[0m display(HTML(html_out))\n\u001b[1;32m     62\u001b[0m \u001b[38;5;28mprint\u001b[39m(\u001b[38;5;124m\"\u001b[39m\u001b[38;5;124mdone!\u001b[39m\u001b[38;5;124m\"\u001b[39m)\n",
      "Cell \u001b[0;32mIn[5], line 32\u001b[0m, in \u001b[0;36mrender_example_trajectory\u001b[0;34m(image, caption)\u001b[0m\n\u001b[1;32m     29\u001b[0m \u001b[38;5;28mprint\u001b[39m(parse_trajectory_tokens(caption))\n\u001b[1;32m     31\u001b[0m env_id \u001b[38;5;241m=\u001b[39m \u001b[38;5;241m0\u001b[39m\n\u001b[0;32m---> 32\u001b[0m x, y \u001b[38;5;241m=\u001b[39m \u001b[43mcurve_2d\u001b[49m[env_id, :, \u001b[38;5;241m0\u001b[39m]\u001b[38;5;241m.\u001b[39mtolist(), curve_2d[env_id, :, \u001b[38;5;241m1\u001b[39m]\u001b[38;5;241m.\u001b[39mtolist()\n\u001b[1;32m     34\u001b[0m pixel_width, pixel_height \u001b[38;5;241m=\u001b[39m \u001b[38;5;241m448\u001b[39m, \u001b[38;5;241m448\u001b[39m\n\u001b[1;32m     35\u001b[0m dpi \u001b[38;5;241m=\u001b[39m \u001b[38;5;241m100\u001b[39m\n",
      "\u001b[0;31mNameError\u001b[0m: name 'curve_2d' is not defined"
     ]
    }
   ],
   "source": [
    "import numpy as np\n",
    "import matplotlib.pyplot as plt\n",
    "from PIL import Image\n",
    "import io\n",
    "import html\n",
    "import base64\n",
    "from IPython.display import display, HTML\n",
    "\n",
    "\n",
    "text = \"<loc0625><loc0762><loc0468><loc0724><loc0384><loc0679><loc0375><loc0632><loc0430><loc0587><loc0587> 1\"\n",
    "action_text = data.get('prefix')\n",
    "\n",
    "\n",
    "def render_example_trajectory(image, caption):\n",
    "    # Pattern to extract numbers inside <loc####> tags\n",
    "    print(parse_trajectory_tokens(caption))\n",
    "    \n",
    "    env_id = 0\n",
    "    x, y = curve_2d[env_id, :, 0].tolist(), curve_2d[env_id, :, 1].tolist()\n",
    "\n",
    "    pixel_width, pixel_height = 448, 448\n",
    "    dpi = 100\n",
    "    figsize = (pixel_width / dpi, pixel_height / dpi)\n",
    "    fig, ax = plt.subplots(figsize=figsize, dpi=dpi)\n",
    "    ax.imshow(image)\n",
    "    ax.axis('off')\n",
    "    ax.plot(curve_2d_short[env_id,:,0], curve_2d_short[env_id, :,1],'.-', color='lime')\n",
    "    with io.BytesIO() as buffer:\n",
    "        fig.savefig(buffer, format='jpeg',bbox_inches='tight', dpi=dpi)\n",
    "        image_b64 = str(base64.b64encode(buffer.getvalue()), \"utf-8\")\n",
    "        res_str =  f\"data:image/jpeg;base64,{image_b64}\"\n",
    "    plt.close(fig)\n",
    "    return f\"\"\"\n",
    "<div style=\"display: inline-flex; align-items: center; justify-content: center;\">\n",
    "    <img style=\"width:224px; height:224px;\" src=\"{res_str}\" />\n",
    "    <p style=\"width:256px; margin:10px; font-size:small;\">{html.escape(caption)}</br>{html.escape(caption)}</p>\n",
    "\n",
    "</div>\n",
    "\"\"\"\n",
    "\n",
    "html_out = \"\"\n",
    "#for image, _, caption in make_predictions(validation_data_iterator(), num_examples=1, batch_size=1):\n",
    "#  html_out += render_example(image, caption)\n",
    "\n",
    "caption = data.get('prefix')\n",
    "image = Image.open(f\"{dataset_location}/dataset/{data.get('image')}\")\n",
    "html_out += render_example_trajectory(image, caption)\n",
    "display(HTML(html_out))\n",
    "print(\"done!\")"
   ]
  },
  {
   "cell_type": "code",
   "execution_count": null,
   "metadata": {},
   "outputs": [],
   "source": [
    "matches[:, 0]"
   ]
  },
  {
   "cell_type": "code",
   "execution_count": 28,
   "metadata": {},
   "outputs": [],
   "source": [
    "all_file = f\"{dataset_location}/dataset/_annotations.all.jsonl\"\n",
    "\n",
    "with open(all_file) as f_obj:\n",
    "    lines_str = f_obj.readlines()\n",
    "\n",
    "lines = []\n",
    "prefix_short = []\n",
    "for line_str in lines_str:\n",
    "    line_json = json.loads(line_str)\n",
    "    #lines.append(line_json)\n",
    "    prefix_short.append(line_json[\"prefix\"].split(\"<\")[0].strip())"
   ]
  },
  {
   "cell_type": "code",
   "execution_count": 32,
   "metadata": {},
   "outputs": [
    {
     "name": "stdout",
     "output_type": "stream",
     "text": [
      "126.00806451612904 170 87\n"
     ]
    }
   ],
   "source": [
    "# for i in range(50):\n",
    "#     print(prefix_short[i])\n",
    "import numpy as np\n",
    "unique_str, counts = np.unique(prefix_short, return_counts=True)\n",
    "print(counts.mean(), counts.max(), counts.min())"
   ]
  },
  {
   "cell_type": "code",
   "execution_count": 1,
   "metadata": {},
   "outputs": [
    {
     "ename": "ModuleNotFoundError",
     "evalue": "No module named 'mani_skill'",
     "output_type": "error",
     "traceback": [
      "\u001b[0;31m---------------------------------------------------------------------------\u001b[0m",
      "\u001b[0;31mModuleNotFoundError\u001b[0m                       Traceback (most recent call last)",
      "Cell \u001b[0;32mIn[1], line 1\u001b[0m\n\u001b[0;32m----> 1\u001b[0m \u001b[38;5;28;01mimport\u001b[39;00m \u001b[38;5;21;01mmani_skill\u001b[39;00m\n",
      "\u001b[0;31mModuleNotFoundError\u001b[0m: No module named 'mani_skill'"
     ]
    }
   ],
   "source": [
    "import mani_skill"
   ]
  },
  {
   "cell_type": "code",
   "execution_count": 10,
   "metadata": {},
   "outputs": [
    {
     "name": "stdout",
     "output_type": "stream",
     "text": [
      "3.12.7\n",
      "Python 3.12.7\n",
      "mani_skill                3.0.0b10       /home/argusm/lang/ManiSkill\n",
      "/home/argusm/local/miniconda3/envs/paligemma/bin/python\n",
      "/home/argusm/local/miniconda3/envs/paligemma/bin/python: No module named import mani_skill\n"
     ]
    }
   ],
   "source": [
    "import sys\n",
    "from platform import python_version\n",
    "print(python_version())\n",
    "!python --version\n",
    "!pip list |grep mani_skill\n",
    "#!pip show mani_skill\n",
    "print(sys.executable)\n",
    "!python -m \"import mani_skill\""
   ]
  },
  {
   "cell_type": "code",
   "execution_count": null,
   "metadata": {},
   "outputs": [],
   "source": []
  }
 ],
 "metadata": {
  "kernelspec": {
   "display_name": "Python 3 (ipykernel)",
   "language": "python",
   "name": "python3"
  },
  "language_info": {
   "codemirror_mode": {
    "name": "ipython",
    "version": 3
   },
   "file_extension": ".py",
   "mimetype": "text/x-python",
   "name": "python",
   "nbconvert_exporter": "python",
   "pygments_lexer": "ipython3",
   "version": "3.12.7"
  }
 },
 "nbformat": 4,
 "nbformat_minor": 2
}
